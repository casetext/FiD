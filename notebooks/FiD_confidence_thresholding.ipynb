{
 "cells": [
  {
   "cell_type": "markdown",
   "id": "50bf900d-2f90-4bd3-9002-e5bff7e5c4bc",
   "metadata": {
    "tags": []
   },
   "source": [
    "## Initialization"
   ]
  },
  {
   "cell_type": "code",
   "execution_count": 1,
   "id": "051e6be8-705f-4144-8de5-b875a61fcd9b",
   "metadata": {},
   "outputs": [
    {
     "name": "stderr",
     "output_type": "stream",
     "text": [
      "/opt/conda/envs/myenv/lib/python3.9/site-packages/tqdm/auto.py:22: TqdmWarning: IProgress not found. Please update jupyter and ipywidgets. See https://ipywidgets.readthedocs.io/en/stable/user_install.html\n",
      "  from .autonotebook import tqdm as notebook_tqdm\n"
     ]
    }
   ],
   "source": [
    "import os, sys\n",
    "import torch\n",
    "import transformers\n",
    "from torch.utils.data import DataLoader, SequentialSampler\n",
    "import torch.nn as nn\n",
    "import argparse\n",
    "import numpy as np \n",
    "import matplotlib.pyplot as plt\n",
    "from tqdm import tqdm\n",
    "import pickle\n",
    "from rouge_score import rouge_scorer\n",
    "from sklearn.metrics import precision_recall_curve, auc\n",
    "import seaborn as sns\n",
    "from itertools import count\n",
    "from scipy.signal import find_peaks\n",
    "from findpeaks import findpeaks\n",
    "import scipy.signal\n",
    "from rouge_score import rouge_scorer"
   ]
  },
  {
   "cell_type": "code",
   "execution_count": 2,
   "id": "47371a17-4b5d-4d76-b8d9-84be8931b5a7",
   "metadata": {},
   "outputs": [],
   "source": [
    "import sys\n",
    "sys.path.append(\"/home/divy/FiD\")"
   ]
  },
  {
   "cell_type": "code",
   "execution_count": 3,
   "id": "5550822f-9127-4a09-a2b7-459f7a261be1",
   "metadata": {},
   "outputs": [],
   "source": [
    "import src\n",
    "from src.data import load_data\n",
    "from src.evaluation import ems\n",
    "import src.model"
   ]
  },
  {
   "cell_type": "code",
   "execution_count": null,
   "id": "fcdeecc9-5bda-49e8-a7cd-357f75582f7a",
   "metadata": {},
   "outputs": [],
   "source": []
  },
  {
   "cell_type": "markdown",
   "id": "3a2dcfff-9a85-42a2-9bc7-630e8380468e",
   "metadata": {
    "tags": []
   },
   "source": [
    "## Load data"
   ]
  },
  {
   "cell_type": "markdown",
   "id": "de5643fc-1da6-4463-b210-f202c713aa7a",
   "metadata": {},
   "source": [
    "Try out NQ with NQ pretrained checkpoint"
   ]
  },
  {
   "cell_type": "code",
   "execution_count": 4,
   "id": "e47f4595-c41c-47d0-b3c0-34b9a9cba9fa",
   "metadata": {},
   "outputs": [],
   "source": [
    "nq_path =  \"/mnt/disks/external_mounted_disk/datasets/op/open_domain_data/NQ/dev.json\"\n",
    "compose_path = \"/mnt/disks/external_mounted_disk/datasets/compose_FiD/compose_fid_qa/dev.json\"\n",
    "\n",
    "one_correct_path = \"/mnt/disks/external_mounted_disk/datasets/compose_FiD/compose_fid_qa/one_correct.json\"\n",
    "one_correct_noanswer_path = \"/mnt/disks/external_mounted_disk/datasets/compose_FiD/compose_fid_qa/one_correct_noanswer.json\"\n",
    "\n",
    "none_correct_path = \"/mnt/disks/external_mounted_disk/datasets/compose_FiD/compose_fid_qa/none_correct.json\"\n",
    "movant_test = \"/home/divy/casetext-ml-datasets/fid_reader_distill_question_data/movant_fid_formatted_noscores.json\"\n"
   ]
  },
  {
   "cell_type": "code",
   "execution_count": 5,
   "id": "03358bdf-f635-4c32-97af-64598b352a34",
   "metadata": {},
   "outputs": [],
   "source": [
    "# uncorrupted examples\n",
    "eval_examples = load_data(\n",
    "                            compose_path,\n",
    "                            global_rank=0,\n",
    "                            world_size=1,\n",
    "                            )\n",
    "\n",
    "\n",
    "# examples with 4 nonsensical support, one correct\n",
    "one_correct_examples = load_data(\n",
    "                            one_correct_noanswer_path,\n",
    "                            global_rank=0,\n",
    "                            world_size=1,\n",
    "                            )\n",
    "\n",
    "# all 5 support passages are nonsensical\n",
    "none_correct_examples = load_data(\n",
    "                            none_correct_path,\n",
    "                            global_rank=0,\n",
    "                            world_size=1,\n",
    "                            )\n",
    "\n",
    "# movant_examples = load_data(\n",
    "#                             movant_test,\n",
    "#                             global_rank=0,\n",
    "#                             world_size=1,\n",
    "#                             )\n",
    "\n",
    "nq_examples = load_data(\n",
    "     nq_path,\n",
    "    global_rank=0,\n",
    "    world_size=1\n",
    ")\n"
   ]
  },
  {
   "cell_type": "code",
   "execution_count": 6,
   "id": "ca36a4b2-4d3d-424b-9d03-bd742424eac4",
   "metadata": {},
   "outputs": [],
   "source": [
    "# setting to 5 so as to keep it short for testing\n",
    "n_passages = 100"
   ]
  },
  {
   "cell_type": "code",
   "execution_count": 7,
   "id": "16201c75-e7b3-4718-a184-ca58fd80a930",
   "metadata": {},
   "outputs": [
    {
     "data": {
      "text/plain": [
       "8757"
      ]
     },
     "execution_count": 7,
     "metadata": {},
     "output_type": "execute_result"
    }
   ],
   "source": [
    "nq_dataset = src.data.Dataset(nq_examples, n_passages)\n",
    "nq_sampler = SequentialSampler(nq_dataset)\n",
    "len(nq_dataset)"
   ]
  },
  {
   "cell_type": "code",
   "execution_count": 8,
   "id": "f16c95ae-0fa7-4b31-bf78-6c06357ab8fa",
   "metadata": {
    "tags": []
   },
   "outputs": [
    {
     "data": {
      "text/plain": [
       "386"
      ]
     },
     "execution_count": 8,
     "metadata": {},
     "output_type": "execute_result"
    }
   ],
   "source": [
    "eval_dataset_dev = src.data.Dataset(eval_examples, n_passages)\n",
    "sampler_dev = SequentialSampler(eval_dataset_dev)\n",
    "len(eval_dataset_dev)"
   ]
  },
  {
   "cell_type": "code",
   "execution_count": 8,
   "id": "f5ace3c7-3068-4574-9dae-dbadf91f5f97",
   "metadata": {},
   "outputs": [],
   "source": [
    "tokenizer = transformers.T5Tokenizer.from_pretrained('t5-base')\n",
    "collator = src.data.Collator(200, tokenizer, answer_maxlength=-1)"
   ]
  },
  {
   "cell_type": "code",
   "execution_count": 10,
   "id": "8ea37eb3-8337-4a5d-9dd0-1de9e8ef5992",
   "metadata": {},
   "outputs": [],
   "source": [
    "dataloader_dev = DataLoader(eval_dataset_dev,\n",
    "        sampler=sampler_dev,\n",
    "        batch_size=1,\n",
    "        drop_last=False,\n",
    "        num_workers=10,\n",
    "        collate_fn=collator\n",
    "    )"
   ]
  },
  {
   "cell_type": "code",
   "execution_count": 11,
   "id": "926b0726-13c5-446a-9b35-4dcbac666bba",
   "metadata": {},
   "outputs": [
    {
     "ename": "NameError",
     "evalue": "name 'one_correct_dataset' is not defined",
     "output_type": "error",
     "traceback": [
      "\u001b[0;31m---------------------------------------------------------------------------\u001b[0m",
      "\u001b[0;31mNameError\u001b[0m                                 Traceback (most recent call last)",
      "Input \u001b[0;32mIn [11]\u001b[0m, in \u001b[0;36m<cell line: 1>\u001b[0;34m()\u001b[0m\n\u001b[0;32m----> 1\u001b[0m dataloader_oc \u001b[38;5;241m=\u001b[39m DataLoader(\u001b[43mone_correct_dataset\u001b[49m,\n\u001b[1;32m      2\u001b[0m         sampler\u001b[38;5;241m=\u001b[39msampler_one_correct,\n\u001b[1;32m      3\u001b[0m         batch_size\u001b[38;5;241m=\u001b[39m\u001b[38;5;241m1\u001b[39m,\n\u001b[1;32m      4\u001b[0m         drop_last\u001b[38;5;241m=\u001b[39m\u001b[38;5;28;01mFalse\u001b[39;00m,\n\u001b[1;32m      5\u001b[0m         num_workers\u001b[38;5;241m=\u001b[39m\u001b[38;5;241m10\u001b[39m,\n\u001b[1;32m      6\u001b[0m         collate_fn\u001b[38;5;241m=\u001b[39mcollator\n\u001b[1;32m      7\u001b[0m     )\n",
      "\u001b[0;31mNameError\u001b[0m: name 'one_correct_dataset' is not defined"
     ]
    }
   ],
   "source": [
    "dataloader_oc = DataLoader(one_correct_dataset,\n",
    "        sampler=sampler_one_correct,\n",
    "        batch_size=1,\n",
    "        drop_last=False,\n",
    "        num_workers=10,\n",
    "        collate_fn=collator\n",
    "    )"
   ]
  },
  {
   "cell_type": "code",
   "execution_count": null,
   "id": "1b1c555f-128d-493f-934a-0a20307740c3",
   "metadata": {},
   "outputs": [],
   "source": [
    "dataloader_nc = DataLoader(nq_dataset,\n",
    "        sampler=nq_sampler,\n",
    "        batch_size=1,\n",
    "        drop_last=False,\n",
    "        num_workers=10,\n",
    "        collate_fn=collator\n",
    "    )"
   ]
  },
  {
   "cell_type": "code",
   "execution_count": 9,
   "id": "4666aad6-a462-4966-a2d3-1f635c3aed2b",
   "metadata": {},
   "outputs": [],
   "source": [
    "dataloader_nq = DataLoader(nq_dataset,\n",
    "        sampler=nq_sampler,\n",
    "        batch_size=1,\n",
    "        drop_last=False,\n",
    "        num_workers=10,\n",
    "        collate_fn=collator\n",
    "    )"
   ]
  },
  {
   "cell_type": "code",
   "execution_count": null,
   "id": "5ac1095f-8d4f-4efd-9724-e1f42a5e2a9e",
   "metadata": {},
   "outputs": [],
   "source": []
  },
  {
   "cell_type": "markdown",
   "id": "212013b8-a939-48f8-b484-f6c55b8cb7ce",
   "metadata": {
    "tags": []
   },
   "source": [
    "## Load model"
   ]
  },
  {
   "cell_type": "code",
   "execution_count": 10,
   "id": "96036544-f6de-40a2-b36e-4bdd00951c61",
   "metadata": {},
   "outputs": [],
   "source": [
    "model_name = 't5-base'\n",
    "model_class = src.model.FiDT5"
   ]
  },
  {
   "cell_type": "code",
   "execution_count": 11,
   "id": "d1f0b666-335b-4461-bb9c-820e2e0d30cd",
   "metadata": {},
   "outputs": [],
   "source": [
    "# load_path = \"/home/divy/FiD/model_ckpts/test_experiment_large_fid_qa_compose\"\n",
    "load_path = \"/home/divy/FiD/nq_reader_base\"\n",
    "model = model_class.from_pretrained(load_path)"
   ]
  },
  {
   "cell_type": "code",
   "execution_count": 12,
   "id": "65cbcb66-00ea-447d-b253-0405630114fd",
   "metadata": {
    "tags": []
   },
   "outputs": [],
   "source": [
    "model = model.to('cuda')"
   ]
  },
  {
   "cell_type": "code",
   "execution_count": null,
   "id": "bda692ca-5547-4f5f-aceb-dedc4f8281eb",
   "metadata": {},
   "outputs": [],
   "source": []
  },
  {
   "cell_type": "markdown",
   "id": "68f6978d-6e27-4c24-a2e3-5e974ead8b29",
   "metadata": {
    "tags": []
   },
   "source": [
    "### load an example input, generated output and ground truth output"
   ]
  },
  {
   "cell_type": "code",
   "execution_count": 16,
   "id": "384e8bc8-61b6-4ac5-8218-3a56340f9daa",
   "metadata": {},
   "outputs": [],
   "source": [
    "cherry_picked_example = 2\n",
    "scorer = rouge_scorer.RougeScorer(['rougeL'], use_stemmer=True)"
   ]
  },
  {
   "cell_type": "code",
   "execution_count": 21,
   "id": "cd92ef43-b179-4df8-9f62-25cbd3101ee1",
   "metadata": {},
   "outputs": [
    {
     "name": "stdout",
     "output_type": "stream",
     "text": [
      "tensor([[    0, 11957,    49,     1]], device='cuda:0')\n",
      "[]\n",
      "tensor([])\n"
     ]
    }
   ],
   "source": [
    "for i, batch in enumerate(dataloader_nq):\n",
    "    (idx, labels, _, context_ids, context_mask) = batch\n",
    "    \n",
    "    if i == cherry_picked_example:\n",
    "        \n",
    "        generated_output, log_prob = model.generate(\n",
    "                input_ids=context_ids.cuda(),\n",
    "                attention_mask=context_mask.cuda(),\n",
    "                do_sample=False,\n",
    "                max_length=150,\n",
    "                top_p=0.9,\n",
    "                temperature=1.0,\n",
    "                output_confidence=True,\n",
    "\n",
    "            )\n",
    "        \n",
    "        print(generated_output)\n",
    "        \n",
    "        input_scores = model.obtain_input_scores(\n",
    "            labels.cuda(),\n",
    "            context_ids.cuda(),\n",
    "            context_mask.cuda(),\n",
    "            tokenizer\n",
    "        )\n",
    "        \n",
    "        print(input_scores)\n",
    "                \n",
    "        softmax = nn.Softmax(dim=0)\n",
    "        \n",
    "        softmaxed_input_scores = softmax(torch.tensor(input_scores))\n",
    "        print(softmaxed_input_scores)\n",
    "    \n",
    "        break"
   ]
  },
  {
   "cell_type": "code",
   "execution_count": 17,
   "id": "b38272ba-50d5-43f5-ac17-818a9e3278f7",
   "metadata": {},
   "outputs": [
    {
     "name": "stdout",
     "output_type": "stream",
     "text": [
      "[-2.882502794265747, -2.4464869499206543, -2.2794723510742188, -2.329665184020996, -3.3777871131896973, -2.7982981204986572, -2.49833345413208, -2.6714751720428467, -2.6407337188720703, -2.3738176822662354, -2.41886568069458, -2.5347049236297607, -2.78505277633667, -2.204087257385254, -3.0002713203430176, -2.4027140140533447, -2.3850388526916504, -2.4224820137023926, -2.2285847663879395, -2.6230621337890625, -2.537135601043701, -2.3262364864349365, -2.8385560512542725, -2.3732821941375732, -3.0466699600219727, -2.621371269226074, -2.8359780311584473, -3.0038816928863525, -2.6063413619995117, -2.4962387084960938, -2.7302446365356445, -2.806828260421753, -3.3633224964141846, -2.5716845989227295, -2.352532148361206, -2.4255354404449463, -2.9229929447174072, -2.6166348457336426, -3.150918483734131, -2.294888496398926, -2.704373359680176, -2.1084752082824707, -2.8740627765655518, -2.4775798320770264, -3.133635997772217, -2.830630302429199, -2.648465871810913, -3.2213945388793945, -2.960242509841919, -3.0807902812957764, -2.728327512741089, -3.1421220302581787, -2.503936290740967, -2.559065103530884, -2.952507972717285, -2.765688896179199, -2.5009188652038574, -2.927772283554077, -2.60819411277771, -2.7776317596435547, -2.916511058807373, -2.6306424140930176, -2.8184025287628174, -2.4790101051330566, -2.509024143218994, -3.1399126052856445, -2.3260772228240967, -3.6450986862182617, -2.864698648452759, -3.1532251834869385, -2.7001144886016846, -2.5957448482513428, -2.506587266921997, -3.0766944885253906, -2.9965271949768066, -3.0283703804016113, -3.086113929748535, -2.5283350944519043, -2.6247925758361816, -2.9410226345062256, -3.26475191116333, -2.5442562103271484, -2.8378171920776367, -2.548057794570923, -2.8552584648132324, -3.3563475608825684, -2.8420207500457764, -3.5235493183135986, -2.82906436920166, -2.4892170429229736, -2.8510143756866455, -2.815493583679199, -3.0256357192993164, -3.2448198795318604, -2.9069395065307617, -2.3395626544952393, -3.1305596828460693, -2.5532758235931396, -2.995929718017578, -2.948087453842163]\n"
     ]
    }
   ],
   "source": [
    "# try to print out the gqp scores\n",
    "\n",
    "for i, batch in enumerate(dataloader_nq):\n",
    "    (idx, labels, k, context_ids, context_mask) = batch\n",
    "    \n",
    "    if i == cherry_picked_example:\n",
    "        g_qps = model.obtain_gqp(\n",
    "            input_ids=context_ids.cuda(),\n",
    "            attention_mask=context_mask.cuda(),\n",
    "            decoder_input_ids=labels.cuda(),\n",
    "            output_attentions=True\n",
    "        )\n",
    "        \n",
    "        print(g_qps)\n",
    "        \n",
    "        break"
   ]
  },
  {
   "cell_type": "code",
   "execution_count": 20,
   "id": "a7d8747d-e766-428a-a76f-71058148f089",
   "metadata": {
    "collapsed": true,
    "jupyter": {
     "outputs_hidden": true
    },
    "tags": []
   },
   "outputs": [
    {
     "name": "stdout",
     "output_type": "stream",
     "text": [
      "tensor([2])\n",
      "tensor([[True, True, True]])\n",
      "torch.Size([1, 100, 200])\n",
      "====\n",
      "0\n",
      "question: who sang waiting for a girl like you title: Waiting for a Girl Like You context: Waiting for a Girl Like You \"Waiting for a Girl Like You\" is a 1981 power ballad by the British-American rock band Foreigner. The distinctive synthesizer theme was performed by the then-little-known Thomas Dolby, and this song also marked a major departure from their earlier singles because their previous singles were mid to upper tempo rock songs while this song was a softer love song with the energy of a power ballad. It was the second single released from the album \"4\" (1981) and was co-written by Lou Gramm and Mick Jones. It has become one of the band's most</s> <pad> <pad> <pad> <pad> <pad> <pad> <pad> <pad> <pad> <pad> <pad> <pad> <pad> <pad> <pad> <pad> <pad> <pad> <pad> <pad> <pad> <pad> <pad> <pad> <pad> <pad> <pad> <pad> <pad> <pad> <pad> <pad>\n",
      "====\n",
      "1\n",
      "question: who sang waiting for a girl like you title: Waiting for a Girl Like You context: held off the number 1 spot by Olivia Newton-John's single \"Physical\" for nine consecutive weeks, and then by Hall & Oates' \"I Can't Go for That (No Can Do)\" for a tenth week on January 30, 1982. Because of its chart longevity, it ended up being the number 19 song on the Top 100 singles of 1982. The song was the band's biggest hit until \"I Want to Know What Love Is\" hit number 1 in 1985. The song lists at number 100 on \"\"Billboard\"'s Greatest Songs of All Time\". Waiting for a Girl Like You \"Waiting for a Girl</s> <pad> <pad> <pad> <pad> <pad> <pad> <pad> <pad> <pad> <pad> <pad> <pad> <pad> <pad> <pad> <pad> <pad> <pad> <pad> <pad> <pad> <pad> <pad> <pad> <pad> <pad> <pad> <pad> <pad>\n",
      "====\n",
      "2\n",
      "question: who sang waiting for a girl like you title: Waiting for a Girl Like You context: successful songs worldwide, peaking at number 2 on the \"Billboard\" Hot 100 and number 1 on \"Billboard\"'s Rock Tracks chart. On the \"Billboard\" Adult Contemporary chart, the song reached number 5. The song peaked at number 8 on the UK Singles Chart. \"Waiting for a Girl Like You\" achieved a chart distinction by spending its record-setting 10 weeks in the number 2 position of the \"Billboard\" Hot 100 chart, without ever reaching the top. It debuted on the Hot 100 chart dated October 10, 1981. It reached the number 2 position in the week of November 28, where it was</s> <pad> <pad> <pad> <pad> <pad> <pad> <pad> <pad> <pad> <pad> <pad> <pad> <pad> <pad> <pad> <pad> <pad> <pad> <pad> <pad> <pad> <pad> <pad> <pad> <pad> <pad> <pad> <pad> <pad> <pad> <pad> <pad> <pad> <pad> <pad> <pad>\n",
      "====\n",
      "3\n",
      "question: who sang waiting for a girl like you title: Urgent (song) context: \"Billboard\" Hot 100 chart, holding that spot for the entire month of September. \"Urgent\" hit #1 on the \"Billboard\" Rock Tracks chart, a position it held for four weeks. \"Urgent\" was the most successful single from the \"4\" album on album-oriented rock radio, though it was outsold by the album's later single, \"Waiting for a Girl Like You\", which reached #2 on the \"Billboard\" Hot 100 in November 1981 and remained at that spot through the end of the following January, for a total of ten weeks, being certified Gold. \"4\" went Gold and Platinum during the chart run of</s> <pad> <pad> <pad> <pad> <pad> <pad> <pad> <pad> <pad> <pad> <pad> <pad> <pad> <pad> <pad> <pad> <pad> <pad> <pad> <pad> <pad> <pad> <pad> <pad> <pad> <pad> <pad> <pad> <pad> <pad>\n",
      "====\n",
      "4\n",
      "question: who sang waiting for a girl like you title: 4 (Foreigner album) context: 4 (Foreigner album) 4, also known as Foreigner 4, is the fourth studio album by the British-American rock band Foreigner, released on July 2, 1981 on Atlantic Records. Several singles from the album were hits, including \"Urgent\", \"Waiting for a Girl Like You\" and \"Juke Box Hero\". The album was a success worldwide, holding the #1 position on the \"Billboard\" album chart for a total of 10 weeks. It eventually sold over seven million copies in the US alone. The album was originally titled \"Silent Partners\" and later was changed to \"4\", reflecting both the fact that it was Foreigner's</s> <pad> <pad> <pad> <pad> <pad> <pad> <pad> <pad> <pad> <pad> <pad> <pad> <pad> <pad> <pad> <pad> <pad> <pad> <pad> <pad> <pad> <pad> <pad> <pad> <pad> <pad> <pad> <pad> <pad>\n",
      "====\n",
      "5\n",
      "question: who sang waiting for a girl like you title: 4 (Foreigner album) context: stereo-multichannel Super Audio CD by Warner Japan in their Warner Premium Sound series. June 2015 saw its re-release on Atlantic Records premium 180-gram vinyl with its original 1981 classic track listing. Album – Billboard (United States) Singles – Billboard (United States) 4 (Foreigner album) 4, also known as Foreigner 4, is the fourth studio album by the British-American rock band Foreigner, released on July 2, 1981 on Atlantic Records. Several singles from the album were hits, including \"Urgent\", \"Waiting for a Girl Like You\" and \"Juke Box Hero\". The album was a success worldwide, holding the #1 position on the</s> <pad> <pad> <pad> <pad> <pad> <pad> <pad> <pad> <pad> <pad> <pad> <pad> <pad> <pad> <pad> <pad> <pad> <pad> <pad> <pad> <pad> <pad> <pad>\n",
      "====\n",
      "6\n",
      "question: who sang waiting for a girl like you title: Lou Gramm context: including \"Hot Blooded\", \"Feels Like the First Time\", \"Cold as Ice\", \"Long, Long Way from Home\", \"Double Vision\", \"Blue Morning, Blue Day\", \"Head Games\", \"Dirty White Boy\", \"Urgent\", \"Juke Box Hero\", \"Break It Up\" and \"Say You Will\". He co-wrote most of the songs for the band, which achieved two of its biggest hits with the ballads \"Waiting for a Girl Like You\", which spent ten weeks at #2 on the 1981/82 American Hot 100, and \"I Want to Know What Love Is\", which was a #1 hit internationally (US & UK) in 1985. Gramm and Foreigner founder Mick Jones</s> <pad> <pad> <pad> <pad> <pad>\n",
      "====\n",
      "7\n",
      "question: who sang waiting for a girl like you title: Girls Like You context: among female rappers. It spent sixteen weeks atop the Radio Songs chart, tying Mariah Carey's \"We Belong Together\" as the longest-leading number one this century. Additionally, it reached number one in eleven other countries, including Canada and New Zealand. The song received a nomination for Best Pop Duo/Group Performance at the 61st Annual Grammy Awards. \"Girls Like You\" was revealed as the ninth track on \"Red Pill Blues\" via Apple Music. It was announced as the third official single from the album, following the song \"Wait\". The remix versions of \"Girls Like You\" was released on August 2, 2018, featuring</s> <pad> <pad> <pad> <pad> <pad> <pad> <pad> <pad> <pad> <pad> <pad> <pad> <pad> <pad> <pad> <pad> <pad> <pad> <pad> <pad> <pad> <pad> <pad> <pad> <pad> <pad> <pad> <pad> <pad> <pad> <pad>\n",
      "====\n",
      "8\n",
      "question: who sang waiting for a girl like you title: Foreigner discography context: more than 50 million copies worldwide, almost 40 million of them in the United States alone. Among the 47 singles released by the band, 14 of them became top 20 hits in the \"Billboard\" Hot 100 chart, including the number-one song \"I Want to Know What Love Is\" and the number-two \"Waiting for a Girl Like You\", which spent a record-setting 10 weeks at the number 2 position of the chart without ever reaching the top. Four of these singles were certified Gold by the RIAA for shipments of over a million copies, all of them which peaked within the</s> <pad> <pad> <pad> <pad> <pad> <pad> <pad> <pad> <pad> <pad> <pad> <pad> <pad> <pad> <pad> <pad> <pad> <pad> <pad> <pad> <pad> <pad> <pad> <pad> <pad> <pad> <pad> <pad> <pad> <pad> <pad> <pad> <pad> <pad> <pad> <pad> <pad> <pad> <pad> <pad> <pad> <pad> <pad> <pad> <pad> <pad>\n",
      "====\n",
      "9\n",
      "question: who sang waiting for a girl like you title: Foreigner (band) context: meantime, Foreigner began work on the next album at Electric Lady Studios in New York City with producer Robert John \"Mutt\" Lange, engineered by Dave Wittman (currently with Trans-Siberian Orchestra). \"4\" (released in July 1981) contained the hits \"Urgent\" (which includes the famous Junior Walker sax solo), \"Waiting for a Girl Like You\", \"Juke Box Hero\" and \"Break it Up\". Before releasing albums of his own, Thomas Dolby played synthesizers on \"4\" (he contributed the signature synth sound on \"Urgent\" and played the intro to \"Waiting for a Girl Like You\"). For their 1981–82 tour in support of \"4\", the</s> <pad> <pad> <pad> <pad> <pad> <pad> <pad> <pad>\n",
      "====\n",
      "10\n",
      "question: who sang waiting for a girl like you title: The Troggs context: The Troggs The Troggs (originally called the Troglodytes) are an English garage rock band formed in Andover, Hampshire in May 1964. They had a number of hits in the United Kingdom and the United States. Their most famous songs include the US chart-toppers \"Wild Thing\", \"With a Girl Like You\" and \"Love Is All Around\", all of which sold over 1 million copies and were awarded gold discs. \"Wild Thing\" is ranked #257 on the \"Rolling Stone\" magazine's list of The 500 Greatest Songs of All Time and was an influence on garage rock and punk rock. Reg Presley (lead</s> <pad> <pad> <pad> <pad> <pad> <pad> <pad> <pad> <pad> <pad> <pad> <pad> <pad> <pad> <pad> <pad> <pad> <pad> <pad> <pad> <pad> <pad> <pad> <pad> <pad> <pad> <pad> <pad> <pad>\n",
      "====\n",
      "11\n",
      "question: who sang waiting for a girl like you title: Cobra Verde (band) context: whoever needs a knock on the head. In September 2014, Cobra Verde announced on cobraverde.com that it will be touring again and returning to the studio to record its next album. The OC Cobra Verde recorded a version of \"Waiting for a Girl Like You\" for the Fox television teen drama \"The OC.\" The band also performed the song on the show, called \"The Journey,\" which aired March 16, 2006. Cobra Verde plays a Foreigner tribute band that has been hired by Seth Cohen (Adam Brody) to perform at a birthday party for his friend Ryan Atwood (Ben McKenzie). Ryan</s> <pad> <pad> <pad> <pad> <pad> <pad> <pad> <pad> <pad> <pad> <pad> <pad> <pad> <pad> <pad> <pad> <pad> <pad> <pad> <pad> <pad> <pad> <pad> <pad> <pad> <pad> <pad> <pad> <pad> <pad>\n",
      "====\n",
      "12\n",
      "question: who sang waiting for a girl like you title: The Wolfgang Press context: Langston of Throwing Muses guests on most tracks. The singles from the album were \"Time\" (the album version being titled \"Question Of Time\"), which included a sample from Pink Floyd's \"Time\" (from \"The Dark Side of the Moon\"), followed by a cover of Randy Newman's \"Mama Told Me Not to Come.\" The single \"A Girl Like You\" was released in May 1992 and became an international hit, scoring No. 2 on the \"Billboard\" US Modern Rock (Alternative Songs) chart on 15 August 1992. The song was later covered by Tom Jones, who then asked the band to write \"Show Me</s> <pad> <pad> <pad> <pad> <pad> <pad> <pad> <pad> <pad> <pad> <pad> <pad> <pad> <pad> <pad> <pad> <pad> <pad> <pad> <pad> <pad> <pad> <pad> <pad> <pad> <pad> <pad> <pad> <pad> <pad> <pad>\n",
      "====\n",
      "13\n",
      "question: who sang waiting for a girl like you title: Foreigner discography context: top 3 (\"Hot Blooded\", \"Double Vision\", \"Waiting for a Girl Like You\" and \"I Want to Know What Love Is\"). Despite its British roots, the band achieved only moderate success in the UK Singles Chart, with only two of their songs, \"Waiting for a Girl Like You\" and \"I Want to Know What Love Is\", peaking within the top 20. In 2014, Rhino released a boxed set of the band's seven albums recorded for Atlantic entitled \"Foreigner: The Complete Atlantic Studios Albums 1977-1991\". The first four albums that were expanded to include bonus tracks in 2002 were included in the</s> <pad> <pad> <pad> <pad> <pad> <pad> <pad> <pad> <pad> <pad> <pad> <pad> <pad> <pad> <pad> <pad> <pad> <pad> <pad> <pad> <pad> <pad> <pad> <pad> <pad> <pad> <pad> <pad>\n",
      "====\n",
      "14\n",
      "question: who sang waiting for a girl like you title: With a Girl Like You context: With a Girl Like You \"With a Girl like You\" is a song released by the English rock band the Troggs, written by Reg Presley and produced by Larry Page. The song reached number one in the UK Singles Chart on 4 August 1966, where it remained for two weeks. In the U.S., it peaked at #29 on the \"Billboard\" Hot 100. The song is featured, uncut, in a school dance scene from the 1991 Nicole Kidman/Noah Taylor film, \"Flirting\". It is also featured in the films and/or soundtracks to \"Shine\", \"The Good Night\" and \"The Boat That Rocked\". The</s> <pad> <pad> <pad> <pad> <pad> <pad> <pad> <pad> <pad> <pad> <pad> <pad> <pad> <pad> <pad> <pad> <pad> <pad> <pad> <pad> <pad> <pad> <pad> <pad> <pad>\n",
      "====\n",
      "15\n",
      "question: who sang waiting for a girl like you title: Girls Like You context: Girls Like You \"Girls Like You\" is a song recorded by American band Maroon 5, from their sixth studio album \"Red Pill Blues\" (2017). A second version featuring American rapper Cardi B was released by 222 and Interscope Records as the album's third single on May 30, 2018. This version was written by Adam Levine, Cirkut, Cardi B, Starrah, Jason Evigan, and Gian Stone and was produced by Cirkut and Evigan. The single reached number one on the US \"Billboard\" Hot 100 chart, making it Maroon 5's fourth and Cardi B's third chart-topper, who extended her record for most number-ones</s> <pad> <pad> <pad> <pad> <pad> <pad> <pad> <pad> <pad> <pad> <pad> <pad> <pad> <pad> <pad> <pad> <pad> <pad> <pad> <pad> <pad> <pad> <pad>\n",
      "====\n",
      "16\n",
      "question: who sang waiting for a girl like you title: Wait for You (Elliott Yamin song) context: Wait for You (Elliott Yamin song) \"Wait for You\" is a song by former \"American Idol\" contestant Elliott Yamin. It is the first official single from his self-titled album \"Elliott Yamin\" (following the retail-only promotional hit \"Movin' On\"). \"Wait for You\" is a slow-tempo ballad composed in C major. He mentions in the song waiting indefinitely for the one he loves to come back to him. Despite the fact she has left him, he insists he knows she still loves him. \"Wait For You\" is often compared to songs by 98 Degrees (\"My Everything\"), Natalie (\"Goin</s>\n",
      "====\n",
      "17\n",
      "question: who sang waiting for a girl like you title: Waitin for You context: Lovato's \"most powerful\" video yet. Lovato and Sirah performed the song live for the very first time on August 13, 2016 at the MGM Grand Garden Arena in Las Vegas during the Future Now Tour. Credits adapted from \"Confident\" album liner notes. Waitin for You \"Waitin for You\" is a song recorded by American singer Demi Lovato featuring rapper Sirah. The duo along with Julia Michaels, Jason Evigan and Steve Mac composed the song for Lovato's fifth studio album \"Confident\" (2015). Evigan and Mac also handled the song's production, with Mitch Allan serving as a vocal producer. In December 2013,</s> <pad> <pad> <pad> <pad> <pad> <pad> <pad> <pad> <pad> <pad> <pad> <pad> <pad> <pad> <pad> <pad> <pad> <pad> <pad> <pad> <pad> <pad> <pad>\n",
      "====\n",
      "18\n",
      "question: who sang waiting for a girl like you title: The Troggs context: of a cover version of the Troggs song \"Strange Movies\". In 2012, Norwegian band Ulver covered the song \"66-5-4-3-2-1\" for their covers album \"Childhood's End\". The Troggs The Troggs (originally called the Troglodytes) are an English garage rock band formed in Andover, Hampshire in May 1964. They had a number of hits in the United Kingdom and the United States. Their most famous songs include the US chart-toppers \"Wild Thing\", \"With a Girl Like You\" and \"Love Is All Around\", all of which sold over 1 million copies and were awarded gold discs. \"Wild Thing\" is ranked #257 on the</s> <pad> <pad> <pad> <pad> <pad> <pad> <pad> <pad> <pad> <pad> <pad> <pad> <pad> <pad> <pad> <pad> <pad> <pad>\n",
      "====\n",
      "19\n",
      "question: who sang waiting for a girl like you title: Ronnie Bond context: was later released as a single re-recorded by John Du Cann. He was born in Andover, Hampshire, England. Bond was the original drummer with the 1960s band The Troggs, whose hits included \"Wild Thing\", (UK no. 2; US no. 1); \"With a Girl Like You\", (UK no. 1; US no. 29) and \"I Can't Control Myself\", (UK no. 2; US top 50), all in 1966, and \"Love is All Around\" (UK no. 5; US no. 7) in 1967 (1968 in the US). The Troggs also had several smaller hits, including \"Any Way That You Want Me\", a UK no. 8</s> <pad> <pad> <pad> <pad> <pad> <pad> <pad> <pad> <pad> <pad> <pad> <pad> <pad> <pad> <pad> <pad> <pad> <pad> <pad>\n",
      "====\n",
      "20\n",
      "question: who sang waiting for a girl like you title: Inside Information (album) context: Norway, where it reached #4. A rare CD single featured an extended remix version of the track. The second single, \"I Don't Want to Live Without You\", reached #5 on the Hot 100. Markedly softer than any of their work to date, the record was their first and only #1 on the Adult Contemporary chart, after the more rousing ballads \"Waiting for a Girl Like You\" and \"I Want to Know What Love Is\" had reached #5 and #3 on that chart respectively. Allmusic would later observe that while \"the end result lacked the distinctive rock touches of past Foreigner</s> <pad> <pad> <pad> <pad> <pad> <pad> <pad> <pad> <pad> <pad> <pad> <pad> <pad> <pad> <pad> <pad> <pad> <pad> <pad> <pad> <pad> <pad> <pad> <pad> <pad> <pad> <pad> <pad> <pad> <pad> <pad> <pad> <pad> <pad> <pad> <pad> <pad> <pad> <pad> <pad> <pad> <pad>\n",
      "====\n",
      "21\n",
      "question: who sang waiting for a girl like you title: A Woman Needs Love (Just Like You Do) context: A Woman Needs Love (Just Like You Do) \"A Woman Needs Love (Just Like You Do)\" is a 1981 song recorded by American R&B vocalist and songwriter Ray Parker Jr., along with his group, Raydio. It led their 1981 album, \"A Woman Needs Love\", the last Parker recorded with Raydio. The song was a hit on both the \"Billboard\" pop and soul charts in early 1981. It was Parker's first song to hit number-one on the R&B chart, and also reached number four on the \"Billboard\" Hot 100. It is ranked as the 16th biggest U.S. hit of 1981. The</s> <pad> <pad> <pad> <pad> <pad> <pad> <pad> <pad> <pad> <pad> <pad> <pad> <pad> <pad> <pad> <pad> <pad> <pad> <pad> <pad> <pad>\n",
      "====\n",
      "22\n",
      "question: who sang waiting for a girl like you title: Drumline (film) context: and artistry of the marching band. The film's soundtrack was also executive produced by Dallas Austin. Released on December 10, 2002 by Jive Records, it reached the number 61 spot on Billboard's Top R&B/Hip-Hop Albums chart, number 10 on the Top Soundtracks list, and peaked at 133 on The Billboard 200 in 2003. The tracks \"I Want a Girl Like You,\" \"Blowin' Me Up (With Her Love),\" and \"Club Banger\" were all released as singles, with JC Chasez' \"Blowin' Me Up...\" obtaining the highest level of success, reaching the number 24 spot on the Canadian Singles Chart, number 17 on</s> <pad> <pad> <pad> <pad> <pad> <pad> <pad> <pad> <pad> <pad> <pad> <pad> <pad> <pad> <pad> <pad> <pad> <pad> <pad> <pad> <pad>\n",
      "====\n",
      "23\n",
      "question: who sang waiting for a girl like you title: Edwyn Collins context: to record his third solo album, \"Gorgeous George\", which he also produced. The studio, located in West Hampstead, London, UK, would become the West Heath Yard Studios that Collins would use for his future record label, AED Records. In 1995, Collins released the single \"A Girl Like You\", which became a hit in both the United Kingdom and United States after it was featured in the film \"Empire Records\". It was subsequently used in the movie \"\" in 2003. Collins released his followup to \"Gorgeous George\", \"I'm Not Following You\", in 1997. One of its singles, \"The Magic Piper (of</s> <pad> <pad> <pad> <pad> <pad> <pad> <pad> <pad> <pad> <pad> <pad> <pad> <pad> <pad> <pad> <pad> <pad> <pad> <pad> <pad> <pad> <pad> <pad> <pad> <pad> <pad> <pad> <pad> <pad> <pad> <pad> <pad> <pad> <pad> <pad> <pad>\n",
      "====\n",
      "24\n",
      "question: who sang waiting for a girl like you title: Waiting for Your Love (Toto song) context: Waiting for Your Love (Toto song) \"Waiting for Your Love\" is a song by American rock band Toto from their 1982 album \"Toto IV\". In 1983, it was released as a single, peaking at number 73 on the \"Billboard\" Hot 100 chart. The song was written by keyboardist Bobby Kimball and David Paich and is performed in the key of A-flat major. Kimball said in an interview that he \"wrote it in the '70s and originally called it \"'You Got Me'\". Somethingelsereviews.com wrote that Bobby Kimball gave a fantastic lead vocal performance in the song, and that \"Waiting for Your</s> <pad> <pad> <pad> <pad> <pad> <pad> <pad> <pad> <pad> <pad> <pad> <pad> <pad> <pad> <pad> <pad> <pad> <pad> <pad>\n",
      "====\n",
      "25\n",
      "question: who sang waiting for a girl like you title: Ella Eyre context: Ella Eyre Ella McMahon (born 1 April 1994), known by her stage name Ella Eyre, is an English singer and songwriter. She is best known for her collaborations with Rudimental on their UK number one single \"Waiting All Night\" (2013), which won the 2014 Brit Award for British Single of the Year, with DJ Fresh on his single \"Gravity\" (2015), and with Sigala on their singles \"Came Here for Love\" (2017), and \"Just Got Paid\" (2018). Her debut EP, \"Deeper\", was released in 2013 and her debut album, \"Feline\", was released in 2015. Eyre's musical influences include Lauryn Hill, Etta</s> <pad> <pad> <pad> <pad> <pad> <pad> <pad> <pad> <pad> <pad> <pad> <pad> <pad> <pad> <pad> <pad> <pad>\n",
      "====\n",
      "26\n",
      "question: who sang waiting for a girl like you title: Red Pill Blues context: on the \"Billboard\" Hot 100. James Valentine announced on Twitter that \"Wait\" would be the second single from the album. The song was officially released to US contemporary hit radio on January 16, 2018, as the album's second single. A remix version of \"Girls Like You\", featuring Cardi B served as the third single from the album on May 30, 2018. The song topped at number one on the \"Billboard\" Hot 100 chart for seven consecutive weeks, becoming Maroon 5's fourth and Cardi B's third number-one. The song became the first pop song to reach number one since \"Havana\" by</s> <pad> <pad> <pad> <pad> <pad> <pad> <pad> <pad> <pad> <pad> <pad> <pad> <pad> <pad> <pad> <pad> <pad> <pad> <pad> <pad> <pad> <pad> <pad> <pad> <pad> <pad> <pad> <pad> <pad> <pad> <pad> <pad> <pad> <pad> <pad> <pad> <pad> <pad> <pad>\n",
      "====\n",
      "27\n",
      "question: who sang waiting for a girl like you title: Maria Vidal context: Child on the Burt Bacharach/Desmond Child penned power ballad, \"Obsession.\" At the time, Vidal was making her third solo album with British-owned Charisma Records, but the album was never released. As a singer, songwriter and producer, Vidal has contributed to many other artists' music. Vidal contributed backup vocals to Kiss' Paul Stanley's solo album, Stevie Nicks' single \"I Can't Wait\" as well as a few other tracks from Nicks' solo album \"Rock A Little\", and was a featured vocalist for The Smithereens' single \"A Girl Like You\". She appears on many of Belinda Carlisle's solo albums, including the 1989 album</s> <pad> <pad> <pad> <pad> <pad> <pad> <pad> <pad> <pad> <pad> <pad> <pad> <pad> <pad> <pad>\n",
      "====\n",
      "28\n",
      "question: who sang waiting for a girl like you title: Wait for You (Elliott Yamin song) context: (\"Never Had a Dream Come True\") and Stevie Hoang (\"Addicted\"), due to the tone of the song. The song debuted on the U.S. \"Billboard\" Hot 100 at number 67. After two weeks the song dropped off the chart, but was resurrected by airplay which improved the song's digital sales. The song experienced an increase in popularity after Yamin's performance on \"American Idol\", and went on to become a hit single on multiple charts in the U.S. It rose to #14 in the iTunes Store and #13 on the Hot 100, giving Yamin his first top 20 hit on the chart.</s> <pad> <pad> <pad> <pad> <pad> <pad> <pad> <pad> <pad> <pad> <pad> <pad> <pad> <pad> <pad> <pad> <pad> <pad> <pad> <pad> <pad> <pad>\n",
      "====\n",
      "29\n",
      "question: who sang waiting for a girl like you title: Waitin' on a Woman context: Waitin' on a Woman \"Waitin' on a Woman\" is a song written by Don Sampson and Wynn Varble, and performed three times by American country music artist Brad Paisley. His first recording of the song was included on his 2005 album \"Time Well Wasted\". Three years later, Paisley re-recorded the song for inclusion on a re-issue of his 2007 album \"5th Gear\". This re-recorded version was issued on June 9, 2008 and became the twenty-first chart single of Paisley's career and became the twelfth number 1 single of his career and his eighth consecutive number 1 single. The song also</s> <pad> <pad> <pad> <pad> <pad> <pad> <pad> <pad> <pad> <pad> <pad> <pad> <pad> <pad> <pad> <pad> <pad> <pad> <pad> <pad> <pad> <pad> <pad> <pad>\n",
      "====\n",
      "30\n",
      "question: who sang waiting for a girl like you title: A Girl Like You (Easton Corbin song) context: of many a recent Nashville hit\", and states that she is unlike any other girl. The song has sold 96,000 copies in the United States as of February 2018. A Girl Like You (Easton Corbin song) \"A Girl Like You\" is a song written by Ashley Gorley, Jesse Frasure, and Rhett Akins and recorded by American country music singer Easton Corbin. The song is Corbin's tenth single, and was originally intended to be the lead single from his upcoming fourth studio album before his termination from Mercury Nashville. The song is Corbin's first non-album single to date. The song features</s> <pad> <pad> <pad> <pad> <pad> <pad> <pad> <pad> <pad> <pad> <pad> <pad> <pad> <pad> <pad> <pad> <pad> <pad> <pad> <pad> <pad> <pad> <pad> <pad> <pad> <pad> <pad> <pad> <pad> <pad> <pad> <pad> <pad> <pad> <pad> <pad>\n",
      "====\n",
      "31\n",
      "question: who sang waiting for a girl like you title: Sherman Brothers context: Burnette in 1960 and then at #1 with Ringo Starr more than thirteen years later. Other top-ten hits include \"Pineapple Princess,\" \"Let's Get Together,\" and more. In 2000, the Sherman Brothers wrote the song score for the Disney film \"The Tigger Movie\". This film marked the brothers' first major motion picture for the Disney company in over 28 years. The Sherman Brothers wrote \"Only a Woman Like You\" with adult contemporary/pop singer/songwriter Michael Bolton as a trio and a single from the album of the same name and it features during the end credits of the 2007 Disney film \"Super</s> <pad> <pad> <pad> <pad> <pad> <pad> <pad> <pad> <pad> <pad> <pad> <pad> <pad> <pad> <pad> <pad> <pad> <pad> <pad> <pad> <pad> <pad> <pad> <pad> <pad> <pad> <pad> <pad> <pad> <pad> <pad> <pad> <pad> <pad> <pad> <pad> <pad> <pad> <pad> <pad> <pad> <pad> <pad> <pad> <pad> <pad> <pad>\n",
      "====\n",
      "32\n",
      "question: who sang waiting for a girl like you title: Cliff Richard context: Life\", \"How Did She Get Here\", \"Hey Mr. Dream Maker\", \"For Life\", \"A Matter of Moments\", \"When The Girl in Your Arms\" and the Christmas single \"21st Century Christmas\", which debuted at No. 2 on the UK singles chart. Another compilation album, \"Love... The Album\" was released on 12 November 2007. Like \"Two's Company\" before it, this album includes both previously released material and newly recorded songs, namely \"Waiting for a Girl Like You\", \"When You Say Nothing at All\", \"All Out of Love\", \"If You're Not the One\" and \"When I Need You\" (the last was released as a</s> <pad> <pad> <pad> <pad> <pad> <pad> <pad> <pad> <pad> <pad> <pad> <pad> <pad> <pad> <pad> <pad> <pad> <pad> <pad> <pad> <pad> <pad> <pad> <pad> <pad> <pad> <pad> <pad>\n",
      "====\n",
      "33\n",
      "question: who sang waiting for a girl like you title: Reg Presley context: Reg Presley Reginald Maurice Ball (12 June 1941 – 4 February 2013), known professionally as Reg Presley, was an English singer-songwriter. He was the lead singer with the 1960s rock and roll band the Troggs, the hits of which included \"Wild Thing\" (#1 on the Hot 100 on 30 July - 6 August 1966) and \"With a Girl Like You\" (#1 on the UK Official Singles Chart on 4-11 August 1966). He wrote the song \"Love Is All Around\", which was featured in the films \"Four Weddings and a Funeral\" and \"Love Actually\". Presley, whose stage name was given to</s> <pad> <pad> <pad> <pad> <pad> <pad> <pad> <pad> <pad> <pad> <pad> <pad> <pad> <pad> <pad> <pad> <pad> <pad> <pad> <pad> <pad> <pad> <pad> <pad> <pad> <pad> <pad> <pad> <pad> <pad> <pad> <pad> <pad> <pad> <pad> <pad>\n",
      "====\n",
      "34\n",
      "question: who sang waiting for a girl like you title: Cobra Verde (band) context: is a Journey fan, however, which becomes the running joke of the episode. Seth tells Ryan that \"he couldn't get the real Journey, so he got a Journey tribute band.\" As Cobra Verde begins performing \"Waiting for a Girl Like You,\" Seth admits that he knows the band on stage is a Foreigner tribute – but that he got them, because \"Journey sucks.\" In a diary chronicling the event for Cleveland daily newspaper \"The Plain Dealer\", Petkovic recalled going to wardrobe the day before the taping: True Blood Cobra Verde's version of \"Play With Fire\" (\"Copycat Killers\", 2005) was featured</s> <pad> <pad> <pad> <pad> <pad> <pad> <pad> <pad> <pad> <pad> <pad> <pad> <pad> <pad> <pad> <pad> <pad> <pad> <pad>\n",
      "====\n",
      "35\n",
      "question: who sang waiting for a girl like you title: Waiting for Your Love (Toto song) context: Love\" had an infectious, danceable, back beat. Waiting for Your Love (Toto song) \"Waiting for Your Love\" is a song by American rock band Toto from their 1982 album \"Toto IV\". In 1983, it was released as a single, peaking at number 73 on the \"Billboard\" Hot 100 chart. The song was written by keyboardist Bobby Kimball and David Paich and is performed in the key of A-flat major. Kimball said in an interview that he \"wrote it in the '70s and originally called it \"'You Got Me'\". Somethingelsereviews.com wrote that Bobby Kimball gave a fantastic lead vocal performance in</s> <pad> <pad> <pad> <pad> <pad> <pad> <pad> <pad> <pad> <pad> <pad> <pad> <pad> <pad> <pad> <pad> <pad> <pad> <pad>\n",
      "====\n",
      "36\n",
      "question: who sang waiting for a girl like you title: Reg Presley context: him in 1965 by the \"New Musical Express\" journalist and publicist Keith Altham, was born in Andover, Hampshire. He joined the building trade on leaving school and became a bricklayer. He kept at this occupation until \"Wild Thing\" reached the top 10 on the UK Singles Chart in 1966. It reached No. 2 in the UK, and No. 1 in the US, selling five million copies. Presley wrote the hits \"With a Girl Like You\", \"I Can't Control Myself\" and \"Love Is All Around\". Wet Wet Wet's 1994 cover of the latter song stayed at No. 1 in the UK</s> <pad> <pad> <pad> <pad> <pad> <pad> <pad> <pad> <pad> <pad> <pad> <pad> <pad> <pad> <pad> <pad> <pad> <pad> <pad> <pad> <pad> <pad> <pad> <pad> <pad> <pad> <pad> <pad> <pad> <pad> <pad> <pad> <pad> <pad> <pad> <pad> <pad> <pad> <pad>\n",
      "====\n",
      "37\n",
      "question: who sang waiting for a girl like you title: Waitin' on a Woman context: debuted at number 51 on the \"Billboard\" Hot Country Songs chart dated for the week of June 28, 2008. For the chart week of September 20, 2008, it has become Paisley's twelfth Number One single overall. Waitin' on a Woman \"Waitin' on a Woman\" is a song written by Don Sampson and Wynn Varble, and performed three times by American country music artist Brad Paisley. His first recording of the song was included on his 2005 album \"Time Well Wasted\". Three years later, Paisley re-recorded the song for inclusion on a re-issue of his 2007 album \"5th Gear\". This re-recorded</s> <pad> <pad> <pad> <pad> <pad> <pad> <pad> <pad> <pad> <pad> <pad> <pad> <pad> <pad> <pad> <pad> <pad> <pad> <pad>\n",
      "====\n",
      "38\n",
      "question: who sang waiting for a girl like you title: Girls Like You context: the downloadable content for the \"Rock Band Rivals\" series) and the compilation album \"Now That's What I Call Music! 67\" (2018). Credits adapted from AllMusic. Recording Credits Girls Like You \"Girls Like You\" is a song recorded by American band Maroon 5, from their sixth studio album \"Red Pill Blues\" (2017). A second version featuring American rapper Cardi B was released by 222 and Interscope Records as the album's third single on May 30, 2018. This version was written by Adam Levine, Cirkut, Cardi B, Starrah, Jason Evigan, and Gian Stone and was produced by Cirkut and Evigan. The single</s> <pad> <pad> <pad> <pad> <pad> <pad> <pad> <pad> <pad> <pad> <pad> <pad> <pad> <pad> <pad> <pad> <pad> <pad> <pad> <pad> <pad> <pad> <pad> <pad>\n",
      "====\n",
      "39\n",
      "question: who sang waiting for a girl like you title: Waitin for You context: Waitin for You \"Waitin for You\" is a song recorded by American singer Demi Lovato featuring rapper Sirah. The duo along with Julia Michaels, Jason Evigan and Steve Mac composed the song for Lovato's fifth studio album \"Confident\" (2015). Evigan and Mac also handled the song's production, with Mitch Allan serving as a vocal producer. In December 2013, Lovato confirmed that she had started working on her then-untitled fifth studio album \"Confident\". The majority of the album's songs was recorded upon the conclusion of the Demi World Tour in 2015. \"Waitin for You\" was written by Lovato, Julia Michaels, Jason</s> <pad> <pad> <pad> <pad> <pad> <pad> <pad> <pad> <pad> <pad> <pad> <pad> <pad> <pad> <pad> <pad> <pad> <pad> <pad> <pad> <pad> <pad>\n",
      "====\n",
      "40\n",
      "question: who sang waiting for a girl like you title: A Girl Like You (Easton Corbin song) context: A Girl Like You (Easton Corbin song) \"A Girl Like You\" is a song written by Ashley Gorley, Jesse Frasure, and Rhett Akins and recorded by American country music singer Easton Corbin. The song is Corbin's tenth single, and was originally intended to be the lead single from his upcoming fourth studio album before his termination from Mercury Nashville. The song is Corbin's first non-album single to date. The song features \"a playful, chicken-picked guitar hook and a digitized, shuffling beat\". Its lyrics deal with a woman with whom the narrator is affectionate. He compares her to \"the nameless girl</s> <pad> <pad> <pad> <pad> <pad> <pad> <pad> <pad> <pad> <pad> <pad> <pad> <pad> <pad> <pad> <pad> <pad>\n",
      "====\n",
      "41\n",
      "question: who sang waiting for a girl like you title: Thomas Dolby context: Fallout Club. By far the most significant session relationship for Thomas in the early days was when he contributed the signature synthesizer sound on the track \"Urgent\" on Foreigner's 1981 album \"4\". On the same album he played the atmospheric synthesizer intro to the mega-hit \"Waiting for a Girl Like You\". The fees from this work, including tour dates, bankrolled the studio time for the recording of the 1980s benchmark album \"The Golden Age of Wireless\" from which his solo career began. In October 1981 Dolby made an appearance in the video for the Dave Stewart and Barbara Gaskin British</s> <pad> <pad> <pad> <pad> <pad> <pad> <pad> <pad> <pad> <pad> <pad> <pad> <pad> <pad> <pad> <pad> <pad> <pad> <pad> <pad> <pad> <pad> <pad> <pad> <pad> <pad> <pad> <pad> <pad> <pad> <pad> <pad> <pad> <pad> <pad> <pad> <pad> <pad> <pad> <pad> <pad> <pad> <pad>\n",
      "====\n",
      "42\n",
      "question: who sang waiting for a girl like you title: Girls Like You context: St. Vincent, Tokimonsta, Cray and WondaGurl. In an interview with \"Variety\", Levine stated he told Cardi before she wrote her verse, \"I want you to put something down that shows your fierceness as a woman and say it however you want.\" \"Girls Like You\" is a pop and pop rock song. It has a length of three minutes and 35 seconds in the original version, while the extended single version is 20 seconds longer. It was written by Adam Levine, Cirkut, Cardi B, Starrah, Jason Evigan and Gian Stone and was produced by Cirkut and Evigan. The song is written</s> <pad> <pad> <pad> <pad> <pad> <pad> <pad> <pad> <pad> <pad> <pad> <pad> <pad> <pad> <pad> <pad> <pad> <pad> <pad> <pad> <pad> <pad> <pad> <pad> <pad> <pad> <pad> <pad>\n",
      "====\n",
      "43\n",
      "question: who sang waiting for a girl like you title: A Girl Like You (Dallas Smith song) context: live acoustic rendition of the song. It is Smith's first music video not to be directed by Stephano Barberis. \"A Girl Like You\" debuted at number 82 on the \"Billboard\" Canadian Hot 100 for the week ending August 2, 2014. A Girl Like You (Dallas Smith song) \"A Girl Like You'\" is a song written by Jaren Johnston and Jimmy Robbins, and recorded by Canadian country rock singer Dallas Smith for his first extended play, \"Tippin' Point\" (2014). It was serviced to Canadian country radio via 604 Records on June 23, 2014 as the third single from the EP. Markus</s> <pad> <pad> <pad> <pad> <pad> <pad> <pad> <pad> <pad> <pad> <pad> <pad> <pad> <pad> <pad> <pad> <pad> <pad> <pad> <pad> <pad> <pad> <pad> <pad> <pad> <pad> <pad> <pad>\n",
      "====\n",
      "44\n",
      "question: who sang waiting for a girl like you title: Physical (Olivia Newton-John song) context: song on the Hot 100 during the 1980s in terms of the number of weeks spent at number one. The guitar solo was performed by Steve Lukather. \"Physical\" was both preceded and followed in the #1 chart position by recordings of the duo Hall & Oates. \"Private Eyes\" was dethroned by \"Physical\" in November 1981, and \"Physical\" was dethroned by \"I Can't Go for That (No Can Do)\" the following January. \"Physical\" held \"Waiting for a Girl Like You\" by Foreigner at #2 off the top of the Hot 100 for nine weeks, and \"I Can't Go For That\" held</s> <pad> <pad> <pad> <pad> <pad> <pad> <pad> <pad> <pad> <pad> <pad> <pad> <pad> <pad>\n",
      "====\n",
      "45\n",
      "question: who sang waiting for a girl like you title: A Girl Like You (Dallas Smith song) context: A Girl Like You (Dallas Smith song) \"A Girl Like You'\" is a song written by Jaren Johnston and Jimmy Robbins, and recorded by Canadian country rock singer Dallas Smith for his first extended play, \"Tippin' Point\" (2014). It was serviced to Canadian country radio via 604 Records on June 23, 2014 as the third single from the EP. Markus Meyer of country music blog \"The Shotgun Seat\" praised \"A Girl Like You\" for subverting expectations and being a love song rather than a degrading lyric. He writes: \"\"A Girl Like You\" isn't deep, but it is well-written and features</s> <pad> <pad> <pad> <pad> <pad> <pad> <pad> <pad> <pad> <pad> <pad> <pad> <pad> <pad> <pad> <pad> <pad> <pad> <pad> <pad> <pad> <pad>\n",
      "====\n",
      "46\n",
      "question: who sang waiting for a girl like you title: Wynn Varble context: Wynn Varble George Edwin Varble is an American country music musician and songwriter. Varble co-wrote the hit songs \"Have You Forgotten?\", \"Waitin' on a Woman\", \"Things That Never Cross a Man's Mind\" and \"A Little More Country Than That\". In 2003, Varble co-wrote \"Have You Forgotten?\" with Darryl Worley, who released it as the first single from his album of the same name. It was No. 1 on Billboard's Hot Country Songs for seven weeks, and peaked at number 22 on the \"Billboard\" Hot 100. Varble's song \"Waitin' on a Woman\", co-written with Don Sampson, was recorded three times by</s> <pad> <pad> <pad> <pad> <pad> <pad>\n",
      "====\n",
      "47\n",
      "question: who sang waiting for a girl like you title: With a Girl Like You context: Osiris Shoes video \"Feed the Need\" featured the \"With a Girl Like You\" (James Brockman's section). Part of the song was featured in a trailer for the 2013 film \"Warm Bodies\". The song was featured at the end of the \"\" season 9 episode \"The Real McCoy\", when Adam and his girlfriend are dancing. The song was featured on the \"Girls\" season 1 episode, \"Vagina Panic\". With a Girl Like You \"With a Girl like You\" is a song released by the English rock band the Troggs, written by Reg Presley and produced by Larry Page. The song reached number</s> <pad> <pad> <pad> <pad> <pad> <pad> <pad> <pad> <pad> <pad> <pad> <pad> <pad> <pad> <pad> <pad> <pad> <pad> <pad> <pad> <pad> <pad> <pad> <pad> <pad> <pad> <pad> <pad> <pad> <pad>\n",
      "====\n",
      "48\n",
      "question: who sang waiting for a girl like you title: A Girl Like You (Edwyn Collins song) context: the 1995 movie \"Empire Records\". It was also featured in season 1, episode 5 of \"Lucifer\" (\"Sweet Kicks\"). A Girl Like You (Edwyn Collins song) \"A Girl Like You\" is a song by Scottish singer-songwriter Edwyn Collins from his third solo studio album, \"Gorgeous George\" (1994). The song samples the drums track of Len Barry's single \"1-2-3\" (1965). There are two different music videos for this song. The video in the United States was an avant-garde tribute to its lyrics (e.g. when Collins sings the lyrics \"you made me acknowledge the devil in me\", a child's painting of the devil</s> <pad> <pad> <pad> <pad> <pad> <pad> <pad> <pad> <pad> <pad> <pad> <pad> <pad> <pad> <pad>\n",
      "====\n",
      "49\n",
      "question: who sang waiting for a girl like you title: Wait for You (Elliott Yamin song) context: played in one part when Tatsuya and Eriko go to the gas station. Wait for You (Elliott Yamin song) \"Wait for You\" is a song by former \"American Idol\" contestant Elliott Yamin. It is the first official single from his self-titled album \"Elliott Yamin\" (following the retail-only promotional hit \"Movin' On\"). \"Wait for You\" is a slow-tempo ballad composed in C major. He mentions in the song waiting indefinitely for the one he loves to come back to him. Despite the fact she has left him, he insists he knows she still loves him. \"Wait For You\" is often</s>\n",
      "====\n",
      "50\n",
      "question: who sang waiting for a girl like you title: Dallas Smith (singer) context: in Canada and the \"Tippin' Point\" video was ranked number 1 on CMT Canada. In the US, the song \"Tippin' Point\" was ranked number 1 on Sirius XM's The Highway Hot 45 Countdown and has sold over 120,000 singles. Smith followed up the success of the first single by releasing \"Slow Rollin'\" in March 2014. The track was a top 5 single at Canadian country radio. A third single, \"A Girl Like You\", was released in June 2014. Smith's single \"Slow Rollin'\" is performed by Lady Antebellum on the deluxe edition of their album \"747\". In 2014, Dallas Smith entered</s> <pad> <pad> <pad> <pad> <pad> <pad> <pad> <pad> <pad> <pad> <pad> <pad> <pad> <pad> <pad> <pad> <pad> <pad> <pad> <pad> <pad> <pad> <pad> <pad> <pad>\n",
      "====\n",
      "51\n",
      "question: who sang waiting for a girl like you title: Footloose (1984 film) context: he had four stunt doubles: \"I had a stunt double, a dance double [Peter Tramm] and two gymnastics doubles.\" The soundtrack was released in cassette, 8-track tape, vinyl, and CD format. The soundtrack was also re-released on CD for the 15th anniversary of the film in 1999. The re-release included four new songs: \"Bang Your Head (Metal Health)\" by Quiet Riot, \"Hurts So Good\" by John Mellencamp, \"Waiting for a Girl Like You\" by Foreigner, and the extended 12\" remix of \"Dancing in the Sheets\". The album includes \"Footloose\" and \"I'm Free\", both by Kenny Loggins, \"Hold</s>\n",
      "====\n",
      "52\n",
      "question: who sang waiting for a girl like you title: Girls Like You context: at the 2018 NRJ Music Awards, where it was also nominated for Video of the Year. The song also received a nomination for Song of Summer at the 2018 MTV Video Music Awards. It received a nomination for Best Pop Duo/Group Performance at the 61st Grammy Awards. \"Girls Like You\" was covered by artists Amy Shark, Luke Bryan, Boyce Avenue, Davina Michelle, Sam Tsui, Jason Chen & Tiffany Alvord and Walk Off the Earth. It was choreograph and performed by dancers Matt Steffanina and Kaycee Rice. The song was featured on the video game \"Rock Band 4\" (as part of</s> <pad> <pad> <pad> <pad> <pad> <pad> <pad> <pad> <pad> <pad> <pad> <pad> <pad> <pad> <pad> <pad> <pad> <pad> <pad> <pad> <pad> <pad> <pad> <pad> <pad> <pad> <pad> <pad> <pad>\n",
      "====\n",
      "53\n",
      "question: who sang waiting for a girl like you title: Rock of Ages (2012 film) context: changed from a duet between Sherrie and Jaxx to Jaxx and new character Constance), with the song now representing Drew's anger toward what he wrongly perceives to be Sherrie's infidelity. \"Waiting for a Girl Like You\" and \"More Than Words/Heaven\" switched order in the film version, in order to accommodate the changes in the relationship storyline between Drew and Sherrie. \"Can't Fight This Feeling\" was also placed before \"Any Way You Want It\" due to the restructure of storylines. New songs added to the film include a mash-up of \"Juke Box Hero/I Love Rock 'n' Roll\", which replaced the original</s> <pad> <pad> <pad> <pad> <pad> <pad> <pad> <pad> <pad> <pad> <pad>\n",
      "====\n",
      "54\n",
      "question: who sang waiting for a girl like you title: The Foundations context: their agent and Mike Dolan took over the group's affairs. The group's final hits were \"Born to Live, Born to Die\" which was written by Eric Allandale and Tony Gomez. and \"My Little Chickadee\", a US only hit which barely made the hot 100. Another member joined the band in 1970. Paul Lockey who had been with Robert Plant in Band of Joy joined as their bass guitarist. \"My Little Chickadee\" proved to be the band's last hit. In spite of releasing \"Take a Girl Like You\", the title song to the Oliver Reed and Hayley Mills film, and a</s> <pad> <pad> <pad> <pad> <pad> <pad> <pad> <pad> <pad> <pad> <pad> <pad> <pad> <pad> <pad> <pad> <pad> <pad> <pad> <pad> <pad> <pad> <pad> <pad> <pad> <pad> <pad> <pad> <pad> <pad> <pad> <pad> <pad> <pad> <pad> <pad> <pad> <pad>\n",
      "====\n",
      "55\n",
      "question: who sang waiting for a girl like you title: Wait for You (Elliott Yamin song) context: It also became a top five hit for Yamin on the Pop 100, Pop 100 Airplay, and on the Hot Adult Contemporary chart. The song enjoyed great radio longevity, staying in the top ten of Mediabase's Mainstream Top 40 chart for four months before finally falling out of the top ten in early October 2007. The song was the 6th most played song of 2007 on Top 40 radio and it was certified Platinum in digital sales on October 16, 2008. U.S. sales as of April 30, 2010 are 1,113,000. In February 2014, the song was retroactively certified Platinum by</s> <pad> <pad> <pad> <pad> <pad> <pad> <pad> <pad> <pad> <pad> <pad> <pad> <pad> <pad> <pad> <pad> <pad> <pad> <pad> <pad> <pad> <pad> <pad> <pad> <pad> <pad> <pad> <pad> <pad> <pad> <pad> <pad> <pad> <pad> <pad> <pad> <pad> <pad> <pad> <pad> <pad> <pad> <pad> <pad> <pad> <pad> <pad> <pad>\n",
      "====\n",
      "56\n",
      "question: who sang waiting for a girl like you title: Well Travelled Love context: Well Travelled Love Well Travelled Love is the debut album of American singer Kelly Willis. It was released in 1990 via MCA Records and produced by Tony Brown. \"I Don't Want to Love You\", \"River of Love\" and \"Looking for Someone Like You\" were all released as singles from it. Although none of these charted in the United States, \"Looking for Someone Like You\" reached #85 on the \"RPM\" country singles charts in Canada. Also included on this album is the song \"Drive South\". Originally recorded by John Hiatt, it was a #63 single for The Forester Sisters and The</s> <pad> <pad> <pad> <pad> <pad> <pad> <pad> <pad> <pad> <pad> <pad> <pad> <pad> <pad> <pad> <pad> <pad> <pad> <pad> <pad> <pad> <pad> <pad> <pad> <pad> <pad> <pad> <pad> <pad> <pad> <pad> <pad> <pad> <pad> <pad> <pad> <pad> <pad> <pad>\n",
      "====\n",
      "57\n",
      "question: who sang waiting for a girl like you title: A Woman Like You (Lee Brice song) context: of October 22, 2011. It became Lee Brice's first career number one hit for the week of April 21, 2012. A Woman Like You (Lee Brice song) \"A Woman Like You\" is a song recorded by American country music artist Lee Brice. It was released in October 2011 as the first single from Brice's album \"Hard 2 Love\". The song was written by Jon Stone, Phil Barton and Johnny Bulford. The song is about the singer being questioned by his wife about what he would've done with his life had he not fell in love with her. The song received</s> <pad> <pad> <pad> <pad> <pad> <pad> <pad> <pad> <pad> <pad> <pad> <pad> <pad> <pad> <pad> <pad> <pad> <pad> <pad> <pad> <pad> <pad> <pad> <pad> <pad> <pad> <pad> <pad> <pad> <pad> <pad> <pad> <pad> <pad> <pad> <pad> <pad> <pad> <pad> <pad> <pad> <pad> <pad> <pad>\n",
      "====\n",
      "58\n",
      "question: who sang waiting for a girl like you title: Rock of Ages (2012 film) context: includes 13 additional minutes of footage, including \"Rock You Like a Hurricane\" edited back into the film, more risque humor from Russell Brand, and a few additional verses on \"Waiting for a Girl/Boy Like You\". The cover and track listing of the soundtrack was confirmed by \"Entertainment Weekly\" on April 30, 2012. The soundtrack was released on June 5, 2012. It debuted at No. 15 on \"Billboard\" 200, and peaked at No. 5 on that chart in its third week. It also debuted at No. 1 on the Top Soundtracks chart. It sold 267,000 copies in the US in 2012,</s> <pad> <pad> <pad> <pad> <pad> <pad> <pad> <pad> <pad> <pad> <pad> <pad> <pad> <pad> <pad> <pad> <pad> <pad> <pad> <pad> <pad> <pad> <pad> <pad> <pad> <pad> <pad> <pad> <pad> <pad> <pad> <pad> <pad> <pad>\n",
      "====\n",
      "59\n",
      "question: who sang waiting for a girl like you title: The Troggs context: The band's success in the US was also limited by not touring there until 1968. They also had a number of other hits, including \"With a Girl Like You\" (a UK number 1 in July 1966, US number 29), \"I Can't Control Myself\" (a UK number 2 in September 1966; their first UK single release on the Page One label, POF 001; this was also their second and final dual-label release in the US, with Fontana retaining the rights to all subsequent releases), \"Anyway That You Want Me\" (UK number 10 in December 1966), all at Olympic Studios, \"Give It</s> <pad> <pad> <pad> <pad> <pad> <pad> <pad> <pad> <pad> <pad> <pad> <pad> <pad> <pad> <pad> <pad> <pad> <pad> <pad> <pad> <pad> <pad> <pad> <pad> <pad> <pad> <pad> <pad> <pad> <pad> <pad> <pad> <pad> <pad> <pad> <pad> <pad> <pad> <pad> <pad> <pad> <pad>\n",
      "====\n",
      "60\n",
      "question: who sang waiting for a girl like you title: Chantel Jeffries context: Chantel Jeffries Chantel Taleen Jeffries Shiring (born September 30, 1992) is an American DJ and model. She released her debut single, \"Wait\", on May 2, 2018, under Universal Music Group's label 10:22 pm. The song peaked at No. 10 on the \"Billboard\" Hot Dance/Electronic Songs chart. Jeffries was born on September 30, 1992, in Coronado, California. Her parents are Colonel Edward Jeffries and Kathleen Jeffries. She grew up with her younger brother in Jacksonville, North Carolina. Her father worked for a military training company and is a Marine Corps veteran. Her family was always on the road traveling from one</s> <pad> <pad> <pad> <pad> <pad> <pad> <pad> <pad> <pad> <pad> <pad> <pad> <pad> <pad> <pad> <pad> <pad> <pad> <pad> <pad> <pad> <pad> <pad> <pad> <pad> <pad> <pad> <pad> <pad> <pad> <pad> <pad> <pad> <pad> <pad>\n",
      "====\n",
      "61\n",
      "question: who sang waiting for a girl like you title: Lifted (Dallas Smith album) context: The album's second and third singles — \"Slow Rollin'\" and \"A Girl Like You\" — were later released in mid-2014 to moderate success on the Canadian Hot 100. The fourth single — \"Wastin' Gas\" — was released on October 28, 2014. It debuted at number 41 on the Canadian Hot 100, and sold 6,300 copies in its first week of release in the US. The single has received positive reviews, with Markos Papadatos of \"Digital Journal\" giving the song a 4.5 out of 5. It became Smith's first Canada Country leader in January 2015. \"Lifted\" and \"Cheap Seats\" were also</s> <pad> <pad> <pad> <pad> <pad> <pad> <pad> <pad> <pad> <pad> <pad> <pad> <pad> <pad> <pad> <pad> <pad> <pad> <pad> <pad> <pad> <pad>\n",
      "====\n",
      "62\n",
      "question: who sang waiting for a girl like you title: Work It (Missy Elliott song) context: ten weeks, a record that it shares with \"Waiting for a Girl Like You\" by Foreigner from 1981. Despite the song never topping the Hot 100 chart, the song topped the \"Billboard\" Hot R&B/Hip-Hop Songs chart for five weeks. On the \"Billboard\" magazine issue dated February 21, 2015, \"Work It\" re-entered at #35, more than a decade after its original chart run. This re-entry occurred as a result of Elliott's performance at the Super Bowl XLIX halftime show earlier in the month; Elliott's other single, \"Get Ur Freak On\" also re-entered the \"Billboard\" Hot 100 the same week. CD single</s> <pad> <pad> <pad> <pad>\n",
      "====\n",
      "63\n",
      "question: who sang waiting for a girl like you title: Ella Eyre context: Number 12 on the UK Chart. On 1 February 2017, Ella Eyre and Lewi Morgan, from the boyband Rixton, ended their 2-year relationship. Headlining: Supporting: Ella Eyre Ella McMahon (born 1 April 1994), known by her stage name Ella Eyre, is an English singer and songwriter. She is best known for her collaborations with Rudimental on their UK number one single \"Waiting All Night\" (2013), which won the 2014 Brit Award for British Single of the Year, with DJ Fresh on his single \"Gravity\" (2015), and with Sigala on their singles \"Came Here for Love\" (2017), and \"Just Got Paid\"</s> <pad> <pad> <pad> <pad> <pad> <pad> <pad> <pad> <pad> <pad> <pad> <pad> <pad> <pad> <pad> <pad> <pad> <pad> <pad> <pad>\n",
      "====\n",
      "64\n",
      "question: who sang waiting for a girl like you title: Bob Mayo context: his touring band. Because of this, he appeared on Frampton's album \"Frampton Comes Alive!\". It was on this recording that Frampton introduced Mayo with the words \"Bob Mayo on the keyboards... Bob Mayo.\" Mayo also appeared on the Frampton albums \"I'm in You\" and \"Where I Should Be\". In 1980, Mayo left Frampton's band to focus on recording. During this time, he recorded with Joe Walsh and Joe Vitale. Later he joined the touring band for Foreigner and played keyboards on \"Waiting for a Girl Like You\" and \"Break It Up\". He spent the next two years touring with Foreigner,</s> <pad> <pad> <pad> <pad> <pad> <pad> <pad> <pad> <pad> <pad> <pad> <pad> <pad> <pad> <pad> <pad> <pad> <pad> <pad> <pad>\n",
      "====\n",
      "65\n",
      "question: who sang waiting for a girl like you title: Edwyn Collins context: Edwyn Collins Edwyn Stephen Collins (born 23 August 1959) is a Scottish musician, producer and record label owner from Edinburgh, Scotland. Collins was the lead singer for the 1980s post-punk band Orange Juice, which he co-founded. Following the group's split in 1985, Collins started a solo career. His 1995 single \"A Girl Like You\" was a worldwide hit. In February 2005, Collins was hospitalized following two cerebral haemorrhages which resulted in aphasia, and he subsequently underwent a months-long rehabilitation period. Collins resumed his musical career in 2007. A documentary film on his recovery, titled \"The Possibilities Are Endless\", was released</s> <pad> <pad> <pad> <pad> <pad> <pad> <pad> <pad> <pad> <pad> <pad> <pad> <pad> <pad> <pad> <pad> <pad> <pad> <pad> <pad> <pad> <pad> <pad>\n",
      "====\n",
      "66\n",
      "question: who sang waiting for a girl like you title: Wait (Seven Mary Three song) context: Wait (Seven Mary Three song) \"Wait\" is a song by Seven Mary Three and the lead single from their fifth studio album, \"The Economy of Sound\", released on June 5, 2001. It also served as the English lead single to the \"Crazy/Beautiful\" film soundtrack released three weeks later (La Ley's \"Every Time/Siempre\" was its Spanish lead single). \"Wait\" has since become one of the band's most popular songs, having reached #7 on Billboard's Mainstream Rock Tracks. It also entered radio as the #1 Most Added record of the format in its first two weeks. Stylistically, \"Wait\" is a slight detour</s> <pad> <pad> <pad> <pad> <pad> <pad> <pad> <pad> <pad> <pad> <pad> <pad> <pad> <pad> <pad> <pad>\n",
      "====\n",
      "67\n",
      "question: who sang waiting for a girl like you title: Pot o' Gold (Glee) context: Reiter was \"blown away\", and Chaney gave it an \"A\" with the comment that Rory \"handled it with adorable aplomb\". Slezak and VanDerWerff, however, thought the number was somewhat sleep-inducing. Puck's rendition of \"Waiting for a Girl Like You\" was almost universally described as \"sweet\". Flandez went further, and wrote \"he oozes sweet and sexy, and you can’t help but feel good\", and Goldberg still further when she stated that it \"ends up being one of the episode’s—and season’s—sweetest moments thus far\". West praised the \"lovely little guitar solo\" and gave the song a \"B\"; Chaney</s>\n",
      "====\n",
      "68\n",
      "question: who sang waiting for a girl like you title: What You Waiting For? context: Waiting For?\" was released as the album's lead single; according to Stefani, as an \"explanation for doing the record\". The song was well received by critics, and was frequently cited as a highlight of the album. The single was commercially successful, topping the chart in Australia and reaching the top 10 in several countries. It was certified gold in the United States, and was nominated for Best Female Pop Vocal Performance at the 47th Grammy Awards. The song has been remixed a number of times, and was covered by the indie rock band Franz Ferdinand and singer Marina and the</s> <pad> <pad> <pad> <pad> <pad> <pad> <pad> <pad> <pad> <pad> <pad> <pad> <pad> <pad> <pad> <pad> <pad> <pad> <pad> <pad> <pad> <pad> <pad> <pad> <pad> <pad> <pad> <pad> <pad> <pad> <pad> <pad> <pad> <pad> <pad> <pad> <pad> <pad> <pad> <pad> <pad> <pad> <pad> <pad> <pad> <pad> <pad> <pad>\n",
      "====\n",
      "69\n",
      "question: who sang waiting for a girl like you title: I've Been Waiting for You (Neil Young song) context: 1968, just a few days before the release of the album version. It was later included on the live album \"Sugar Mountain – Live at Canterbury House 1968\", released in 2008. David Bowie, the Pixies (B-side of single \"Velouria\"), and Dinosaur Jr. (unreleased) have recorded renditions of the song. David Bowie recorded a version of the song, which features Dave Grohl on guitar, for \"Heathen\" (2002). It was released as a single in Canada and reached number 11 in the single charts. The song was performed during the Tin Machine tour, sung by Reeves Gabrels. One version appeared on the</s> <pad> <pad> <pad> <pad> <pad> <pad> <pad> <pad> <pad>\n",
      "====\n",
      "70\n",
      "question: who sang waiting for a girl like you title: Wait for Me/Song of Love context: Love\", she sings mainly in a concert setting. Wait for Me/Song of Love \"\"Wait for Me\" and \"Song of Love\" were two singles from Christian pop rock musician Rebecca St. James. \"Wait For Me\" is perhaps one of St. James' most famous songs, encouraging sexual abstinence until marriage, from the 2000 album \"Transform\" (No. 166 in the \"Billboard\" 200 albums). \"Song of Love\" is a track from her 2002 modern worship album \"Worship God\" (in the \"Billboard\" 200 albums for 11 weeks, peaking at No. 94). In keeping with her advocacy of premarital abstinence, \"Wait for Me\" became the title</s> <pad> <pad> <pad> <pad> <pad> <pad> <pad>\n",
      "====\n",
      "71\n",
      "question: who sang waiting for a girl like you title: Waiting for Love (Avicii song) context: Waiting for Love (Avicii song) \"Waiting for Love\" is a song by Swedish DJ and music producer Avicii, produced by Avicii and Dutch producer Martin Garrix and featuring uncredited vocals from Simon Aldred, the lead singer of former English band Cherry Ghost. The track was released on 22 May 2015 as the lead single from Avicii's second studio album, \"Stories\" (2015). The lyrics were also written by Aldred. The track was first premiered at Ultra Music Festival 2015 both by Avicii and Dutch electronic producer Martin Garrix. Prior to its release on May 22, 2015, it was thought that the</s> <pad> <pad> <pad> <pad> <pad> <pad> <pad> <pad> <pad> <pad> <pad> <pad> <pad> <pad> <pad> <pad> <pad> <pad> <pad> <pad> <pad> <pad> <pad> <pad>\n",
      "====\n",
      "72\n",
      "question: who sang waiting for a girl like you title: Wait (The Whisper Song) context: Wait (The Whisper Song) \"Wait (The Whisper Song)\" is a 2005 snap song released by Atlanta crunk rap duo Ying Yang Twins off their album \"U.S.A. (United State of Atlanta)\". The song consists of a minimal bass pulse, a few finger-snaps, and whispered, sexually explicit lyrics. The song's unique sound was mixed by Atlanta sound engineer Joel Mullis, who is currently affiliated with the production company 340 Music. \"Wait\" became a hit single, reaching No. 15 on the \"Billboard\" Hot 100. The song interprets a man whispering sexually explicit messages into a woman's ear, with her becoming sexually turned on.</s> <pad> <pad> <pad> <pad> <pad> <pad> <pad>\n",
      "====\n",
      "73\n",
      "question: who sang waiting for a girl like you title: Elliott Yamin context: and November 2012, Yamin was an integral part of the Big Blue Test campaign organized by Diabetes Hands Foundation, to raise awareness of the importance of exercise and help people with diabetes in need. Elliott Yamin Efraym Elliott Yamin (born July 20, 1978) is an American singer known for his hit single \"Wait for You\" and for placing third on the fifth season of \"American Idol\". His self-titled album, released March 20, 2007, debuted at number one on the \"Billboard\" Independent Albums chart and at number three on the \"Billboard\" 200. The album was certified gold in the United States</s> <pad> <pad> <pad> <pad> <pad> <pad> <pad> <pad> <pad> <pad> <pad> <pad> <pad> <pad> <pad> <pad> <pad> <pad> <pad> <pad> <pad> <pad> <pad> <pad> <pad> <pad> <pad> <pad> <pad> <pad> <pad> <pad> <pad> <pad> <pad> <pad> <pad> <pad> <pad> <pad> <pad> <pad> <pad> <pad> <pad> <pad>\n",
      "====\n",
      "74\n",
      "question: who sang waiting for a girl like you title: Waiting to See You context: Waiting to See You \"Waiting to See You\" is a song by American musician-singer-songwriter Dan Hartman, released as a single in 1986 from the original motion picture soundtrack for the film \"Ruthless People\". It was written by Hartman and Charlie Midnight, and was produced solely by Hartman. The single failed to make an impact in the UK, however in the Netherlands the single peaked at #34 and lasted on the chart for a total of three weeks. It debuted at #34, before dropping to #35 and #48 respectively. Originally the song was also due to appear as the opening track</s> <pad> <pad> <pad> <pad> <pad> <pad> <pad> <pad> <pad> <pad> <pad> <pad> <pad> <pad> <pad> <pad> <pad> <pad> <pad> <pad> <pad> <pad> <pad> <pad> <pad> <pad> <pad> <pad> <pad> <pad> <pad> <pad> <pad> <pad> <pad> <pad> <pad> <pad> <pad> <pad> <pad> <pad>\n",
      "====\n",
      "75\n",
      "question: who sang waiting for a girl like you title: Red Pill Blues context: SZA, ASAP Rocky and LunchMoney Lewis. \"Red Pill Blues\" received mixed reviews from critics, and peaked at number two on the US \"Billboard\" 200. The album includes the singles \"What Lovers Do\", \"Wait\", and \"Girls Like You\". \"What Lovers Do\" peaked within the top ten in twenty-five countries including Australia, Canada and the United States. The album's second single, \"Wait\", received moderate success as it peaked at number twenty-four in the United States, thirty-five on the Canadian Hot 100, and seventy-nine in the UK Singles. The third single from the album, \"Girls Like You\", was released in a new version</s> <pad> <pad> <pad> <pad> <pad> <pad> <pad> <pad> <pad> <pad>\n",
      "====\n",
      "76\n",
      "question: who sang waiting for a girl like you title: Edwyn Collins context: drawings that Collins started working on in 2005. On 30 September 2010 Collins and his band broadcast three live songs from the Royal Beacon Hotel in Exmouth for BBC Radio 2's \"Radcliffe and Maconie Show\". (Stuart Maconie is a former music journalist and his first \"NME\" article was a review of Collins's 1987 gig at the Manchester International.) On 30 July 2011 Collins performed at the Indietracks festival that was held at the Midland Railway, Butterley, UK. During the 2012 Kendal Calling event Collins sang \"A Girl Like You\", with Roddy Frame on guitar and Tim Burgess on backing vocals.</s> <pad> <pad> <pad> <pad> <pad> <pad> <pad> <pad> <pad> <pad> <pad> <pad> <pad> <pad> <pad> <pad> <pad> <pad> <pad> <pad> <pad> <pad> <pad> <pad> <pad> <pad> <pad> <pad> <pad> <pad> <pad> <pad> <pad>\n",
      "====\n",
      "77\n",
      "question: who sang waiting for a girl like you title: A Woman Like You (Lee Brice song) context: A Woman Like You (Lee Brice song) \"A Woman Like You\" is a song recorded by American country music artist Lee Brice. It was released in October 2011 as the first single from Brice's album \"Hard 2 Love\". The song was written by Jon Stone, Phil Barton and Johnny Bulford. The song is about the singer being questioned by his wife about what he would've done with his life had he not fell in love with her. The song received generally positive reviews from critics for its heart-warming lyrics and Lee's affable delivery. \"A Woman Like You\" would give Brice</s> <pad> <pad> <pad> <pad> <pad> <pad> <pad> <pad> <pad> <pad> <pad> <pad> <pad> <pad> <pad> <pad> <pad> <pad> <pad> <pad> <pad> <pad> <pad> <pad> <pad> <pad> <pad> <pad> <pad> <pad> <pad> <pad> <pad> <pad> <pad>\n",
      "====\n",
      "78\n",
      "question: who sang waiting for a girl like you title: The Wolfgang Press context: The Wolfgang Press The Wolfgang Press was an English post-punk band, active from 1983 to 1995, recording for the 4AD label. The core of the band was Michael Allen (vocals, bass), Mark Cox (keyboards), and Andrew Gray (guitar). The group is best known for its 1992 international hit single \"A Girl Like You (Born To Be Kissed)\". The official 4AD band profile describes them as \"post-punk\", transforming to \"avant-dance groovers\" with \"Queer\". The band was frequently labeled \"goth,\" though they denied the charge. Allen's list of \"important records\" as of 1995 included De La Soul's \"3 Feet High and Rising\",</s> <pad> <pad> <pad> <pad> <pad> <pad> <pad> <pad> <pad> <pad> <pad> <pad> <pad> <pad> <pad> <pad> <pad> <pad> <pad> <pad> <pad>\n",
      "====\n",
      "79\n",
      "question: who sang waiting for a girl like you title: Girl Like You (Jason Aldean song) context: Girl Like You (Jason Aldean song) \"Girl Like You\" is a song written by Jaron Boyer, Josh Mirenda, and Michael Tyler, and recorded by American country music singer Jason Aldean. It is the third single from Aldean's 2018 album \"Rearview Town\". Billy Dukes of \"Taste of Country\" described the song as a \"mid-tempo love song\" and a \"beat-driven slice of sultry country and hip-hop love.\" He also compared its hip-hop and R&B influences to \"Burnin' It Down\". \"One Country\" writer Annie Reuter also found R&B influences in Aldean's performance, saying that it was a \"blend of rock and R</s>\n",
      "====\n",
      "80\n",
      "question: who sang waiting for a girl like you title: Maroon 5 context: the single \"Girls Like You\" peaking at number one on the \"Billboard\" Hot 100, becoming the band's fourth number one single. Maroon 5 has sold more than 70 million singles and 20 million albums, making them one of the world's best-selling music artists. Adam Levine was introduced to Ryan Dusick by a mutual friend and guitarist, Adam Salzman. Levine was 15 years old and Dusick was 16. Three of the five members of the band started playing together at age 12. The four original members of the band met while attending Brentwood School in Los Angeles. While attending Brentwood School,</s> <pad> <pad> <pad> <pad> <pad> <pad> <pad> <pad> <pad> <pad> <pad> <pad> <pad> <pad> <pad> <pad> <pad> <pad> <pad> <pad> <pad> <pad> <pad> <pad> <pad> <pad> <pad> <pad> <pad> <pad> <pad> <pad> <pad> <pad> <pad> <pad> <pad> <pad> <pad> <pad> <pad> <pad>\n",
      "====\n",
      "81\n",
      "question: who sang waiting for a girl like you title: Wait for Me/Song of Love context: Wait for Me/Song of Love \"\"Wait for Me\" and \"Song of Love\" were two singles from Christian pop rock musician Rebecca St. James. \"Wait For Me\" is perhaps one of St. James' most famous songs, encouraging sexual abstinence until marriage, from the 2000 album \"Transform\" (No. 166 in the \"Billboard\" 200 albums). \"Song of Love\" is a track from her 2002 modern worship album \"Worship God\" (in the \"Billboard\" 200 albums for 11 weeks, peaking at No. 94). In keeping with her advocacy of premarital abstinence, \"Wait for Me\" became the title of St. James' 2000 concert tour of 46</s> <pad> <pad> <pad> <pad> <pad> <pad> <pad> <pad> <pad> <pad>\n",
      "====\n",
      "82\n",
      "question: who sang waiting for a girl like you title: Seasons (Waiting on You) context: Seasons (Waiting on You) \"Seasons (Waiting on You)\" is a song by American synthpop band Future Islands. It is the opening track on their fourth studio album \"Singles\", and was released as the album's lead single on February 4, 2014. The song received much critical acclaim, topping \"The Village Voice\"s annual year-end Pazz & Jop critics' poll and also being named the best track of 2014 by publications such as \"NME\", Pitchfork Media, and Spin. The band's performance of the song on \"Late Show with David Letterman\" became an internet hit due to frontman Samuel T. Herring's visual and vocal</s> <pad> <pad> <pad> <pad> <pad> <pad> <pad> <pad> <pad> <pad> <pad> <pad> <pad> <pad> <pad> <pad>\n",
      "====\n",
      "83\n",
      "question: who sang waiting for a girl like you title: The Smithereens context: on the \"Billboard\" pop charts was in 1990, when \"11\" peaked at No. 41 on the strength of the single \"A Girl Like You\" (which hit No. 38). \"A Girl Like You\" was originally written to be the title track for the 1989 Cameron Crowe film \"Say Anything...\". The basic tracks for their most recent studio album of original material, titled \"2011\", were recorded in early October 2010 and the album was released on April 5, 2011. The Smithereens were the final band to perform at the fabled Bleecker Street nightclub Kenny's Castaways in Greenwich Village, New York City, in</s> <pad> <pad> <pad> <pad> <pad> <pad> <pad> <pad> <pad> <pad> <pad> <pad> <pad> <pad> <pad> <pad> <pad> <pad> <pad> <pad> <pad> <pad> <pad> <pad> <pad> <pad> <pad> <pad> <pad> <pad> <pad> <pad>\n",
      "====\n",
      "84\n",
      "question: who sang waiting for a girl like you title: A Girl Like You (Edwyn Collins song) context: A Girl Like You (Edwyn Collins song) \"A Girl Like You\" is a song by Scottish singer-songwriter Edwyn Collins from his third solo studio album, \"Gorgeous George\" (1994). The song samples the drums track of Len Barry's single \"1-2-3\" (1965). There are two different music videos for this song. The video in the United States was an avant-garde tribute to its lyrics (e.g. when Collins sings the lyrics \"you made me acknowledge the devil in me\", a child's painting of the devil overlays his face). The international video shows Collins singing over videos and silhouettes of dancers. The Sex Pistols</s> <pad> <pad> <pad> <pad> <pad> <pad> <pad> <pad> <pad> <pad> <pad> <pad> <pad> <pad> <pad> <pad> <pad> <pad> <pad>\n",
      "====\n",
      "85\n",
      "question: who sang waiting for a girl like you title: The Uptown Band context: needs more bands like this.\" Songs from \"Waiting for Her\" have been very favorably received by AM/FM and Internet radio stations throughout the world including airplay on Pandora, DMX Radio, and other Smooth/Groove Jazz formatted stations. The band's debut single \"You Treated Me Good\" was the #1 Most-Added track in the country on the Groove Jazz Radio Chart for August 2, 2010 with 6 Adds beating out Chart regulars Incognito and Brian Culbertson. It has also been included in the Most-Added Chart on SmoothJazz.com. The title track from \"Waiting for Her\" is included on US Smooth Jazz's first compilation CD</s> <pad> <pad> <pad> <pad> <pad> <pad> <pad> <pad> <pad> <pad> <pad> <pad> <pad> <pad> <pad> <pad> <pad> <pad> <pad> <pad> <pad> <pad> <pad> <pad> <pad> <pad>\n",
      "====\n",
      "86\n",
      "question: who sang waiting for a girl like you title: Blonde on Blonde context: It was one of the first double albums in rock music. The album peaked at number nine on the \"Billboard\" 200 chart in the US, where it eventually was certified double platinum, and it reached number three in the UK. \"Blonde on Blonde\" spawned two singles that were top-twenty hits in the US: \"Rainy Day Women #12 & 35\" and \"I Want You\". Two additional songs—\"Just Like a Woman\" and \"Visions of Johanna\"—have been named as among Dylan's greatest compositions and were featured in \"Rolling Stone\"s 500 Greatest Songs of All Time list. After the release of \"Highway 61 Revisited\"</s> <pad> <pad> <pad> <pad> <pad> <pad> <pad> <pad> <pad> <pad> <pad> <pad> <pad> <pad> <pad> <pad>\n",
      "====\n",
      "87\n",
      "question: who sang waiting for a girl like you title: We Wait and We Wonder context: had achieved. It enjoyed similar success to the previous singles from the album, reaching #45 on the U.K. Charts, but failing to chart in the U.S. \"Billboard\" Hot 100. It was to be Collins' last single before the lead single of his next album \"Dance into the Light\" in 1996. The B-side varied. It was either \"Take Me with You\", \"For a Friend\", \"Hero\" Or Stevies Blues (\"There's a Place for Us\" Instrumental). \"Hero\" itself originally appeared on David Crosby's album \"Thousand Roads\", with Phil singing backing vocals. The version from the \"We Wait and We Wonder\" single is a</s> <pad> <pad> <pad> <pad> <pad> <pad> <pad> <pad> <pad> <pad> <pad> <pad> <pad> <pad> <pad> <pad> <pad> <pad>\n",
      "====\n",
      "88\n",
      "question: who sang waiting for a girl like you title: Wait for Me (Rebecca St. James song) context: Wait for Me (Rebecca St. James song) \"Wait for Me\" is a song by contemporary Christian musician Rebecca St. James. It is one of St. James' most well-known songs, encouraging sexual abstinence until marriage. \"Wait for You\" peaked in the top two on Radio & Records CHR Top 30 chart in September 2001. \"Wait For Me\" was nominated for Song of the Year at the 2002 Dove Awards. This song also appears on the \"WOW Hits 2002\" compilation album. A music video for the song was made and shows Rebecca writing a letter to her future husband. It also shows</s> <pad> <pad> <pad> <pad> <pad> <pad> <pad> <pad> <pad> <pad> <pad> <pad> <pad> <pad> <pad> <pad> <pad> <pad> <pad> <pad> <pad> <pad> <pad> <pad> <pad> <pad> <pad> <pad>\n",
      "====\n",
      "89\n",
      "question: who sang waiting for a girl like you title: Janice Gaines context: Janice Gaines Janice Patrice Gaines (\"née\": Reddick; born May 22, 1981), is a Stellar Award and GMA Dove Award-nominated American urban contemporary gospel singer and songwriter. Her debut singles, \"Wait On You\" and \"The Break-Up Song,\" were released as an extended play album on April 14, 2015. Her debut album, \"Greatest Life Ever,\" released on Motown Gospel, was produced by GRAMMY Award-winning producer LaShawn Daniels. and debuted in the Top 10 on the \"Billboard\" Top Gospel Albums chart. Gaines was born, Janice Patrice Reddick, in St. Louis, Missouri, on May 22, 1981, but raised in Memphis, Tennessee. She grew up</s> <pad> <pad> <pad> <pad> <pad> <pad> <pad>\n",
      "====\n",
      "90\n",
      "question: who sang waiting for a girl like you title: Greyson Chance context: Greyson Chance Greyson Michael Chance (born August 16, 1997) is an American singer, songwriter, and pianist. His April 2010 performance of Lady Gaga's \"Paparazzi\" at a sixth-grade music festival went viral on YouTube, gaining widespread attention and over 60 million views as of December 2017, as well as an appearance on \"The Ellen DeGeneres Show\" shortly afterward. Two of his original compositions, \"Stars\" and \"Broken Hearts\", gained over six and eight million views respectively on his YouTube channel. His debut single, \"Waiting Outside the Lines\", was released in October 2010. Chance's debut album, \"Hold On 'Til the Night,\" was released</s> <pad> <pad> <pad> <pad> <pad> <pad> <pad> <pad> <pad> <pad> <pad> <pad> <pad> <pad> <pad> <pad> <pad> <pad> <pad> <pad> <pad> <pad> <pad> <pad> <pad> <pad> <pad>\n",
      "====\n",
      "91\n",
      "question: who sang waiting for a girl like you title: A Woman Like You (Lee Brice song) context: would do if he had never fallen in love with her. He lists several hobbies and pastimes but says that, if he had not fallen in love, he would be \"lookin' for a woman like you.\" The song is in cut time and the key of G major, with a major chord pattern of G-Em-C-Am-D. Billy Dukes of \"Taste of Country\" gave the song four and a half stars out of five, saying that \"the simple and reserved attitude Brice approaches the song with is a good reflection of the love story he describes.\" Allen Jacobs of \"Roughstock\" gave the</s> <pad> <pad> <pad> <pad> <pad> <pad> <pad> <pad> <pad> <pad> <pad> <pad> <pad> <pad> <pad> <pad> <pad> <pad> <pad> <pad> <pad> <pad> <pad> <pad> <pad> <pad> <pad> <pad> <pad> <pad>\n",
      "====\n",
      "92\n",
      "question: who sang waiting for a girl like you title: I Don't Wanna Know context: number 2 by a song which did not go to number 1, behind Foreigner's \"Waiting for a Girl Like You\", Missy Elliott's \"Work It\", Donna Lewis's \"I Love You Always Forever\" and Shania Twain's \"You're Still the One\". The song is based on a sample of the Fugees' 1996 hit single \"Ready or Not\", which itself was based on a slowed-down sample of the instrumental track \"Boadicea\" by Enya from her 1987 album \"Enya.\" Winans said: \"I first heard 'Boadicea' at the end of the movie Sleepwalkers about five or six years ago. It's something I always wanted to produce.</s> <pad>\n",
      "====\n",
      "93\n",
      "question: who sang waiting for a girl like you title: Elliott Yamin context: Elliott Yamin Efraym Elliott Yamin (born July 20, 1978) is an American singer known for his hit single \"Wait for You\" and for placing third on the fifth season of \"American Idol\". His self-titled album, released March 20, 2007, debuted at number one on the \"Billboard\" Independent Albums chart and at number three on the \"Billboard\" 200. The album was certified gold in the United States in October 2007. Retitled \"Wait for You\", the album was released in Japan in May 2008 and certified gold in that country in September 2008. Yamin also released two Christmas collections: \"Sounds of the</s> <pad> <pad> <pad> <pad> <pad> <pad> <pad> <pad> <pad> <pad> <pad> <pad> <pad> <pad> <pad> <pad> <pad> <pad> <pad> <pad> <pad> <pad> <pad> <pad> <pad> <pad> <pad> <pad> <pad> <pad> <pad> <pad> <pad> <pad> <pad> <pad> <pad> <pad> <pad> <pad> <pad>\n",
      "====\n",
      "94\n",
      "question: who sang waiting for a girl like you title: Lead Me Not context: Lead Me Not Lead Me Not is the debut album of American country music artist Lari White. It was issued in 1993 on the Nashville division of RCA Records. White produced the album along with Rodney Crowell and Eagles guitarist Steuart Smith. In addition, she wrote or co-wrote eight of the album's ten tracks. The album's three singles — \"What a Woman Wants\", the title track, and \"Lay Around and Love on You\" — all charted on the \"Billboard\" Hot Country Singles & Tracks (now Hot Country Songs) charts, although all three failed to make Top 40. The album itself</s> <pad> <pad> <pad> <pad> <pad> <pad> <pad> <pad> <pad> <pad> <pad> <pad> <pad> <pad> <pad> <pad> <pad> <pad> <pad> <pad> <pad> <pad> <pad> <pad> <pad> <pad> <pad> <pad> <pad> <pad> <pad> <pad> <pad> <pad> <pad> <pad> <pad>\n",
      "====\n",
      "95\n",
      "question: who sang waiting for a girl like you title: Urgent (song) context: the \"Urgent\" single. The album has since been certified multi-platinum by the RIAA, for selling over six million copies in the U.S. alone. The song was Foreigner's second-best-selling single (after \"I Want to Know What Love Is\") in both Canada and Sweden, reaching #1 in Canada in September 1981 and #20 in Sweden in March 1982. In Australia, \"Urgent\" peaked at #24 in August 1981. In the UK, the song reached only #54 upon its first release in 1981. In 1982, after \"Waiting for a Girl Like You\" went Top Ten there, \"Urgent\" was re-released, this time reaching only slightly</s> <pad> <pad> <pad> <pad> <pad> <pad> <pad> <pad> <pad> <pad> <pad> <pad> <pad> <pad> <pad> <pad> <pad> <pad> <pad> <pad>\n",
      "====\n",
      "96\n",
      "question: who sang waiting for a girl like you title: Girls Like You context: in the key of C major with a tempo of 125 beats per minute. It moves in common time, with Levine's vocals spanning from G to A. \"Girls Like You\" debuted at number 94 on the US \"Billboard\" Hot 100, and ascended to number four following its first full week of tracking after the music video's arrival. The single made the fourth-biggest jump (90 positions) in the Hot 100's history, and became Maroon 5's 14th and Cardi B's sixth top-ten single overall. After spending six weeks at number two behind Drake's \"In My Feelings\", \"Girls Like You\" reached number one</s> <pad> <pad> <pad> <pad> <pad> <pad> <pad> <pad> <pad> <pad> <pad> <pad> <pad> <pad> <pad> <pad> <pad> <pad> <pad>\n",
      "====\n",
      "97\n",
      "question: who sang waiting for a girl like you title: Need You Now (Lady Antebellum album) context: their highest peaking single on the Hot 100 and pop charts. As of January 5, 2013, it has been certified 6<unk> Platinum by the RIAA. The song was used in the first episode of the TV show \"Hellcats\". \"American Honey\", the second single, debuted at number 47 on the Hot Country Songs chart for the week of January 2, 2010, before its initial release date of January 11, 2010. In April 2010, the song became their third consecutive number one single, as well as third top 30 single on the \"Billboard\" Hot 100. In the United Kingdom and Europe (except</s> <pad> <pad> <pad> <pad> <pad> <pad> <pad> <pad> <pad> <pad> <pad> <pad> <pad> <pad> <pad> <pad> <pad> <pad> <pad> <pad> <pad> <pad> <pad> <pad> <pad> <pad> <pad> <pad> <pad> <pad> <pad> <pad> <pad> <pad> <pad> <pad> <pad> <pad> <pad> <pad> <pad> <pad> <pad> <pad> <pad> <pad> <pad> <pad> <pad>\n",
      "====\n",
      "98\n",
      "question: who sang waiting for a girl like you title: A Girl Like You (The Smithereens song) context: A Girl Like You (The Smithereens song) \"A Girl Like You\" is a song by the American alternative rock group The Smithereens. It is the first single released in support of their third album \"11\". The song was to be used in the film Say Anything..., but it was ultimately cut from the film because the producers believed the song revealed too much of the story. Pat DiNizio stated that he wrote the lyrics with having a separate meaning from the movie in mind. On May 18, 2010, the song was made available as a downloadable song in the Rock</s> <pad> <pad> <pad> <pad> <pad> <pad> <pad> <pad> <pad> <pad> <pad> <pad> <pad> <pad> <pad> <pad> <pad> <pad> <pad> <pad> <pad> <pad> <pad> <pad> <pad> <pad> <pad> <pad> <pad> <pad> <pad> <pad> <pad> <pad> <pad> <pad> <pad> <pad> <pad> <pad> <pad> <pad> <pad> <pad>\n",
      "====\n",
      "99\n",
      "question: who sang waiting for a girl like you title: Gyan (album) context: Gyan (album) Gyan is the debut album by Australian singer-songwriter Gyan that was released by Warner music in 1989. The album is currently out of print; but is available to purchase via Gyan's website or iTunes. The album was produced by Charles Fisher. Three singles were released from the album; the smash hit \"Wait\" about a lonely girl waiting for her first true love; \"It's Alright\" about emancipation from one's parents and the final single \"Black Wedding Ring\" which closes the album. The first two singles contained rare non-album tracks as b-sides (\"Love in Question\" and \"Don't Touch\"). \"Wait\" was</s> <pad> <pad> <pad> <pad> <pad> <pad> <pad> <pad> <pad> <pad> <pad> <pad> <pad> <pad> <pad> <pad> <pad> <pad> <pad> <pad> <pad> <pad> <pad>\n",
      "\n",
      "\n",
      "generated answer:\n",
      "tensor([[    0, 11957,    49,     1]], device='cuda:0')\n",
      "Foreigner\n",
      "\n",
      "\n",
      "ground truth answer:\n",
      "Foreigner\n",
      "\n",
      "log_prob\n",
      "0.0\n",
      "\n",
      "rouge score\n",
      "1.0\n"
     ]
    }
   ],
   "source": [
    "for i, batch in enumerate(dataloader_nq):\n",
    "    (idx, labels, k, context_ids, context_mask) = batch\n",
    "    \n",
    "    if i == cherry_picked_example:\n",
    "        \n",
    "        print(idx)\n",
    "        print(k)\n",
    "        print(context_ids.shape)\n",
    "        \n",
    "        for j in range(context_ids.shape[1]):\n",
    "\n",
    "            print(\"====\")\n",
    "            print(j)\n",
    "            context = tokenizer.decode(context_ids[0][j])\n",
    "            print(context)\n",
    "            \n",
    "            \n",
    "        print(\"\")\n",
    "        print(\"\")\n",
    "        print(\"generated answer:\")\n",
    "        # generated_output = model.generate(\n",
    "        #         input_ids=context_ids.cuda(),\n",
    "        #         attention_mask=context_mask.cuda(),\n",
    "        #         max_length=50\n",
    "        #     ).cpu()\n",
    "        \n",
    "        generated_output, log_prob = model.generate(\n",
    "                input_ids=context_ids.cuda(),\n",
    "                attention_mask=context_mask.cuda(),\n",
    "                do_sample=True,\n",
    "                max_length=150,\n",
    "                top_p=0.9,\n",
    "                temperature=1.0,\n",
    "                output_confidence=True,\n",
    "                \n",
    "            )\n",
    "        \n",
    "        print(generated_output)\n",
    "        \n",
    "        # generated_output = generated_output.cpu()\n",
    "        \n",
    "        # print(generated_output.sequences)\n",
    "        # print(generated_output.scores)\n",
    "        \n",
    "        # print(generated_output)\n",
    "        # print(len(generated_output[0]))\n",
    "        \n",
    "        human_readable_generated_output = tokenizer.decode(generated_output[0], skip_special_tokens=True)\n",
    "        print(human_readable_generated_output)\n",
    "        \n",
    "        print(\"\")\n",
    "        print(\"\")\n",
    "        print(\"ground truth answer:\")\n",
    "        ground_truth_answer = tokenizer.decode(labels[0], skip_special_tokens=True)\n",
    "        print(ground_truth_answer)\n",
    "        \n",
    "        print(\"\")\n",
    "        print(\"log_prob\")\n",
    "        print(log_prob)\n",
    "        \n",
    "        print(\"\")\n",
    "        print(\"rouge score\")\n",
    "        rouge_score = scorer.score(ground_truth_answer, human_readable_generated_output)['rougeL'].fmeasure\n",
    "        print(rouge_score)\n",
    "        break\n",
    "    \n",
    "        \n"
   ]
  },
  {
   "cell_type": "code",
   "execution_count": null,
   "id": "ab05c654-5b06-48bf-a17e-d8958efcf1fc",
   "metadata": {},
   "outputs": [],
   "source": []
  },
  {
   "cell_type": "markdown",
   "id": "664f7ee5-85d2-4281-9061-349867efbb45",
   "metadata": {
    "tags": []
   },
   "source": [
    "## compute g_{q,p} / max-pool attention matrices"
   ]
  },
  {
   "cell_type": "code",
   "execution_count": null,
   "id": "48b1cbbc-2aef-4b8f-bcfb-a6c0321f76da",
   "metadata": {},
   "outputs": [],
   "source": []
  },
  {
   "cell_type": "markdown",
   "id": "045bcb00-f38a-47cb-9f3b-a2037a811c83",
   "metadata": {
    "jp-MarkdownHeadingCollapsed": true,
    "tags": []
   },
   "source": [
    "### Compute a potential score"
   ]
  },
  {
   "cell_type": "code",
   "execution_count": 19,
   "id": "c8a963c6-6d8b-4fce-9e60-63613a40cc01",
   "metadata": {},
   "outputs": [],
   "source": [
    "def subfinder(mylist, pattern):\n",
    "    matches = []\n",
    "    for i in range(len(mylist)):\n",
    "        if mylist[i] == pattern[0] and mylist[i:i+len(pattern)] == pattern:\n",
    "            matches.append((i + len(pattern), pattern))\n",
    "    return matches"
   ]
  },
  {
   "cell_type": "code",
   "execution_count": 20,
   "id": "b5091ea8-eebf-43b4-ac94-7876a23db6db",
   "metadata": {},
   "outputs": [],
   "source": [
    "with open(\"../numpy_drops/rouge_similarity_answers_dev\", \"rb\") as f:\n",
    "    rouge_matches = pickle.load(f)\n"
   ]
  },
  {
   "cell_type": "code",
   "execution_count": 22,
   "id": "25e0cb6d-5a8a-4852-a7c3-a76c9b704620",
   "metadata": {},
   "outputs": [],
   "source": [
    "high_rouge_similarities = [el for el in rouge_matches if el[2] >= 0.9]\n",
    "high_rouge_similarity_indices = [el[3] for el in high_rouge_similarities]"
   ]
  },
  {
   "cell_type": "code",
   "execution_count": 24,
   "id": "9d0dae91-ac60-42c2-8d18-77601950c99e",
   "metadata": {
    "collapsed": true,
    "jupyter": {
     "outputs_hidden": true
    },
    "tags": []
   },
   "outputs": [
    {
     "data": {
      "text/plain": [
       "[('An arbitration agreement that gives one party the sole power to select the arbitrator is substantively unconscionable.',\n",
       "  'An arbitration agreement that gives one party the sole power to select the arbitrator is substantively unconscionable.',\n",
       "  1.0,\n",
       "  2),\n",
       " ('A defendant who obtains a dismissal can be considered the prevailing party.\\xa0',\n",
       "  'A defendant who obtains a dismissal can be considered the prevailing party.',\n",
       "  1.0,\n",
       "  19),\n",
       " ('If a contract provides for attorney fees, that provision is construed to apply to the entire contract, unless each party was represented by counsel in the negotiation and execution of the contract, and the fact of that representation is specified in the contract.',\n",
       "  'If a contract provides for attorney fees, it is assumed that the provision applies to the entire contract, unless each party was represented by counsel in the negotiation and execution of the contract and the fact of that representation is specified in the contract.',\n",
       "  0.9195402298850575,\n",
       "  20),\n",
       " ('In an epidemiological study, there should be a sufficiently large number of subjects, so that a small change in the number of people with the disease does not appreciably affect the results of the study.',\n",
       "  'An epidemiological study should have a sufficiently large number of subjects so that a small change in the number of people with the disease does not appreciably affect the results of the study.',\n",
       "  0.9411764705882354,\n",
       "  22),\n",
       " ('The rule that a loss of consortium claim fails if the allegedly tortious conduct occurred before the marriage applies even if the resulting injuries were first discovered during the marriage.',\n",
       "  'The rule that a loss of consortium claim fails if the allegedly tortious conduct occurred before the marriage does not apply if the resulting injuries were first discovered during the marriage.',\n",
       "  0.9508196721311476,\n",
       "  32),\n",
       " ('Pre-judgment interest is available in Title VII cases as part of the back pay remedy.',\n",
       "  'Pre-judgment interest is available in Title VII cases as part of the back pay remedy.',\n",
       "  1.0,\n",
       "  35),\n",
       " (\"A case may not be removed to federal court under § 1331 on the basis of a federal defense, including the defense of preemption, even if the defense is anticipated in the plaintiff's complaint, and even if both parties admit that the defense is the only question truly at issue.\",\n",
       "  'A case may not be removed to federal court under  1331 on the basis of a federal defense, including the defense of preemption, even if the defense is anticipated in the plaintiff’s complaint and even if both parties admit that the defense is the only real question at issue in the case.',\n",
       "  0.9514563106796116,\n",
       "  44),\n",
       " ('When taking an oral deposition, a party can choose whether to adjourn the examination before moving for an order, or move for such an order after the completion of the deposition.',\n",
       "  'When taking an oral deposition, a party can choose to adjourn the examination before moving for an order, or move for such an order after the completion of the deposition.',\n",
       "  0.9836065573770492,\n",
       "  48),\n",
       " ('The court has discretion to limit the scope of discovery in class actions as necessary to prevent undue burden and expense.',\n",
       "  'The court has discretion to limit the scope of discovery as necessary to prevent undue burden and expense.',\n",
       "  0.923076923076923,\n",
       "  52),\n",
       " ('The activities of independent distributors or dealers do not constitute a place of business that is \"regular and established.\"',\n",
       "  'The activities of independent distributors or dealers do not constitute a place of business that is \"regular and established.\"',\n",
       "  1.0,\n",
       "  71),\n",
       " (\"When the defendant's allegedly extreme and outrageous conduct was directed towards someone other than the plaintiff, the plaintiff must also establish that they are a member of the victim's immediate family and that they were present at the time of the tortious conduct.\\xa0\",\n",
       "  \"When the defendant's allegedly extreme and outrageous conduct was directed towards someone other than the plaintiff, the plaintiff must also establish that they were a member of the victim's immediate family and that they were present at the time of the tortious conduct.\",\n",
       "  0.9777777777777777,\n",
       "  75),\n",
       " ('The existence of a common policy or practice that was allegedly unlawful is not dispositive of whether common questions predominate.',\n",
       "  'The existence of a common policy or practice that was allegedly unlawful is not dispositive of whether common questions predominate.',\n",
       "  1.0,\n",
       "  86),\n",
       " (\"The discovery rule allows for the accrual of a cause of action even if the plaintiff does not have reason to suspect the defendant's identity.\",\n",
       "  \"The discovery rule allows for accrual of the cause of action even if the plaintiff does not have reason to suspect the defendant's identity.\",\n",
       "  0.9411764705882353,\n",
       "  94),\n",
       " ('A court may grant a preliminary injunction based on a complaint which may be subject to general or special demurrer.',\n",
       "  'A court may grant a preliminary injunction based on a complaint which may be subject to general or special demurrer.',\n",
       "  1.0,\n",
       "  96),\n",
       " (\"Code of Civil Procedure § 527.6 is intended to protect the individual's right to pursue safety, happiness and privacy as guaranteed by the California Constitution.\",\n",
       "  \"Code of Civil Procedure  527.6 is intended to protect the individual's right to pursue safety, happiness, and privacy as guaranteed by the California Constitution.\",\n",
       "  1.0,\n",
       "  100),\n",
       " ('The anti-SLAPP statute applies to statements to persons who are not parties or potential parties to litigation, provided those statements are made \"in connection with\" pending or anticipated litigation.',\n",
       "  'The anti-SLAPP statute applies to statements made by persons who are not parties or potential parties to litigation, provided such statements are made in connection with pending or anticipated litigation.',\n",
       "  0.9180327868852459,\n",
       "  101),\n",
       " (\"In general, actions taken by the FDA after the plaintiff's injury are not relevant because the manufacturer of the drug or medical device only has a duty to warn of information that was known or scientifically knowable at the time that the product was used.\",\n",
       "  \"In general, actions taken by the FDA after the plaintiff's injury are not relevant because the manufacturer of the drug or medical device only has a duty to warn of information that was known or scientifically knowable at the time that the product was used.\",\n",
       "  1.0,\n",
       "  102),\n",
       " ('A physical examination must not include any diagnostic test or procedure that is painful, protracted, or intrusive.',\n",
       "  'The physical examination must not include any diagnostic test or procedure that is painful, protracted, or intrusive.',\n",
       "  0.9411764705882353,\n",
       "  105),\n",
       " ('Speculation about the existence of class members is insufficient to satisfy the numerosity requirement.',\n",
       "  'Speculation about the existence of class members is insufficient to satisfy the numerosity requirement.',\n",
       "  1.0,\n",
       "  109),\n",
       " ('If an attorney brings an action to recover fees owed by the client in a prior action, attorney fees may be awarded as an element of damages.\\xa0',\n",
       "  'If an attorney brings an action to recover fees owed by the client in a prior action, attorney fees may be awarded as an element of damages.',\n",
       "  1.0,\n",
       "  118),\n",
       " ('When an obligation or liability arises on a recurring basis, a cause of action accrues each time a wrongful act occurs, triggering a new limitations period.',\n",
       "  'When an obligation or liability arises on a recurring basis, a cause of action accrues each time a wrongful act occurs, triggering a new limitations period.',\n",
       "  1.0,\n",
       "  119),\n",
       " ('If an objection is based on a claim that the information sought is protected work product, that claim shall be expressly asserted.',\n",
       "  'If an objection is based on a claim that the information sought is protected work product, that claim must be expressly asserted.',\n",
       "  0.9545454545454546,\n",
       "  120),\n",
       " ('The patentee may act as their own lexicographer and redefine a claim term in the specification expressly or impliedly.',\n",
       "  'The patentee may act as their own lexicographer and redefine a claim term in the specification.',\n",
       "  0.9142857142857143,\n",
       "  123),\n",
       " ('Once an objection to the relevance of the information sought is raised, the burden shifts to the party seeking the information to demonstrate that the requests are relevant to the subject matter involved in the pending action.',\n",
       "  'Once an objection to the relevance of the information sought is raised, the burden shifts to the party seeking the information to demonstrate that the requests are relevant to the subject matter involved in the pending action.',\n",
       "  1.0,\n",
       "  124),\n",
       " ('Disparate treatment is\\xa0intentional\\xa0discrimination against one or more persons because of a prohibited basis.',\n",
       "  'Disarate treatment is intentional discrimination against one or more persons because of a prohibited basis.',\n",
       "  0.9333333333333333,\n",
       "  125),\n",
       " ('Cumulative evidence may be excluded by New York courts when its admission would prolong the trial to an unreasonable extent without any corresponding advantage; in other words, when it will prove a fact that other evidence has already established.',\n",
       "  'Cumulative evidence may be excluded by New York courts when its admission would prolong the trial to an unreasonable extent without any corresponding advantage, that is, when it will prove a fact that other evidence has already proven.',\n",
       "  0.9090909090909091,\n",
       "  131),\n",
       " ('The Product Liability Act consolidated the negligence, breach of implied warranty, and strict liability theories into a single product liability action, which is the sole avenue of relief in New Jersey for claims that a product caused harm, except for express warranties and environmental torts. ',\n",
       "  'The Product Liability Act consolidated the negligence, breach of implied warranty, and strict liability theories into a single product liability action, which is the sole avenue of relief in New Jersey for claims that a product caused harm, except for express warranties and environmental torts.',\n",
       "  1.0,\n",
       "  132),\n",
       " ('A court must determine whether it has subject-matter jurisdiction before it can decide a motion to transfer.',\n",
       "  'A court must determine whether it has subject-matter jurisdiction before it can decide a motion to transfer.',\n",
       "  1.0,\n",
       "  136),\n",
       " ('Employees engaged in law enforcement activities are defined for Section 207(k) purposes as (1) uniformed or plain-clothed members of a body of officers and subordinates empowered to enforce laws designed to maintain public peace and order and to protect both life and property from accidental or willful injury, and to prevent and detect crimes, (2) with the power to arrest, and (3) who are presently undergoing or has undergone or will undergo on-the-job training or a course of instruction and study which typically includes physical training, self-defense, firearm proficiency, criminal and civil law principles, investigative and law enforcement techniques, community relations, medical aid and ethics.',\n",
       "  'Employees engaged in law enforcement activities are defined for Section 207(k) purposes as: (1) uniformed or plain-clothed members of a body of officers and subordinates empowered to enforce laws designed to maintain public peace and order and to protect both life and property from accidental or willful injury, and to prevent and detect crimes; (2) with the power to arrest; and (3) currently undergoing or has undergone or will undergo on-the-job training or a course of instruction and study which typically includes physical training, self-defense, firearm proficiency, criminal and civil law principles, investigative and law enforcement techniques, community relations, medical aid and ethics.',\n",
       "  0.981651376146789,\n",
       "  137),\n",
       " ('The attorney-client privilege only protects disclosure of communications; it does not protect disclosure of the underlying facts by those who communicated with the attorney.',\n",
       "  'The attorney-client privilege only protects disclosure of communications; it does not protect disclosure of the underlying facts by those who communicated with the attorney.',\n",
       "  1.0,\n",
       "  142),\n",
       " ('If an opposing party’s expert affidavit is its sole source of opposing evidence, the affidavit must contain sufficient allegations to demonstrate that the conclusions it contains are more than mere speculation and would, if offered alone at trial, support a verdict in the proponent’s favor.',\n",
       "  'If an opposing party’s expert affidavit is the sole source of opposing evidence, it must contain sufficient allegations to demonstrate that the conclusions contained are more than mere speculation and would, if offered alone at trial, support a verdict in the proponent’s favor.',\n",
       "  0.9347826086956522,\n",
       "  146),\n",
       " ('In a Rule 23 class action, absent class members are considered to have a constructive attorney-client relationship with plaintiffs’ counsel once the opt-out period has closed. ',\n",
       "  'In a Rule 23 class action, absent class members are not considered to have a constructive attorney-client relationship with plaintiffs’ counsel once the opt-out period has closed.',\n",
       "  0.9824561403508771,\n",
       "  151),\n",
       " ('Commercial speech is \"inextricably intertwined\" with noncommercial speech if there is a legal or practical requirement to combine the two types of speech.',\n",
       "  'Commercial speech is “inextricably intertwined” with noncommercial speech if there is a legal or practical requirement to combine the two types of speech.',\n",
       "  1.0,\n",
       "  153),\n",
       " ('A defective pleading cannot be stricken out by reason of its defects, upon the ground of surplusage.',\n",
       "  'A defective pleading cannot be stricken out by reason of its defects, upon the ground of surplusage.',\n",
       "  1.0,\n",
       "  154),\n",
       " ('If a defendant obtains title to a product during the manufacturing or distribution process, it may be considered a product seller who exchanged ownership or passed title to the product.',\n",
       "  'A defendant who obtains title to a product during the manufacturing or distribution process may not be considered a product seller who exchanged ownership or passed title to the product.',\n",
       "  0.9333333333333333,\n",
       "  161),\n",
       " ('Tax returns are generally not discoverable in the absence of a strong showing that the information is indispensable to the claim and cannot be obtained from other sources.',\n",
       "  'Given their confidential nature, tax returns are generally not discoverable in the absence of a strong showing that the information is indispensable to the claim and cannot be obtained from other sources.',\n",
       "  0.9333333333333333,\n",
       "  163),\n",
       " ('In determining whether the defendant is an employer, the overarching concern is whether the alleged employer possessed the power to control the workers in question, with an eye to the economic realities presented by the facts of each case.',\n",
       "  'In determining whether the defendant is an employer, the overarching concern is whether the defendant possessed the power to control the workers in question, with an eye to the economic realities presented by the facts of each case.',\n",
       "  0.9610389610389611,\n",
       "  164),\n",
       " ('A statement \"in connection with\" litigation under CCP § 425.16(e)(2) if it relates to substantive issues in the litigation and is directed to persons having some interest in the litigation.',\n",
       "  'A statement is properly made \"in connection with\" litigation under CCP  425.16(e)(2) if it relates to substantive issues in the litigation and is directed to persons having some interest in the litigation.',\n",
       "  0.955223880597015,\n",
       "  169),\n",
       " ('The plaintiff must show that there is an administratively feasible way to identify class members.',\n",
       "  'The plaintiff must show that there is an administratively feasible way to identify class members.',\n",
       "  1.0,\n",
       "  172),\n",
       " ('The trial court has a wide range of discretion regarding the admissibility of proffered rebuttal evidence.',\n",
       "  'The trial court has a wide range of discretion regarding the admissibility of proffered rebuttal evidence.',\n",
       "  1.0,\n",
       "  176),\n",
       " ('In lieu of a separate statement, the court may allow the moving party to submit a concise outline of the inspection demands and each response in dispute.',\n",
       "  'In lieu of a separate statement, the court may allow the moving party to submit a concise outline of the inspection demands and each response in dispute.',\n",
       "  1.0,\n",
       "  179),\n",
       " (\"Traditionally, there are four exceptions to successor liability under New Jersey law: (1) the successor expressly or impliedly assumes the predecessor's liabilities; (2) there is an actual or\\xa0de facto\\xa0consolidation or merger of the seller and the purchaser; (3) the purchasing company is a mere continuation of the seller; or (4) the transaction is entered into fraudulently to escape liability.\\xa0\",\n",
       "  \"Under New Jersey law, there are four exceptions to successor liability: (1) the successor expressly or impliedly assumes the predecessor's liabilities; (2) there is an actual or de facto consolidation or merger of the seller and the purchaser; (3) the purchasing company is a mere continuation of the seller; or (4) the transaction is entered into fraudulently to escape liability.\",\n",
       "  0.9268292682926829,\n",
       "  189),\n",
       " ('The standards for finding lexicography or disavowal are exacting.',\n",
       "  'The standards for finding lexicography or disavowal are exacting.',\n",
       "  1.0,\n",
       "  193),\n",
       " ('The U.S. Supreme Court has explained that at some level, all inventions \"embody, use, reflect, rest upon, or apply laws of nature, natural phenomena, or abstract ideas.\" Thus, \"an invention\\xa0is not rendered ineligible for patent simply because it involves an abstract concept.\"',\n",
       "  'The U.S. Supreme Court has explained that inventions \"embody, use, reflect, rest upon, or apply laws of nature, natural phenomena, or abstract ideas.\" Thus, an invention is not rendered ineligible for patent simply because it involves an abstract concept.',\n",
       "  0.9523809523809523,\n",
       "  195),\n",
       " ('The creation of subclasses is appropriate if members of the larger class have interests that are adverse to each other.',\n",
       "  'The creation of subclasses is appropriate if members of the larger class have interests that are adverse to each other.',\n",
       "  1.0,\n",
       "  200),\n",
       " ('The test for reasonable diligence is whether the plaintiff demonstrated those qualities of attention, knowledge, intelligence and judgment which society requires of its members for the protection of their own interest and the interest of others.',\n",
       "  'The test for reasonable diligence is whether a plaintiff demonstrated the qualities of attention, knowledge, intelligence, and judgment that society requires of its members for the protection of their own interest and the interest of others.',\n",
       "  0.9166666666666666,\n",
       "  207),\n",
       " ('A district court should not make a Daubert ruling prematurely, but should only do so when the record is complete enough to measure the proffered testimony against the proper standards of reliability and relevance.',\n",
       "  'A district court should not make a Daubert ruling prematurely, but should only do so when the record is complete enough to measure the proffered testimony against the proper standards of reliability and relevance.',\n",
       "  1.0,\n",
       "  210),\n",
       " ('Different editions of a newspaper constitute a single publication.',\n",
       "  'Different editions of a newspaper constitute a single publication.',\n",
       "  1.0,\n",
       "  218),\n",
       " ('An employer may not require an employee to work or remain on-call during a prescribed rest break.',\n",
       "  'An employer may not require an employee to work or remain on-call during a prescribed rest break.',\n",
       "  1.0,\n",
       "  226),\n",
       " ('Under FEHA, an employer is prohibited from discriminating against an employee based on marital status.',\n",
       "  'Under FEHA, an employer is prohibited from discriminating against an employee based on marital status.',\n",
       "  1.0,\n",
       "  228),\n",
       " ('The FAA’s exception for “seamen, railroad employees, or any other class of workers engaged in foreign or interstate commerce” applies only to transportation workers, rather than broadly to any workers whose work affects interstate commerce.',\n",
       "  'The FAA’s exception for “seamen, railroad employees, or any other class of workers engaged in foreign or interstate commerce” applies only to transportation workers, rather than broadly to any workers whose work affects interstate commerce.',\n",
       "  1.0,\n",
       "  243),\n",
       " ('Permissive abstention can constitute cause for relief from the automatic stay where the bankruptcy court decides to abstain from hearing the issues pending before a state court.',\n",
       "  'Permissive abstention can constitute cause for relief from the automatic stay where the bankruptcy court decides to abstain from hearing the issues pending before a state court.',\n",
       "  1.0,\n",
       "  247),\n",
       " ('An employer or other covered entity cannot deny an employment benefit because of the prospective need to make reasonable accommodation to an applicant or employee with a disability.',\n",
       "  'An employer or other covered entity cannot deny an employment benefit because of the prospective need to make reasonable accommodation to an applicant or employee with a disability.',\n",
       "  1.0,\n",
       "  254),\n",
       " ('In a New Jersey product liability action against a product seller, the applicable statute of limitations is tolled with respect to manufacturers who have been identified by the product seller.',\n",
       "  'In a New Jersey product liability action against a product seller, the applicable statute of limitations is two years, with respect to manufacturers who have been identified by the product seller.',\n",
       "  0.9508196721311476,\n",
       "  255),\n",
       " ('When the parties have agreed to a valid forum-selection clause, the court should transfer the case to the specified forum, absent extraordinary circumstances.',\n",
       "  'When the parties have agreed to a valid forum-selection clause, the court should transfer the case to the specified forum, absent extraordinary circumstances.',\n",
       "  1.0,\n",
       "  262),\n",
       " ('The proper formulation for the “arising from” requirement depends on the facts of the case. ',\n",
       "  'The proper formulation for the \"arising from\" requirement depends on the facts of the case.',\n",
       "  1.0,\n",
       "  264),\n",
       " ('An implied warranty of merchantability guarantees that consumer goods: (1) pass without objection in the trade under the contract description; (2) are fit for the ordinary purposes for which such goods are used; (3) are adequately contained, packaged, and labeled; and (4) conform to the promises or affirmations of fact made on the container or label.\\xa0',\n",
       "  'An implied warranty of merchantability guarantees that consumer goods meet a minimum level of quality, which means that the consumer goods: (1) pass without objection in the trade under the contract description; (2) are fit for the ordinary purposes for which such goods are used; (3) are adequately contained, packaged, and labeled; and (4) conform to the promises or affirmations of fact made on the container or label.',\n",
       "  0.9032258064516129,\n",
       "  269),\n",
       " ('A corporate policy that, on its face, complies with wage and hour laws cannot form the basis of a class action.',\n",
       "  'A corporate policy that, on its face, complies with wage and hour laws cannot form the basis of a class action.',\n",
       "  1.0,\n",
       "  274),\n",
       " ('In enacting the CLRA, the Legislature expressly directed that the statute is to be liberally construed and applied.',\n",
       "  'When enacting the CLRA, the Legislature expressly directed that the statute is to be liberally construed and applied.',\n",
       "  0.9444444444444444,\n",
       "  277),\n",
       " ('Special payment rules apply to terminated employees.',\n",
       "  'Special payment rules apply to terminated employees.',\n",
       "  1.0,\n",
       "  280),\n",
       " ('There is subject matter jurisdiction in a case between a citizen of a foreign state and a non-local American citizen defendant.',\n",
       "  'There is subject matter jurisdiction in a case between a citizen of a foreign state and a non-local American citizen defendant.',\n",
       "  1.0,\n",
       "  287),\n",
       " ('If the party asserting the privilege does not produce sufficient facts to show that the privilege was properly invoked, then the burden never shifts to the other party, and the communication is not protected under attorney-client privilege.',\n",
       "  'If the party asserting the attorney-client privilege does not produce sufficient facts to show that the privilege was properly invoked, then the burden never shifts to the other party, and the communication is not protected under attorney-client privilege.',\n",
       "  0.9743589743589743,\n",
       "  299),\n",
       " ('A defendant is liable for both obvious, patent defects as well as reasonably foreseeable latent defects. ',\n",
       "  'A defendant may be liable for both obvious, patent defects as well as reasonably foreseeable latent defects.',\n",
       "  0.9090909090909091,\n",
       "  301),\n",
       " ('Section 218.5 of the Labor Code covers, among other things, claims for the nonpayment of wages, except those claims subject to Section 1194.',\n",
       "  'Section 218.5 of the Labor Code covers claims for the nonpayment of wages, except those claims subject to Section 1194.',\n",
       "  0.9333333333333333,\n",
       "  303),\n",
       " ('Unless otherwise ordered by the court, interrogatories are limited to the following topics: name of witnesses with knowledge of information material and necessary to the subject matter of the action, computation of each category of damage alleged, and the existence, custodian, location and general description of material and necessary documents, including pertinent insurance agreements, and other physical evidence.',\n",
       "  'Unless otherwise ordered by the court, interrogatories are limited to the following topics: name of witnesses with knowledge of information material and necessary to the subject matter of the action, computation of each category of damage alleged, and the existence, custodian, location and general description of material and necessary documents, including pertinent insurance agreements, and other physical evidence.',\n",
       "  1.0,\n",
       "  305),\n",
       " ('California courts employ a flexible approach and determine what forms of notice will adequately address due process concerns in a class action on a case by case basis.',\n",
       "  'California courts determine what forms of notice will adequately address due process concerns in a class action on a case by case basis.',\n",
       "  0.9019607843137255,\n",
       "  309),\n",
       " ('The FAA preempts state laws that prohibit arbitration for certain types of contracts or disputes.',\n",
       "  'The FAA preempts state laws that prohibit arbitration for certain types of contracts or disputes.',\n",
       "  1.0,\n",
       "  320),\n",
       " ('An unjust enrichment claim that seeks monetary relief is subject to a three-year statute of limitations.',\n",
       "  'An unjust enrichment claim that seeks monetary relief is subject to a three-year statute of limitations.',\n",
       "  1.0,\n",
       "  322),\n",
       " ('Patent claims that do nothing more than spell out what it means to apply a concept to a computer cannot confer patent-eligibility.',\n",
       "  'Patent claims that do nothing more than spell out what it means to apply a concept to a computer do not confer patentability.',\n",
       "  0.9130434782608695,\n",
       "  335),\n",
       " ('Where the plaintiff seeks to enjoin public officers and agencies in the performance of their duties the public interest must be considered.',\n",
       "  'When the plaintiff seeks to enjoin public officers and agencies in the performance of their duties, the public interest must be considered.',\n",
       "  0.9545454545454546,\n",
       "  344),\n",
       " (\"A mandatory forum selection clause may be void if enforcement would bring about a result contrary to California's public policy.\",\n",
       "  \"A mandatory forum selection clause is void if enforcement would bring about a result contrary to California's public policy.\",\n",
       "  0.9268292682926829,\n",
       "  346),\n",
       " (\"A person may not disclose or use a trade secret without the owner's express or implied consent, if the person knew or had reason to know the knowledge was acquired under circumstances giving rise to a duty to maintain its secrecy or limit its use. \",\n",
       "  \"A person may not disclose or use a trade secret without the owner's express or implied consent if the person knew or had reason to know knowledge of the trade secret was acquired under circumstances giving rise to a duty to maintain its secrecy or limit its use.\",\n",
       "  0.9473684210526316,\n",
       "  350),\n",
       " ('When considering a challenge to the provision delegating questions of arbitrability to the arbitrator (namely, the delegation provision), the court may consider only arguments specific to the delegation provision.',\n",
       "  'When considering a challenge to the provision delegating questions of arbitrability to the arbitrator, i.e., the delegation provision itself, the court must consider only arguments specific to the delegation provision.',\n",
       "  0.9,\n",
       "  361),\n",
       " ('The federal law under which a claim arises must be a direct and essential element of the plaintiff’s claim for relief.',\n",
       "  'The federal law under which a claim arises must be a direct and essential element of the plaintiff’s claim for relief.',\n",
       "  1.0,\n",
       "  378),\n",
       " ('The employer can conclusively rebut the presumption that a service charge is purported to be a gratuity by demonstrating, by clear and convincing evidence, that it provided notification sufficient to ensure that a reasonable customer would understand that the charge was not purported to be a gratuity.',\n",
       "  'An employer can conclusively rebut the presumption that a service charge is purported to be a gratuity by demonstrating, by clear and convincing evidence, that it provided notice sufficient to ensure that a reasonable customer would understand that such charge was not a gratuity.',\n",
       "  0.9010989010989012,\n",
       "  379),\n",
       " ('When the expert witness has consulted numerous sources, and uses that information, together with his own professional knowledge and experience, to arrive at his opinion, that opinion is regarded as evidence in its own right, and not as hearsay in disguise.',\n",
       "  'When the expert witness has consulted numerous sources, and uses that information, together with his own professional knowledge and experience, to arrive at his opinion, that opinion is regarded as evidence in its own right and not as hearsay in disguise.',\n",
       "  1.0,\n",
       "  382),\n",
       " ('An injury is particularized if it affects the plaintiff in a personal and individual way.',\n",
       "  'An injury is particularized if it affects the plaintiff in a personal and specific way.',\n",
       "  0.9333333333333333,\n",
       "  385)]"
      ]
     },
     "execution_count": 24,
     "metadata": {},
     "output_type": "execute_result"
    }
   ],
   "source": [
    "high_rouge_similarities"
   ]
  },
  {
   "cell_type": "code",
   "execution_count": 23,
   "id": "2b88a823-e0e2-4395-b458-d7f0a77d821b",
   "metadata": {},
   "outputs": [
    {
     "data": {
      "text/plain": [
       "28"
      ]
     },
     "execution_count": 23,
     "metadata": {},
     "output_type": "execute_result"
    }
   ],
   "source": [
    "low_rouge_similarities = [el for el in rouge_matches if el[2] <= 0.3]\n",
    "low_rouge_similarity_indices = [el[3] for el in low_rouge_similarities]\n",
    "\n",
    "len(low_rouge_similarity_indices)"
   ]
  },
  {
   "cell_type": "code",
   "execution_count": 25,
   "id": "adcfc6a0-637d-41ec-b6a5-f2e78da8b81e",
   "metadata": {},
   "outputs": [],
   "source": [
    "min_savgols_low_similarity = []\n",
    "max_savgols_low_similarity = []\n",
    "\n",
    "min_savgols_high_similarity = []\n",
    "max_savgols_high_similarity = []\n",
    "\n",
    "passage_max_scores = []\n",
    "passage_mean_scores = []\n",
    "\n",
    "rouge_scores = []\n",
    "log_probs = []\n",
    "\n",
    "# set criterion on the number of passages that must be used\n",
    "topk_passages = 5\n",
    "topk_passage_means = []\n",
    "topk_passage_stdevs = []\n"
   ]
  },
  {
   "cell_type": "code",
   "execution_count": 26,
   "id": "f5e02a1e-c443-4f32-9a4d-794b7e60a580",
   "metadata": {
    "collapsed": true,
    "jupyter": {
     "outputs_hidden": true
    },
    "tags": []
   },
   "outputs": [
    {
     "name": "stderr",
     "output_type": "stream",
     "text": [
      "0it [00:00, ?it/s]"
     ]
    },
    {
     "name": "stdout",
     "output_type": "stream",
     "text": [
      "0\n"
     ]
    },
    {
     "name": "stderr",
     "output_type": "stream",
     "text": [
      "1it [00:02,  2.51s/it]"
     ]
    },
    {
     "name": "stdout",
     "output_type": "stream",
     "text": [
      "[(30, 88), (230, 271), (430, 476), (630, 690), (830, 884), (1030, 1070), (1230, 1285), (1430, 1482), (1630, 1684), (1830, 1888), (2030, 2199), (2230, 2312), (2430, 2599), (2630, 2712)]\n",
      "[0.09722672, 0.035961956, 1.385124, 0.8521029, 1.0795133, 0.42338902, 0.95472276, 1.4571953, 1.2572294, 1.0908605, -1.2826912, -1.2958845, -1.2826912, -1.2958845]\n",
      "1.4571953 -1.2958845\n",
      "0.8266666666666667\n",
      "[1.0795133 1.0908605 1.2572294 1.385124  1.4571953]\n",
      "0.15202127\n",
      "1\n"
     ]
    },
    {
     "name": "stderr",
     "output_type": "stream",
     "text": [
      "2it [00:05,  2.78s/it]"
     ]
    },
    {
     "name": "stdout",
     "output_type": "stream",
     "text": [
      "[(36, 59), (236, 261), (436, 461), (636, 657), (836, 863), (1036, 1059), (1236, 1259), (1436, 1472), (1636, 1675), (1836, 1867), (2036, 2098), (2236, 2307), (2436, 2599)]\n",
      "[-1.5983444, -1.6664832, -1.6664832, -1.2532346, -1.5556364, -1.6425496, -1.6425496, -1.1384568, -1.8597382, -1.714814, -0.50836825, 0.6989463, -0.36014405]\n",
      "0.6989463 -1.8597382\n",
      "0.5074626865671642\n",
      "[-1.2532346  -1.1384568  -0.50836825  0.6989463  -0.36014405]\n",
      "0.69732934\n",
      "2\n"
     ]
    },
    {
     "name": "stderr",
     "output_type": "stream",
     "text": [
      "3it [00:06,  2.13s/it]"
     ]
    },
    {
     "name": "stdout",
     "output_type": "stream",
     "text": [
      "[(30, 79), (135, 167), (240, 267), (345, 372), (450, 482), (555, 629), (660, 695), (765, 792), (870, 905), (975, 1037), (1080, 1146), (1185, 1241), (1290, 1351), (1395, 1461), (1500, 1561), (1605, 1671), (1710, 1776), (1815, 1871)]\n",
      "[-1.506421, -1.857425, -1.5619498, -2.0615804, -1.9215717, -1.2851454, -1.159129, -1.4848357, -1.7595612, -1.4084375, -1.5848768, -1.005441, -1.006616, -1.5848768, -1.006616, -1.5848768, -1.5848768, -1.005441]\n",
      "-1.005441 -2.0615804\n",
      "1.0\n",
      "[-1.159129 -1.006616 -1.006616 -1.005441 -1.005441]\n",
      "0.061242476\n",
      "3\n"
     ]
    },
    {
     "name": "stderr",
     "output_type": "stream",
     "text": [
      "4it [00:09,  2.15s/it]"
     ]
    },
    {
     "name": "stdout",
     "output_type": "stream",
     "text": [
      "[(19, 54), (219, 276), (419, 471), (619, 639), (819, 840), (1019, 1051), (1219, 1259), (1419, 1455), (1619, 1659), (1819, 1860), (2019, 2199), (2219, 2399)]\n",
      "[-0.806493, -1.1690782, -1.314888, -1.2788199, -0.9131406, -1.7853014, -1.7238843, -2.0996246, -1.8583053, -1.1964879, -0.0778188, -0.0699618]\n",
      "-0.0699618 -2.0996246\n",
      "0.4444444444444445\n",
      "[-1.1690782 -0.9131406 -0.806493  -0.0778188 -0.0699618]\n",
      "0.45119703\n",
      "4\n"
     ]
    },
    {
     "name": "stderr",
     "output_type": "stream",
     "text": [
      "5it [00:11,  2.29s/it]"
     ]
    },
    {
     "name": "stdout",
     "output_type": "stream",
     "text": [
      "[(27, 57), (156, 185), (285, 325), (414, 450), (543, 579), (672, 737), (801, 884), (930, 984), (1059, 1092), (1188, 1238), (1317, 1391), (1446, 1494), (1575, 1640), (1704, 1767), (1833, 1914), (1962, 2063), (2091, 2118), (2220, 2294), (2349, 2397), (2478, 2560)]\n",
      "[-1.0082282, -0.42948732, -0.70434517, -0.9272571, -0.9272571, -0.30211803, -0.6080733, -1.2066728, -1.0369202, -0.5656351, -0.18483634, 0.49038443, -0.2916806, -0.23003814, 0.09089057, -0.37091047, -0.1149813, -0.16647543, 0.03145859, -0.030995002]\n",
      "0.49038443 -1.2066728\n",
      "0.3835616438356164\n",
      "[-0.1149813  -0.030995    0.09089057  0.03145859  0.49038443]\n",
      "0.20992215\n",
      "5\n"
     ]
    },
    {
     "name": "stderr",
     "output_type": "stream",
     "text": [
      "6it [00:13,  2.26s/it]"
     ]
    },
    {
     "name": "stdout",
     "output_type": "stream",
     "text": [
      "[(30, 105), (230, 249), (430, 469), (630, 650), (830, 886), (1030, 1078), (1230, 1278), (1430, 1453), (1630, 1657), (1830, 1865), (2030, 2060), (2230, 2399), (2430, 2460), (2630, 2799), (2830, 2860), (3030, 3199)]\n",
      "[0.36124215, -0.7817743, -1.0322014, -1.3061774, -1.5169894, -1.2642195, -1.1654935, -1.9331814, -1.4085691, -1.9271463, -0.27829963, -0.21966518, -0.27829963, -0.21966518, -0.27829963, -0.21966518]\n",
      "0.36124215 -1.9331814\n",
      "0.8307692307692308\n",
      "[-0.27829963 -0.21966518 -0.21966518 -0.21966518  0.36124215]\n",
      "0.23930632\n",
      "6\n"
     ]
    },
    {
     "name": "stderr",
     "output_type": "stream",
     "text": [
      "7it [00:15,  2.04s/it]"
     ]
    },
    {
     "name": "stdout",
     "output_type": "stream",
     "text": [
      "[(31, 73), (134, 176), (237, 271), (340, 380), (443, 476), (546, 579), (649, 682), (752, 803), (855, 916), (958, 999), (1061, 1114), (1164, 1235), (1267, 1320), (1370, 1441), (1473, 1526), (1576, 1647), (1679, 1732), (1782, 1853)]\n",
      "[-2.684211, -2.684211, -2.1545157, -1.7040567, -2.4370456, -1.8213952, -1.8213952, -2.3020127, -1.9610484, -1.9174998, -0.9552623, -0.7830328, -0.9552623, -0.7830328, -0.9552623, -0.7830328, -0.9552623, -0.7830328]\n",
      "-0.7830328 -2.684211\n",
      "0.3939393939393939\n",
      "[-0.9552623 -0.7830328 -0.7830328 -0.7830328 -0.7830328]\n",
      "0.068891816\n",
      "7\n"
     ]
    },
    {
     "name": "stderr",
     "output_type": "stream",
     "text": [
      "7it [00:19,  2.74s/it]\n"
     ]
    },
    {
     "ename": "KeyboardInterrupt",
     "evalue": "",
     "output_type": "error",
     "traceback": [
      "\u001b[0;31m---------------------------------------------------------------------------\u001b[0m",
      "\u001b[0;31mKeyboardInterrupt\u001b[0m                         Traceback (most recent call last)",
      "Input \u001b[0;32mIn [26]\u001b[0m, in \u001b[0;36m<cell line: 1>\u001b[0;34m()\u001b[0m\n\u001b[1;32m      8\u001b[0m \u001b[38;5;28mprint\u001b[39m(i)\n\u001b[1;32m      9\u001b[0m \u001b[38;5;28;01mwith\u001b[39;00m torch\u001b[38;5;241m.\u001b[39mno_grad():\n\u001b[0;32m---> 11\u001b[0m     generated_output, log_prob \u001b[38;5;241m=\u001b[39m \u001b[43mmodel\u001b[49m\u001b[38;5;241;43m.\u001b[39;49m\u001b[43mgenerate\u001b[49m\u001b[43m(\u001b[49m\n\u001b[1;32m     12\u001b[0m \u001b[43m            \u001b[49m\u001b[43minput_ids\u001b[49m\u001b[38;5;241;43m=\u001b[39;49m\u001b[43mcontext_ids\u001b[49m\u001b[38;5;241;43m.\u001b[39;49m\u001b[43mcuda\u001b[49m\u001b[43m(\u001b[49m\u001b[43m)\u001b[49m\u001b[43m,\u001b[49m\n\u001b[1;32m     13\u001b[0m \u001b[43m            \u001b[49m\u001b[43mattention_mask\u001b[49m\u001b[38;5;241;43m=\u001b[39;49m\u001b[43mcontext_mask\u001b[49m\u001b[38;5;241;43m.\u001b[39;49m\u001b[43mcuda\u001b[49m\u001b[43m(\u001b[49m\u001b[43m)\u001b[49m\u001b[43m,\u001b[49m\n\u001b[1;32m     14\u001b[0m \u001b[43m            \u001b[49m\u001b[43mdo_sample\u001b[49m\u001b[38;5;241;43m=\u001b[39;49m\u001b[38;5;28;43;01mFalse\u001b[39;49;00m\u001b[43m,\u001b[49m\n\u001b[1;32m     15\u001b[0m \u001b[43m            \u001b[49m\u001b[43mmax_length\u001b[49m\u001b[38;5;241;43m=\u001b[39;49m\u001b[38;5;241;43m150\u001b[39;49m\u001b[43m,\u001b[49m\n\u001b[1;32m     16\u001b[0m \u001b[43m            \u001b[49m\u001b[43mtop_p\u001b[49m\u001b[38;5;241;43m=\u001b[39;49m\u001b[38;5;241;43m0.9\u001b[39;49m\u001b[43m,\u001b[49m\n\u001b[1;32m     17\u001b[0m \u001b[43m            \u001b[49m\u001b[43mtemperature\u001b[49m\u001b[38;5;241;43m=\u001b[39;49m\u001b[38;5;241;43m1.0\u001b[39;49m\u001b[43m,\u001b[49m\n\u001b[1;32m     18\u001b[0m \u001b[43m            \u001b[49m\u001b[43moutput_confidence\u001b[49m\u001b[38;5;241;43m=\u001b[39;49m\u001b[38;5;28;43;01mTrue\u001b[39;49;00m\u001b[43m,\u001b[49m\n\u001b[1;32m     19\u001b[0m \n\u001b[1;32m     20\u001b[0m \u001b[43m        \u001b[49m\u001b[43m)\u001b[49m\n\u001b[1;32m     22\u001b[0m     model_forward \u001b[38;5;241m=\u001b[39m model\u001b[38;5;241m.\u001b[39mforward(\n\u001b[1;32m     23\u001b[0m         input_ids\u001b[38;5;241m=\u001b[39mcontext_ids\u001b[38;5;241m.\u001b[39mcuda(),\n\u001b[1;32m     24\u001b[0m         attention_mask\u001b[38;5;241m=\u001b[39mcontext_mask\u001b[38;5;241m.\u001b[39mcuda(),\n\u001b[0;32m   (...)\u001b[0m\n\u001b[1;32m     28\u001b[0m         output_unnormalized_attentions\u001b[38;5;241m=\u001b[39m\u001b[38;5;28;01mTrue\u001b[39;00m,\n\u001b[1;32m     29\u001b[0m     )\n\u001b[1;32m     31\u001b[0m cross_attentions \u001b[38;5;241m=\u001b[39m model_forward\u001b[38;5;241m.\u001b[39mcross_attentions\n",
      "File \u001b[0;32m~/FiD/src/model.py:65\u001b[0m, in \u001b[0;36mFiDT5.generate\u001b[0;34m(self, input_ids, attention_mask, max_length, output_confidence, **kwargs)\u001b[0m\n\u001b[1;32m     63\u001b[0m \u001b[38;5;28mself\u001b[39m\u001b[38;5;241m.\u001b[39meval()\n\u001b[1;32m     64\u001b[0m \u001b[38;5;28;01mwith\u001b[39;00m torch\u001b[38;5;241m.\u001b[39mno_grad():\n\u001b[0;32m---> 65\u001b[0m     outputs \u001b[38;5;241m=\u001b[39m \u001b[38;5;28;43msuper\u001b[39;49m\u001b[43m(\u001b[49m\u001b[43m)\u001b[49m\u001b[38;5;241;43m.\u001b[39;49m\u001b[43mgenerate\u001b[49m\u001b[43m(\u001b[49m\n\u001b[1;32m     66\u001b[0m \u001b[43m        \u001b[49m\u001b[43minput_ids\u001b[49m\u001b[38;5;241;43m=\u001b[39;49m\u001b[43minput_ids\u001b[49m\u001b[38;5;241;43m.\u001b[39;49m\u001b[43mview\u001b[49m\u001b[43m(\u001b[49m\u001b[43minput_ids\u001b[49m\u001b[38;5;241;43m.\u001b[39;49m\u001b[43msize\u001b[49m\u001b[43m(\u001b[49m\u001b[38;5;241;43m0\u001b[39;49m\u001b[43m)\u001b[49m\u001b[43m,\u001b[49m\u001b[43m \u001b[49m\u001b[38;5;241;43m-\u001b[39;49m\u001b[38;5;241;43m1\u001b[39;49m\u001b[43m)\u001b[49m\u001b[43m,\u001b[49m\n\u001b[1;32m     67\u001b[0m \u001b[43m        \u001b[49m\u001b[43mattention_mask\u001b[49m\u001b[38;5;241;43m=\u001b[39;49m\u001b[43mattention_mask\u001b[49m\u001b[38;5;241;43m.\u001b[39;49m\u001b[43mview\u001b[49m\u001b[43m(\u001b[49m\u001b[43mattention_mask\u001b[49m\u001b[38;5;241;43m.\u001b[39;49m\u001b[43msize\u001b[49m\u001b[43m(\u001b[49m\u001b[38;5;241;43m0\u001b[39;49m\u001b[43m)\u001b[49m\u001b[43m,\u001b[49m\u001b[43m \u001b[49m\u001b[38;5;241;43m-\u001b[39;49m\u001b[38;5;241;43m1\u001b[39;49m\u001b[43m)\u001b[49m\u001b[43m,\u001b[49m\n\u001b[1;32m     68\u001b[0m \u001b[43m        \u001b[49m\u001b[43mmax_length\u001b[49m\u001b[38;5;241;43m=\u001b[39;49m\u001b[43mmax_length\u001b[49m\u001b[43m,\u001b[49m\n\u001b[1;32m     69\u001b[0m \u001b[43m        \u001b[49m\u001b[43moutput_scores\u001b[49m\u001b[38;5;241;43m=\u001b[39;49m\u001b[38;5;28;43;01mTrue\u001b[39;49;00m\u001b[43m,\u001b[49m\n\u001b[1;32m     70\u001b[0m \u001b[43m        \u001b[49m\u001b[43mreturn_dict_in_generate\u001b[49m\u001b[38;5;241;43m=\u001b[39;49m\u001b[38;5;28;43;01mTrue\u001b[39;49;00m\u001b[43m,\u001b[49m\n\u001b[1;32m     71\u001b[0m \u001b[43m        \u001b[49m\u001b[38;5;241;43m*\u001b[39;49m\u001b[38;5;241;43m*\u001b[39;49m\u001b[43mkwargs\u001b[49m\n\u001b[1;32m     72\u001b[0m \u001b[43m    \u001b[49m\u001b[43m)\u001b[49m\n\u001b[1;32m     74\u001b[0m sequence \u001b[38;5;241m=\u001b[39m outputs\u001b[38;5;241m.\u001b[39msequences\n\u001b[1;32m     75\u001b[0m unsoftmaxed_distributions \u001b[38;5;241m=\u001b[39m outputs\u001b[38;5;241m.\u001b[39mscores\n",
      "File \u001b[0;32m/opt/conda/envs/myenv/lib/python3.9/site-packages/torch/autograd/grad_mode.py:27\u001b[0m, in \u001b[0;36m_DecoratorContextManager.__call__.<locals>.decorate_context\u001b[0;34m(*args, **kwargs)\u001b[0m\n\u001b[1;32m     24\u001b[0m \u001b[38;5;129m@functools\u001b[39m\u001b[38;5;241m.\u001b[39mwraps(func)\n\u001b[1;32m     25\u001b[0m \u001b[38;5;28;01mdef\u001b[39;00m \u001b[38;5;21mdecorate_context\u001b[39m(\u001b[38;5;241m*\u001b[39margs, \u001b[38;5;241m*\u001b[39m\u001b[38;5;241m*\u001b[39mkwargs):\n\u001b[1;32m     26\u001b[0m     \u001b[38;5;28;01mwith\u001b[39;00m \u001b[38;5;28mself\u001b[39m\u001b[38;5;241m.\u001b[39mclone():\n\u001b[0;32m---> 27\u001b[0m         \u001b[38;5;28;01mreturn\u001b[39;00m \u001b[43mfunc\u001b[49m\u001b[43m(\u001b[49m\u001b[38;5;241;43m*\u001b[39;49m\u001b[43margs\u001b[49m\u001b[43m,\u001b[49m\u001b[43m \u001b[49m\u001b[38;5;241;43m*\u001b[39;49m\u001b[38;5;241;43m*\u001b[39;49m\u001b[43mkwargs\u001b[49m\u001b[43m)\u001b[49m\n",
      "File \u001b[0;32m~/FiD/src/transformer_modules/generation_utils.py:1000\u001b[0m, in \u001b[0;36mGenerationMixin.generate\u001b[0;34m(self, input_ids, max_length, min_length, do_sample, early_stopping, num_beams, temperature, top_k, top_p, repetition_penalty, bad_words_ids, bos_token_id, pad_token_id, eos_token_id, length_penalty, no_repeat_ngram_size, encoder_no_repeat_ngram_size, num_return_sequences, max_time, max_new_tokens, decoder_start_token_id, use_cache, num_beam_groups, diversity_penalty, prefix_allowed_tokens_fn, output_attentions, output_hidden_states, output_scores, return_dict_in_generate, forced_bos_token_id, forced_eos_token_id, remove_invalid_values, synced_gpus, **model_kwargs)\u001b[0m\n\u001b[1;32m    995\u001b[0m         \u001b[38;5;28;01mraise\u001b[39;00m \u001b[38;5;167;01mValueError\u001b[39;00m(\n\u001b[1;32m    996\u001b[0m             \u001b[38;5;124mf\u001b[39m\u001b[38;5;124m\"\u001b[39m\u001b[38;5;124mnum_return_sequences has to be 1, but is \u001b[39m\u001b[38;5;132;01m{\u001b[39;00mnum_return_sequences\u001b[38;5;132;01m}\u001b[39;00m\u001b[38;5;124m when doing greedy search.\u001b[39m\u001b[38;5;124m\"\u001b[39m\n\u001b[1;32m    997\u001b[0m         )\n\u001b[1;32m    999\u001b[0m     \u001b[38;5;66;03m# greedy search\u001b[39;00m\n\u001b[0;32m-> 1000\u001b[0m     \u001b[38;5;28;01mreturn\u001b[39;00m \u001b[38;5;28;43mself\u001b[39;49m\u001b[38;5;241;43m.\u001b[39;49m\u001b[43mgreedy_search\u001b[49m\u001b[43m(\u001b[49m\n\u001b[1;32m   1001\u001b[0m \u001b[43m        \u001b[49m\u001b[43minput_ids\u001b[49m\u001b[43m,\u001b[49m\n\u001b[1;32m   1002\u001b[0m \u001b[43m        \u001b[49m\u001b[43mlogits_processor\u001b[49m\u001b[38;5;241;43m=\u001b[39;49m\u001b[43mlogits_processor\u001b[49m\u001b[43m,\u001b[49m\n\u001b[1;32m   1003\u001b[0m \u001b[43m        \u001b[49m\u001b[43mstopping_criteria\u001b[49m\u001b[38;5;241;43m=\u001b[39;49m\u001b[43mstopping_criteria\u001b[49m\u001b[43m,\u001b[49m\n\u001b[1;32m   1004\u001b[0m \u001b[43m        \u001b[49m\u001b[43mpad_token_id\u001b[49m\u001b[38;5;241;43m=\u001b[39;49m\u001b[43mpad_token_id\u001b[49m\u001b[43m,\u001b[49m\n\u001b[1;32m   1005\u001b[0m \u001b[43m        \u001b[49m\u001b[43meos_token_id\u001b[49m\u001b[38;5;241;43m=\u001b[39;49m\u001b[43meos_token_id\u001b[49m\u001b[43m,\u001b[49m\n\u001b[1;32m   1006\u001b[0m \u001b[43m        \u001b[49m\u001b[43moutput_scores\u001b[49m\u001b[38;5;241;43m=\u001b[39;49m\u001b[43moutput_scores\u001b[49m\u001b[43m,\u001b[49m\n\u001b[1;32m   1007\u001b[0m \u001b[43m        \u001b[49m\u001b[43mreturn_dict_in_generate\u001b[49m\u001b[38;5;241;43m=\u001b[39;49m\u001b[43mreturn_dict_in_generate\u001b[49m\u001b[43m,\u001b[49m\n\u001b[1;32m   1008\u001b[0m \u001b[43m        \u001b[49m\u001b[43msynced_gpus\u001b[49m\u001b[38;5;241;43m=\u001b[39;49m\u001b[43msynced_gpus\u001b[49m\u001b[43m,\u001b[49m\n\u001b[1;32m   1009\u001b[0m \u001b[43m        \u001b[49m\u001b[38;5;241;43m*\u001b[39;49m\u001b[38;5;241;43m*\u001b[39;49m\u001b[43mmodel_kwargs\u001b[49m\u001b[43m,\u001b[49m\n\u001b[1;32m   1010\u001b[0m \u001b[43m    \u001b[49m\u001b[43m)\u001b[49m\n\u001b[1;32m   1012\u001b[0m \u001b[38;5;28;01melif\u001b[39;00m is_sample_gen_mode:\n\u001b[1;32m   1013\u001b[0m     \u001b[38;5;66;03m# get probability distribution warper\u001b[39;00m\n\u001b[1;32m   1014\u001b[0m     logits_warper \u001b[38;5;241m=\u001b[39m \u001b[38;5;28mself\u001b[39m\u001b[38;5;241m.\u001b[39m_get_logits_warper(\n\u001b[1;32m   1015\u001b[0m         top_k\u001b[38;5;241m=\u001b[39mtop_k, top_p\u001b[38;5;241m=\u001b[39mtop_p, temperature\u001b[38;5;241m=\u001b[39mtemperature, num_beams\u001b[38;5;241m=\u001b[39mnum_beams\n\u001b[1;32m   1016\u001b[0m     )\n",
      "File \u001b[0;32m~/FiD/src/transformer_modules/generation_utils.py:1302\u001b[0m, in \u001b[0;36mGenerationMixin.greedy_search\u001b[0;34m(self, input_ids, logits_processor, stopping_criteria, max_length, pad_token_id, eos_token_id, output_attentions, output_hidden_states, output_scores, return_dict_in_generate, synced_gpus, **model_kwargs)\u001b[0m\n\u001b[1;32m   1299\u001b[0m model_inputs \u001b[38;5;241m=\u001b[39m \u001b[38;5;28mself\u001b[39m\u001b[38;5;241m.\u001b[39mprepare_inputs_for_generation(input_ids, \u001b[38;5;241m*\u001b[39m\u001b[38;5;241m*\u001b[39mmodel_kwargs)\n\u001b[1;32m   1301\u001b[0m \u001b[38;5;66;03m# forward pass to get next token\u001b[39;00m\n\u001b[0;32m-> 1302\u001b[0m outputs \u001b[38;5;241m=\u001b[39m \u001b[38;5;28;43mself\u001b[39;49m\u001b[43m(\u001b[49m\n\u001b[1;32m   1303\u001b[0m \u001b[43m    \u001b[49m\u001b[38;5;241;43m*\u001b[39;49m\u001b[38;5;241;43m*\u001b[39;49m\u001b[43mmodel_inputs\u001b[49m\u001b[43m,\u001b[49m\n\u001b[1;32m   1304\u001b[0m \u001b[43m    \u001b[49m\u001b[43mreturn_dict\u001b[49m\u001b[38;5;241;43m=\u001b[39;49m\u001b[38;5;28;43;01mTrue\u001b[39;49;00m\u001b[43m,\u001b[49m\n\u001b[1;32m   1305\u001b[0m \u001b[43m    \u001b[49m\u001b[43moutput_attentions\u001b[49m\u001b[38;5;241;43m=\u001b[39;49m\u001b[43moutput_attentions\u001b[49m\u001b[43m,\u001b[49m\n\u001b[1;32m   1306\u001b[0m \u001b[43m    \u001b[49m\u001b[43moutput_hidden_states\u001b[49m\u001b[38;5;241;43m=\u001b[39;49m\u001b[43moutput_hidden_states\u001b[49m\u001b[43m,\u001b[49m\n\u001b[1;32m   1307\u001b[0m \u001b[43m\u001b[49m\u001b[43m)\u001b[49m\n\u001b[1;32m   1309\u001b[0m \u001b[38;5;28;01mif\u001b[39;00m synced_gpus \u001b[38;5;129;01mand\u001b[39;00m this_peer_finished:\n\u001b[1;32m   1310\u001b[0m     cur_len \u001b[38;5;241m=\u001b[39m cur_len \u001b[38;5;241m+\u001b[39m \u001b[38;5;241m1\u001b[39m\n",
      "File \u001b[0;32m/opt/conda/envs/myenv/lib/python3.9/site-packages/torch/nn/modules/module.py:1110\u001b[0m, in \u001b[0;36mModule._call_impl\u001b[0;34m(self, *input, **kwargs)\u001b[0m\n\u001b[1;32m   1106\u001b[0m \u001b[38;5;66;03m# If we don't have any hooks, we want to skip the rest of the logic in\u001b[39;00m\n\u001b[1;32m   1107\u001b[0m \u001b[38;5;66;03m# this function, and just call forward.\u001b[39;00m\n\u001b[1;32m   1108\u001b[0m \u001b[38;5;28;01mif\u001b[39;00m \u001b[38;5;129;01mnot\u001b[39;00m (\u001b[38;5;28mself\u001b[39m\u001b[38;5;241m.\u001b[39m_backward_hooks \u001b[38;5;129;01mor\u001b[39;00m \u001b[38;5;28mself\u001b[39m\u001b[38;5;241m.\u001b[39m_forward_hooks \u001b[38;5;129;01mor\u001b[39;00m \u001b[38;5;28mself\u001b[39m\u001b[38;5;241m.\u001b[39m_forward_pre_hooks \u001b[38;5;129;01mor\u001b[39;00m _global_backward_hooks\n\u001b[1;32m   1109\u001b[0m         \u001b[38;5;129;01mor\u001b[39;00m _global_forward_hooks \u001b[38;5;129;01mor\u001b[39;00m _global_forward_pre_hooks):\n\u001b[0;32m-> 1110\u001b[0m     \u001b[38;5;28;01mreturn\u001b[39;00m \u001b[43mforward_call\u001b[49m\u001b[43m(\u001b[49m\u001b[38;5;241;43m*\u001b[39;49m\u001b[38;5;28;43minput\u001b[39;49m\u001b[43m,\u001b[49m\u001b[43m \u001b[49m\u001b[38;5;241;43m*\u001b[39;49m\u001b[38;5;241;43m*\u001b[39;49m\u001b[43mkwargs\u001b[49m\u001b[43m)\u001b[49m\n\u001b[1;32m   1111\u001b[0m \u001b[38;5;66;03m# Do not call functions when jit is used\u001b[39;00m\n\u001b[1;32m   1112\u001b[0m full_backward_hooks, non_full_backward_hooks \u001b[38;5;241m=\u001b[39m [], []\n",
      "File \u001b[0;32m~/FiD/src/model.py:43\u001b[0m, in \u001b[0;36mFiDT5.forward\u001b[0;34m(self, input_ids, attention_mask, **kwargs)\u001b[0m\n\u001b[1;32m     41\u001b[0m \u001b[38;5;28;01mif\u001b[39;00m attention_mask \u001b[38;5;241m!=\u001b[39m \u001b[38;5;28;01mNone\u001b[39;00m:\n\u001b[1;32m     42\u001b[0m     attention_mask \u001b[38;5;241m=\u001b[39m attention_mask\u001b[38;5;241m.\u001b[39mview(attention_mask\u001b[38;5;241m.\u001b[39msize(\u001b[38;5;241m0\u001b[39m), \u001b[38;5;241m-\u001b[39m\u001b[38;5;241m1\u001b[39m)\n\u001b[0;32m---> 43\u001b[0m \u001b[38;5;28;01mreturn\u001b[39;00m \u001b[38;5;28;43msuper\u001b[39;49m\u001b[43m(\u001b[49m\u001b[43m)\u001b[49m\u001b[38;5;241;43m.\u001b[39;49m\u001b[43mforward\u001b[49m\u001b[43m(\u001b[49m\n\u001b[1;32m     44\u001b[0m \u001b[43m    \u001b[49m\u001b[43minput_ids\u001b[49m\u001b[38;5;241;43m=\u001b[39;49m\u001b[43minput_ids\u001b[49m\u001b[43m,\u001b[49m\n\u001b[1;32m     45\u001b[0m \u001b[43m    \u001b[49m\u001b[43mattention_mask\u001b[49m\u001b[38;5;241;43m=\u001b[39;49m\u001b[43mattention_mask\u001b[49m\u001b[43m,\u001b[49m\n\u001b[1;32m     46\u001b[0m \u001b[43m    \u001b[49m\u001b[38;5;241;43m*\u001b[39;49m\u001b[38;5;241;43m*\u001b[39;49m\u001b[43mkwargs\u001b[49m\n\u001b[1;32m     47\u001b[0m \u001b[43m\u001b[49m\u001b[43m)\u001b[49m\n",
      "File \u001b[0;32m~/FiD/src/transformer_modules/modeling_t5.py:1825\u001b[0m, in \u001b[0;36mT5ForConditionalGeneration.forward\u001b[0;34m(self, input_ids, attention_mask, decoder_input_ids, decoder_attention_mask, head_mask, decoder_head_mask, cross_attn_head_mask, encoder_outputs, past_key_values, inputs_embeds, decoder_inputs_embeds, labels, use_cache, output_attentions, output_unnormalized_attentions, output_hidden_states, return_dict)\u001b[0m\n\u001b[1;32m   1822\u001b[0m         decoder_attention_mask \u001b[38;5;241m=\u001b[39m decoder_attention_mask\u001b[38;5;241m.\u001b[39mto(\u001b[38;5;28mself\u001b[39m\u001b[38;5;241m.\u001b[39mdecoder\u001b[38;5;241m.\u001b[39mfirst_device)\n\u001b[1;32m   1824\u001b[0m \u001b[38;5;66;03m# Decode\u001b[39;00m\n\u001b[0;32m-> 1825\u001b[0m decoder_outputs \u001b[38;5;241m=\u001b[39m \u001b[38;5;28;43mself\u001b[39;49m\u001b[38;5;241;43m.\u001b[39;49m\u001b[43mdecoder\u001b[49m\u001b[43m(\u001b[49m\n\u001b[1;32m   1826\u001b[0m \u001b[43m    \u001b[49m\u001b[43minput_ids\u001b[49m\u001b[38;5;241;43m=\u001b[39;49m\u001b[43mdecoder_input_ids\u001b[49m\u001b[43m,\u001b[49m\n\u001b[1;32m   1827\u001b[0m \u001b[43m    \u001b[49m\u001b[43mattention_mask\u001b[49m\u001b[38;5;241;43m=\u001b[39;49m\u001b[43mdecoder_attention_mask\u001b[49m\u001b[43m,\u001b[49m\n\u001b[1;32m   1828\u001b[0m \u001b[43m    \u001b[49m\u001b[43minputs_embeds\u001b[49m\u001b[38;5;241;43m=\u001b[39;49m\u001b[43mdecoder_inputs_embeds\u001b[49m\u001b[43m,\u001b[49m\n\u001b[1;32m   1829\u001b[0m \u001b[43m    \u001b[49m\u001b[43mpast_key_values\u001b[49m\u001b[38;5;241;43m=\u001b[39;49m\u001b[43mpast_key_values\u001b[49m\u001b[43m,\u001b[49m\n\u001b[1;32m   1830\u001b[0m \u001b[43m    \u001b[49m\u001b[43mencoder_hidden_states\u001b[49m\u001b[38;5;241;43m=\u001b[39;49m\u001b[43mhidden_states\u001b[49m\u001b[43m,\u001b[49m\n\u001b[1;32m   1831\u001b[0m \u001b[43m    \u001b[49m\u001b[43mencoder_attention_mask\u001b[49m\u001b[38;5;241;43m=\u001b[39;49m\u001b[43mattention_mask\u001b[49m\u001b[43m,\u001b[49m\n\u001b[1;32m   1832\u001b[0m \u001b[43m    \u001b[49m\u001b[43mhead_mask\u001b[49m\u001b[38;5;241;43m=\u001b[39;49m\u001b[43mdecoder_head_mask\u001b[49m\u001b[43m,\u001b[49m\n\u001b[1;32m   1833\u001b[0m \u001b[43m    \u001b[49m\u001b[43mcross_attn_head_mask\u001b[49m\u001b[38;5;241;43m=\u001b[39;49m\u001b[43mcross_attn_head_mask\u001b[49m\u001b[43m,\u001b[49m\n\u001b[1;32m   1834\u001b[0m \u001b[43m    \u001b[49m\u001b[43muse_cache\u001b[49m\u001b[38;5;241;43m=\u001b[39;49m\u001b[43muse_cache\u001b[49m\u001b[43m,\u001b[49m\n\u001b[1;32m   1835\u001b[0m \u001b[43m    \u001b[49m\u001b[43moutput_attentions\u001b[49m\u001b[38;5;241;43m=\u001b[39;49m\u001b[43moutput_attentions\u001b[49m\u001b[43m,\u001b[49m\n\u001b[1;32m   1836\u001b[0m \u001b[43m    \u001b[49m\u001b[43moutput_unnormalized_attentions\u001b[49m\u001b[38;5;241;43m=\u001b[39;49m\u001b[43moutput_unnormalized_attentions\u001b[49m\u001b[43m,\u001b[49m\n\u001b[1;32m   1837\u001b[0m \u001b[43m    \u001b[49m\u001b[43moutput_hidden_states\u001b[49m\u001b[38;5;241;43m=\u001b[39;49m\u001b[43moutput_hidden_states\u001b[49m\u001b[43m,\u001b[49m\n\u001b[1;32m   1838\u001b[0m \u001b[43m    \u001b[49m\u001b[43mreturn_dict\u001b[49m\u001b[38;5;241;43m=\u001b[39;49m\u001b[43mreturn_dict\u001b[49m\u001b[43m,\u001b[49m\n\u001b[1;32m   1839\u001b[0m \u001b[43m\u001b[49m\u001b[43m)\u001b[49m\n\u001b[1;32m   1841\u001b[0m sequence_output \u001b[38;5;241m=\u001b[39m decoder_outputs[\u001b[38;5;241m0\u001b[39m]\n\u001b[1;32m   1843\u001b[0m \u001b[38;5;66;03m# Set device for model parallelism\u001b[39;00m\n",
      "File \u001b[0;32m/opt/conda/envs/myenv/lib/python3.9/site-packages/torch/nn/modules/module.py:1110\u001b[0m, in \u001b[0;36mModule._call_impl\u001b[0;34m(self, *input, **kwargs)\u001b[0m\n\u001b[1;32m   1106\u001b[0m \u001b[38;5;66;03m# If we don't have any hooks, we want to skip the rest of the logic in\u001b[39;00m\n\u001b[1;32m   1107\u001b[0m \u001b[38;5;66;03m# this function, and just call forward.\u001b[39;00m\n\u001b[1;32m   1108\u001b[0m \u001b[38;5;28;01mif\u001b[39;00m \u001b[38;5;129;01mnot\u001b[39;00m (\u001b[38;5;28mself\u001b[39m\u001b[38;5;241m.\u001b[39m_backward_hooks \u001b[38;5;129;01mor\u001b[39;00m \u001b[38;5;28mself\u001b[39m\u001b[38;5;241m.\u001b[39m_forward_hooks \u001b[38;5;129;01mor\u001b[39;00m \u001b[38;5;28mself\u001b[39m\u001b[38;5;241m.\u001b[39m_forward_pre_hooks \u001b[38;5;129;01mor\u001b[39;00m _global_backward_hooks\n\u001b[1;32m   1109\u001b[0m         \u001b[38;5;129;01mor\u001b[39;00m _global_forward_hooks \u001b[38;5;129;01mor\u001b[39;00m _global_forward_pre_hooks):\n\u001b[0;32m-> 1110\u001b[0m     \u001b[38;5;28;01mreturn\u001b[39;00m \u001b[43mforward_call\u001b[49m\u001b[43m(\u001b[49m\u001b[38;5;241;43m*\u001b[39;49m\u001b[38;5;28;43minput\u001b[39;49m\u001b[43m,\u001b[49m\u001b[43m \u001b[49m\u001b[38;5;241;43m*\u001b[39;49m\u001b[38;5;241;43m*\u001b[39;49m\u001b[43mkwargs\u001b[49m\u001b[43m)\u001b[49m\n\u001b[1;32m   1111\u001b[0m \u001b[38;5;66;03m# Do not call functions when jit is used\u001b[39;00m\n\u001b[1;32m   1112\u001b[0m full_backward_hooks, non_full_backward_hooks \u001b[38;5;241m=\u001b[39m [], []\n",
      "File \u001b[0;32m~/FiD/src/transformer_modules/modeling_t5.py:1028\u001b[0m, in \u001b[0;36mT5Stack.forward\u001b[0;34m(self, input_ids, attention_mask, encoder_hidden_states, encoder_attention_mask, inputs_embeds, head_mask, cross_attn_head_mask, past_key_values, use_cache, output_attentions, output_unnormalized_attentions, output_hidden_states, return_dict)\u001b[0m\n\u001b[1;32m   1015\u001b[0m     layer_outputs \u001b[38;5;241m=\u001b[39m checkpoint(\n\u001b[1;32m   1016\u001b[0m         create_custom_forward(layer_module),\n\u001b[1;32m   1017\u001b[0m         hidden_states,\n\u001b[0;32m   (...)\u001b[0m\n\u001b[1;32m   1025\u001b[0m         \u001b[38;5;28;01mNone\u001b[39;00m,  \u001b[38;5;66;03m# past_key_value is always None with gradient checkpointing\u001b[39;00m\n\u001b[1;32m   1026\u001b[0m     )\n\u001b[1;32m   1027\u001b[0m \u001b[38;5;28;01melse\u001b[39;00m:\n\u001b[0;32m-> 1028\u001b[0m     layer_outputs \u001b[38;5;241m=\u001b[39m \u001b[43mlayer_module\u001b[49m\u001b[43m(\u001b[49m\n\u001b[1;32m   1029\u001b[0m \u001b[43m        \u001b[49m\u001b[43mhidden_states\u001b[49m\u001b[43m,\u001b[49m\n\u001b[1;32m   1030\u001b[0m \u001b[43m        \u001b[49m\u001b[43mattention_mask\u001b[49m\u001b[38;5;241;43m=\u001b[39;49m\u001b[43mextended_attention_mask\u001b[49m\u001b[43m,\u001b[49m\n\u001b[1;32m   1031\u001b[0m \u001b[43m        \u001b[49m\u001b[43mposition_bias\u001b[49m\u001b[38;5;241;43m=\u001b[39;49m\u001b[43mposition_bias\u001b[49m\u001b[43m,\u001b[49m\n\u001b[1;32m   1032\u001b[0m \u001b[43m        \u001b[49m\u001b[43mencoder_hidden_states\u001b[49m\u001b[38;5;241;43m=\u001b[39;49m\u001b[43mencoder_hidden_states\u001b[49m\u001b[43m,\u001b[49m\n\u001b[1;32m   1033\u001b[0m \u001b[43m        \u001b[49m\u001b[43mencoder_attention_mask\u001b[49m\u001b[38;5;241;43m=\u001b[39;49m\u001b[43mencoder_extended_attention_mask\u001b[49m\u001b[43m,\u001b[49m\n\u001b[1;32m   1034\u001b[0m \u001b[43m        \u001b[49m\u001b[43mencoder_decoder_position_bias\u001b[49m\u001b[38;5;241;43m=\u001b[39;49m\u001b[43mencoder_decoder_position_bias\u001b[49m\u001b[43m,\u001b[49m\n\u001b[1;32m   1035\u001b[0m \u001b[43m        \u001b[49m\u001b[43mlayer_head_mask\u001b[49m\u001b[38;5;241;43m=\u001b[39;49m\u001b[43mlayer_head_mask\u001b[49m\u001b[43m,\u001b[49m\n\u001b[1;32m   1036\u001b[0m \u001b[43m        \u001b[49m\u001b[43mcross_attn_layer_head_mask\u001b[49m\u001b[38;5;241;43m=\u001b[39;49m\u001b[43mcross_attn_layer_head_mask\u001b[49m\u001b[43m,\u001b[49m\n\u001b[1;32m   1037\u001b[0m \u001b[43m        \u001b[49m\u001b[43mpast_key_value\u001b[49m\u001b[38;5;241;43m=\u001b[39;49m\u001b[43mpast_key_value\u001b[49m\u001b[43m,\u001b[49m\n\u001b[1;32m   1038\u001b[0m \u001b[43m        \u001b[49m\u001b[43muse_cache\u001b[49m\u001b[38;5;241;43m=\u001b[39;49m\u001b[43muse_cache\u001b[49m\u001b[43m,\u001b[49m\n\u001b[1;32m   1039\u001b[0m \u001b[43m        \u001b[49m\u001b[43moutput_attentions\u001b[49m\u001b[38;5;241;43m=\u001b[39;49m\u001b[43moutput_attentions\u001b[49m\u001b[43m,\u001b[49m\n\u001b[1;32m   1040\u001b[0m \u001b[43m        \u001b[49m\u001b[43moutput_unnormalized_attentions\u001b[49m\u001b[38;5;241;43m=\u001b[39;49m\u001b[43moutput_unnormalized_attentions\u001b[49m\n\u001b[1;32m   1041\u001b[0m \u001b[43m    \u001b[49m\u001b[43m)\u001b[49m\n\u001b[1;32m   1043\u001b[0m \u001b[38;5;66;03m# layer_outputs is a tuple with:\u001b[39;00m\n\u001b[1;32m   1044\u001b[0m \u001b[38;5;66;03m# hidden-states, key-value-states, (self-attention position bias), (self-attention weights), (cross-attention position bias), (cross-attention weights)\u001b[39;00m\n\u001b[1;32m   1045\u001b[0m \u001b[38;5;28;01mif\u001b[39;00m use_cache \u001b[38;5;129;01mis\u001b[39;00m \u001b[38;5;28;01mFalse\u001b[39;00m:\n",
      "File \u001b[0;32m/opt/conda/envs/myenv/lib/python3.9/site-packages/torch/nn/modules/module.py:1110\u001b[0m, in \u001b[0;36mModule._call_impl\u001b[0;34m(self, *input, **kwargs)\u001b[0m\n\u001b[1;32m   1106\u001b[0m \u001b[38;5;66;03m# If we don't have any hooks, we want to skip the rest of the logic in\u001b[39;00m\n\u001b[1;32m   1107\u001b[0m \u001b[38;5;66;03m# this function, and just call forward.\u001b[39;00m\n\u001b[1;32m   1108\u001b[0m \u001b[38;5;28;01mif\u001b[39;00m \u001b[38;5;129;01mnot\u001b[39;00m (\u001b[38;5;28mself\u001b[39m\u001b[38;5;241m.\u001b[39m_backward_hooks \u001b[38;5;129;01mor\u001b[39;00m \u001b[38;5;28mself\u001b[39m\u001b[38;5;241m.\u001b[39m_forward_hooks \u001b[38;5;129;01mor\u001b[39;00m \u001b[38;5;28mself\u001b[39m\u001b[38;5;241m.\u001b[39m_forward_pre_hooks \u001b[38;5;129;01mor\u001b[39;00m _global_backward_hooks\n\u001b[1;32m   1109\u001b[0m         \u001b[38;5;129;01mor\u001b[39;00m _global_forward_hooks \u001b[38;5;129;01mor\u001b[39;00m _global_forward_pre_hooks):\n\u001b[0;32m-> 1110\u001b[0m     \u001b[38;5;28;01mreturn\u001b[39;00m \u001b[43mforward_call\u001b[49m\u001b[43m(\u001b[49m\u001b[38;5;241;43m*\u001b[39;49m\u001b[38;5;28;43minput\u001b[39;49m\u001b[43m,\u001b[49m\u001b[43m \u001b[49m\u001b[38;5;241;43m*\u001b[39;49m\u001b[38;5;241;43m*\u001b[39;49m\u001b[43mkwargs\u001b[49m\u001b[43m)\u001b[49m\n\u001b[1;32m   1111\u001b[0m \u001b[38;5;66;03m# Do not call functions when jit is used\u001b[39;00m\n\u001b[1;32m   1112\u001b[0m full_backward_hooks, non_full_backward_hooks \u001b[38;5;241m=\u001b[39m [], []\n",
      "File \u001b[0;32m~/FiD/src/transformer_modules/modeling_t5.py:693\u001b[0m, in \u001b[0;36mT5Block.forward\u001b[0;34m(self, hidden_states, attention_mask, position_bias, encoder_hidden_states, encoder_attention_mask, encoder_decoder_position_bias, layer_head_mask, cross_attn_layer_head_mask, past_key_value, use_cache, output_attentions, output_unnormalized_attentions, return_dict)\u001b[0m\n\u001b[1;32m    690\u001b[0m \u001b[38;5;28;01melse\u001b[39;00m:\n\u001b[1;32m    691\u001b[0m     query_length \u001b[38;5;241m=\u001b[39m \u001b[38;5;28;01mNone\u001b[39;00m\n\u001b[0;32m--> 693\u001b[0m cross_attention_outputs \u001b[38;5;241m=\u001b[39m \u001b[38;5;28;43mself\u001b[39;49m\u001b[38;5;241;43m.\u001b[39;49m\u001b[43mlayer\u001b[49m\u001b[43m[\u001b[49m\u001b[38;5;241;43m1\u001b[39;49m\u001b[43m]\u001b[49m\u001b[43m(\u001b[49m\n\u001b[1;32m    694\u001b[0m \u001b[43m    \u001b[49m\u001b[43mhidden_states\u001b[49m\u001b[43m,\u001b[49m\n\u001b[1;32m    695\u001b[0m \u001b[43m    \u001b[49m\u001b[43mkey_value_states\u001b[49m\u001b[38;5;241;43m=\u001b[39;49m\u001b[43mencoder_hidden_states\u001b[49m\u001b[43m,\u001b[49m\n\u001b[1;32m    696\u001b[0m \u001b[43m    \u001b[49m\u001b[43mattention_mask\u001b[49m\u001b[38;5;241;43m=\u001b[39;49m\u001b[43mencoder_attention_mask\u001b[49m\u001b[43m,\u001b[49m\n\u001b[1;32m    697\u001b[0m \u001b[43m    \u001b[49m\u001b[43mposition_bias\u001b[49m\u001b[38;5;241;43m=\u001b[39;49m\u001b[43mencoder_decoder_position_bias\u001b[49m\u001b[43m,\u001b[49m\n\u001b[1;32m    698\u001b[0m \u001b[43m    \u001b[49m\u001b[43mlayer_head_mask\u001b[49m\u001b[38;5;241;43m=\u001b[39;49m\u001b[43mcross_attn_layer_head_mask\u001b[49m\u001b[43m,\u001b[49m\n\u001b[1;32m    699\u001b[0m \u001b[43m    \u001b[49m\u001b[43mpast_key_value\u001b[49m\u001b[38;5;241;43m=\u001b[39;49m\u001b[43mcross_attn_past_key_value\u001b[49m\u001b[43m,\u001b[49m\n\u001b[1;32m    700\u001b[0m \u001b[43m    \u001b[49m\u001b[43mquery_length\u001b[49m\u001b[38;5;241;43m=\u001b[39;49m\u001b[43mquery_length\u001b[49m\u001b[43m,\u001b[49m\n\u001b[1;32m    701\u001b[0m \u001b[43m    \u001b[49m\u001b[43muse_cache\u001b[49m\u001b[38;5;241;43m=\u001b[39;49m\u001b[43muse_cache\u001b[49m\u001b[43m,\u001b[49m\n\u001b[1;32m    702\u001b[0m \u001b[43m    \u001b[49m\u001b[43moutput_attentions\u001b[49m\u001b[38;5;241;43m=\u001b[39;49m\u001b[43moutput_attentions\u001b[49m\u001b[43m,\u001b[49m\n\u001b[1;32m    703\u001b[0m \u001b[43m    \u001b[49m\u001b[43moutput_unnormalized_attentions\u001b[49m\u001b[38;5;241;43m=\u001b[39;49m\u001b[43moutput_unnormalized_attentions\u001b[49m\n\u001b[1;32m    704\u001b[0m \u001b[43m\u001b[49m\u001b[43m)\u001b[49m\n\u001b[1;32m    705\u001b[0m hidden_states \u001b[38;5;241m=\u001b[39m cross_attention_outputs[\u001b[38;5;241m0\u001b[39m]\n\u001b[1;32m    707\u001b[0m \u001b[38;5;66;03m# clamp inf values to enable fp16 training\u001b[39;00m\n",
      "File \u001b[0;32m/opt/conda/envs/myenv/lib/python3.9/site-packages/torch/nn/modules/module.py:1110\u001b[0m, in \u001b[0;36mModule._call_impl\u001b[0;34m(self, *input, **kwargs)\u001b[0m\n\u001b[1;32m   1106\u001b[0m \u001b[38;5;66;03m# If we don't have any hooks, we want to skip the rest of the logic in\u001b[39;00m\n\u001b[1;32m   1107\u001b[0m \u001b[38;5;66;03m# this function, and just call forward.\u001b[39;00m\n\u001b[1;32m   1108\u001b[0m \u001b[38;5;28;01mif\u001b[39;00m \u001b[38;5;129;01mnot\u001b[39;00m (\u001b[38;5;28mself\u001b[39m\u001b[38;5;241m.\u001b[39m_backward_hooks \u001b[38;5;129;01mor\u001b[39;00m \u001b[38;5;28mself\u001b[39m\u001b[38;5;241m.\u001b[39m_forward_hooks \u001b[38;5;129;01mor\u001b[39;00m \u001b[38;5;28mself\u001b[39m\u001b[38;5;241m.\u001b[39m_forward_pre_hooks \u001b[38;5;129;01mor\u001b[39;00m _global_backward_hooks\n\u001b[1;32m   1109\u001b[0m         \u001b[38;5;129;01mor\u001b[39;00m _global_forward_hooks \u001b[38;5;129;01mor\u001b[39;00m _global_forward_pre_hooks):\n\u001b[0;32m-> 1110\u001b[0m     \u001b[38;5;28;01mreturn\u001b[39;00m \u001b[43mforward_call\u001b[49m\u001b[43m(\u001b[49m\u001b[38;5;241;43m*\u001b[39;49m\u001b[38;5;28;43minput\u001b[39;49m\u001b[43m,\u001b[49m\u001b[43m \u001b[49m\u001b[38;5;241;43m*\u001b[39;49m\u001b[38;5;241;43m*\u001b[39;49m\u001b[43mkwargs\u001b[49m\u001b[43m)\u001b[49m\n\u001b[1;32m   1111\u001b[0m \u001b[38;5;66;03m# Do not call functions when jit is used\u001b[39;00m\n\u001b[1;32m   1112\u001b[0m full_backward_hooks, non_full_backward_hooks \u001b[38;5;241m=\u001b[39m [], []\n",
      "File \u001b[0;32m~/FiD/src/transformer_modules/modeling_t5.py:617\u001b[0m, in \u001b[0;36mT5LayerCrossAttention.forward\u001b[0;34m(self, hidden_states, key_value_states, attention_mask, position_bias, layer_head_mask, past_key_value, use_cache, query_length, output_attentions, output_unnormalized_attentions)\u001b[0m\n\u001b[1;32m    604\u001b[0m normed_hidden_states \u001b[38;5;241m=\u001b[39m \u001b[38;5;28mself\u001b[39m\u001b[38;5;241m.\u001b[39mlayer_norm(hidden_states)\n\u001b[1;32m    605\u001b[0m attention_output \u001b[38;5;241m=\u001b[39m \u001b[38;5;28mself\u001b[39m\u001b[38;5;241m.\u001b[39mEncDecAttention(\n\u001b[1;32m    606\u001b[0m     normed_hidden_states,\n\u001b[1;32m    607\u001b[0m     mask\u001b[38;5;241m=\u001b[39mattention_mask,\n\u001b[0;32m   (...)\u001b[0m\n\u001b[1;32m    615\u001b[0m     output_unnormalized_attentions\u001b[38;5;241m=\u001b[39moutput_unnormalized_attentions\n\u001b[1;32m    616\u001b[0m )\n\u001b[0;32m--> 617\u001b[0m layer_output \u001b[38;5;241m=\u001b[39m hidden_states \u001b[38;5;241m+\u001b[39m \u001b[38;5;28;43mself\u001b[39;49m\u001b[38;5;241;43m.\u001b[39;49m\u001b[43mdropout\u001b[49m\u001b[43m(\u001b[49m\u001b[43mattention_output\u001b[49m\u001b[43m[\u001b[49m\u001b[38;5;241;43m0\u001b[39;49m\u001b[43m]\u001b[49m\u001b[43m)\u001b[49m\n\u001b[1;32m    618\u001b[0m outputs \u001b[38;5;241m=\u001b[39m (layer_output,) \u001b[38;5;241m+\u001b[39m attention_output[\u001b[38;5;241m1\u001b[39m:]  \u001b[38;5;66;03m# add attentions if we output them\u001b[39;00m\n\u001b[1;32m    619\u001b[0m \u001b[38;5;28;01mreturn\u001b[39;00m outputs\n",
      "File \u001b[0;32m/opt/conda/envs/myenv/lib/python3.9/site-packages/torch/nn/modules/module.py:1110\u001b[0m, in \u001b[0;36mModule._call_impl\u001b[0;34m(self, *input, **kwargs)\u001b[0m\n\u001b[1;32m   1106\u001b[0m \u001b[38;5;66;03m# If we don't have any hooks, we want to skip the rest of the logic in\u001b[39;00m\n\u001b[1;32m   1107\u001b[0m \u001b[38;5;66;03m# this function, and just call forward.\u001b[39;00m\n\u001b[1;32m   1108\u001b[0m \u001b[38;5;28;01mif\u001b[39;00m \u001b[38;5;129;01mnot\u001b[39;00m (\u001b[38;5;28mself\u001b[39m\u001b[38;5;241m.\u001b[39m_backward_hooks \u001b[38;5;129;01mor\u001b[39;00m \u001b[38;5;28mself\u001b[39m\u001b[38;5;241m.\u001b[39m_forward_hooks \u001b[38;5;129;01mor\u001b[39;00m \u001b[38;5;28mself\u001b[39m\u001b[38;5;241m.\u001b[39m_forward_pre_hooks \u001b[38;5;129;01mor\u001b[39;00m _global_backward_hooks\n\u001b[1;32m   1109\u001b[0m         \u001b[38;5;129;01mor\u001b[39;00m _global_forward_hooks \u001b[38;5;129;01mor\u001b[39;00m _global_forward_pre_hooks):\n\u001b[0;32m-> 1110\u001b[0m     \u001b[38;5;28;01mreturn\u001b[39;00m \u001b[43mforward_call\u001b[49m\u001b[43m(\u001b[49m\u001b[38;5;241;43m*\u001b[39;49m\u001b[38;5;28;43minput\u001b[39;49m\u001b[43m,\u001b[49m\u001b[43m \u001b[49m\u001b[38;5;241;43m*\u001b[39;49m\u001b[38;5;241;43m*\u001b[39;49m\u001b[43mkwargs\u001b[49m\u001b[43m)\u001b[49m\n\u001b[1;32m   1111\u001b[0m \u001b[38;5;66;03m# Do not call functions when jit is used\u001b[39;00m\n\u001b[1;32m   1112\u001b[0m full_backward_hooks, non_full_backward_hooks \u001b[38;5;241m=\u001b[39m [], []\n",
      "File \u001b[0;32m/opt/conda/envs/myenv/lib/python3.9/site-packages/torch/nn/modules/dropout.py:58\u001b[0m, in \u001b[0;36mDropout.forward\u001b[0;34m(self, input)\u001b[0m\n\u001b[1;32m     57\u001b[0m \u001b[38;5;28;01mdef\u001b[39;00m \u001b[38;5;21mforward\u001b[39m(\u001b[38;5;28mself\u001b[39m, \u001b[38;5;28minput\u001b[39m: Tensor) \u001b[38;5;241m-\u001b[39m\u001b[38;5;241m>\u001b[39m Tensor:\n\u001b[0;32m---> 58\u001b[0m     \u001b[38;5;28;01mreturn\u001b[39;00m \u001b[43mF\u001b[49m\u001b[38;5;241;43m.\u001b[39;49m\u001b[43mdropout\u001b[49m\u001b[43m(\u001b[49m\u001b[38;5;28;43minput\u001b[39;49m\u001b[43m,\u001b[49m\u001b[43m \u001b[49m\u001b[38;5;28;43mself\u001b[39;49m\u001b[38;5;241;43m.\u001b[39;49m\u001b[43mp\u001b[49m\u001b[43m,\u001b[49m\u001b[43m \u001b[49m\u001b[38;5;28;43mself\u001b[39;49m\u001b[38;5;241;43m.\u001b[39;49m\u001b[43mtraining\u001b[49m\u001b[43m,\u001b[49m\u001b[43m \u001b[49m\u001b[38;5;28;43mself\u001b[39;49m\u001b[38;5;241;43m.\u001b[39;49m\u001b[43minplace\u001b[49m\u001b[43m)\u001b[49m\n",
      "File \u001b[0;32m/opt/conda/envs/myenv/lib/python3.9/site-packages/torch/nn/functional.py:1279\u001b[0m, in \u001b[0;36mdropout\u001b[0;34m(input, p, training, inplace)\u001b[0m\n\u001b[1;32m   1277\u001b[0m \u001b[38;5;28;01mif\u001b[39;00m p \u001b[38;5;241m<\u001b[39m \u001b[38;5;241m0.0\u001b[39m \u001b[38;5;129;01mor\u001b[39;00m p \u001b[38;5;241m>\u001b[39m \u001b[38;5;241m1.0\u001b[39m:\n\u001b[1;32m   1278\u001b[0m     \u001b[38;5;28;01mraise\u001b[39;00m \u001b[38;5;167;01mValueError\u001b[39;00m(\u001b[38;5;124m\"\u001b[39m\u001b[38;5;124mdropout probability has to be between 0 and 1, \u001b[39m\u001b[38;5;124m\"\u001b[39m \u001b[38;5;124m\"\u001b[39m\u001b[38;5;124mbut got \u001b[39m\u001b[38;5;132;01m{}\u001b[39;00m\u001b[38;5;124m\"\u001b[39m\u001b[38;5;241m.\u001b[39mformat(p))\n\u001b[0;32m-> 1279\u001b[0m \u001b[38;5;28;01mreturn\u001b[39;00m _VF\u001b[38;5;241m.\u001b[39mdropout_(\u001b[38;5;28minput\u001b[39m, p, training) \u001b[38;5;28;01mif\u001b[39;00m inplace \u001b[38;5;28;01melse\u001b[39;00m \u001b[43m_VF\u001b[49m\u001b[38;5;241;43m.\u001b[39;49m\u001b[43mdropout\u001b[49m\u001b[43m(\u001b[49m\u001b[38;5;28;43minput\u001b[39;49m\u001b[43m,\u001b[49m\u001b[43m \u001b[49m\u001b[43mp\u001b[49m\u001b[43m,\u001b[49m\u001b[43m \u001b[49m\u001b[43mtraining\u001b[49m\u001b[43m)\u001b[49m\n",
      "\u001b[0;31mKeyboardInterrupt\u001b[0m: "
     ]
    }
   ],
   "source": [
    "for i, batch in tqdm(enumerate(dataloader_dev)):\n",
    "    (idx, labels, _, context_ids, context_mask) = batch\n",
    "            \n",
    "    # print(i)\n",
    "    \n",
    "    # if i in low_rouge_similarity_indices:\n",
    "    \n",
    "    print(i)\n",
    "    with torch.no_grad():\n",
    "\n",
    "        generated_output, log_prob = model.generate(\n",
    "                input_ids=context_ids.cuda(),\n",
    "                attention_mask=context_mask.cuda(),\n",
    "                do_sample=False,\n",
    "                max_length=150,\n",
    "                top_p=0.9,\n",
    "                temperature=1.0,\n",
    "                output_confidence=True,\n",
    "\n",
    "            )\n",
    "\n",
    "        model_forward = model.forward(\n",
    "            input_ids=context_ids.cuda(),\n",
    "            attention_mask=context_mask.cuda(),\n",
    "            # decoder_input_ids=labels.cuda(),\n",
    "            decoder_input_ids=generated_output.cuda(),\n",
    "            output_attentions=True,\n",
    "            output_unnormalized_attentions=True,\n",
    "        )\n",
    "\n",
    "    cross_attentions = model_forward.cross_attentions\n",
    "    stacked_forward_attentions = torch.cat(cross_attentions, dim=0)\n",
    "    msk = torch.reshape(context_mask, (1, context_mask.shape[1]*context_mask.shape[2])).cuda()\n",
    "\n",
    "    masked_stacked_forward_attentions = stacked_forward_attentions.masked_fill(msk == False, -10000.0)\n",
    "\n",
    "    avg_attn_matrix = torch.mean(masked_stacked_forward_attentions, dim=(0, 1)).cpu()\n",
    "    context_ids_reshaped = torch.reshape(context_ids, (1, context_ids.shape[1]*context_ids.shape[2]))\n",
    "    all_input_tokens = tokenizer.convert_ids_to_tokens(context_ids_reshaped[0])\n",
    "\n",
    "    start_pattern = ['▁title', ':', '▁context', ':']\n",
    "    end_pattern = ['</s>']\n",
    "\n",
    "    start_index_pattern = subfinder(all_input_tokens, start_pattern)\n",
    "    end_index_pattern = subfinder(all_input_tokens, end_pattern)\n",
    "\n",
    "    start_indices = [el[0] for el in start_index_pattern]\n",
    "    end_indices = [el[0] for el in end_index_pattern]\n",
    "\n",
    "    relevant_ranges = [(start_index, end_index - 1) for start_index, end_index in zip(start_indices, end_indices)]\n",
    "    print(relevant_ranges)\n",
    "    \n",
    "    mean_savgols = []\n",
    "    for relevant_range in relevant_ranges:\n",
    "        spliced_attn_matrix = avg_attn_matrix[:, relevant_range[0]:relevant_range[1]]\n",
    "\n",
    "        maxpool = torch.max(spliced_attn_matrix, axis=0).values.cpu().numpy()\n",
    "        minpool = torch.min(spliced_attn_matrix, axis=0).values.cpu().numpy()\n",
    "\n",
    "        m = maxpool\n",
    "        # m = maxpool - minpool\n",
    "        try:\n",
    "            savgol = scipy.signal.savgol_filter(m, 10, 3)\n",
    "\n",
    "        except ValueError:\n",
    "            try:\n",
    "                savgol = scipy.signal.savgol_filter(m, 5, 3)\n",
    "\n",
    "            except ValueError:\n",
    "                try:\n",
    "                    savgol = scipy.signal.savgol_filter(m, 3, 2)\n",
    "\n",
    "                except ValueError:\n",
    "                    try:\n",
    "                        savgol = scipy.signal.savgol_filter(m, 2, 1)\n",
    "\n",
    "                    except ValueError:\n",
    "                        try:\n",
    "                            savgol = scipy.signal.savgol_filter(m, 1, 0)\n",
    "\n",
    "                        except ValueError:\n",
    "                            savgol = [-float('inf')]\n",
    "\n",
    "        mean_savgol = np.mean(savgol)\n",
    "\n",
    "        mean_savgols.append(mean_savgol)\n",
    "\n",
    "    passage_max_scores.append(max(mean_savgols))\n",
    "    passage_mean_scores.append(np.mean(mean_savgols))\n",
    "    print(mean_savgols)\n",
    "    \n",
    "    rouge_scores.append(rouge_matches[i][2])\n",
    "    log_probs.append(log_prob)\n",
    "    print(max(mean_savgols), min(mean_savgols))\n",
    "    print(rouge_matches[i][2])\n",
    "    \n",
    "    mean_savgols_np = np.array(mean_savgols)\n",
    "    topk_means_savgols = np.partition(mean_savgols_np, -topk_passages)[-topk_passages:]\n",
    "    \n",
    "    print(topk_means_savgols)\n",
    "    \n",
    "    mean_topk_mean_savgols = np.mean(topk_means_savgols)\n",
    "    std_topk_mean_savgols = np.std(topk_means_savgols)\n",
    "    \n",
    "    print(std_topk_mean_savgols)\n",
    "    \n",
    "    topk_passage_means.append(mean_topk_mean_savgols)\n",
    "    topk_passage_stdevs.append(std_topk_mean_savgols)\n",
    "  \n"
   ]
  },
  {
   "cell_type": "code",
   "execution_count": null,
   "id": "ef1c5b65-498f-4e00-b7fa-8f3184345685",
   "metadata": {},
   "outputs": [],
   "source": [
    "zipped_means = list(zip(log_probs, rouge_scores, topk_passage_means))\n",
    "zipped_stdevs = list(zip(log_probs, rouge_scores, topk_passage_stdevs))"
   ]
  },
  {
   "cell_type": "code",
   "execution_count": 28,
   "id": "5277b8b7-a67e-4989-a7a5-7005a922cb52",
   "metadata": {},
   "outputs": [],
   "source": [
    "topk_passage_means = np.load(\"../numpy_drops/topk_passage_means_p09_t07.npy\")\n",
    "topk_passage_stdevs = np.load(\"../numpy_drops/topk_passage_stdevs_p09_t07.npy\")\n",
    "rouge_scores = [el[2] for el in rouge_matches]\n",
    "log_probs = [el[3].astype('float') for el in rouge_matches]"
   ]
  },
  {
   "cell_type": "code",
   "execution_count": 29,
   "id": "3f12b3fd-8b1c-4f25-bd6a-3d9637fc681d",
   "metadata": {},
   "outputs": [
    {
     "data": {
      "text/plain": [
       "386"
      ]
     },
     "execution_count": 29,
     "metadata": {},
     "output_type": "execute_result"
    }
   ],
   "source": [
    "zipped_means_stdevs = list(zip(rouge_scores, log_probs, topk_passage_means, topk_passage_stdevs))\n",
    "len(zipped_means_stdevs)"
   ]
  },
  {
   "cell_type": "code",
   "execution_count": 30,
   "id": "f482ce83-ec14-45e6-9df8-26efdde35fde",
   "metadata": {},
   "outputs": [
    {
     "name": "stdout",
     "output_type": "stream",
     "text": [
      "169\n",
      "217\n"
     ]
    }
   ],
   "source": [
    "rouge_threshold = 0.7\n",
    "\n",
    "corrects_rouge = [(el[1], el[2], el[3]) for el in zipped_means_stdevs if el[0] >= rouge_threshold]\n",
    "incorrects_rouge = [(el[1], el[2], el[3]) for el in zipped_means_stdevs if el[0] < rouge_threshold]\n",
    "\n",
    "print(len(corrects_rouge))\n",
    "print(len(incorrects_rouge))"
   ]
  },
  {
   "cell_type": "code",
   "execution_count": 31,
   "id": "41493bc1-a25e-4188-b0d6-abd3228b12b7",
   "metadata": {},
   "outputs": [],
   "source": [
    "y_scores_rouge = corrects_rouge + incorrects_rouge\n",
    "y_true_rouge = list(np.zeros(len(corrects_rouge)).astype(int)) + list(np.ones(len(incorrects_rouge)).astype(int))\n"
   ]
  },
  {
   "cell_type": "code",
   "execution_count": 47,
   "id": "263987d2-9d45-4fe0-bcb0-af27794cf7c0",
   "metadata": {},
   "outputs": [
    {
     "name": "stdout",
     "output_type": "stream",
     "text": [
      "precision: 0.7571428571428571\n",
      "recall: 0.3136094674556213\n"
     ]
    }
   ],
   "source": [
    "threshold_output = 0.0001\n",
    "threshold_mean = -9.0\n",
    "threshold_stdev = 1.0\n",
    "\n",
    "label_scores = list(zip(y_true_rouge, y_scores_rouge))\n",
    "\n",
    "predicted_positive = [el for el in label_scores if (el[1][0] <= threshold_output and el[1][1] >= threshold_mean and el[1][2] <= threshold_stdev)]\n",
    "predicted_negative = [el for el in label_scores if el not in predicted_positive]\n",
    "\n",
    "true_positive = len([el for el in predicted_positive if el[0] == 0])\n",
    "false_positive = len([el for el in predicted_positive if el[0] == 1])\n",
    "\n",
    "true_negative = len([el for el in predicted_negative if el[0] == 1])\n",
    "false_negative = len([el for el in predicted_negative if el[0] == 0])\n",
    "\n",
    "precision = true_positive / (true_positive + false_positive)\n",
    "recall = true_positive / (true_positive + false_negative)\n",
    "\n",
    "\n",
    "print(f\"precision: {precision}\")\n",
    "print(f\"recall: {recall}\")"
   ]
  },
  {
   "cell_type": "code",
   "execution_count": 48,
   "id": "685f0f07-4fb2-44a3-a2fb-95a5003211a0",
   "metadata": {},
   "outputs": [
    {
     "name": "stdout",
     "output_type": "stream",
     "text": [
      "total examples: 386\n",
      "fraction allowed through: 0.18134715025906736\n"
     ]
    }
   ],
   "source": [
    "total_examples = len(predicted_positive) + len(predicted_negative)\n",
    "\n",
    "print(f\"total examples: {total_examples}\")\n",
    "\n",
    "allowed_through = true_positive + false_positive\n",
    "\n",
    "fraction_allowed_through = allowed_through / total_examples\n",
    "\n",
    "print(f\"fraction allowed through: {fraction_allowed_through}\")"
   ]
  },
  {
   "cell_type": "code",
   "execution_count": null,
   "id": "91f6898e-b83d-450a-8f62-e7c53c0e2075",
   "metadata": {},
   "outputs": [],
   "source": []
  },
  {
   "cell_type": "code",
   "execution_count": null,
   "id": "f03f02bd-d9f4-4438-b913-269d3aac9419",
   "metadata": {},
   "outputs": [],
   "source": []
  },
  {
   "cell_type": "code",
   "execution_count": null,
   "id": "0d29417f-7f50-4f01-bb53-5a66c8d3c122",
   "metadata": {},
   "outputs": [],
   "source": []
  },
  {
   "cell_type": "code",
   "execution_count": null,
   "id": "4d01645b-0210-4ef7-bf0d-e2e74243387e",
   "metadata": {},
   "outputs": [],
   "source": []
  },
  {
   "cell_type": "code",
   "execution_count": null,
   "id": "002b4d1e-78c1-4bea-b583-3ccf2ba52127",
   "metadata": {},
   "outputs": [],
   "source": []
  },
  {
   "cell_type": "code",
   "execution_count": null,
   "id": "45c8e32b-4676-41b8-b836-4702d2115d2c",
   "metadata": {},
   "outputs": [],
   "source": []
  },
  {
   "cell_type": "code",
   "execution_count": null,
   "id": "309581a7-b73b-4e49-b038-55c60cf91579",
   "metadata": {},
   "outputs": [],
   "source": []
  },
  {
   "cell_type": "code",
   "execution_count": null,
   "id": "4bc3b479-8e1a-4c8b-8825-3850574536b1",
   "metadata": {},
   "outputs": [],
   "source": []
  },
  {
   "cell_type": "code",
   "execution_count": null,
   "id": "2bfa0bc9-e030-4a3c-b0be-8a98ee0aefe6",
   "metadata": {},
   "outputs": [],
   "source": []
  },
  {
   "cell_type": "code",
   "execution_count": null,
   "id": "302a0144-bdcb-4beb-943b-8997990830cf",
   "metadata": {},
   "outputs": [],
   "source": [
    "stdev_threshold = 0.3\n",
    "rouge_threshold = 0.7"
   ]
  },
  {
   "cell_type": "code",
   "execution_count": null,
   "id": "e937bbdd-0c7a-441f-8821-f7dbe3192886",
   "metadata": {},
   "outputs": [],
   "source": [
    "len(zipped_stdevs)"
   ]
  },
  {
   "cell_type": "code",
   "execution_count": null,
   "id": "864ac097-95f7-4580-abaf-a783e7d2673a",
   "metadata": {},
   "outputs": [],
   "source": [
    "correct_zipped_stdevs = [el for el in zipped_stdevs if el[1] >= rouge_threshold]\n",
    "correct_zipped_stdevs_thresholded = [el for el in correct_zipped_stdevs if el[2] <= stdev_threshold]\n",
    "\n",
    "incorrect_zipped_stdevs = [el for el in zipped_stdevs if el[1] < rouge_threshold]\n",
    "incorrect_zipped_stdevs_thresholded = [el for el in zipped_stdevs if el[2] > stdev_threshold]"
   ]
  },
  {
   "cell_type": "code",
   "execution_count": null,
   "id": "5008dc13-f847-46d1-86a6-6c944c097ea4",
   "metadata": {},
   "outputs": [],
   "source": [
    "correct_zipped_means = [el for el in zipped_means if el[1] >= 0.7]\n",
    "correct_zipped_means_thresholded = [el for el in correct_zipped_means if el[2] >= 0.0]\n",
    "\n",
    "incorrect_zipped_means = [el for el in zipped_means if el[1] < 0.7]"
   ]
  },
  {
   "cell_type": "code",
   "execution_count": null,
   "id": "da0cfc32-b1b8-40bf-a693-b5ba9b4fa921",
   "metadata": {},
   "outputs": [],
   "source": [
    "print(len(correct_zipped_stdevs))\n",
    "print(len(incorrect_zipped_stdevs))"
   ]
  },
  {
   "cell_type": "code",
   "execution_count": null,
   "id": "8558c8e3-f6c2-4d46-8032-1a54cab5b53a",
   "metadata": {},
   "outputs": [],
   "source": [
    "print(len(correct_zipped_stdevs_thresholded))\n",
    "print(len(incorrect_zipped_stdevs_thresholded))"
   ]
  },
  {
   "cell_type": "code",
   "execution_count": null,
   "id": "e79bcd36-c3ad-441f-910a-9902dc8936b1",
   "metadata": {},
   "outputs": [],
   "source": [
    "fig = plt.figure(figsize=(8,8), facecolor=\"white\")\n",
    "ax = fig.add_subplot(111)\n",
    "\n",
    "corrects_unzipped = list(zip(*correct_zipped_stdevs))\n",
    "corrects_unzipped_thresholded = list(zip(*correct_zipped_stdevs_thresholded))\n",
    "\n",
    "ax.scatter(list(range(len(corrects_unzipped[0]))), corrects_unzipped[0], color='red')\n",
    "ax.scatter(list(range(len(corrects_unzipped_thresholded[0]))), corrects_unzipped_thresholded[0], color='orange')"
   ]
  },
  {
   "cell_type": "code",
   "execution_count": null,
   "id": "2da7a2f5-a659-4285-ae58-56c87ae3fe4a",
   "metadata": {},
   "outputs": [],
   "source": []
  },
  {
   "cell_type": "code",
   "execution_count": null,
   "id": "7397c1e3-bd78-4710-8b89-56f46e34980a",
   "metadata": {},
   "outputs": [],
   "source": []
  },
  {
   "cell_type": "code",
   "execution_count": null,
   "id": "b6dfa392-eecd-46da-98da-d267ae0d9f7e",
   "metadata": {},
   "outputs": [],
   "source": []
  },
  {
   "cell_type": "code",
   "execution_count": null,
   "id": "db17088e-97f2-49e2-8d92-6290ebba64cd",
   "metadata": {},
   "outputs": [],
   "source": []
  },
  {
   "cell_type": "code",
   "execution_count": null,
   "id": "8486100d-1207-47f9-9c79-4bccc6aacba2",
   "metadata": {},
   "outputs": [],
   "source": []
  },
  {
   "cell_type": "code",
   "execution_count": null,
   "id": "4b8b6d36-1da3-41ae-8fbd-3eb8243f55fc",
   "metadata": {},
   "outputs": [],
   "source": []
  },
  {
   "cell_type": "code",
   "execution_count": null,
   "id": "64ebcd85-a015-4585-ae6f-fda366e13d73",
   "metadata": {},
   "outputs": [],
   "source": []
  },
  {
   "cell_type": "code",
   "execution_count": null,
   "id": "38a3c933-4b3e-49bd-a804-645aeab9c2a5",
   "metadata": {},
   "outputs": [],
   "source": []
  },
  {
   "cell_type": "code",
   "execution_count": null,
   "id": "fc36fb02-f23a-4991-85be-cfde55022736",
   "metadata": {},
   "outputs": [],
   "source": []
  },
  {
   "cell_type": "code",
   "execution_count": null,
   "id": "675654a2-dfe6-4fea-ad91-5abb9769ec05",
   "metadata": {},
   "outputs": [],
   "source": []
  },
  {
   "cell_type": "code",
   "execution_count": null,
   "id": "69542a0f-33c7-42bf-a6f3-d6c4cdd6f1eb",
   "metadata": {},
   "outputs": [],
   "source": []
  },
  {
   "cell_type": "code",
   "execution_count": null,
   "id": "a8a165f6-f241-4cea-8f43-df891af717fe",
   "metadata": {},
   "outputs": [],
   "source": [
    "plt.scatter(rouge_scores, topk_passage_means)"
   ]
  },
  {
   "cell_type": "code",
   "execution_count": null,
   "id": "91089894-46e4-4b7f-8a5d-93ff5851587a",
   "metadata": {},
   "outputs": [],
   "source": [
    "plt.scatter(rouge_scores, topk_passage_stdevs)"
   ]
  },
  {
   "cell_type": "code",
   "execution_count": null,
   "id": "c36d1848-fc63-42d0-ae3a-09479de43ea1",
   "metadata": {},
   "outputs": [],
   "source": [
    "plt.scatter(log_probs, rouge_scores)"
   ]
  },
  {
   "cell_type": "code",
   "execution_count": null,
   "id": "0d132a46-fe17-4f88-a162-d9fa95aeab74",
   "metadata": {},
   "outputs": [],
   "source": [
    "len(rouge_scores)"
   ]
  },
  {
   "cell_type": "code",
   "execution_count": null,
   "id": "89db1074-dbf8-46da-a172-983e06d5dbc1",
   "metadata": {},
   "outputs": [],
   "source": [
    "len(topk_passage_means)"
   ]
  },
  {
   "cell_type": "code",
   "execution_count": null,
   "id": "d10aeed0-1c7e-4d8f-a521-bc16931652e6",
   "metadata": {},
   "outputs": [],
   "source": [
    "fig = plt.figure(figsize=(8, 8), facecolor=\"white\")\n",
    "ax = fig.add_subplot(111)\n",
    "ax.scatter(rouge_scores, max_savgols)\n",
    "ax.set_xlabel(\"rouge score\")\n",
    "ax.set_ylabel(\"unnormalised average passage score\")\n",
    "ax.set_title(\"max passage score vs rouge similarity\")"
   ]
  },
  {
   "cell_type": "code",
   "execution_count": null,
   "id": "ea9618ab-0781-4a2f-af2d-88debebb3d2f",
   "metadata": {},
   "outputs": [],
   "source": [
    "fig = plt.figure(figsize=(8, 8), facecolor=\"white\")\n",
    "ax = fig.add_subplot(111)\n",
    "ax.scatter(log_probs, max_savgols)\n",
    "ax.set_xlabel(\"log prob score\")\n",
    "ax.set_ylabel(\"unnormalised average passage score\")\n",
    "ax.set_title(\"log prob score vs rouge similarity\")"
   ]
  },
  {
   "cell_type": "code",
   "execution_count": null,
   "id": "f7da166f-f9c7-4bea-a50c-c0657219426b",
   "metadata": {},
   "outputs": [],
   "source": [
    "fig = plt.figure(figsize=(8, 8), facecolor=\"white\")\n",
    "ax = fig.add_subplot(111)\n",
    "\n",
    "ax.scatter(list(range(len(min_savgols_high_similarity))), min_savgols_high_similarity, color = 'red', label = 'max score')\n",
    "ax.scatter(list(range(len(max_savgols_high_similarity))), max_savgols_high_similarity, color = 'blue', label = 'min score')\n",
    "ax.set_xlabel(\"example\")\n",
    "ax.set_ylabel(\"unnormalised attention score\")\n",
    "ax.set_title(\"rouge > 0.7\")\n",
    "ax.legend()"
   ]
  },
  {
   "cell_type": "code",
   "execution_count": null,
   "id": "5ab5d886-f2d5-4497-96e4-709bd4f25acd",
   "metadata": {},
   "outputs": [],
   "source": [
    "fig = plt.figure(figsize=(8, 8), facecolor=\"white\")\n",
    "ax = fig.add_subplot(111)\n",
    "\n",
    "ax.scatter(list(range(len(min_savgols_low_similarity))), min_savgols_low_similarity, color = 'red', label = 'max passage score')\n",
    "ax.scatter(list(range(len(max_savgols_low_similarity))), max_savgols_low_similarity, color = 'blue', label = 'min passage score')\n",
    "\n",
    "ax.set_xlabel(\"example\")\n",
    "ax.set_ylabel(\"unnormalised attention score\")\n",
    "ax.set_title(\"rouge < 0.3\")\n",
    "\n",
    "ax.legend()"
   ]
  },
  {
   "cell_type": "code",
   "execution_count": null,
   "id": "cc8a87d3-94a3-4fff-bea9-2afbf4a41468",
   "metadata": {},
   "outputs": [],
   "source": [
    "fig = plt.figure(figsize=(8, 8), facecolor=\"white\")\n",
    "ax = fig.add_subplot(111)\n",
    "\n",
    "ax.scatter(list(range(len(min_savgols_high_similarity))), min_savgols_high_similarity, color = 'red', label = 'high rouge score')\n",
    "ax.scatter(list(range(len(max_savgols_high_similarity))), max_savgols_high_similarity, color = 'red', label = 'high rouge score')\n",
    "\n",
    "ax.scatter(list(range(len(min_savgols_low_similarity))), min_savgols_low_similarity, color = 'blue', label = 'low rouge score')\n",
    "ax.scatter(list(range(len(max_savgols_low_similarity))), max_savgols_low_similarity, color = 'blue', label = 'low rouge score')\n",
    "\n",
    "ax.set_xlabel(\"example\")\n",
    "ax.set_ylabel(\"unnormalised attention score\")\n",
    "\n",
    "ax.legend()"
   ]
  },
  {
   "cell_type": "code",
   "execution_count": null,
   "id": "fba1fc47-2324-4e99-8b7d-999a24cd65e0",
   "metadata": {},
   "outputs": [],
   "source": [
    "fig = plt.figure(figsize=(8, 8), facecolor=\"white\")\n",
    "ax = fig.add_subplot(111)\n",
    "\n",
    "ax.scatter(list(range(len(max_savgols_high_similarity))), max_savgols_high_similarity, color = 'purple', label = 'max high similarity')\n",
    "ax.scatter(list(range(len(max_savgols_low_similarity))), max_savgols_low_similarity, color = 'orange', label = 'max low similarity')\n",
    "\n",
    "ax.set_xlabel(\"example\")\n",
    "ax.set_ylabel(\"unnormalised attention score\")\n",
    "ax.set_title(\"max passage scores, high and low similarity\")\n",
    "ax.legend()\n"
   ]
  },
  {
   "cell_type": "code",
   "execution_count": null,
   "id": "09739aea-c509-4606-98f9-3c3dba665743",
   "metadata": {},
   "outputs": [],
   "source": [
    "for i, batch in enumerate(dataloader_dev):\n",
    "    (idx, labels, _, context_ids, context_mask) = batch\n",
    "    \n",
    "    if i in example_indices:\n",
    "        \n",
    "        print(i)\n",
    "        with torch.no_grad():\n",
    "            model_forward = model.forward(\n",
    "                input_ids=context_ids.cuda(),\n",
    "                attention_mask=context_mask.cuda(),\n",
    "                decoder_input_ids=labels.cuda(),\n",
    "                output_attentions=True,\n",
    "                output_unnormalized_attentions=True,\n",
    "            )\n",
    "\n",
    "        cross_attentions = model_forward.cross_attentions\n",
    "        stacked_forward_attentions = torch.cat(cross_attentions, dim=0)\n",
    "        msk = torch.reshape(context_mask, (1, context_mask.shape[1]*context_mask.shape[2])).cuda()\n",
    "\n",
    "        masked_stacked_forward_attentions = stacked_forward_attentions.masked_fill(msk == False, -10000.0)\n",
    "\n",
    "        avg_attn_matrix = torch.mean(masked_stacked_forward_attentions, dim=(0, 1)).cpu()\n",
    "        context_ids_reshaped = torch.reshape(context_ids, (1, context_ids.shape[1]*context_ids.shape[2]))\n",
    "        all_input_tokens = tokenizer.convert_ids_to_tokens(context_ids_reshaped[0])\n",
    "\n",
    "\n",
    "\n",
    "        start_pattern = ['▁title', ':', '▁context', ':']\n",
    "        end_pattern = ['</s>']\n",
    "\n",
    "        start_index_pattern = subfinder(all_input_tokens, start_pattern)\n",
    "        end_index_pattern = subfinder(all_input_tokens, end_pattern)\n",
    "\n",
    "        start_indices = [el[0] for el in start_index_pattern]\n",
    "        end_indices = [el[0] for el in end_index_pattern]\n",
    "\n",
    "        relevant_ranges = [(start_index, end_index - 1) for start_index, end_index in zip(start_indices, end_indices)]\n",
    "    \n",
    "        print(relevant_ranges)\n",
    "        for relevant_range in relevant_ranges:\n",
    "            spliced_attn_matrix = avg_attn_matrix[:, relevant_range[0]:relevant_range[1]]\n",
    "            \n",
    "        \n",
    "            maxpool = torch.max(spliced_attn_matrix, axis=0).values.cpu().numpy()\n",
    "            minpool = torch.min(spliced_attn_matrix, axis=0).values.cpu().numpy()\n",
    "\n",
    "            m = maxpool\n",
    "            savgol = scipy.signal.savgol_filter(m, 10, 3)\n",
    "\n",
    "            print(np.mean(savgol))\n",
    "        \n",
    "        "
   ]
  },
  {
   "cell_type": "code",
   "execution_count": null,
   "id": "2453cee0-0b6c-4d64-b531-ab944762c982",
   "metadata": {},
   "outputs": [],
   "source": []
  },
  {
   "cell_type": "markdown",
   "id": "5ae3ac34-18e7-40c5-b70b-89181c9f01d2",
   "metadata": {
    "tags": []
   },
   "source": [
    "### Visualise question-stripped passages"
   ]
  },
  {
   "cell_type": "code",
   "execution_count": 22,
   "id": "77c4a84c-57f6-4bb3-a732-38ba13fd6c8d",
   "metadata": {},
   "outputs": [],
   "source": [
    "with torch.no_grad():\n",
    "    model_forward = model.forward(\n",
    "    input_ids=context_ids.cuda(),\n",
    "    attention_mask=context_mask.cuda(),\n",
    "    # decoder_input_ids=generated_output.cuda(),\n",
    "    decoder_input_ids=labels.cuda(),\n",
    "    output_attentions=True,\n",
    "    output_unnormalized_attentions=True,\n",
    "    )\n",
    "\n",
    "cross_attentions = model_forward.cross_attentions\n",
    "stacked_forward_attentions = torch.cat(cross_attentions, dim=0)\n",
    "msk = torch.reshape(context_mask, (1, context_mask.shape[1]*context_mask.shape[2])).cuda()\n",
    "\n",
    "masked_stacked_forward_attentions = stacked_forward_attentions.masked_fill(msk == False, -10000.0)\n",
    "\n",
    "avg_attn_matrix = torch.mean(masked_stacked_forward_attentions, dim=(0, 1)).cpu()"
   ]
  },
  {
   "cell_type": "code",
   "execution_count": 23,
   "id": "132d50dc-7d37-439f-a920-284b1b4bbca1",
   "metadata": {},
   "outputs": [],
   "source": [
    "def subfinder(mylist, pattern):\n",
    "    matches = []\n",
    "    for i in range(len(mylist)):\n",
    "        if mylist[i] == pattern[0] and mylist[i:i+len(pattern)] == pattern:\n",
    "            matches.append((i + len(pattern), pattern))\n",
    "    return matches"
   ]
  },
  {
   "cell_type": "code",
   "execution_count": 24,
   "id": "581f9bb5-1bbb-4918-89a5-47e4ef165d0c",
   "metadata": {},
   "outputs": [
    {
     "data": {
      "text/plain": [
       "torch.Size([3, 20000])"
      ]
     },
     "execution_count": 24,
     "metadata": {},
     "output_type": "execute_result"
    }
   ],
   "source": [
    "avg_attn_matrix.shape"
   ]
  },
  {
   "cell_type": "code",
   "execution_count": 25,
   "id": "88199dc4-129f-48b1-8ae8-5e4ae05fb2ba",
   "metadata": {},
   "outputs": [],
   "source": [
    "passage_len = context_mask.shape[2]"
   ]
  },
  {
   "cell_type": "code",
   "execution_count": 26,
   "id": "d2f4e644-df38-46e0-8624-8b05820a1906",
   "metadata": {},
   "outputs": [
    {
     "data": {
      "text/plain": [
       "torch.Size([1, 20000])"
      ]
     },
     "execution_count": 26,
     "metadata": {},
     "output_type": "execute_result"
    }
   ],
   "source": [
    "context_ids_reshaped = torch.reshape(context_ids, (1, context_ids.shape[1]*context_ids.shape[2]))\n",
    "context_ids_reshaped.shape"
   ]
  },
  {
   "cell_type": "code",
   "execution_count": 27,
   "id": "9d3eae98-b8f2-45e5-8910-47346b6f0a5a",
   "metadata": {},
   "outputs": [],
   "source": [
    "all_input_tokens = tokenizer.convert_ids_to_tokens(context_ids_reshaped[0])"
   ]
  },
  {
   "cell_type": "code",
   "execution_count": 28,
   "id": "d69cece1-6ed3-4720-8836-15c702088bec",
   "metadata": {},
   "outputs": [
    {
     "data": {
      "text/plain": [
       "[]"
      ]
     },
     "execution_count": 28,
     "metadata": {},
     "output_type": "execute_result"
    }
   ],
   "source": [
    "# start_pattern = ['▁context', ':']\n",
    "# for our legal dataset\n",
    "start_pattern = ['▁title', ':', '▁context', ':']\n",
    "end_pattern = ['</s>']\n",
    "\n",
    "start_index_pattern = subfinder(all_input_tokens, start_pattern)\n",
    "end_index_pattern = subfinder(all_input_tokens, end_pattern)\n",
    "\n",
    "start_indices = [el[0] for el in start_index_pattern]\n",
    "end_indices = [el[0] for el in end_index_pattern]\n",
    "\n",
    "# remove end of sentence token\n",
    "relevant_ranges = [(start_index, end_index - 1) for start_index, end_index in zip(start_indices, end_indices)]\n",
    "\n",
    "relevant_ranges"
   ]
  },
  {
   "cell_type": "code",
   "execution_count": 29,
   "id": "6de7152f-7e05-41c4-835b-9822e7c2c2d3",
   "metadata": {},
   "outputs": [
    {
     "data": {
      "text/plain": [
       "<Figure size 2160x2160 with 0 Axes>"
      ]
     },
     "metadata": {},
     "output_type": "display_data"
    }
   ],
   "source": [
    "fig = plt.figure(figsize=(30, 30), facecolor=\"white\")\n",
    "\n",
    "for i in range(len(relevant_ranges)):\n",
    "    plt.subplot(5, 5, i + 1)\n",
    "    relevant_range = relevant_ranges[i]\n",
    "    spliced_attn_matrix = avg_attn_matrix[:, relevant_range[0]:relevant_range[1]]\n",
    "    spliced_attn_matrix_np = spliced_attn_matrix.numpy()\n",
    "    \n",
    "    np.save(f'example_matrix_{i}.npy', spliced_attn_matrix_np)\n",
    "    im = plt.imshow(spliced_attn_matrix, cmap=plt.get_cmap('hot'), aspect='auto', vmin=-10, vmax=2)\n",
    "    \n",
    "    plt.xlabel('passage token')\n",
    "    plt.ylabel('generated truth token')"
   ]
  },
  {
   "cell_type": "code",
   "execution_count": 26,
   "id": "5ed4776d-60a0-409e-ab47-b035b14694b4",
   "metadata": {},
   "outputs": [
    {
     "name": "stdout",
     "output_type": "stream",
     "text": [
      "-1.1517304\n",
      "-2.1820424\n",
      "-0.61390436\n",
      "-0.59517896\n",
      "-0.79952306\n",
      "-1.5358268\n",
      "-0.9595901\n",
      "-0.34922308\n",
      "-0.4930195\n",
      "-0.5756873\n",
      "-1.6418923\n",
      "-2.2678573\n",
      "-1.6418923\n",
      "-2.2678573\n"
     ]
    },
    {
     "data": {
      "image/png": "[encoded data removed]",
      "text/plain": [
       "<Figure size 1440x1080 with 14 Axes>"
      ]
     },
     "metadata": {},
     "output_type": "display_data"
    }
   ],
   "source": [
    "fig = plt.figure(figsize=(20, 15), facecolor=\"white\")\n",
    "savgols = []\n",
    "for i in range(len(relevant_ranges)):\n",
    "    plt.subplot(5, 5, i + 1)\n",
    "    relevant_range = relevant_ranges[i]\n",
    "    spliced_attn_matrix = avg_attn_matrix[:, relevant_range[0]:relevant_range[1]]\n",
    "    \n",
    "    maxpool = torch.max(spliced_attn_matrix, axis=0).values.cpu().numpy()\n",
    "    minpool = torch.min(spliced_attn_matrix, axis=0).values.cpu().numpy()\n",
    "    \n",
    "    # m = maxpool - minpool\n",
    "    m = maxpool\n",
    "    # print(np.mean(m))\n",
    "    savgol = scipy.signal.savgol_filter(m, 10, 3)\n",
    "    print(np.mean(savgol))\n",
    "    savgols.append(savgol)\n",
    "    \n",
    "    plt.plot(m)\n",
    "    plt.plot(savgol, label='savitzky-golay cubic interpolation')\n",
    "    plt.legend()\n",
    "    plt.xlabel('passage_token')\n",
    "    plt.ylabel('unnormalised max attention')\n",
    "    "
   ]
  },
  {
   "cell_type": "code",
   "execution_count": 70,
   "id": "e4784ba5-1e87-4d56-a341-9038cdca2425",
   "metadata": {},
   "outputs": [
    {
     "data": {
      "image/png": "[encoded data removed]",
      "text/plain": [
       "<Figure size 1440x1440 with 1 Axes>"
      ]
     },
     "metadata": {},
     "output_type": "display_data"
    }
   ],
   "source": [
    "all_decoded_passage_tokens = tokenizer.convert_ids_to_tokens(context_ids_reshaped[0])\n",
    "decoded_labels = tokenizer.convert_ids_to_tokens(labels[0])\n",
    "\n",
    "i = 15\n",
    "\n",
    "relevant_range = relevant_ranges[i]\n",
    "spliced_attn_matrix = avg_attn_matrix[:, relevant_range[0]:relevant_range[1]]\n",
    "relevant_passage_tokens = all_decoded_passage_tokens[relevant_range[0]:relevant_range[1]]\n",
    "\n",
    "# spliced_attn_matrix = np.load('example_matrix_1.npy')\n",
    "\n",
    "fig = plt.figure(figsize=(20, 20), facecolor=\"white\")\n",
    "ax = fig.add_subplot(111)\n",
    "\n",
    "im = ax.imshow(spliced_attn_matrix, cmap=plt.get_cmap('hot'), aspect='auto', vmin=-10, vmax=2)\n",
    "\n",
    "xticks = ax.set_xticks(range(len(relevant_passage_tokens)), rotation=90)\n",
    "xlabels = ax.set_xticklabels(relevant_passage_tokens, rotation=90)\n",
    "\n",
    "yticks = ax.set_yticks(range(len(decoded_labels)), rotation=90)\n",
    "ylabels = ax.set_yticklabels(decoded_labels)\n"
   ]
  },
  {
   "cell_type": "code",
   "execution_count": null,
   "id": "7600d38d-456d-4237-af08-c52b84b36c7f",
   "metadata": {},
   "outputs": [],
   "source": [
    "i = 10\n",
    "\n",
    "peaks, properties = find_peaks(savgols[i], width=3)\n",
    "plt.plot(savgols[i])\n",
    "plt.scatter(list(peaks), [savgols[i][idx] for idx in list(peaks)], color='red')\n",
    "\n",
    "plt.vlines(x=peaks, ymin=savgols[i][peaks] - properties[\"prominences\"],\n",
    "           ymax = savgols[i][peaks], color = \"C1\")\n",
    "\n",
    "plt.hlines(y=properties[\"width_heights\"], xmin=properties[\"left_ips\"],\n",
    "           xmax=properties[\"right_ips\"], color = \"C1\")"
   ]
  },
  {
   "cell_type": "code",
   "execution_count": null,
   "id": "25e262d7-62e3-4bd2-8903-64bd5ad6a6d3",
   "metadata": {},
   "outputs": [],
   "source": []
  },
  {
   "cell_type": "markdown",
   "id": "e6670f54-d07d-4aea-96d6-9fc5acc5d351",
   "metadata": {
    "jp-MarkdownHeadingCollapsed": true,
    "tags": []
   },
   "source": [
    "### Visualise layer-head averaged cross-attention matrix"
   ]
  },
  {
   "cell_type": "code",
   "execution_count": null,
   "id": "b87c239d-a541-4571-a418-a98584decf1c",
   "metadata": {},
   "outputs": [],
   "source": [
    "# ALL RELEVANT PASSAGES\n",
    "fig = plt.figure(figsize=(20, 10), facecolor=\"white\")\n",
    "ax = fig.add_subplot()\n",
    "#ax.imshow(averaged_attention_matrix[:, :], cmap='hot', interpolation='nearest')\n",
    "im = ax.imshow(avg_attn_matrix.cpu().numpy(), cmap=plt.get_cmap('hot'), aspect='auto', vmin=-10, vmax=0)\n",
    "fig.colorbar(im)"
   ]
  },
  {
   "cell_type": "code",
   "execution_count": null,
   "id": "e7601608-1d05-4ade-bcff-c8e57984b894",
   "metadata": {},
   "outputs": [],
   "source": [
    "# ONLY FIRST PASSAGE RELEVANT \n",
    "fig = plt.figure(figsize=(20, 10), facecolor=\"white\")\n",
    "ax = fig.add_subplot()\n",
    "#ax.imshow(averaged_attention_matrix[:, :], cmap='hot', interpolation='nearest')\n",
    "im = ax.imshow(avg_attn_matrix.cpu().numpy(), cmap=plt.get_cmap('hot'), aspect='auto', vmin=-10, vmax=0)\n",
    "fig.colorbar(im)"
   ]
  },
  {
   "cell_type": "code",
   "execution_count": null,
   "id": "de61125c-6750-4a4e-b51c-08d030d70459",
   "metadata": {},
   "outputs": [],
   "source": [
    "# ALL PASSAGES IRRELEVANT\n",
    "fig = plt.figure(figsize=(20, 10), facecolor=\"white\")\n",
    "ax = fig.add_subplot()\n",
    "#ax.imshow(averaged_attention_matrix[:, :], cmap='hot', interpolation='nearest')\n",
    "im = ax.imshow(avg_attn_matrix.cpu().numpy(), cmap=plt.get_cmap('hot'), aspect='auto', vmin=-10, vmax=0)\n",
    "fig.colorbar(im)"
   ]
  },
  {
   "cell_type": "code",
   "execution_count": null,
   "id": "5c028080-4b8b-4168-aa96-cdf62571b79e",
   "metadata": {},
   "outputs": [],
   "source": [
    "# FIRST PASSAGE RELEVANT\n",
    "passage_len = context_mask.shape[2]\n",
    "start = 1\n",
    "end = 2\n",
    "\n",
    "\n",
    "decoded_passage_tokens = tokenizer.convert_ids_to_tokens(context_ids_reshaped[0][(start*passage_len):(end*passage_len)])\n",
    "decoded_labels = tokenizer.convert_ids_to_tokens(labels[0])\n",
    "\n",
    "fig = plt.figure(figsize=(20, 20), facecolor=\"white\")\n",
    "ax = fig.add_subplot(111)\n",
    "passage_1_sector = avg_attn_matrix[:, (start*passage_len):(end*passage_len)]\n",
    "im = ax.imshow(passage_1_sector, cmap=plt.get_cmap('hot'), aspect='auto', vmin=-10, vmax=0)\n",
    "\n",
    "ax.set_xticks(range(passage_len), rotation=90)\n",
    "ax.set_xticklabels(decoded_passage_tokens, rotation=90)\n",
    "\n",
    "ax.set_yticks(range(len(labels[0])), rotation=90)\n",
    "ax.set_yticklabels(decoded_labels)\n",
    "\n",
    "fig.colorbar(im)"
   ]
  },
  {
   "cell_type": "code",
   "execution_count": null,
   "id": "6ee404de-5893-41a3-a113-75927b1cafb9",
   "metadata": {},
   "outputs": [],
   "source": []
  },
  {
   "cell_type": "markdown",
   "id": "fe4549cd-3213-4a2c-931b-5f986b1b5ad9",
   "metadata": {
    "tags": []
   },
   "source": [
    "## Obtaining the generative output score"
   ]
  },
  {
   "cell_type": "code",
   "execution_count": null,
   "id": "fcdbd42d-d37f-4ab4-a6c7-846448bb788f",
   "metadata": {},
   "outputs": [],
   "source": [
    "len(dataloader)"
   ]
  },
  {
   "cell_type": "code",
   "execution_count": null,
   "id": "a11aed56-410e-40d8-b59f-033b9968f49f",
   "metadata": {},
   "outputs": [],
   "source": []
  },
  {
   "cell_type": "markdown",
   "id": "b037e084-19a1-48f3-ae96-5c91a268cc7c",
   "metadata": {
    "jp-MarkdownHeadingCollapsed": true,
    "tags": []
   },
   "source": [
    "### Figure out prevalence of very confident, correct vs incorrect answers"
   ]
  },
  {
   "cell_type": "code",
   "execution_count": null,
   "id": "0e47d33e-78e6-4944-b98b-ba8c74aaebdf",
   "metadata": {
    "tags": []
   },
   "outputs": [],
   "source": [
    "# only one context vector\n",
    "\n",
    "exact_match_log_probabilities = []\n",
    "incorrect_log_probabilities = []\n",
    "exact_match_answers = []\n",
    "\n",
    "for i, batch in tqdm(enumerate(dataloader)):\n",
    "    \n",
    "    (idx, _, _, context_ids, context_mask) = batch\n",
    "    sequences = model.generate(\n",
    "                input_ids=context_ids.cuda(),\n",
    "                attention_mask=context_mask.cuda(),\n",
    "                max_length=100,\n",
    "                return_dict_in_generate=True,\n",
    "                output_scores=True\n",
    "            ).sequences\n",
    "\n",
    "    \n",
    "    for k, o in enumerate(sequences):\n",
    "        ans = tokenizer.decode(o, skip_special_tokens=True)\n",
    "        gold = eval_dataset.get_example(idx[k])['answers']\n",
    "        score = ems(ans, gold)\n",
    "        #print(score)\n",
    "        # total += 1\n",
    "        # exactmatch.append(score)\n",
    "#         print(\"model generated output:\")\n",
    "#         print(ans)\n",
    "\n",
    "#         print(\"\")\n",
    "#         print(\"ground truth:\")\n",
    "#         print(gold) \n",
    "\n",
    "    # print(\"extracting negative log probability ...\")\n",
    "    log_probability = model.obtain_log_generated_probability(\n",
    "        input_ids=context_ids.cuda(),\n",
    "        attention_mask=context_mask.cuda(),\n",
    "        max_length=100\n",
    "\n",
    "    )\n",
    "    \n",
    "    if score == True:\n",
    "        exact_match_log_probabilities.append(log_probability.cpu().numpy())\n",
    "        exact_match_answers.append(ans)\n",
    "#         if len(exact_match_log_probabilities) >= 5:\n",
    "#             print(\"exceeded five exact matches\")\n",
    "        \n",
    "#         if len(exact_match_log_probabilities) >= 10:\n",
    "#             print(\"exceeded ten exact matches\")\n",
    "    \n",
    "    else:\n",
    "        incorrect_log_probabilities.append(log_probability.cpu().numpy())\n",
    "        \n",
    "    if i >= 0:\n",
    "        break\n"
   ]
  },
  {
   "cell_type": "code",
   "execution_count": null,
   "id": "7d1deddd-3169-4188-9b5b-a8a94124935f",
   "metadata": {},
   "outputs": [],
   "source": [
    "# load from local\n",
    "exact_match_log_probabilities = np.load(\"../numpy_drops/exact_matches_dev.npy\")\n",
    "incorrect_log_probabilities = np.load(\"../numpy_drops/incorrects_dev.npy\")\n",
    "rouge_match_log_probabilities = np.load(\"../numpy_drops/rouge_matches_dev.npy\")"
   ]
  },
  {
   "cell_type": "code",
   "execution_count": null,
   "id": "4c77fd37-fccb-4104-9821-28cf9dcb8cc0",
   "metadata": {},
   "outputs": [],
   "source": [
    "with open(\"../numpy_drops/rouge_similarity_answers_dev_sampling\", \"rb\") as f:\n",
    "    rouge_matches = pickle.load(f)\n",
    "\n",
    "len(rouge_matches)"
   ]
  },
  {
   "cell_type": "code",
   "execution_count": null,
   "id": "cd961250-dc44-4e56-9058-bd246d9bd816",
   "metadata": {},
   "outputs": [],
   "source": [
    "len([el for el in rouge_matches if el[2] == 1.0])"
   ]
  },
  {
   "cell_type": "code",
   "execution_count": null,
   "id": "3cea20b9-3cb7-4b68-9160-0fa62f038669",
   "metadata": {},
   "outputs": [],
   "source": [
    "zipped_rouge = list(zip(rouge_matches, rouge_match_log_probabilities))"
   ]
  },
  {
   "cell_type": "code",
   "execution_count": null,
   "id": "c3fc44e1-b259-4e0c-a8bd-195de57a5613",
   "metadata": {},
   "outputs": [],
   "source": [
    "print(\"rouge match distribution\")\n",
    "print(len(rouge_match_log_probabilities))\n",
    "print(np.mean(rouge_match_log_probabilities))\n",
    "print(np.std(rouge_match_log_probabilities))"
   ]
  },
  {
   "cell_type": "code",
   "execution_count": null,
   "id": "1208a3a3-d29b-40bd-9a04-ae03d4796166",
   "metadata": {},
   "outputs": [],
   "source": [
    "print(\"exact match distribution\")\n",
    "print(len(exact_match_log_probabilities))\n",
    "print(np.mean(exact_match_log_probabilities))\n",
    "print(np.std(exact_match_log_probabilities))"
   ]
  },
  {
   "cell_type": "code",
   "execution_count": null,
   "id": "8495c9bf-8ef1-471a-8d46-f2e6ad59210e",
   "metadata": {},
   "outputs": [],
   "source": [
    "print(\"incorrect match distribution\")\n",
    "print(len(incorrect_log_probabilities))\n",
    "print(np.mean(incorrect_log_probabilities))\n",
    "print(np.std(incorrect_log_probabilities))"
   ]
  },
  {
   "cell_type": "code",
   "execution_count": null,
   "id": "87139496-6e89-450d-94c9-8d0f2c2e9193",
   "metadata": {},
   "outputs": [],
   "source": [
    "fig = plt.figure(figsize=(8,8), facecolor=\"white\")\n",
    "ax = fig.add_subplot(111)\n",
    "ax.scatter(list(range(len(incorrect_log_probabilities))), incorrect_log_probabilities, label=\"incorrects\")\n",
    "ax.scatter(list(range(len(rouge_match_log_probabilities))), rouge_match_log_probabilities, color=\"red\", label=\"rouge corrects\")\n",
    "ax.scatter(list(range(len(exact_match_log_probabilities))), exact_match_log_probabilities, color=\"orange\", label=\"exact matches\")\n",
    "ax.set_ylabel(\"log_sum_prob\")\n",
    "ax.legend()"
   ]
  },
  {
   "cell_type": "code",
   "execution_count": null,
   "id": "cec08277-0e30-4971-94e6-86b6a872406e",
   "metadata": {},
   "outputs": [],
   "source": [
    "zipped_rouge = list(zip(rouge_matches, rouge_match_log_probabilities))\n",
    "\n",
    "inexact_matches = [el for el in zipped_rouge if el[0][2] != 1.0]\n",
    "\n",
    "inexact_match_log_probabilities = list(zip(*inexact_matches))[1]\n"
   ]
  },
  {
   "cell_type": "code",
   "execution_count": null,
   "id": "b8bc0f25-fa69-4e88-8ce9-746295fd090a",
   "metadata": {},
   "outputs": [],
   "source": [
    "# rouge-l correctness\n",
    "corrects_rouge = list(rouge_match_log_probabilities)\n",
    "incorrects_rouge = list(incorrect_log_probabilities)\n",
    "\n",
    "y_scores_rouge = corrects_rouge + incorrects_rouge\n",
    "y_true_rouge = list(np.zeros(len(corrects_rouge)).astype(int)) + list(np.ones(len(incorrects_rouge)).astype(int))\n",
    "\n",
    "# exact match correctness\n",
    "corrects_exact = list(exact_match_log_probabilities)\n",
    "incorrects_exact = list(incorrect_log_probabilities) + list(inexact_match_log_probabilities)\n",
    "\n",
    "y_scores_exact = corrects_exact + incorrects_exact\n",
    "y_true_exact = list(np.zeros(len(corrects_exact)).astype(int)) + list(np.ones(len(incorrects_exact)).astype(int))"
   ]
  },
  {
   "cell_type": "code",
   "execution_count": null,
   "id": "537ed91b-8f9d-4158-99e3-049c50489fa1",
   "metadata": {},
   "outputs": [],
   "source": [
    "len(corrects_rouge) + len(incorrects_rouge)"
   ]
  },
  {
   "cell_type": "code",
   "execution_count": null,
   "id": "cb8189a4-a5f7-4b31-bcb0-158962edc5b8",
   "metadata": {},
   "outputs": [],
   "source": [
    "threshold = 0.003\n",
    "\n",
    "label_scores = list(zip(y_true_rouge, y_scores_rouge))\n",
    "\n",
    "predicted_positive = [el for el in label_scores if el[1] <= threshold]\n",
    "predicted_negative = [el for el in label_scores if el[1] > threshold]\n",
    "\n",
    "true_positive = len([el for el in predicted_positive if el[0] == 0])\n",
    "false_positive = len([el for el in predicted_positive if el[0] == 1])\n",
    "\n",
    "true_negative = len([el for el in predicted_negative if el[0] == 1])\n",
    "false_negative = len([el for el in predicted_negative if el[0] == 0])\n",
    "\n",
    "precision = true_positive / (true_positive + false_positive)\n",
    "recall = true_positive / (true_positive + false_negative)\n",
    "\n",
    "\n",
    "print(f\"precision: {precision}\")\n",
    "print(f\"recall: {recall}\")"
   ]
  },
  {
   "cell_type": "code",
   "execution_count": null,
   "id": "6f5f672f-681e-4e70-85a6-27afb7506faa",
   "metadata": {},
   "outputs": [],
   "source": [
    "total_examples = len(rouge_match_log_probabilities) + len(incorrect_log_probabilities)\n",
    "\n",
    "print(f\"total examples: {total_examples}\")\n",
    "\n",
    "allowed_through = true_positive + false_positive\n",
    "\n",
    "fraction_allowed_through = allowed_through / total_examples\n",
    "\n",
    "print(f\"fraction allowed through: {fraction_allowed_through}\")"
   ]
  },
  {
   "cell_type": "code",
   "execution_count": null,
   "id": "91b72f03-3f7f-4d3c-9fd9-3fc6d6687ac4",
   "metadata": {},
   "outputs": [],
   "source": []
  },
  {
   "cell_type": "markdown",
   "id": "a6da0450-96b4-4ee8-ba8e-709d724fddb4",
   "metadata": {
    "jp-MarkdownHeadingCollapsed": true,
    "tags": []
   },
   "source": [
    "### PR curve"
   ]
  },
  {
   "cell_type": "code",
   "execution_count": null,
   "id": "5223f024-a1ac-4928-9d6c-ab13cdc70a2b",
   "metadata": {},
   "outputs": [],
   "source": [
    "def obtain_p_and_r(y_true, y_pred, thresholds):\n",
    "    \n",
    "    precisions = []\n",
    "    recalls = []\n",
    "    \n",
    "    for threshold in thresholds:\n",
    "        label_scores = list(zip(y_true, y_pred))\n",
    "\n",
    "        predicted_positive = [el for el in label_scores if el[1] <= threshold]\n",
    "        predicted_negative = [el for el in label_scores if el[1] > threshold]\n",
    "\n",
    "        true_positive = len([el for el in predicted_positive if el[0] == 0])\n",
    "        false_positive = len([el for el in predicted_positive if el[0] == 1])\n",
    "\n",
    "        true_negative = len([el for el in predicted_negative if el[0] == 1])\n",
    "        false_negative = len([el for el in predicted_negative if el[0] == 0])\n",
    "\n",
    "        precision = true_positive / (true_positive + false_positive)\n",
    "        recall = true_positive / (true_positive + false_negative)\n",
    "\n",
    "        precisions.append(precision)\n",
    "        recalls.append(recall)\n",
    "    \n",
    "    return precisions, recalls\n",
    "        "
   ]
  },
  {
   "cell_type": "code",
   "execution_count": null,
   "id": "b5a32b98-c750-4518-b5f0-dce910658acf",
   "metadata": {},
   "outputs": [],
   "source": [
    "thresholds = np.linspace(0, 1, 101)\n",
    "\n",
    "precisions_rouge, recalls_rouge = obtain_p_and_r(y_true_rouge, y_scores_rouge, thresholds)\n",
    "precisions_exact, recalls_exact = obtain_p_and_r(y_true_exact, y_scores_exact, thresholds)\n",
    "\n",
    "precisions_rouge = [1.0] + precisions_rouge + [0.0]\n",
    "recalls_rouge = [0.0] + recalls_rouge + [1.0]\n",
    "\n",
    "precisions_exact = [1.0] + precisions_exact + [0.0]\n",
    "recalls_exact = [0.0] + recalls_exact + [1.0]"
   ]
  },
  {
   "cell_type": "code",
   "execution_count": null,
   "id": "ff1ac5b4-9dce-4e62-b36a-bb0188028225",
   "metadata": {},
   "outputs": [],
   "source": [
    "fig = plt.figure(figsize=(8,8), facecolor=\"white\")\n",
    "fig.suptitle(\"Rouge-L PR curve\", fontsize=16)\n",
    "ax = fig.add_subplot(111)\n",
    "\n",
    "ax.step(recalls_rouge, precisions_rouge, label=\"rouge-l confidences\", where='post')\n",
    "plt.axhline(1 - sum(y_true_rouge) / len(y_true_rouge), xmin=0.0, xmax=0.95, linestyle='--', color=\"red\", label=\"rouge-l coin flip\")\n",
    "ax.set_xlim([0.0, 1.05])\n",
    "ax.set_ylim([0.0, 1.05])\n",
    "ax.set_xlabel(\"recall\")\n",
    "ax.set_ylabel(\"precision\")\n",
    "ax.text(0.1, 0.1, \"auc: {:.4f}\".format(auc(recalls_rouge, precisions_rouge)), bbox=dict(facecolor='white', alpha=0.5))\n",
    "ax.legend()"
   ]
  },
  {
   "cell_type": "code",
   "execution_count": null,
   "id": "23fdd5ad-df53-4cee-aba3-049d1d3cd821",
   "metadata": {},
   "outputs": [],
   "source": [
    "fig = plt.figure(figsize=(8,8), facecolor=\"white\")\n",
    "fig.suptitle(\"Exact match PR curve\", fontsize=16)\n",
    "ax = fig.add_subplot(111)\n",
    "\n",
    "# ax.plot(recalls_exact, precisions_exact)\n",
    "ax.step(recalls_exact, precisions_exact, label=\"exact match confidences\", where='post')\n",
    "plt.axhline(1 - sum(y_true_exact) / len(y_true_exact), xmin=0.0, xmax=0.95, linestyle='--', color=\"red\", label=\"exact match coin flip\")\n",
    "ax.set_xlim([0.0, 1.05])\n",
    "ax.set_ylim([0.0, 1.05])\n",
    "ax.set_xlabel(\"recall\")\n",
    "ax.set_ylabel(\"precision\")\n",
    "ax.text(0.15, 0.5, \"auc: {:.4f}\".format(auc(recalls_exact, precisions_exact)), bbox=dict(facecolor='white', alpha=0.5))\n",
    "ax.legend()"
   ]
  },
  {
   "cell_type": "code",
   "execution_count": null,
   "id": "0cafa4fb-c1ff-4a92-ba32-23c85d43f8d1",
   "metadata": {},
   "outputs": [],
   "source": []
  },
  {
   "cell_type": "markdown",
   "id": "a86be57b-521f-459b-979c-d2a63e7f73ce",
   "metadata": {
    "jp-MarkdownHeadingCollapsed": true,
    "tags": []
   },
   "source": [
    "### inspect some generated sentences"
   ]
  },
  {
   "cell_type": "code",
   "execution_count": null,
   "id": "e041e50f-dea9-4299-b9fb-d159379b4f91",
   "metadata": {
    "tags": []
   },
   "outputs": [],
   "source": [
    "for i, batch in enumerate(dataloader):\n",
    "    (idx, labels, _, context_ids, context_mask) = batch\n",
    "    for j in range(context_ids.shape[1]):\n",
    "\n",
    "            print(\"====\")\n",
    "            print(j)\n",
    "            context = tokenizer.decode(context_ids[0][j])\n",
    "            print(context)\n",
    "            if j >= 0:\n",
    "                break\n",
    "    \n",
    "    if i > 0:\n",
    "        break\n"
   ]
  },
  {
   "cell_type": "code",
   "execution_count": null,
   "id": "ceb1ceef-71da-4082-a04a-4b12be24e3b7",
   "metadata": {
    "tags": []
   },
   "outputs": [],
   "source": [
    "[el for el in rouge_matches if el[2] == 1.0][:20]"
   ]
  },
  {
   "cell_type": "code",
   "execution_count": null,
   "id": "920976d8-2fbd-444b-8b12-b071bf58f9b1",
   "metadata": {},
   "outputs": [],
   "source": []
  },
  {
   "cell_type": "markdown",
   "id": "07f7edc5-2c72-45f6-81b7-b97c716fc69b",
   "metadata": {},
   "source": [
    "#### "
   ]
  },
  {
   "cell_type": "markdown",
   "id": "3127b2d5-c7df-41cd-8b59-2a28498cbcb6",
   "metadata": {
    "jp-MarkdownHeadingCollapsed": true,
    "tags": []
   },
   "source": [
    "### Obtain example generated vs ground truth outputs"
   ]
  },
  {
   "cell_type": "code",
   "execution_count": null,
   "id": "764c5d4b-2536-4871-9f90-baeaf5668f73",
   "metadata": {},
   "outputs": [],
   "source": [
    "# only one context vector\n",
    "for i, batch in enumerate(dataloader):\n",
    "    \n",
    "    if i == 7:\n",
    "        print(f\"training example: {i}\")\n",
    "        (idx, _, _, context_ids, context_mask) = batch\n",
    "        sequences = model.generate(\n",
    "                    input_ids=context_ids.cuda(),\n",
    "                    attention_mask=context_mask.cuda(),\n",
    "                    max_length=10,\n",
    "                    return_dict_in_generate=True,\n",
    "                    output_scores=True\n",
    "                ).sequences\n",
    "\n",
    "        print(sequences)\n",
    "        for k, o in enumerate(sequences):\n",
    "            ans = tokenizer.decode(o, skip_special_tokens=True)\n",
    "            gold = eval_dataset.get_example(idx[k])['answers']\n",
    "            score = ems(ans, gold)\n",
    "            #print(score)\n",
    "            # total += 1\n",
    "            # exactmatch.append(score)\n",
    "            print(\"model generated output:\")\n",
    "            print(ans)\n",
    "\n",
    "            print(\"\")\n",
    "            print(\"ground truth:\")\n",
    "            print(gold) \n",
    "        \n",
    "        print(\"extracting negative log probability ...\")\n",
    "        log_probability = model.obtain_log_generated_probability(\n",
    "            input_ids=context_ids.cuda(),\n",
    "            attention_mask=context_mask.cuda(),\n",
    "            max_length=10\n",
    "            \n",
    "        )\n",
    "        \n",
    "        print(score)\n",
    "        \n",
    "        print(log_probability)\n",
    "        \n",
    "        break\n"
   ]
  },
  {
   "cell_type": "code",
   "execution_count": null,
   "id": "d4fc799d-b658-43a9-97de-e529d4250ba5",
   "metadata": {},
   "outputs": [],
   "source": [
    "softmax = torch.nn.Softmax(dim=1)\n",
    "total_log_prob = 0\n",
    "for i in range(len(outputs.scores)):\n",
    "    print(torch.log(torch.max(softmax(outputs.scores[i]))))\n",
    "    total_log_prob -= torch.log(torch.max(softmax(outputs.scores[i])))\n",
    "\n",
    "total_log_prob"
   ]
  },
  {
   "cell_type": "code",
   "execution_count": null,
   "id": "3dec829e-e0cc-4d52-b42f-6115ad65d9bf",
   "metadata": {},
   "outputs": [],
   "source": []
  },
  {
   "cell_type": "code",
   "execution_count": null,
   "id": "b9b864f3-3418-4564-a7dc-11a4228c71d3",
   "metadata": {},
   "outputs": [],
   "source": []
  },
  {
   "cell_type": "code",
   "execution_count": null,
   "id": "e96b305a-4886-4289-b028-63200dc9c4af",
   "metadata": {},
   "outputs": [],
   "source": []
  },
  {
   "cell_type": "code",
   "execution_count": null,
   "id": "f7573fa3-d5a0-49e3-a551-2db8944e9aff",
   "metadata": {},
   "outputs": [],
   "source": []
  },
  {
   "cell_type": "code",
   "execution_count": null,
   "id": "b4f52b13-94a2-4043-b07d-1195e05255dc",
   "metadata": {},
   "outputs": [],
   "source": []
  },
  {
   "cell_type": "markdown",
   "id": "0f66611c-d8a9-42d5-83e6-298ec5f025bf",
   "metadata": {
    "jp-MarkdownHeadingCollapsed": true,
    "tags": []
   },
   "source": [
    "## Comparing tokenizers"
   ]
  },
  {
   "cell_type": "code",
   "execution_count": null,
   "id": "7f3bea34-717f-4adc-8713-5fc46c51c760",
   "metadata": {},
   "outputs": [],
   "source": [
    "bert_tokenizer = transformers.AutoTokenizer.from_pretrained('bert-base-uncased')\n",
    "t5_tokenizer = transformers.T5Tokenizer.from_pretrained('t5-base')"
   ]
  },
  {
   "cell_type": "code",
   "execution_count": null,
   "id": "86de111e-f083-4537-bba7-cefb87414e41",
   "metadata": {},
   "outputs": [],
   "source": [
    "input_sequence = \"Welcome to the HuggingFace Library\""
   ]
  },
  {
   "cell_type": "code",
   "execution_count": null,
   "id": "f25ba5fc-1856-4ee2-a02c-1b4cb2a32e92",
   "metadata": {},
   "outputs": [],
   "source": [
    "bert_tokenized = bert_tokenizer(input_sequence, return_tensors='pt')\n",
    "t5_tokenized = t5_tokenizer(input_sequence, return_tensors='pt')\n",
    "\n",
    "print(bert_tokenized.input_ids)\n",
    "print(\"===\")\n",
    "print(t5_tokenized.input_ids)"
   ]
  },
  {
   "cell_type": "code",
   "execution_count": null,
   "id": "9ada9e88-a19c-46e9-a479-950b78a2bfd9",
   "metadata": {},
   "outputs": [],
   "source": [
    "print(bert_tokenizer.decode(bert_tokenized.input_ids[0]))\n",
    "print(\"===\")\n",
    "print(t5_tokenizer.decode(t5_tokenized.input_ids[0]))"
   ]
  },
  {
   "cell_type": "code",
   "execution_count": null,
   "id": "4b59e9e3-c830-431d-a41b-bb4dc8568b71",
   "metadata": {},
   "outputs": [],
   "source": [
    "bert_tokenizer.convert_ids_to_tokens(bert_tokenized.input_ids[0])"
   ]
  },
  {
   "cell_type": "code",
   "execution_count": null,
   "id": "e35906e4-9b0f-453e-be19-04572a2196a4",
   "metadata": {},
   "outputs": [],
   "source": [
    "t5_tokenizer.convert_ids_to_tokens(t5_tokenized.input_ids[0])"
   ]
  },
  {
   "cell_type": "code",
   "execution_count": null,
   "id": "d841dcf5-03f4-45b3-833c-f08068432109",
   "metadata": {},
   "outputs": [],
   "source": [
    "z = torch.randn((2, 4))"
   ]
  },
  {
   "cell_type": "code",
   "execution_count": null,
   "id": "75b9d800-96a1-4530-a0aa-a5fafa60720f",
   "metadata": {},
   "outputs": [],
   "source": [
    "msk = torch.tensor([[True, False, True], [False, True, False]])\n",
    "msk2 = torch.tensor([[True, False, True, True]])"
   ]
  },
  {
   "cell_type": "code",
   "execution_count": null,
   "id": "dbfd9dc2-991a-434f-a0bf-cfa7c5e3513d",
   "metadata": {},
   "outputs": [],
   "source": [
    "z"
   ]
  },
  {
   "cell_type": "code",
   "execution_count": null,
   "id": "94242788-d831-4b1a-9af2-2765cddcfc49",
   "metadata": {},
   "outputs": [],
   "source": [
    "z.masked_fill(msk2 == 0, 0.0)"
   ]
  },
  {
   "cell_type": "code",
   "execution_count": null,
   "id": "6f450d1b-f2b9-49e1-b9c3-f14d8afe1216",
   "metadata": {
    "tags": []
   },
   "outputs": [],
   "source": [
    "from transformers import T5Tokenizer, T5ForConditionalGeneration\n",
    "tokenizer = T5Tokenizer.from_pretrained('t5-small')\n",
    "import torch"
   ]
  },
  {
   "cell_type": "code",
   "execution_count": null,
   "id": "061ace48-4a47-4b81-a1e5-d981cea097c8",
   "metadata": {},
   "outputs": [],
   "source": [
    "model = T5ForConditionalGeneration.from_pretrained('t5-small')"
   ]
  },
  {
   "cell_type": "code",
   "execution_count": null,
   "id": "04227314-f4aa-42ad-b782-1ee2659743c6",
   "metadata": {},
   "outputs": [],
   "source": [
    "input_ids = tokenizer.encode(\"summarise: I am originally from siberia, where the sky is green\", return_tensors=\"pt\")  # Batch size 1\n"
   ]
  },
  {
   "cell_type": "code",
   "execution_count": null,
   "id": "bd8f6f04-729c-49b7-b10f-89bd1c1d9577",
   "metadata": {},
   "outputs": [],
   "source": [
    "outputs = model.generate(input_ids, \n",
    "                          return_dict_in_generate=True, \n",
    "                          output_scores=True, \n",
    "                          num_beams=1,\n",
    "                          do_sample=True,\n",
    "                          top_k=3,\n",
    "                          temperature=1.0\n",
    "                          )\n",
    "\n",
    "\n",
    "outputs.sequences"
   ]
  },
  {
   "cell_type": "code",
   "execution_count": null,
   "id": "b3cef76a-d40a-4ea9-b6cc-b8035bcabd43",
   "metadata": {},
   "outputs": [],
   "source": [
    "scores = outputs.scores"
   ]
  },
  {
   "cell_type": "code",
   "execution_count": null,
   "id": "ab7b8f71-a4fe-4f36-a761-b121555bbf35",
   "metadata": {},
   "outputs": [],
   "source": [
    "torch.topk(scores[2][0], k=3).indices"
   ]
  },
  {
   "cell_type": "code",
   "execution_count": null,
   "id": "36df9872-3d05-43d1-a5a9-07ec73c84db1",
   "metadata": {},
   "outputs": [],
   "source": [
    "len(scores)"
   ]
  },
  {
   "cell_type": "code",
   "execution_count": null,
   "id": "1ba22c04-7255-498a-b559-f34889a1ddd2",
   "metadata": {},
   "outputs": [],
   "source": [
    "softmax = torch.nn.Softmax(dim=1)\n",
    "softmax(scores[0])"
   ]
  },
  {
   "cell_type": "code",
   "execution_count": null,
   "id": "eb5575ef-ca7a-4992-b176-776642064456",
   "metadata": {},
   "outputs": [],
   "source": [
    "scores[4][0]"
   ]
  },
  {
   "cell_type": "code",
   "execution_count": null,
   "id": "0b588c5e-4194-47c3-971b-6710975106e8",
   "metadata": {},
   "outputs": [],
   "source": [
    "scores[4][0][sequence[0][5]]"
   ]
  },
  {
   "cell_type": "code",
   "execution_count": null,
   "id": "fae743d0-70bf-4333-a75d-42cb2bb20ffc",
   "metadata": {},
   "outputs": [],
   "source": [
    "torch.argmax(scores[11])"
   ]
  },
  {
   "cell_type": "code",
   "execution_count": null,
   "id": "14990a15-097f-4181-81aa-8c1875a3615d",
   "metadata": {},
   "outputs": [],
   "source": [
    "ans = []\n",
    "for i in range(len(scores)):\n",
    "    sfx = softmax(scores[i])\n",
    "    ans.append(sfx[0][sequence[0][i + 1]])"
   ]
  },
  {
   "cell_type": "code",
   "execution_count": null,
   "id": "2a342be2-5679-40d8-8088-cc9c666854b7",
   "metadata": {},
   "outputs": [],
   "source": [
    "y_true = np.array([0, 0, 1, 1, 1])\n",
    "y_scores = np.array([0.1, 0.4, 0.35, 0.8, 0.9])\n",
    "\n",
    "precisions, recalls, thresholds = precision_recall_curve(y_true, y_scores)\n"
   ]
  },
  {
   "cell_type": "code",
   "execution_count": null,
   "id": "fb91721e-2bd4-4656-9218-09bee9cce740",
   "metadata": {},
   "outputs": [],
   "source": [
    "threshold = 0.35\n",
    "\n",
    "label_scores = list(zip(y_true, y_scores))\n",
    "\n",
    "predicted_positive = [el for el in label_scores if el[1] >= threshold]\n",
    "predicted_negative = [el for el in label_scores if el[1] < threshold]\n",
    "\n",
    "true_positive = len([el for el in predicted_positive if el[0] == 1])\n",
    "false_positive = len([el for el in predicted_positive if el[0] == 0])\n",
    "\n",
    "true_negative = len([el for el in predicted_negative if el[0] == 0])\n",
    "false_negative = len([el for el in predicted_negative if el[0] == 1])\n",
    "\n",
    "precision = true_positive / (true_positive + false_positive)\n",
    "recall = true_positive / (true_positive + false_negative)\n",
    "\n",
    "print(precision)\n",
    "print(recall)\n"
   ]
  },
  {
   "cell_type": "code",
   "execution_count": null,
   "id": "dc7bea12-48c2-46f7-b0c7-3c1030b4fe81",
   "metadata": {},
   "outputs": [],
   "source": [
    "thresholds"
   ]
  },
  {
   "cell_type": "code",
   "execution_count": null,
   "id": "dae284ea-dd71-47fd-86f2-fb20e9278528",
   "metadata": {},
   "outputs": [],
   "source": [
    "precisions"
   ]
  },
  {
   "cell_type": "code",
   "execution_count": null,
   "id": "9f6adafa-5ea4-4f84-9f4a-36e77be9dfd5",
   "metadata": {},
   "outputs": [],
   "source": [
    "recalls"
   ]
  },
  {
   "cell_type": "code",
   "execution_count": null,
   "id": "5fa9316a-c101-408f-9be3-2449dc815016",
   "metadata": {},
   "outputs": [],
   "source": []
  },
  {
   "cell_type": "code",
   "execution_count": null,
   "id": "416aa313-1326-40cd-8fa1-cc78ce999ef2",
   "metadata": {},
   "outputs": [],
   "source": []
  },
  {
   "cell_type": "markdown",
   "id": "0d655648-5dd4-41f0-ba79-919e5c1db8bd",
   "metadata": {
    "jp-MarkdownHeadingCollapsed": true,
    "tags": []
   },
   "source": [
    "## Ad hoc cells"
   ]
  },
  {
   "cell_type": "code",
   "execution_count": 22,
   "id": "7ed767b9-f940-452c-b812-67597a3cf858",
   "metadata": {},
   "outputs": [],
   "source": [
    "import json"
   ]
  },
  {
   "cell_type": "code",
   "execution_count": 17,
   "id": "d4059d9d-3981-41c6-a343-d9411dd59f59",
   "metadata": {},
   "outputs": [],
   "source": [
    "compose_path = \"/home/divy/casetext-ml-datasets/fid_reader_distill_question_data/notebooks/compose_fid_train_scored.json\"\n",
    "\n",
    "train_examples = load_data(\n",
    "                            compose_path,\n",
    "                            global_rank=0,\n",
    "                            world_size=1,\n",
    "                            )"
   ]
  },
  {
   "cell_type": "code",
   "execution_count": 18,
   "id": "7574c470-72f4-4955-8fb9-c4cba4b6552d",
   "metadata": {},
   "outputs": [
    {
     "data": {
      "text/plain": [
       "3000"
      ]
     },
     "execution_count": 18,
     "metadata": {},
     "output_type": "execute_result"
    }
   ],
   "source": [
    "len(train_examples)"
   ]
  },
  {
   "cell_type": "code",
   "execution_count": 20,
   "id": "6e348913-b22e-457c-8279-d207f7affe37",
   "metadata": {},
   "outputs": [],
   "source": [
    "truncated_train_examples = train_examples[:300]"
   ]
  },
  {
   "cell_type": "code",
   "execution_count": 24,
   "id": "24bd9780-e6d8-44f2-81cb-3ef4a9d0b0c8",
   "metadata": {},
   "outputs": [],
   "source": [
    "with open(\"/home/divy/casetext-ml-datasets/fid_reader_distill_question_data/notebooks/compose_fid_truncated_truncated_train.json\", \"w\") as fw:\n",
    "    json.dump(truncated_train_examples, fw, indent=2)\n"
   ]
  },
  {
   "cell_type": "code",
   "execution_count": 18,
   "id": "40e999a8-ce3f-48f7-854c-32cd328bb5db",
   "metadata": {},
   "outputs": [],
   "source": [
    "path = \"/mnt/disks/external_mounted_disk/datasets/op/open_domain_data/NQ/train.json\""
   ]
  },
  {
   "cell_type": "code",
   "execution_count": 19,
   "id": "625fb51b-513f-4c8f-87ca-36cbeefe4757",
   "metadata": {},
   "outputs": [],
   "source": [
    "nq_examples = load_data(\n",
    "    path,\n",
    "    global_rank=0,\n",
    "    world_size=1\n",
    ")"
   ]
  },
  {
   "cell_type": "code",
   "execution_count": 20,
   "id": "01296bc7-d515-4830-b856-5728387e23aa",
   "metadata": {},
   "outputs": [],
   "source": [
    "nq_examples_truncated = nq_examples[:5000]"
   ]
  },
  {
   "cell_type": "code",
   "execution_count": 24,
   "id": "c1cdfdcc-2751-4920-b7c7-e0b3cb960ca8",
   "metadata": {},
   "outputs": [],
   "source": [
    "with open(\"/mnt/disks/external_mounted_disk/datasets/op/open_domain_data/NQ/train_truncated.json\", \"w\") as fw:\n",
    "    json.dump(nq_examples_truncated, fw, indent=4)"
   ]
  },
  {
   "cell_type": "code",
   "execution_count": null,
   "id": "daf01bd0-6606-48e9-be80-3eb85621cd78",
   "metadata": {},
   "outputs": [],
   "source": []
  },
  {
   "cell_type": "code",
   "execution_count": 28,
   "id": "456c27c0-8515-4376-bdb6-c2a747c73aaf",
   "metadata": {},
   "outputs": [],
   "source": [
    "path_dev = \"/mnt/disks/external_mounted_disk/datasets/op/open_domain_data/NQ/dev.json\""
   ]
  },
  {
   "cell_type": "code",
   "execution_count": 29,
   "id": "ec0d2f1d-8344-479f-ba6a-a2785eabceb7",
   "metadata": {},
   "outputs": [],
   "source": [
    "nq_examples_dev = load_data(\n",
    "    path_dev,\n",
    "    global_rank=0,\n",
    "    world_size=1\n",
    ")"
   ]
  },
  {
   "cell_type": "code",
   "execution_count": 30,
   "id": "75a7d795-91a5-4963-ba2c-a21adc11cbd1",
   "metadata": {},
   "outputs": [
    {
     "data": {
      "text/plain": [
       "8757"
      ]
     },
     "execution_count": 30,
     "metadata": {},
     "output_type": "execute_result"
    }
   ],
   "source": [
    "len(nq_examples_dev)"
   ]
  },
  {
   "cell_type": "code",
   "execution_count": 31,
   "id": "0e12f013-26d2-40f3-8162-23a2d2dd233e",
   "metadata": {},
   "outputs": [],
   "source": [
    "nq_examples_dev_truncated = nq_examples_dev[:500]"
   ]
  },
  {
   "cell_type": "code",
   "execution_count": 33,
   "id": "dd975629-5eb4-44e1-893d-2884c4f31144",
   "metadata": {},
   "outputs": [
    {
     "data": {
      "text/plain": [
       "500"
      ]
     },
     "execution_count": 33,
     "metadata": {},
     "output_type": "execute_result"
    }
   ],
   "source": [
    "len(nq_examples_dev_truncated)"
   ]
  },
  {
   "cell_type": "code",
   "execution_count": 34,
   "id": "9f165477-ca66-4c51-b36e-ff5d442968f4",
   "metadata": {},
   "outputs": [],
   "source": [
    "with open(\"/mnt/disks/external_mounted_disk/datasets/op/open_domain_data/NQ/dev_truncated.json\", \"w\") as fw:\n",
    "    json.dump(nq_examples_dev_truncated, fw, indent=4)"
   ]
  },
  {
   "cell_type": "code",
   "execution_count": null,
   "id": "36950d9f-76d9-4191-ae78-e5e540740542",
   "metadata": {},
   "outputs": [],
   "source": []
  },
  {
   "cell_type": "code",
   "execution_count": null,
   "id": "d7211728-c324-418d-967d-28f958abaee2",
   "metadata": {},
   "outputs": [],
   "source": []
  }
 ],
 "metadata": {
  "kernelspec": {
   "display_name": "Python 3 (ipykernel)",
   "language": "python",
   "name": "python3"
  },
  "language_info": {
   "codemirror_mode": {
    "name": "ipython",
    "version": 3
   },
   "file_extension": ".py",
   "mimetype": "text/x-python",
   "name": "python",
   "nbconvert_exporter": "python",
   "pygments_lexer": "ipython3",
   "version": "3.9.12"
  }
 },
 "nbformat": 4,
 "nbformat_minor": 5
}
