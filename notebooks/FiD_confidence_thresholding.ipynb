{
 "cells": [
  {
   "cell_type": "markdown",
   "id": "50bf900d-2f90-4bd3-9002-e5bff7e5c4bc",
   "metadata": {
    "tags": []
   },
   "source": [
    "## Initialization"
   ]
  },
  {
   "cell_type": "code",
   "execution_count": 231,
   "id": "051e6be8-705f-4144-8de5-b875a61fcd9b",
   "metadata": {},
   "outputs": [],
   "source": [
    "import os, sys\n",
    "import torch\n",
    "import transformers\n",
    "from torch.utils.data import DataLoader, SequentialSampler\n",
    "import argparse\n",
    "import numpy as np \n",
    "import matplotlib.pyplot as plt\n",
    "from tqdm import tqdm\n",
    "import pickle\n",
    "from rouge_score import rouge_scorer\n",
    "from sklearn.metrics import precision_recall_curve, auc\n",
    "import seaborn as sns\n"
   ]
  },
  {
   "cell_type": "code",
   "execution_count": 2,
   "id": "47371a17-4b5d-4d76-b8d9-84be8931b5a7",
   "metadata": {},
   "outputs": [],
   "source": [
    "import sys\n",
    "sys.path.append(\"/home/divy/FiD\")"
   ]
  },
  {
   "cell_type": "code",
   "execution_count": 3,
   "id": "5550822f-9127-4a09-a2b7-459f7a261be1",
   "metadata": {},
   "outputs": [],
   "source": [
    "import src\n",
    "from src.data import load_data\n",
    "from src.evaluation import ems\n",
    "import src.model"
   ]
  },
  {
   "cell_type": "code",
   "execution_count": null,
   "id": "fcdeecc9-5bda-49e8-a7cd-357f75582f7a",
   "metadata": {},
   "outputs": [],
   "source": []
  },
  {
   "cell_type": "markdown",
   "id": "3a2dcfff-9a85-42a2-9bc7-630e8380468e",
   "metadata": {
    "tags": []
   },
   "source": [
    "## Load data"
   ]
  },
  {
   "cell_type": "markdown",
   "id": "de5643fc-1da6-4463-b210-f202c713aa7a",
   "metadata": {},
   "source": [
    "Try out NQ with NQ pretrained checkpoint"
   ]
  },
  {
   "cell_type": "code",
   "execution_count": 207,
   "id": "e47f4595-c41c-47d0-b3c0-34b9a9cba9fa",
   "metadata": {},
   "outputs": [],
   "source": [
    "nq_path =  \"/mnt/disks/external_mounted_disk/datasets/NQ/NQ/dev.json\"\n",
    "compose_path = \"/mnt/disks/external_mounted_disk/datasets/compose_FiD/compose_fid_qa/dev.json\"\n"
   ]
  },
  {
   "cell_type": "code",
   "execution_count": 208,
   "id": "03358bdf-f635-4c32-97af-64598b352a34",
   "metadata": {},
   "outputs": [],
   "source": [
    "eval_examples = load_data(\n",
    "                            compose_path,\n",
    "                            global_rank=0,\n",
    "                            world_size=1,\n",
    "                            )"
   ]
  },
  {
   "cell_type": "code",
   "execution_count": 209,
   "id": "f16c95ae-0fa7-4b31-bf78-6c06357ab8fa",
   "metadata": {
    "tags": []
   },
   "outputs": [
    {
     "data": {
      "text/plain": [
       "386"
      ]
     },
     "execution_count": 209,
     "metadata": {},
     "output_type": "execute_result"
    }
   ],
   "source": [
    "n_passages = 5\n",
    "eval_dataset = src.data.Dataset(eval_examples, n_passages)\n",
    "\n",
    "sampler = SequentialSampler(eval_dataset)\n",
    "tokenizer = transformers.T5Tokenizer.from_pretrained('t5-base')\n",
    "collator = src.data.Collator(200, tokenizer, answer_maxlength=-1)\n",
    "\n",
    "len(eval_dataset)"
   ]
  },
  {
   "cell_type": "code",
   "execution_count": 210,
   "id": "8ea37eb3-8337-4a5d-9dd0-1de9e8ef5992",
   "metadata": {},
   "outputs": [],
   "source": [
    "dataloader = DataLoader(eval_dataset,\n",
    "        sampler=sampler,\n",
    "        batch_size=1,\n",
    "        drop_last=False,\n",
    "        num_workers=10,\n",
    "        collate_fn=collator\n",
    "    )"
   ]
  },
  {
   "cell_type": "code",
   "execution_count": null,
   "id": "5ac1095f-8d4f-4efd-9724-e1f42a5e2a9e",
   "metadata": {},
   "outputs": [],
   "source": []
  },
  {
   "cell_type": "markdown",
   "id": "212013b8-a939-48f8-b484-f6c55b8cb7ce",
   "metadata": {
    "tags": []
   },
   "source": [
    "## Load model"
   ]
  },
  {
   "cell_type": "code",
   "execution_count": 211,
   "id": "96036544-f6de-40a2-b36e-4bdd00951c61",
   "metadata": {},
   "outputs": [],
   "source": [
    "model_name = 't5-base'\n",
    "model_class = src.model.FiDT5"
   ]
  },
  {
   "cell_type": "code",
   "execution_count": 212,
   "id": "d1f0b666-335b-4461-bb9c-820e2e0d30cd",
   "metadata": {},
   "outputs": [],
   "source": [
    "load_path = \"/home/divy/FiD/model_ckpts/test_experiment_large_fid_qa_compose\"\n",
    "model = model_class.from_pretrained(load_path)"
   ]
  },
  {
   "cell_type": "code",
   "execution_count": 213,
   "id": "65cbcb66-00ea-447d-b253-0405630114fd",
   "metadata": {
    "tags": []
   },
   "outputs": [],
   "source": [
    "model = model.to('cuda')"
   ]
  },
  {
   "cell_type": "code",
   "execution_count": null,
   "id": "bda692ca-5547-4f5f-aceb-dedc4f8281eb",
   "metadata": {},
   "outputs": [],
   "source": []
  },
  {
   "cell_type": "markdown",
   "id": "68f6978d-6e27-4c24-a2e3-5e974ead8b29",
   "metadata": {
    "tags": []
   },
   "source": [
    "### load an example input, generated output and ground truth output"
   ]
  },
  {
   "cell_type": "code",
   "execution_count": 215,
   "id": "a7d8747d-e766-428a-a76f-71058148f089",
   "metadata": {
    "tags": []
   },
   "outputs": [
    {
     "name": "stdout",
     "output_type": "stream",
     "text": [
      "tensor([4])\n",
      "torch.Size([1, 5, 68])\n",
      "====\n",
      "0\n",
      "question: Can answers to interrogatories be derived from the responding party's production of business records? title: context: The Rule is construed narrowly to apply only to answers that can be derived from the answering party's own \"business records.\"</s> <pad> <pad> <pad> <pad> <pad> <pad> <pad> <pad> <pad> <pad>\n",
      "====\n",
      "1\n",
      "question: Can answers to interrogatories be derived from the responding party's production of business records? title: context: A party may produce business records in lieu of answering interrogatories where the answer may be derived or ascertained from such records.</s> <pad> <pad> <pad> <pad> <pad> <pad> <pad> <pad> <pad> <pad> <pad>\n",
      "====\n",
      "2\n",
      "question: Can answers to interrogatories be derived from the responding party's production of business records? title: context: The language of Rule 33(d) is narrowly construed and applies \"only to answers that can be derived from the answering party's own <unk> business records.'\"</s>\n",
      "====\n",
      "3\n",
      "question: Can answers to interrogatories be derived from the responding party's production of business records? title: context: Rule 33(d) provides an alternative method for a party to respond to an interrogatory when the answer may be derived from the business records of the responding party:</s> <pad> <pad> <pad> <pad>\n",
      "====\n",
      "4\n",
      "question: Can answers to interrogatories be derived from the responding party's production of business records? title: context: Rule 33(d) provides an alternative method for a party to respond to an interrogatory when the answer may be derived from the business records of the responding party:</s> <pad> <pad> <pad> <pad>\n",
      "\n",
      "\n",
      "generated answer:\n",
      "tensor([[    0, 11801,     7,    12,  1413,  3822,  1016,   725,   164,    36,\n",
      "             3,  9942,    45,     8, 16523,  1088,    31,     7,   999,    13,\n",
      "           268,  3187,     5,     1]], device='cuda:0')\n",
      "24\n",
      "Answers to interrogatories may be derived from the responding party's production of business records.\n",
      "\n",
      "log_prob\n",
      "0.03914168\n",
      "\n",
      "\n",
      "ground truth answer:\n",
      "The responding party may choose to produce documents in lieu of written answers to the interrogatories only if answers to the interrogatories can actually be derived from the responding party’s production of business records.\n",
      "46\n"
     ]
    }
   ],
   "source": [
    "for i, batch in enumerate(dataloader):\n",
    "    (idx, labels, _, context_ids, context_mask) = batch\n",
    "    \n",
    "    if i == 4:\n",
    "        \n",
    "        print(idx)\n",
    "        print(context_ids.shape)\n",
    "        \n",
    "        for j in range(context_ids.shape[1]):\n",
    "\n",
    "            print(\"====\")\n",
    "            print(j)\n",
    "            context = tokenizer.decode(context_ids[0][j])\n",
    "            print(context)\n",
    "            \n",
    "            \n",
    "        print(\"\")\n",
    "        print(\"\")\n",
    "        print(\"generated answer:\")\n",
    "        # generated_output = model.generate(\n",
    "        #         input_ids=context_ids.cuda(),\n",
    "        #         attention_mask=context_mask.cuda(),\n",
    "        #         max_length=50\n",
    "        #     ).cpu()\n",
    "        \n",
    "        generated_output, log_prob = model.generate(\n",
    "                input_ids=context_ids.cuda(),\n",
    "                attention_mask=context_mask.cuda(),\n",
    "                do_sample=False,\n",
    "                max_length=150,\n",
    "                top_p=0.9,\n",
    "                temperature=1.0,\n",
    "                output_confidence=True,\n",
    "                \n",
    "            )\n",
    "        \n",
    "        # generated_output = generated_output.cpu()\n",
    "        \n",
    "        # print(generated_output.sequences)\n",
    "        # print(generated_output.scores)\n",
    "        \n",
    "        print(generated_output)\n",
    "        print(len(generated_output[0]))\n",
    "        \n",
    "        human_readable_generated_output = tokenizer.decode(generated_output[0], skip_special_tokens=True)\n",
    "        print(human_readable_generated_output)\n",
    "        print(\"\")\n",
    "        print(\"log_prob\")\n",
    "        print(log_prob)\n",
    "        \n",
    "        \n",
    "        print(\"\")\n",
    "        print(\"\")\n",
    "        print(\"ground truth answer:\")\n",
    "\n",
    "        print(tokenizer.decode(labels[0], skip_special_tokens=True))\n",
    "        print(len(labels[0]))\n",
    "\n",
    "    \n",
    "        break\n"
   ]
  },
  {
   "cell_type": "code",
   "execution_count": 23,
   "id": "1b3ddec4-e05e-4f75-ab10-afab4bcf5318",
   "metadata": {},
   "outputs": [],
   "source": [
    "softmax = torch.nn.Softmax(dim=1)"
   ]
  },
  {
   "cell_type": "code",
   "execution_count": 27,
   "id": "1be86bc5-03cd-41a0-81ee-5f2e9fb744cf",
   "metadata": {
    "collapsed": true,
    "jupyter": {
     "outputs_hidden": true
    },
    "tags": []
   },
   "outputs": [
    {
     "name": "stdout",
     "output_type": "stream",
     "text": [
      "37\n",
      "===\n",
      "tensor([[ 0.8323, -5.6786, -6.7621, -8.4656, -8.7087]], device='cuda:0')\n",
      "tensor([[  71,  389, 2372,   37,   96]], device='cuda:0')\n",
      "===\n",
      "tensor([[ 3.4183, -3.3272, -4.2347, -5.8653, -6.0511]], device='cuda:0')\n",
      "tensor([[ 3923,  1551,  2493, 10564,  3536]], device='cuda:0')\n",
      "===\n",
      "tensor([[ -4.4156, -19.0478, -19.6928, -22.4348, -22.7278]], device='cuda:0')\n",
      "tensor([[ 1176,  2827,  6136, 10998,  3982]], device='cuda:0')\n",
      "===\n",
      "tensor([[ -4.2086, -21.6901, -23.4058, -23.5861, -23.5873]], device='cuda:0')\n",
      "tensor([[ 2493,  6497, 27805,  6643,    11]], device='cuda:0')\n",
      "===\n",
      "tensor([[ -5.3466,  -9.1907,  -9.3164, -13.0951, -14.0036]], device='cuda:0')\n",
      "tensor([[  24, 6452,    6,   84,  263]], device='cuda:0')\n",
      "===\n",
      "tensor([[ -2.4328,  -8.4554, -13.4911, -18.8356, -19.4432]], device='cuda:0')\n",
      "tensor([[ 19,  65,  47,  54, 164]], device='cuda:0')\n",
      "===\n",
      "tensor([[ -3.1433, -18.1085, -18.3344, -18.4242, -19.1414]], device='cuda:0')\n",
      "tensor([[ 6452,    96, 20828,  9261,     3]], device='cuda:0')\n",
      "===\n",
      "tensor([[ -4.4505, -24.4518, -25.5265, -26.2352, -27.1285]], device='cuda:0')\n",
      "tensor([[  15, 2326,   26, 5973,   53]], device='cuda:0')\n",
      "===\n",
      "tensor([[ -6.2957, -27.5202, -28.3298, -29.6268, -29.9818]], device='cuda:0')\n",
      "tensor([[  26,    7,  308,    3, 6306]], device='cuda:0')\n",
      "===\n",
      "tensor([[ -9.0482, -26.2842, -26.4241, -26.5064, -26.9699]], device='cuda:0')\n",
      "tensor([[16, 11, 78, 57, 42]], device='cuda:0')\n",
      "===\n",
      "tensor([[ -0.5647,  -6.8141, -15.7715, -19.2700, -19.4301]], device='cuda:0')\n",
      "tensor([[  3, 224,  46,   8,  78]], device='cuda:0')\n",
      "===\n",
      "tensor([[ -9.5090, -26.8927, -27.6895, -27.9870, -28.5302]], device='cuda:0')\n",
      "tensor([[    9, 12554,     2, 18280,     7]], device='cuda:0')\n",
      "===\n",
      "tensor([[ -3.0613, -12.7907, -16.4041, -22.8509, -23.3584]], device='cuda:0')\n",
      "tensor([[3107,  194, 2934,  224, 1573]], device='cuda:0')\n",
      "===\n",
      "tensor([[ -1.5614, -12.4045, -12.7350, -13.3318, -16.6802]], device='cuda:0')\n",
      "tensor([[ 24,  16, 224,  78,  84]], device='cuda:0')\n",
      "===\n",
      "tensor([[ -6.2883, -16.3969, -16.9050, -18.3133, -23.1186]], device='cuda:0')\n",
      "tensor([[  34,  656,   19,  165, 6490]], device='cuda:0')\n",
      "===\n",
      "tensor([[ -9.9402, -25.3321, -25.9346, -27.1330, -27.7247]], device='cuda:0')\n",
      "tensor([[ 19,  47, 133,  56,  31]], device='cuda:0')\n",
      "===\n",
      "tensor([[ -3.2661, -21.0096, -21.8539, -22.2867, -23.0053]], device='cuda:0')\n",
      "tensor([[ 952,  167, 1077, 9909,   72]], device='cuda:0')\n",
      "===\n",
      "tensor([[-13.0411, -27.8557, -29.2848, -30.0467, -30.1450]], device='cuda:0')\n",
      "tensor([[  12, 1817,   36,   24,   96]], device='cuda:0')\n",
      "===\n",
      "tensor([[ -7.1469, -21.3534, -24.3896, -24.4041, -24.8402]], device='cuda:0')\n",
      "tensor([[1817,   20, 6136, 6202, 8306]], device='cuda:0')\n",
      "===\n",
      "tensor([[  1.7022, -19.2718, -20.8115, -22.4563, -23.0660]], device='cuda:0')\n",
      "tensor([[ 109, 1361,   40,   60, 3765]], device='cuda:0')\n",
      "===\n",
      "tensor([[ -5.7117, -21.4093, -23.1379, -23.9514, -24.3015]], device='cuda:0')\n",
      "tensor([[   9,  291, 3198, 1836,  188]], device='cuda:0')\n",
      "===\n",
      "tensor([[ -2.4862, -19.0676, -21.1608, -22.5658, -22.8873]], device='cuda:0')\n",
      "tensor([[   26,   221,   308, 15198,   189]], device='cuda:0')\n",
      "===\n",
      "tensor([[ -6.6471, -22.3429, -24.0194, -24.0252, -25.2608]], device='cuda:0')\n",
      "tensor([[42, 11,  8, 87,  6]], device='cuda:0')\n",
      "===\n",
      "tensor([[ -8.4823, -23.9702, -25.2946, -25.5983, -25.6038]], device='cuda:0')\n",
      "tensor([[   20,    12, 21151,     3,   146]], device='cuda:0')\n",
      "===\n",
      "tensor([[  0.9426, -16.0342, -16.1840, -20.3346, -21.5325]], device='cuda:0')\n",
      "tensor([[  565, 21135, 17931,    40,  6873]], device='cuda:0')\n",
      "===\n",
      "tensor([[  2.6557, -18.5932, -18.7985, -20.9933, -21.0221]], device='cuda:0')\n",
      "tensor([[  757,  8087, 13830,  1599,    23]], device='cuda:0')\n",
      "===\n",
      "tensor([[ -7.3783, -21.8686, -26.6492, -26.8769, -28.1895]], device='cuda:0')\n",
      "tensor([[  8,   3,  37, 532,  26]], device='cuda:0')\n",
      "===\n",
      "tensor([[ -6.9823, -14.1818, -17.7735, -19.1219, -20.9572]], device='cuda:0')\n",
      "tensor([[3733,  452,  884, 3674, 1139]], device='cuda:0')\n",
      "===\n",
      "tensor([[ -3.9075,  -9.2876, -13.3787, -13.9053, -15.6204]], device='cuda:0')\n",
      "tensor([[ 19,   6,  57, 224,  11]], device='cuda:0')\n",
      "===\n",
      "tensor([[ -6.3024, -22.3937, -25.5441, -26.2443, -26.9830]], device='cuda:0')\n",
      "tensor([[1041,   92, 1810,   59, 2874]], device='cuda:0')\n",
      "===\n",
      "tensor([[ -4.8440, -23.5029, -23.8496, -24.2144, -25.9219]], device='cuda:0')\n",
      "tensor([[  179,  3834, 10333, 17098,    18]], device='cuda:0')\n",
      "===\n",
      "tensor([[-10.5537, -28.0586, -28.6087, -28.6756, -29.0748]], device='cuda:0')\n",
      "tensor([[  365,     6,  3526, 12759,     3]], device='cuda:0')\n",
      "===\n",
      "tensor([[-11.0905, -20.5637, -26.1180, -26.2810, -26.6571]], device='cuda:0')\n",
      "tensor([[  8,  37, 532,   3, 321]], device='cuda:0')\n",
      "===\n",
      "tensor([[ -8.9815, -25.2554, -26.8608, -28.1486, -28.4717]], device='cuda:0')\n",
      "tensor([[11175,  8440,  4779,  3087,     3]], device='cuda:0')\n",
      "===\n",
      "tensor([[  2.9557, -14.9974, -16.3520, -16.7718, -16.7935]], device='cuda:0')\n",
      "tensor([[ 4763, 21159,   448,  4630,  6294]], device='cuda:0')\n",
      "===\n",
      "tensor([[ -2.7526, -12.9782, -17.6887, -19.2882, -20.2668]], device='cuda:0')\n",
      "tensor([[  5,   6, 117,   3,  11]], device='cuda:0')\n",
      "===\n",
      "tensor([[ -4.2482, -14.3021, -14.6289, -15.1208, -15.5214]], device='cuda:0')\n",
      "tensor([[    1, 10930,    71,  3900,     3]], device='cuda:0')\n"
     ]
    }
   ],
   "source": [
    "print(len(generated_output.scores))\n",
    "\n",
    "for i in range(len(generated_output.scores)):\n",
    "    softmaxed = softmax(generated_output.scores[i])\n",
    "    print(\"===\")\n",
    "    print(torch.topk(generated_output.scores[i], k=5).values)\n",
    "    print(torch.topk(generated_output.scores[i], k=5).indices)\n",
    "    "
   ]
  },
  {
   "cell_type": "code",
   "execution_count": 31,
   "id": "a64d223c-1076-4cfa-989f-e36936e1e95e",
   "metadata": {
    "collapsed": true,
    "jupyter": {
     "outputs_hidden": true
    },
    "tags": []
   },
   "outputs": [
    {
     "name": "stdout",
     "output_type": "stream",
     "text": [
      "37\n",
      "====\n",
      "tensor([[0.8323,   -inf,   -inf,   -inf,   -inf]], device='cuda:0')\n",
      "tensor([[71,  2,  0,  3,  1]], device='cuda:0')\n",
      "====\n",
      "tensor([[3.4183,   -inf,   -inf,   -inf,   -inf]], device='cuda:0')\n",
      "tensor([[3923,    2,    0,    3,    1]], device='cuda:0')\n",
      "====\n",
      "tensor([[-4.4156,    -inf,    -inf,    -inf,    -inf]], device='cuda:0')\n",
      "tensor([[1176,    2,    0,    3,    1]], device='cuda:0')\n",
      "====\n",
      "tensor([[-4.2086,    -inf,    -inf,    -inf,    -inf]], device='cuda:0')\n",
      "tensor([[2493,    2,    0,    3,    1]], device='cuda:0')\n",
      "====\n",
      "tensor([[-5.3466,    -inf,    -inf,    -inf,    -inf]], device='cuda:0')\n",
      "tensor([[24,  2,  0,  3,  1]], device='cuda:0')\n",
      "====\n",
      "tensor([[-2.4328,    -inf,    -inf,    -inf,    -inf]], device='cuda:0')\n",
      "tensor([[19,  2,  0,  3,  1]], device='cuda:0')\n",
      "====\n",
      "tensor([[-3.1433,    -inf,    -inf,    -inf,    -inf]], device='cuda:0')\n",
      "tensor([[6452,    2,    0,    3,    1]], device='cuda:0')\n",
      "====\n",
      "tensor([[-4.4505,    -inf,    -inf,    -inf,    -inf]], device='cuda:0')\n",
      "tensor([[15,  2,  0,  3,  1]], device='cuda:0')\n",
      "====\n",
      "tensor([[-6.2957,    -inf,    -inf,    -inf,    -inf]], device='cuda:0')\n",
      "tensor([[26,  2,  0,  3,  1]], device='cuda:0')\n",
      "====\n",
      "tensor([[-9.0482,    -inf,    -inf,    -inf,    -inf]], device='cuda:0')\n",
      "tensor([[16,  2,  0,  3,  1]], device='cuda:0')\n",
      "====\n",
      "tensor([[-0.5647,    -inf,    -inf,    -inf,    -inf]], device='cuda:0')\n",
      "tensor([[3, 2, 0, 4, 1]], device='cuda:0')\n",
      "====\n",
      "tensor([[-9.5090,    -inf,    -inf,    -inf,    -inf]], device='cuda:0')\n",
      "tensor([[9, 2, 0, 3, 1]], device='cuda:0')\n",
      "====\n",
      "tensor([[-3.0613,    -inf,    -inf,    -inf,    -inf]], device='cuda:0')\n",
      "tensor([[3107,    2,    0,    3,    1]], device='cuda:0')\n",
      "====\n",
      "tensor([[-1.5614,    -inf,    -inf,    -inf,    -inf]], device='cuda:0')\n",
      "tensor([[24,  2,  0,  3,  1]], device='cuda:0')\n",
      "====\n",
      "tensor([[-6.2883,    -inf,    -inf,    -inf,    -inf]], device='cuda:0')\n",
      "tensor([[34,  2,  0,  3,  1]], device='cuda:0')\n",
      "====\n",
      "tensor([[-9.9402,    -inf,    -inf,    -inf,    -inf]], device='cuda:0')\n",
      "tensor([[19,  2,  0,  3,  1]], device='cuda:0')\n",
      "====\n",
      "tensor([[-3.2661,    -inf,    -inf,    -inf,    -inf]], device='cuda:0')\n",
      "tensor([[952,   2,   0,   3,   1]], device='cuda:0')\n",
      "====\n",
      "tensor([[-13.0411,     -inf,     -inf,     -inf,     -inf]], device='cuda:0')\n",
      "tensor([[12,  2,  0,  3,  1]], device='cuda:0')\n",
      "====\n",
      "tensor([[-7.1469,    -inf,    -inf,    -inf,    -inf]], device='cuda:0')\n",
      "tensor([[1817,    2,    0,    3,    1]], device='cuda:0')\n",
      "====\n",
      "tensor([[1.7022,   -inf,   -inf,   -inf,   -inf]], device='cuda:0')\n",
      "tensor([[109,   2,   0,   3,   1]], device='cuda:0')\n",
      "====\n",
      "tensor([[-5.7117,    -inf,    -inf,    -inf,    -inf]], device='cuda:0')\n",
      "tensor([[9, 2, 0, 3, 1]], device='cuda:0')\n",
      "====\n",
      "tensor([[-2.4862,    -inf,    -inf,    -inf,    -inf]], device='cuda:0')\n",
      "tensor([[26,  2,  0,  3,  1]], device='cuda:0')\n",
      "====\n",
      "tensor([[-6.6471,    -inf,    -inf,    -inf,    -inf]], device='cuda:0')\n",
      "tensor([[42,  2,  0,  3,  1]], device='cuda:0')\n",
      "====\n",
      "tensor([[-8.4823,    -inf,    -inf,    -inf,    -inf]], device='cuda:0')\n",
      "tensor([[20,  2,  0,  3,  1]], device='cuda:0')\n",
      "====\n",
      "tensor([[0.9426,   -inf,   -inf,   -inf,   -inf]], device='cuda:0')\n",
      "tensor([[565,   2,   0,   3,   1]], device='cuda:0')\n",
      "====\n",
      "tensor([[2.6557,   -inf,   -inf,   -inf,   -inf]], device='cuda:0')\n",
      "tensor([[757,   2,   0,   3,   1]], device='cuda:0')\n",
      "====\n",
      "tensor([[-7.3783,    -inf,    -inf,    -inf,    -inf]], device='cuda:0')\n",
      "tensor([[8, 2, 0, 3, 1]], device='cuda:0')\n",
      "====\n",
      "tensor([[-6.9823,    -inf,    -inf,    -inf,    -inf]], device='cuda:0')\n",
      "tensor([[3733,    2,    0,    3,    1]], device='cuda:0')\n",
      "====\n",
      "tensor([[-3.9075,    -inf,    -inf,    -inf,    -inf]], device='cuda:0')\n",
      "tensor([[19,  2,  0,  3,  1]], device='cuda:0')\n",
      "====\n",
      "tensor([[-6.3024,    -inf,    -inf,    -inf,    -inf]], device='cuda:0')\n",
      "tensor([[1041,    2,    0,    3,    1]], device='cuda:0')\n",
      "====\n",
      "tensor([[-4.8440,    -inf,    -inf,    -inf,    -inf]], device='cuda:0')\n",
      "tensor([[179,   2,   0,   3,   1]], device='cuda:0')\n",
      "====\n",
      "tensor([[-10.5537,     -inf,     -inf,     -inf,     -inf]], device='cuda:0')\n",
      "tensor([[365,   2,   0,   3,   1]], device='cuda:0')\n",
      "====\n",
      "tensor([[-11.0905,     -inf,     -inf,     -inf,     -inf]], device='cuda:0')\n",
      "tensor([[8, 2, 0, 3, 1]], device='cuda:0')\n",
      "====\n",
      "tensor([[-8.9815,    -inf,    -inf,    -inf,    -inf]], device='cuda:0')\n",
      "tensor([[11175,     2,     0,     3,     1]], device='cuda:0')\n",
      "====\n",
      "tensor([[2.9557,   -inf,   -inf,   -inf,   -inf]], device='cuda:0')\n",
      "tensor([[4763,    2,    0,    3,    1]], device='cuda:0')\n",
      "====\n",
      "tensor([[-2.7526,    -inf,    -inf,    -inf,    -inf]], device='cuda:0')\n",
      "tensor([[5, 2, 0, 3, 1]], device='cuda:0')\n",
      "====\n",
      "tensor([[-4.2482,    -inf,    -inf,    -inf,    -inf]], device='cuda:0')\n",
      "tensor([[1, 3, 0, 4, 2]], device='cuda:0')\n"
     ]
    }
   ],
   "source": [
    "print(len(generated_output.scores))\n",
    "\n",
    "for i in range(len(generated_output.scores)):\n",
    "    softmaxed = softmax(generated_output.scores[i]) + 1e-4\n",
    "    print(\"====\")\n",
    "    print(torch.topk(generated_output.scores[i], k=5).values)\n",
    "    print(torch.topk(generated_output.scores[i], k=5).indices)    "
   ]
  },
  {
   "cell_type": "code",
   "execution_count": null,
   "id": "1b8d4b93-c57e-4ed8-8d75-1296995228a2",
   "metadata": {
    "tags": []
   },
   "outputs": [],
   "source": []
  },
  {
   "cell_type": "markdown",
   "id": "19a0192f-2449-42ad-916c-ea61699edaf7",
   "metadata": {
    "jp-MarkdownHeadingCollapsed": true,
    "tags": []
   },
   "source": [
    "## Extract cross attention matrices"
   ]
  },
  {
   "cell_type": "code",
   "execution_count": 97,
   "id": "105c5b39-17a1-4a8a-bdd4-1d02461e26f0",
   "metadata": {},
   "outputs": [
    {
     "data": {
      "text/plain": [
       "12"
      ]
     },
     "execution_count": 97,
     "metadata": {},
     "output_type": "execute_result"
    }
   ],
   "source": [
    "len(forward.cross_attentions)"
   ]
  },
  {
   "cell_type": "code",
   "execution_count": 98,
   "id": "a45db957-6a87-40b0-b560-efeef5c760dc",
   "metadata": {},
   "outputs": [
    {
     "data": {
      "text/plain": [
       "torch.Size([12, 12, 3, 880])"
      ]
     },
     "execution_count": 98,
     "metadata": {},
     "output_type": "execute_result"
    }
   ],
   "source": [
    "stacked_forward_attentions = torch.cat(forward.cross_attentions, dim=0)\n",
    "stacked_forward_attentions.shape"
   ]
  },
  {
   "cell_type": "code",
   "execution_count": 99,
   "id": "c4e273d8-276c-45a8-9868-41d1c40a30ab",
   "metadata": {},
   "outputs": [
    {
     "data": {
      "text/plain": [
       "tensor(-80681824., device='cuda:0', grad_fn=<MeanBackward0>)"
      ]
     },
     "execution_count": 99,
     "metadata": {},
     "output_type": "execute_result"
    }
   ],
   "source": [
    "torch.mean(stacked_forward_attentions[:, :, 0, :])"
   ]
  },
  {
   "cell_type": "code",
   "execution_count": 34,
   "id": "5e089fd6-621e-44d8-bb16-a2a9057dbc5f",
   "metadata": {},
   "outputs": [
    {
     "data": {
      "text/plain": [
       "torch.Size([1, 12, 3, 322])"
      ]
     },
     "execution_count": 34,
     "metadata": {},
     "output_type": "execute_result"
    }
   ],
   "source": [
    "forward.cross_attentions[0].shape"
   ]
  },
  {
   "cell_type": "code",
   "execution_count": 35,
   "id": "26e96656-2048-41eb-8dab-7b4a9dd7ca17",
   "metadata": {},
   "outputs": [
    {
     "data": {
      "text/plain": [
       "tensor(-27950314., device='cuda:0', grad_fn=<MeanBackward0>)"
      ]
     },
     "execution_count": 35,
     "metadata": {},
     "output_type": "execute_result"
    }
   ],
   "source": [
    "torch.mean(forward.cross_attentions[0][:, :, 0, :])"
   ]
  },
  {
   "cell_type": "code",
   "execution_count": 36,
   "id": "074aca81-f1bd-49be-acdd-c24472bca22f",
   "metadata": {
    "tags": []
   },
   "outputs": [
    {
     "data": {
      "text/plain": [
       "torch.Size([1, 12, 3, 322])"
      ]
     },
     "execution_count": 36,
     "metadata": {},
     "output_type": "execute_result"
    }
   ],
   "source": [
    "forward.cross_attentions[0].shape"
   ]
  },
  {
   "cell_type": "code",
   "execution_count": 37,
   "id": "dcbf0b37-bcc0-45f6-a6cc-c4df37e5b143",
   "metadata": {},
   "outputs": [
    {
     "data": {
      "text/plain": [
       "torch.Size([1, 12, 3])"
      ]
     },
     "execution_count": 37,
     "metadata": {},
     "output_type": "execute_result"
    }
   ],
   "source": [
    "torch.sum(forward.cross_attentions[3], dim=-1).shape"
   ]
  },
  {
   "cell_type": "code",
   "execution_count": 38,
   "id": "ce7b6408-4303-4525-948a-d0c67d47b002",
   "metadata": {},
   "outputs": [
    {
     "data": {
      "text/plain": [
       "tensor([[[-9.0000e+09, -9.0000e+09, -9.0000e+09],\n",
       "         [-9.0000e+09, -9.0000e+09, -9.0000e+09],\n",
       "         [-9.0000e+09, -9.0000e+09, -9.0000e+09],\n",
       "         [-9.0000e+09, -9.0000e+09, -9.0000e+09],\n",
       "         [-9.0000e+09, -9.0000e+09, -9.0000e+09],\n",
       "         [-9.0000e+09, -9.0000e+09, -9.0000e+09],\n",
       "         [-9.0000e+09, -9.0000e+09, -9.0000e+09],\n",
       "         [-9.0000e+09, -9.0000e+09, -9.0000e+09],\n",
       "         [-9.0000e+09, -9.0000e+09, -9.0000e+09],\n",
       "         [-9.0000e+09, -9.0000e+09, -9.0000e+09],\n",
       "         [-9.0000e+09, -9.0000e+09, -9.0000e+09],\n",
       "         [-9.0000e+09, -9.0000e+09, -9.0000e+09]]], device='cuda:0',\n",
       "       grad_fn=<SumBackward1>)"
      ]
     },
     "execution_count": 38,
     "metadata": {},
     "output_type": "execute_result"
    }
   ],
   "source": [
    "torch.sum(forward.cross_attentions[0], dim=-1)"
   ]
  },
  {
   "cell_type": "code",
   "execution_count": 30,
   "id": "7ae0b9ab-e880-4d51-86fc-f25981a4c944",
   "metadata": {},
   "outputs": [
    {
     "data": {
      "text/plain": [
       "tensor([ 1.9729e+00,  1.3851e+00, -2.1832e+00, -1.1376e+00, -1.2776e+00,\n",
       "        -3.4125e+00, -5.3054e+00, -4.8791e+00, -3.2870e+00, -4.4425e+00,\n",
       "        -1.8687e+00, -2.5599e+00, -2.6223e+00, -4.1923e+00, -1.3342e+00,\n",
       "        -5.2764e-01,  5.1298e-01, -4.1823e+00, -4.5534e+00, -3.5556e+00,\n",
       "        -4.6796e+00, -8.2563e-01,  9.5785e-01, -3.3178e+00, -3.6698e+00,\n",
       "        -3.0187e+00, -4.7601e+00, -4.2497e+00, -2.8946e+00, -5.3650e+00,\n",
       "        -3.4801e+00, -4.4688e+00, -3.2278e+00, -4.8753e+00, -3.7288e+00,\n",
       "        -1.9606e+00,  1.3321e+00, -3.6053e+00, -1.8468e+00, -4.1075e+00,\n",
       "        -2.9598e+00, -2.5535e+00, -2.2707e+00, -3.5604e+00, -3.8036e+00,\n",
       "        -2.4402e+00, -4.0344e+00, -2.8101e+00, -5.1451e+00, -1.9998e+00,\n",
       "        -1.9949e+00,  1.3623e+00, -9.9303e-01,  8.5180e-01, -2.4537e-01,\n",
       "        -1.4495e+00, -1.2180e+00,  5.8565e-01,  6.4136e-01,  1.1378e+00,\n",
       "        -8.3264e-01, -1.4387e+00, -1.5302e+00, -1.3770e+00, -8.3234e-01,\n",
       "        -5.2860e-01,  2.6433e+00,  3.8919e-01, -9.3304e-01, -2.2436e+00,\n",
       "        -4.4312e+00, -3.5490e+00, -4.6887e+00, -2.9122e+00, -4.8157e+00,\n",
       "        -4.0654e+00, -4.5377e+00, -4.3426e+00, -1.8697e+00, -4.4618e+00,\n",
       "        -2.1643e+00, -2.6291e+00, -5.6696e+00, -5.3164e+00, -4.3781e+00,\n",
       "        -5.9670e+00, -5.2321e+00, -4.2080e+00, -3.1265e+00, -4.2005e+00,\n",
       "        -2.8771e+00, -3.2956e+00, -1.1805e+00, -2.8303e+00, -4.4768e+00,\n",
       "        -5.4440e+00, -6.1873e+00, -1.0963e+00, -1.8426e+00, -5.2303e+00,\n",
       "        -6.4775e+00, -5.9651e+00, -3.0967e+00, -4.5600e+00,  1.3282e+00,\n",
       "        -5.9412e+00, -2.8950e+00, -6.2434e+00, -1.8653e-01, -5.2957e+00,\n",
       "        -4.1540e+00, -5.3873e+00, -4.4140e+00, -5.1191e+00, -3.9336e+00,\n",
       "        -4.8321e+00, -3.9711e+00, -4.4869e+00, -2.6614e+00, -4.1897e+00,\n",
       "        -4.4527e+00, -1.5985e+00, -3.6627e+00, -3.5549e+00, -4.6487e+00,\n",
       "        -3.2182e+00, -3.3348e+00, -4.3084e+00, -5.2264e+00, -6.0960e+00,\n",
       "         1.3176e+00, -5.0884e+00, -4.8702e+00, -6.5156e+00, -4.8602e+00,\n",
       "         1.2623e+00, -2.1398e+00, -4.7851e+00, -5.9398e+00, -4.7313e+00,\n",
       "        -4.0941e+00, -3.6307e+00, -5.4165e+00,  1.3143e+00, -5.5277e+00,\n",
       "        -5.8773e+00,  1.3321e+00, -7.3642e+00, -3.1572e+00, -7.0340e+00,\n",
       "        -5.5194e+00, -6.1182e+00,  1.2496e+00, -4.2643e+00, -2.5299e+00,\n",
       "        -2.6888e+00, -3.7361e+00, -2.4774e+00, -3.2266e+00, -2.0169e+00,\n",
       "         1.2179e+00,  1.9280e+00,  1.3883e+00, -2.2823e+00, -8.9481e-01,\n",
       "        -1.3417e+00, -2.5561e+00, -4.1483e+00, -3.2045e+00, -2.3281e+00,\n",
       "        -3.7932e+00, -2.6662e+00, -3.6371e+00, -4.3229e+00, -4.6901e+00,\n",
       "        -2.7355e+00,  3.5384e-01,  1.5543e+00,  2.6047e+00, -2.9533e-01,\n",
       "         1.3160e+00,  1.8552e+00,  2.4846e+00, -1.4129e+00,  2.7614e+00,\n",
       "        -1.2821e+00, -7.3053e-01, -5.7694e-01, -4.0411e+00, -4.8368e+00,\n",
       "        -3.8859e+00, -4.3150e+00, -4.2504e+00, -3.5745e-01, -3.5462e-01,\n",
       "        -7.3754e-01, -1.9055e+00, -3.0862e-01, -2.6462e-01, -8.4304e-01,\n",
       "        -3.4324e-01, -5.9995e+00, -6.0510e+00,  1.4091e+00, -5.7798e+00,\n",
       "        -4.3337e+00, -6.5568e+00,  1.4036e+00, -5.8580e+00, -3.3419e+00,\n",
       "        -2.4596e+00, -4.8135e+00,  8.3057e-01, -6.2245e+00, -5.9418e+00,\n",
       "        -4.8557e+00, -2.4293e+00, -2.9622e+00, -4.5057e+00, -6.1893e+00,\n",
       "        -5.0973e+00, -3.5218e+00, -5.3923e+00, -4.5799e+00, -3.9574e+00,\n",
       "        -4.4635e+00, -4.5057e+00, -1.5150e+00, -2.8114e+00, -4.3329e+00,\n",
       "        -3.5980e+00, -3.8420e+00, -1.8371e+00, -1.9484e-01, -5.4847e+00,\n",
       "        -1.4760e+00, -3.6981e+00, -4.9489e+00, -4.2241e+00, -2.5071e-01,\n",
       "        -4.3569e+00, -4.0960e+00, -6.1977e+00, -5.1910e+00, -3.2393e+00,\n",
       "        -4.4211e+00, -5.0790e+00, -3.4128e+00, -5.0038e+00, -4.9638e+00,\n",
       "        -5.1276e+00, -4.3316e+00, -4.1899e+00, -3.3087e+00, -3.0998e+00,\n",
       "        -1.7585e+00, -8.6455e-01, -4.9921e+00, -2.4460e+00, -4.3285e+00,\n",
       "        -5.2264e+00, -4.2715e+00, -2.9195e+00, -3.7304e+00, -2.3466e+00,\n",
       "        -3.2093e+00, -1.2309e+00, -2.9737e+00, -2.6926e+00,  3.8574e-01,\n",
       "        -1.8895e+00,  1.1804e+00, -1.4196e+00, -3.3326e+00, -1.6068e+00,\n",
       "        -4.0972e-01, -5.0661e-01, -1.4656e+00, -7.8192e-01, -3.3248e+00,\n",
       "        -4.1226e+00, -1.3924e+00, -1.6840e+00, -2.9675e+00, -4.3076e+00,\n",
       "        -4.3947e+00, -4.6235e+00, -4.1214e+00, -4.3019e+00, -3.6414e+00,\n",
       "        -2.2205e+00, -8.0839e-01, -3.1549e+00, -4.5909e+00,  3.8164e-01,\n",
       "         1.3151e-01,  4.4845e-01,  1.4407e+00, -3.2950e+00, -9.5082e-02,\n",
       "        -1.9994e+00, -2.3387e+00, -3.9092e-01, -5.1621e-01, -1.2550e+00,\n",
       "        -8.8810e-01,  1.1211e-01, -2.4601e+00, -5.3425e+00, -2.0550e+00,\n",
       "        -3.2892e+00, -4.2305e+00,  1.2666e+00, -1.0000e+09, -1.0000e+09,\n",
       "        -1.0000e+09, -1.0000e+09, -1.0000e+09, -1.0000e+09, -1.0000e+09,\n",
       "        -1.0000e+09, -1.0000e+09], device='cuda:0', grad_fn=<SelectBackward0>)"
      ]
     },
     "execution_count": 30,
     "metadata": {},
     "output_type": "execute_result"
    }
   ],
   "source": [
    "forward.cross_attentions[0][0][0][1]"
   ]
  },
  {
   "cell_type": "code",
   "execution_count": 248,
   "id": "4dd3613a-0810-473a-921e-6d0b19e79c78",
   "metadata": {},
   "outputs": [
    {
     "data": {
      "text/plain": [
       "tensor([[[-2.4000e+10, -2.4000e+10, -2.4000e+10, -2.4000e+10, -2.4000e+10,\n",
       "          -2.4000e+10, -2.4000e+10],\n",
       "         [-2.4000e+10, -2.4000e+10, -2.4000e+10, -2.4000e+10, -2.4000e+10,\n",
       "          -2.4000e+10, -2.4000e+10],\n",
       "         [-2.4000e+10, -2.4000e+10, -2.4000e+10, -2.4000e+10, -2.4000e+10,\n",
       "          -2.4000e+10, -2.4000e+10],\n",
       "         [-2.4000e+10, -2.4000e+10, -2.4000e+10, -2.4000e+10, -2.4000e+10,\n",
       "          -2.4000e+10, -2.4000e+10],\n",
       "         [-2.4000e+10, -2.4000e+10, -2.4000e+10, -2.4000e+10, -2.4000e+10,\n",
       "          -2.4000e+10, -2.4000e+10],\n",
       "         [-2.4000e+10, -2.4000e+10, -2.4000e+10, -2.4000e+10, -2.4000e+10,\n",
       "          -2.4000e+10, -2.4000e+10],\n",
       "         [-2.4000e+10, -2.4000e+10, -2.4000e+10, -2.4000e+10, -2.4000e+10,\n",
       "          -2.4000e+10, -2.4000e+10],\n",
       "         [-2.4000e+10, -2.4000e+10, -2.4000e+10, -2.4000e+10, -2.4000e+10,\n",
       "          -2.4000e+10, -2.4000e+10],\n",
       "         [-2.4000e+10, -2.4000e+10, -2.4000e+10, -2.4000e+10, -2.4000e+10,\n",
       "          -2.4000e+10, -2.4000e+10],\n",
       "         [-2.4000e+10, -2.4000e+10, -2.4000e+10, -2.4000e+10, -2.4000e+10,\n",
       "          -2.4000e+10, -2.4000e+10],\n",
       "         [-2.4000e+10, -2.4000e+10, -2.4000e+10, -2.4000e+10, -2.4000e+10,\n",
       "          -2.4000e+10, -2.4000e+10],\n",
       "         [-2.4000e+10, -2.4000e+10, -2.4000e+10, -2.4000e+10, -2.4000e+10,\n",
       "          -2.4000e+10, -2.4000e+10]]], device='cuda:0', grad_fn=<SumBackward1>)"
      ]
     },
     "execution_count": 248,
     "metadata": {},
     "output_type": "execute_result"
    }
   ],
   "source": [
    "torch.sum(forward.cross_attentions[0], dim=-1)"
   ]
  },
  {
   "cell_type": "code",
   "execution_count": null,
   "id": "ab05c654-5b06-48bf-a17e-d8958efcf1fc",
   "metadata": {},
   "outputs": [],
   "source": []
  },
  {
   "cell_type": "markdown",
   "id": "664f7ee5-85d2-4281-9061-349867efbb45",
   "metadata": {
    "tags": []
   },
   "source": [
    "## compute g_{q,p} / max-pool attention matrices"
   ]
  },
  {
   "cell_type": "code",
   "execution_count": 216,
   "id": "77c4a84c-57f6-4bb3-a732-38ba13fd6c8d",
   "metadata": {},
   "outputs": [],
   "source": [
    " with torch.no_grad():\n",
    "    model_forward = model.forward(\n",
    "            input_ids=context_ids.cuda(),\n",
    "            attention_mask=context_mask.cuda(),\n",
    "            decoder_input_ids=labels.cuda(),\n",
    "            output_attentions=True,\n",
    "            output_unnormalized_attentions=True,\n",
    "        )\n",
    "\n",
    "cross_attentions = model_forward.cross_attentions\n",
    "stacked_forward_attentions = torch.cat(cross_attentions, dim=0)\n",
    "msk = torch.reshape(context_mask, (1, context_mask.shape[1]*context_mask.shape[2])).cuda()\n",
    "\n",
    "masked_stacked_forward_attentions = stacked_forward_attentions.masked_fill(msk == False, -10000.0)\n",
    "\n",
    "avg_attn_matrix = torch.mean(masked_stacked_forward_attentions, dim=(0, 1)).cpu()"
   ]
  },
  {
   "cell_type": "code",
   "execution_count": 217,
   "id": "581f9bb5-1bbb-4918-89a5-47e4ef165d0c",
   "metadata": {},
   "outputs": [
    {
     "data": {
      "text/plain": [
       "torch.Size([46, 340])"
      ]
     },
     "execution_count": 217,
     "metadata": {},
     "output_type": "execute_result"
    }
   ],
   "source": [
    "avg_attn_matrix.shape"
   ]
  },
  {
   "cell_type": "code",
   "execution_count": 218,
   "id": "d2f4e644-df38-46e0-8624-8b05820a1906",
   "metadata": {},
   "outputs": [
    {
     "data": {
      "text/plain": [
       "torch.Size([1, 340])"
      ]
     },
     "execution_count": 218,
     "metadata": {},
     "output_type": "execute_result"
    }
   ],
   "source": [
    "context_ids_reshaped = torch.reshape(context_ids, (1, context_ids.shape[1]*context_ids.shape[2]))\n",
    "context_ids_reshaped.shape"
   ]
  },
  {
   "cell_type": "code",
   "execution_count": 219,
   "id": "4bbbfc7c-3d27-47ad-911b-29b5604fd488",
   "metadata": {},
   "outputs": [
    {
     "data": {
      "text/plain": [
       "tensor([[  822,    10,  1072,  4269,    12,  1413,  3822,  1016,   725,    36,\n",
       "             3,  9942,    45,     8, 16523,  1088,    31,     7,   999,    13,\n",
       "           268,  3187,    58,  2233,    10,  2625,    10,    37, 17104,    19,\n",
       "             3, 15982,    15,    26,  5658,   120,    12,  1581,   163,    12,\n",
       "          4269,    24,    54,    36,     3,  9942,    45,     8, 18243,  1088,\n",
       "            31,     7,   293,    96, 16394,  3187,   535,     1,     0,     0,\n",
       "             0,     0,     0,     0,     0,     0,     0,     0,   822,    10,\n",
       "          1072,  4269,    12,  1413,  3822,  1016,   725,    36,     3,  9942,\n",
       "            45,     8, 16523,  1088,    31,     7,   999,    13,   268,  3187,\n",
       "            58,  2233,    10,  2625,    10,    71,  1088,   164,  1759,   268,\n",
       "          3187,    16,  4618,    13, 18243,  1413,  3822,  1016,   725,   213,\n",
       "             8,  1525,   164,    36,     3,  9942,    42,    38,  2110, 10733,\n",
       "            45,   224,  3187,     5,     1,     0,     0,     0,     0,     0,\n",
       "             0,     0,     0,     0,     0,     0,   822,    10,  1072,  4269,\n",
       "            12,  1413,  3822,  1016,   725,    36,     3,  9942,    45,     8,\n",
       "         16523,  1088,    31,     7,   999,    13,   268,  3187,    58,  2233,\n",
       "            10,  2625,    10,    37,  1612,    13, 17104,  5400,   599,    26,\n",
       "            61,    19,  5658,   120,     3, 15982,    15,    26,    11,  8275,\n",
       "            96,  9926,    12,  4269,    24,    54,    36,     3,  9942,    45,\n",
       "             8, 18243,  1088,    31,     7,   293,     3,     2, 16394,  3187]])"
      ]
     },
     "execution_count": 219,
     "metadata": {},
     "output_type": "execute_result"
    }
   ],
   "source": [
    "context_ids_reshaped[:, :200]"
   ]
  },
  {
   "cell_type": "code",
   "execution_count": 220,
   "id": "14072e43-a280-471e-a2b3-0514d92dfe85",
   "metadata": {},
   "outputs": [
    {
     "data": {
      "text/plain": [
       "torch.Size([46, 340])"
      ]
     },
     "execution_count": 220,
     "metadata": {},
     "output_type": "execute_result"
    }
   ],
   "source": [
    "avg_attn_matrix.shape"
   ]
  },
  {
   "cell_type": "code",
   "execution_count": 221,
   "id": "d958ce22-1b4e-4a5b-ba6b-809e1ea5ca70",
   "metadata": {},
   "outputs": [
    {
     "name": "stdout",
     "output_type": "stream",
     "text": [
      "torch.Size([46, 300])\n"
     ]
    },
    {
     "data": {
      "text/plain": [
       "tensor([[124, 335, 267,  ..., 244, 107, 314],\n",
       "        [124, 335, 267,  ...,  13,  81, 312],\n",
       "        [124, 335, 267,  ...,  81,  79,  35],\n",
       "        [124, 267, 335,  ..., 150, 153,  14],\n",
       "        [124, 267, 335,  ..., 169,  14, 149]])"
      ]
     },
     "execution_count": 221,
     "metadata": {},
     "output_type": "execute_result"
    }
   ],
   "source": [
    "k = 5\n",
    "topk = torch.topk(avg_attn_matrix, k=300)\n",
    "print(topk.indices.shape)\n",
    "topk.indices[:5]"
   ]
  },
  {
   "cell_type": "code",
   "execution_count": 222,
   "id": "f22e83a3-06f6-4db2-aa5d-5aaa1763701b",
   "metadata": {},
   "outputs": [
    {
     "data": {
      "text/plain": [
       "24"
      ]
     },
     "execution_count": 222,
     "metadata": {},
     "output_type": "execute_result"
    }
   ],
   "source": [
    "len(generated_output[0])"
   ]
  },
  {
   "cell_type": "code",
   "execution_count": 223,
   "id": "ad6ccc87-c01a-4b94-b100-36ecef4de1cb",
   "metadata": {},
   "outputs": [
    {
     "data": {
      "text/plain": [
       "['▁The',\n",
       " '▁responding',\n",
       " '▁party',\n",
       " '▁may',\n",
       " '▁choose',\n",
       " '▁to',\n",
       " '▁produce',\n",
       " '▁documents',\n",
       " '▁in',\n",
       " '▁lieu',\n",
       " '▁of',\n",
       " '▁written',\n",
       " '▁answers',\n",
       " '▁to',\n",
       " '▁the',\n",
       " '▁inter',\n",
       " 'rog',\n",
       " 'ator',\n",
       " 'ies',\n",
       " '▁only',\n",
       " '▁',\n",
       " 'if',\n",
       " '▁answers',\n",
       " '▁to',\n",
       " '▁the',\n",
       " '▁inter',\n",
       " 'rog',\n",
       " 'ator',\n",
       " 'ies',\n",
       " '▁can',\n",
       " '▁actually',\n",
       " '▁be',\n",
       " '▁',\n",
       " 'derived',\n",
       " '▁from',\n",
       " '▁the',\n",
       " '▁responding',\n",
       " '▁party',\n",
       " '’',\n",
       " 's',\n",
       " '▁production',\n",
       " '▁of',\n",
       " '▁business',\n",
       " '▁records',\n",
       " '.',\n",
       " '</s>']"
      ]
     },
     "execution_count": 223,
     "metadata": {},
     "output_type": "execute_result"
    }
   ],
   "source": [
    "tokenizer.convert_ids_to_tokens(labels[0])"
   ]
  },
  {
   "cell_type": "code",
   "execution_count": 224,
   "id": "fa350655-11e1-44b1-b629-67f0fc8695f4",
   "metadata": {},
   "outputs": [
    {
     "name": "stdout",
     "output_type": "stream",
     "text": [
      "['▁choose']\n",
      "===\n"
     ]
    },
    {
     "data": {
      "text/plain": [
       "'</s> </s> </s> </s> </s> ly::::: title title title. title title.e context context context context:: e context  cer or  tained.\" the as\\' from\\'\\'::derived question question records\\'?: question?? answer production production question?derived where? questionderivedderived be lieu Rule Rulederived answers such:: can may production production produce Ruleonly records answers can answers records Rule records records records that records answers answers recordsrogrog to answers answersrog\" that business ownrog  productionderived own records The may mayderivedderivedderived applies be be from business business only business business \": answer answer the the bebusiness party party A\\' ofbusiness be business may alternative alternativederived::(( from business business records records from answering be be be party be from method method from from be Can Can apply from from respond respond\\': inconstru( from when when party party to Canrogrog Can: The   33 33rog the the party and 33 answering   Can  iesconstru responding responding)iess party inter languages \" to answeringrog theatoryatory of ofator\\' partyiesies ofaa of to toator\\' of ofsss)) to of<unk> s ofatorator inter inters an an party party to to responding responding to inter inter party narrow narrowies interiesator the the the the an an the the the to to todd responding responding provides providesd responding the'"
      ]
     },
     "execution_count": 224,
     "metadata": {},
     "output_type": "execute_result"
    }
   ],
   "source": [
    "out_index = 4\n",
    "print(tokenizer.convert_ids_to_tokens([labels[0][out_index]]))\n",
    "\n",
    "print(\"===\")\n",
    "tokenizer.decode(torch.index_select(context_ids_reshaped[0], 0, topk.indices[out_index]))"
   ]
  },
  {
   "cell_type": "code",
   "execution_count": null,
   "id": "25e262d7-62e3-4bd2-8903-64bd5ad6a6d3",
   "metadata": {},
   "outputs": [],
   "source": []
  },
  {
   "cell_type": "code",
   "execution_count": null,
   "id": "4de20931-46a7-4a15-a26b-6a269f814433",
   "metadata": {},
   "outputs": [],
   "source": []
  },
  {
   "cell_type": "markdown",
   "id": "e6670f54-d07d-4aea-96d6-9fc5acc5d351",
   "metadata": {
    "tags": []
   },
   "source": [
    "### Visualise layer-head averaged cross-attention matrix"
   ]
  },
  {
   "cell_type": "code",
   "execution_count": 227,
   "id": "88c7703c-3e5a-4181-8204-e287e15faa30",
   "metadata": {},
   "outputs": [
    {
     "data": {
      "text/plain": [
       "(46, 340)"
      ]
     },
     "execution_count": 227,
     "metadata": {},
     "output_type": "execute_result"
    }
   ],
   "source": [
    "avg_attn_matrix.cpu().numpy().shape"
   ]
  },
  {
   "cell_type": "code",
   "execution_count": 244,
   "id": "7c133057-ae3b-4b9c-9af8-7421d0c827ff",
   "metadata": {
    "tags": []
   },
   "outputs": [
    {
     "data": {
      "text/plain": [
       "<matplotlib.colorbar.Colorbar at 0x7f2d75d7dfa0>"
      ]
     },
     "execution_count": 244,
     "metadata": {},
     "output_type": "execute_result"
    },
    {
     "data": {
      "image/png": "[encoded data removed]",
      "text/plain": [
       "<Figure size 1440x720 with 2 Axes>"
      ]
     },
     "metadata": {},
     "output_type": "display_data"
    }
   ],
   "source": [
    "fig = plt.figure(figsize=(20, 10), facecolor=\"white\")\n",
    "ax = fig.add_subplot()\n",
    "#ax.imshow(averaged_attention_matrix[:, :], cmap='hot', interpolation='nearest')\n",
    "im = ax.imshow(avg_attn_matrix.cpu().numpy(), cmap=plt.get_cmap('hot'), aspect='auto', vmin=-10)\n",
    "fig.colorbar(im)"
   ]
  },
  {
   "cell_type": "code",
   "execution_count": 234,
   "id": "c6ebc1b4-47b7-469d-810b-862bd98a7dd0",
   "metadata": {},
   "outputs": [
    {
     "data": {
      "text/plain": [
       "<AxesSubplot:>"
      ]
     },
     "execution_count": 234,
     "metadata": {},
     "output_type": "execute_result"
    },
    {
     "data": {
      "image/png": "[encoded data removed]",
      "text/plain": [
       "<Figure size 432x288 with 2 Axes>"
      ]
     },
     "metadata": {
      "needs_background": "light"
     },
     "output_type": "display_data"
    }
   ],
   "source": [
    "sns.heatmap(avg_attn_matrix.cpu().numpy())"
   ]
  },
  {
   "cell_type": "code",
   "execution_count": null,
   "id": "6ee404de-5893-41a3-a113-75927b1cafb9",
   "metadata": {},
   "outputs": [],
   "source": []
  },
  {
   "cell_type": "markdown",
   "id": "fe4549cd-3213-4a2c-931b-5f986b1b5ad9",
   "metadata": {
    "jp-MarkdownHeadingCollapsed": true,
    "tags": []
   },
   "source": [
    "## Obtaining the generative output score"
   ]
  },
  {
   "cell_type": "code",
   "execution_count": 17,
   "id": "fcdbd42d-d37f-4ab4-a6c7-846448bb788f",
   "metadata": {},
   "outputs": [
    {
     "data": {
      "text/plain": [
       "386"
      ]
     },
     "execution_count": 17,
     "metadata": {},
     "output_type": "execute_result"
    }
   ],
   "source": [
    "len(dataloader)"
   ]
  },
  {
   "cell_type": "code",
   "execution_count": null,
   "id": "a11aed56-410e-40d8-b59f-033b9968f49f",
   "metadata": {},
   "outputs": [],
   "source": []
  },
  {
   "cell_type": "markdown",
   "id": "b037e084-19a1-48f3-ae96-5c91a268cc7c",
   "metadata": {},
   "source": [
    "### Figure out prevalence of very confident, correct vs incorrect answers"
   ]
  },
  {
   "cell_type": "code",
   "execution_count": 11,
   "id": "0e47d33e-78e6-4944-b98b-ba8c74aaebdf",
   "metadata": {
    "tags": []
   },
   "outputs": [
    {
     "name": "stderr",
     "output_type": "stream",
     "text": [
      "0it [00:00, ?it/s]/opt/conda/envs/myenv/lib/python3.9/site-packages/transformers/modeling_utils.py:699: FutureWarning: The `device` argument is deprecated and will be removed in v5 of Transformers.\n",
      "  warnings.warn(\n",
      "/opt/conda/envs/myenv/lib/python3.9/site-packages/transformers/modeling_utils.py:656: FutureWarning: The `device` argument is deprecated and will be removed in v5 of Transformers.\n",
      "  warnings.warn(\n",
      "0it [00:05, ?it/s]\n"
     ]
    }
   ],
   "source": [
    "# only one context vector\n",
    "\n",
    "exact_match_log_probabilities = []\n",
    "incorrect_log_probabilities = []\n",
    "exact_match_answers = []\n",
    "\n",
    "for i, batch in tqdm(enumerate(dataloader)):\n",
    "    \n",
    "    (idx, _, _, context_ids, context_mask) = batch\n",
    "    sequences = model.generate(\n",
    "                input_ids=context_ids.cuda(),\n",
    "                attention_mask=context_mask.cuda(),\n",
    "                max_length=100,\n",
    "                return_dict_in_generate=True,\n",
    "                output_scores=True\n",
    "            ).sequences\n",
    "\n",
    "    \n",
    "    for k, o in enumerate(sequences):\n",
    "        ans = tokenizer.decode(o, skip_special_tokens=True)\n",
    "        gold = eval_dataset.get_example(idx[k])['answers']\n",
    "        score = ems(ans, gold)\n",
    "        #print(score)\n",
    "        # total += 1\n",
    "        # exactmatch.append(score)\n",
    "#         print(\"model generated output:\")\n",
    "#         print(ans)\n",
    "\n",
    "#         print(\"\")\n",
    "#         print(\"ground truth:\")\n",
    "#         print(gold) \n",
    "\n",
    "    # print(\"extracting negative log probability ...\")\n",
    "    log_probability = model.obtain_log_generated_probability(\n",
    "        input_ids=context_ids.cuda(),\n",
    "        attention_mask=context_mask.cuda(),\n",
    "        max_length=100\n",
    "\n",
    "    )\n",
    "    \n",
    "    if score == True:\n",
    "        exact_match_log_probabilities.append(log_probability.cpu().numpy())\n",
    "        exact_match_answers.append(ans)\n",
    "#         if len(exact_match_log_probabilities) >= 5:\n",
    "#             print(\"exceeded five exact matches\")\n",
    "        \n",
    "#         if len(exact_match_log_probabilities) >= 10:\n",
    "#             print(\"exceeded ten exact matches\")\n",
    "    \n",
    "    else:\n",
    "        incorrect_log_probabilities.append(log_probability.cpu().numpy())\n",
    "        \n",
    "    if i >= 0:\n",
    "        break\n"
   ]
  },
  {
   "cell_type": "code",
   "execution_count": 14,
   "id": "7d1deddd-3169-4188-9b5b-a8a94124935f",
   "metadata": {},
   "outputs": [],
   "source": [
    "# load from local\n",
    "exact_match_log_probabilities = np.load(\"../numpy_drops/exact_matches_dev_sampling.npy\")\n",
    "incorrect_log_probabilities = np.load(\"../numpy_drops/incorrects_dev_sampling.npy\")\n",
    "rouge_match_log_probabilities = np.load(\"../numpy_drops/rouge_matches_dev_sampling.npy\")"
   ]
  },
  {
   "cell_type": "code",
   "execution_count": 15,
   "id": "4c77fd37-fccb-4104-9821-28cf9dcb8cc0",
   "metadata": {},
   "outputs": [
    {
     "data": {
      "text/plain": [
       "169"
      ]
     },
     "execution_count": 15,
     "metadata": {},
     "output_type": "execute_result"
    }
   ],
   "source": [
    "with open(\"../numpy_drops/rouge_similarity_answers_dev_sampling\", \"rb\") as f:\n",
    "    rouge_matches = pickle.load(f)\n",
    "\n",
    "len(rouge_matches)"
   ]
  },
  {
   "cell_type": "code",
   "execution_count": 16,
   "id": "cd961250-dc44-4e56-9058-bd246d9bd816",
   "metadata": {},
   "outputs": [
    {
     "data": {
      "text/plain": [
       "41"
      ]
     },
     "execution_count": 16,
     "metadata": {},
     "output_type": "execute_result"
    }
   ],
   "source": [
    "len([el for el in rouge_matches if el[2] == 1.0])"
   ]
  },
  {
   "cell_type": "code",
   "execution_count": 17,
   "id": "3cea20b9-3cb7-4b68-9160-0fa62f038669",
   "metadata": {},
   "outputs": [],
   "source": [
    "zipped_rouge = list(zip(rouge_matches, rouge_match_log_probabilities))"
   ]
  },
  {
   "cell_type": "code",
   "execution_count": 18,
   "id": "c3fc44e1-b259-4e0c-a8bd-195de57a5613",
   "metadata": {},
   "outputs": [
    {
     "name": "stdout",
     "output_type": "stream",
     "text": [
      "rouge match distribution\n",
      "169\n",
      "0.0357833\n",
      "0.043356366\n"
     ]
    }
   ],
   "source": [
    "print(\"rouge match distribution\")\n",
    "print(len(rouge_match_log_probabilities))\n",
    "print(np.mean(rouge_match_log_probabilities))\n",
    "print(np.std(rouge_match_log_probabilities))"
   ]
  },
  {
   "cell_type": "code",
   "execution_count": 19,
   "id": "1208a3a3-d29b-40bd-9a04-ae03d4796166",
   "metadata": {},
   "outputs": [
    {
     "name": "stdout",
     "output_type": "stream",
     "text": [
      "exact match distribution\n",
      "40\n",
      "0.008366695\n",
      "0.02236939\n"
     ]
    }
   ],
   "source": [
    "print(\"exact match distribution\")\n",
    "print(len(exact_match_log_probabilities))\n",
    "print(np.mean(exact_match_log_probabilities))\n",
    "print(np.std(exact_match_log_probabilities))"
   ]
  },
  {
   "cell_type": "code",
   "execution_count": 20,
   "id": "8495c9bf-8ef1-471a-8d46-f2e6ad59210e",
   "metadata": {},
   "outputs": [
    {
     "name": "stdout",
     "output_type": "stream",
     "text": [
      "incorrect match distribution\n",
      "217\n",
      "0.11599405\n",
      "0.105956756\n"
     ]
    }
   ],
   "source": [
    "print(\"incorrect match distribution\")\n",
    "print(len(incorrect_log_probabilities))\n",
    "print(np.mean(incorrect_log_probabilities))\n",
    "print(np.std(incorrect_log_probabilities))"
   ]
  },
  {
   "cell_type": "code",
   "execution_count": 21,
   "id": "87139496-6e89-450d-94c9-8d0f2c2e9193",
   "metadata": {},
   "outputs": [
    {
     "data": {
      "text/plain": [
       "<matplotlib.legend.Legend at 0x7f9cabf10100>"
      ]
     },
     "execution_count": 21,
     "metadata": {},
     "output_type": "execute_result"
    },
    {
     "data": {
      "image/png": "[encoded data removed]",
      "text/plain": [
       "<Figure size 576x576 with 1 Axes>"
      ]
     },
     "metadata": {},
     "output_type": "display_data"
    }
   ],
   "source": [
    "fig = plt.figure(figsize=(8,8), facecolor=\"white\")\n",
    "ax = fig.add_subplot(111)\n",
    "ax.scatter(list(range(len(incorrect_log_probabilities))), incorrect_log_probabilities, label=\"incorrects\")\n",
    "ax.scatter(list(range(len(rouge_match_log_probabilities))), rouge_match_log_probabilities, color=\"red\", label=\"rouge corrects\")\n",
    "ax.scatter(list(range(len(exact_match_log_probabilities))), exact_match_log_probabilities, color=\"orange\", label=\"exact matches\")\n",
    "ax.set_ylabel(\"log_sum_prob\")\n",
    "ax.legend()"
   ]
  },
  {
   "cell_type": "code",
   "execution_count": 22,
   "id": "107131f6-2fbb-4fac-8064-b264413454d0",
   "metadata": {},
   "outputs": [
    {
     "data": {
      "text/plain": [
       "array([0.        , 0.        , 0.        , 0.02162201, 0.        ,\n",
       "       0.        , 0.        , 0.        , 0.        , 0.00580232,\n",
       "       0.0117473 , 0.00572506, 0.        , 0.01535299, 0.        ,\n",
       "       0.        , 0.02833158, 0.0049893 , 0.04908391, 0.        ,\n",
       "       0.        , 0.        , 0.        , 0.        , 0.00164928,\n",
       "       0.        , 0.        , 0.00288065, 0.        , 0.        ,\n",
       "       0.        , 0.01439388, 0.        , 0.        , 0.        ,\n",
       "       0.        , 0.        , 0.1299778 , 0.03929619, 0.00381554],\n",
       "      dtype=float32)"
      ]
     },
     "execution_count": 22,
     "metadata": {},
     "output_type": "execute_result"
    }
   ],
   "source": [
    "exact_match_log_probabilities"
   ]
  },
  {
   "cell_type": "code",
   "execution_count": 55,
   "id": "cec08277-0e30-4971-94e6-86b6a872406e",
   "metadata": {},
   "outputs": [],
   "source": [
    "zipped_rouge = list(zip(rouge_matches, rouge_match_log_probabilities))\n",
    "\n",
    "inexact_matches = [el for el in zipped_rouge if el[0][2] != 1.0]\n",
    "\n",
    "inexact_match_log_probabilities = list(zip(*inexact_matches))[1]\n"
   ]
  },
  {
   "cell_type": "code",
   "execution_count": 89,
   "id": "b8bc0f25-fa69-4e88-8ce9-746295fd090a",
   "metadata": {},
   "outputs": [],
   "source": [
    "# rouge-l correctness\n",
    "corrects_rouge = list(rouge_match_log_probabilities)\n",
    "incorrects_rouge = list(incorrect_log_probabilities)\n",
    "\n",
    "y_scores_rouge = corrects_rouge + incorrects_rouge\n",
    "y_true_rouge = list(np.zeros(len(corrects_rouge)).astype(int)) + list(np.ones(len(incorrects_rouge)).astype(int))\n",
    "\n",
    "# exact match correctness\n",
    "corrects_exact = list(exact_match_log_probabilities)\n",
    "incorrects_exact = list(incorrect_log_probabilities) + list(inexact_match_log_probabilities)\n",
    "\n",
    "y_scores_exact = corrects_exact + incorrects_exact\n",
    "y_true_exact = list(np.zeros(len(corrects_exact)).astype(int)) + list(np.ones(len(incorrects_exact)).astype(int))"
   ]
  },
  {
   "cell_type": "code",
   "execution_count": 90,
   "id": "537ed91b-8f9d-4158-99e3-049c50489fa1",
   "metadata": {},
   "outputs": [
    {
     "data": {
      "text/plain": [
       "3466"
      ]
     },
     "execution_count": 90,
     "metadata": {},
     "output_type": "execute_result"
    }
   ],
   "source": [
    "len(corrects_rouge) + len(incorrects_rouge)"
   ]
  },
  {
   "cell_type": "code",
   "execution_count": 142,
   "id": "cb8189a4-a5f7-4b31-bcb0-158962edc5b8",
   "metadata": {},
   "outputs": [
    {
     "name": "stdout",
     "output_type": "stream",
     "text": [
      "precision: 0.7317574511819116\n",
      "recall: 0.4906960716747071\n"
     ]
    }
   ],
   "source": [
    "threshold = 0.01\n",
    "\n",
    "label_scores = list(zip(y_true_rouge, y_scores_rouge))\n",
    "\n",
    "predicted_positive = [el for el in label_scores if el[1] <= threshold]\n",
    "predicted_negative = [el for el in label_scores if el[1] > threshold]\n",
    "\n",
    "true_positive = len([el for el in predicted_positive if el[0] == 0])\n",
    "false_positive = len([el for el in predicted_positive if el[0] == 1])\n",
    "\n",
    "true_negative = len([el for el in predicted_negative if el[0] == 1])\n",
    "false_negative = len([el for el in predicted_negative if el[0] == 0])\n",
    "\n",
    "precision = true_positive / (true_positive + false_positive)\n",
    "recall = true_positive / (true_positive + false_negative)\n",
    "\n",
    "\n",
    "print(f\"precision: {precision}\")\n",
    "print(f\"recall: {recall}\")"
   ]
  },
  {
   "cell_type": "code",
   "execution_count": 143,
   "id": "edf276c6-4798-44af-a4f9-d9f9ab7a2b0a",
   "metadata": {},
   "outputs": [
    {
     "data": {
      "text/plain": [
       "1451"
      ]
     },
     "execution_count": 143,
     "metadata": {},
     "output_type": "execute_result"
    }
   ],
   "source": [
    "true_positive + false_negative"
   ]
  },
  {
   "cell_type": "code",
   "execution_count": 144,
   "id": "6f5f672f-681e-4e70-85a6-27afb7506faa",
   "metadata": {},
   "outputs": [
    {
     "name": "stdout",
     "output_type": "stream",
     "text": [
      "total examples: 3466\n",
      "fraction allowed through: 0.2807270628967109\n"
     ]
    }
   ],
   "source": [
    "total_examples = len(rouge_match_log_probabilities) + len(incorrect_log_probabilities)\n",
    "\n",
    "print(f\"total examples: {total_examples}\")\n",
    "\n",
    "allowed_through = true_positive + false_positive\n",
    "\n",
    "fraction_allowed_through = allowed_through / total_examples\n",
    "\n",
    "print(f\"fraction allowed through: {fraction_allowed_through}\")"
   ]
  },
  {
   "cell_type": "code",
   "execution_count": null,
   "id": "91b72f03-3f7f-4d3c-9fd9-3fc6d6687ac4",
   "metadata": {},
   "outputs": [],
   "source": []
  },
  {
   "cell_type": "markdown",
   "id": "a6da0450-96b4-4ee8-ba8e-709d724fddb4",
   "metadata": {
    "jp-MarkdownHeadingCollapsed": true,
    "tags": []
   },
   "source": [
    "### PR curve"
   ]
  },
  {
   "cell_type": "code",
   "execution_count": 60,
   "id": "5223f024-a1ac-4928-9d6c-ab13cdc70a2b",
   "metadata": {},
   "outputs": [],
   "source": [
    "def obtain_p_and_r(y_true, y_pred, thresholds):\n",
    "    \n",
    "    precisions = []\n",
    "    recalls = []\n",
    "    \n",
    "    for threshold in thresholds:\n",
    "        label_scores = list(zip(y_true, y_pred))\n",
    "\n",
    "        predicted_positive = [el for el in label_scores if el[1] <= threshold]\n",
    "        predicted_negative = [el for el in label_scores if el[1] > threshold]\n",
    "\n",
    "        true_positive = len([el for el in predicted_positive if el[0] == 0])\n",
    "        false_positive = len([el for el in predicted_positive if el[0] == 1])\n",
    "\n",
    "        true_negative = len([el for el in predicted_negative if el[0] == 1])\n",
    "        false_negative = len([el for el in predicted_negative if el[0] == 0])\n",
    "\n",
    "        precision = true_positive / (true_positive + false_positive)\n",
    "        recall = true_positive / (true_positive + false_negative)\n",
    "\n",
    "        precisions.append(precision)\n",
    "        recalls.append(recall)\n",
    "    \n",
    "    return precisions, recalls\n",
    "        "
   ]
  },
  {
   "cell_type": "code",
   "execution_count": 61,
   "id": "b5a32b98-c750-4518-b5f0-dce910658acf",
   "metadata": {},
   "outputs": [],
   "source": [
    "thresholds = np.linspace(0, 1, 101)\n",
    "\n",
    "precisions_rouge, recalls_rouge = obtain_p_and_r(y_true_rouge, y_scores_rouge, thresholds)\n",
    "precisions_exact, recalls_exact = obtain_p_and_r(y_true_exact, y_scores_exact, thresholds)\n",
    "\n",
    "precisions_rouge = [1.0] + precisions_rouge + [0.0]\n",
    "recalls_rouge = [0.0] + recalls_rouge + [1.0]\n",
    "\n",
    "precisions_exact = [1.0] + precisions_exact + [0.0]\n",
    "recalls_exact = [0.0] + recalls_exact + [1.0]"
   ]
  },
  {
   "cell_type": "code",
   "execution_count": 113,
   "id": "ff1ac5b4-9dce-4e62-b36a-bb0188028225",
   "metadata": {},
   "outputs": [
    {
     "data": {
      "text/plain": [
       "<matplotlib.legend.Legend at 0x7fd29e548a90>"
      ]
     },
     "execution_count": 113,
     "metadata": {},
     "output_type": "execute_result"
    },
    {
     "data": {
      "image/png": "[encoded data removed]",
      "text/plain": [
       "<Figure size 576x576 with 1 Axes>"
      ]
     },
     "metadata": {},
     "output_type": "display_data"
    }
   ],
   "source": [
    "fig = plt.figure(figsize=(8,8), facecolor=\"white\")\n",
    "fig.suptitle(\"Rouge-L PR curve\", fontsize=16)\n",
    "ax = fig.add_subplot(111)\n",
    "\n",
    "ax.step(recalls_rouge, precisions_rouge, label=\"rouge-l confidences\", where='post')\n",
    "plt.axhline(1 - sum(y_true_rouge) / len(y_true_rouge), xmin=0.0, xmax=0.95, linestyle='--', color=\"red\", label=\"rouge-l coin flip\")\n",
    "ax.set_xlim([0.0, 1.05])\n",
    "ax.set_ylim([0.0, 1.05])\n",
    "ax.set_xlabel(\"recall\")\n",
    "ax.set_ylabel(\"precision\")\n",
    "ax.text(0.1, 0.1, \"auc: {:.4f}\".format(auc(recalls_rouge, precisions_rouge)), bbox=dict(facecolor='white', alpha=0.5))\n",
    "ax.legend()"
   ]
  },
  {
   "cell_type": "code",
   "execution_count": 83,
   "id": "23fdd5ad-df53-4cee-aba3-049d1d3cd821",
   "metadata": {},
   "outputs": [
    {
     "data": {
      "text/plain": [
       "<matplotlib.legend.Legend at 0x7fd29e5fa5b0>"
      ]
     },
     "execution_count": 83,
     "metadata": {},
     "output_type": "execute_result"
    },
    {
     "data": {
      "image/png": "[encoded data removed]",
      "text/plain": [
       "<Figure size 576x576 with 1 Axes>"
      ]
     },
     "metadata": {},
     "output_type": "display_data"
    }
   ],
   "source": [
    "fig = plt.figure(figsize=(8,8), facecolor=\"white\")\n",
    "fig.suptitle(\"Exact match PR curve\", fontsize=16)\n",
    "ax = fig.add_subplot(111)\n",
    "\n",
    "# ax.plot(recalls_exact, precisions_exact)\n",
    "ax.step(recalls_exact, precisions_exact, label=\"exact match confidences\", where='post')\n",
    "plt.axhline(1 - sum(y_true_exact) / len(y_true_exact), xmin=0.0, xmax=0.95, linestyle='--', color=\"red\", label=\"exact match coin flip\")\n",
    "ax.set_xlim([0.0, 1.05])\n",
    "ax.set_ylim([0.0, 1.05])\n",
    "ax.set_xlabel(\"recall\")\n",
    "ax.set_ylabel(\"precision\")\n",
    "ax.text(0.15, 0.5, \"auc: {:.4f}\".format(auc(recalls_exact, precisions_exact)), bbox=dict(facecolor='white', alpha=0.5))\n",
    "ax.legend()"
   ]
  },
  {
   "cell_type": "code",
   "execution_count": null,
   "id": "0cafa4fb-c1ff-4a92-ba32-23c85d43f8d1",
   "metadata": {},
   "outputs": [],
   "source": []
  },
  {
   "cell_type": "markdown",
   "id": "a86be57b-521f-459b-979c-d2a63e7f73ce",
   "metadata": {},
   "source": [
    "### inspect some generated sentences"
   ]
  },
  {
   "cell_type": "code",
   "execution_count": 46,
   "id": "e041e50f-dea9-4299-b9fb-d159379b4f91",
   "metadata": {
    "collapsed": true,
    "jupyter": {
     "outputs_hidden": true
    },
    "tags": []
   },
   "outputs": [
    {
     "name": "stdout",
     "output_type": "stream",
     "text": [
      "====\n",
      "0\n",
      "question: When does the statute of limitations period begin for a plaintiff who experiences a continuing practice and policy of discrimination? title: context: Under this approach, if a plaintiff experienced a continuous policy or practice of discrimination, the continuing-violation doctrine delays the commencement of the statute-of-limitations period until the occurrence of the last discriminatory act in furtherance of that discriminatory practice.</s> <pad> <pad> <pad> <pad> <pad> <pad> <pad> <pad> <pad> <pad> <pad> <pad> <pad> <pad> <pad> <pad> <pad> <pad> <pad> <pad> <pad> <pad> <pad> <pad> <pad> <pad> <pad> <pad> <pad> <pad> <pad> <pad> <pad> <pad> <pad> <pad> <pad> <pad> <pad> <pad> <pad> <pad> <pad> <pad> <pad> <pad> <pad> <pad> <pad> <pad> <pad> <pad> <pad> <pad> <pad> <pad> <pad> <pad> <pad> <pad> <pad> <pad> <pad> <pad> <pad> <pad> <pad> <pad> <pad> <pad> <pad> <pad> <pad> <pad> <pad> <pad> <pad> <pad> <pad> <pad> <pad> <pad> <pad> <pad> <pad> <pad> <pad> <pad> <pad> <pad> <pad> <pad> <pad> <pad> <pad> <pad> <pad> <pad> <pad> <pad> <pad> <pad> <pad> <pad> <pad> <pad> <pad> <pad> <pad> <pad> <pad>\n",
      "====\n",
      "0\n",
      "question: What may an employee be entitled to recover if they allege a cause of action under Lab C $1197 for failure to pay minimum wages? title: context: Labor Code section 1194 authorizes an employee’s civil action to recover unpaid minimum wage or overtime compensation.</s> <pad> <pad> <pad> <pad> <pad> <pad> <pad> <pad> <pad> <pad> <pad> <pad> <pad> <pad> <pad> <pad> <pad> <pad> <pad> <pad> <pad> <pad> <pad> <pad> <pad> <pad> <pad> <pad> <pad> <pad> <pad> <pad> <pad> <pad> <pad> <pad> <pad> <pad> <pad> <pad> <pad> <pad> <pad> <pad> <pad> <pad> <pad> <pad> <pad> <pad> <pad> <pad> <pad> <pad> <pad> <pad> <pad> <pad> <pad> <pad> <pad> <pad> <pad> <pad> <pad> <pad> <pad> <pad> <pad> <pad> <pad> <pad> <pad> <pad> <pad> <pad> <pad> <pad> <pad> <pad> <pad> <pad> <pad> <pad> <pad> <pad> <pad> <pad> <pad> <pad> <pad> <pad> <pad> <pad> <pad> <pad> <pad> <pad> <pad> <pad> <pad> <pad> <pad> <pad> <pad> <pad> <pad> <pad> <pad> <pad> <pad> <pad> <pad> <pad> <pad> <pad> <pad> <pad> <pad> <pad> <pad> <pad> <pad> <pad> <pad> <pad> <pad> <pad> <pad> <pad> <pad> <pad> <pad> <pad> <pad> <pad> <pad> <pad> <pad> <pad>\n"
     ]
    }
   ],
   "source": [
    "for i, batch in enumerate(dataloader):\n",
    "    (idx, labels, _, context_ids, context_mask) = batch\n",
    "    for j in range(context_ids.shape[1]):\n",
    "\n",
    "            print(\"====\")\n",
    "            print(j)\n",
    "            context = tokenizer.decode(context_ids[0][j])\n",
    "            print(context)\n",
    "            if j >= 0:\n",
    "                break\n",
    "    \n",
    "    if i > 0:\n",
    "        break\n"
   ]
  },
  {
   "cell_type": "code",
   "execution_count": 24,
   "id": "ceb1ceef-71da-4082-a04a-4b12be24e3b7",
   "metadata": {
    "collapsed": true,
    "jupyter": {
     "outputs_hidden": true
    },
    "tags": []
   },
   "outputs": [
    {
     "data": {
      "text/plain": [
       "[('An arbitration agreement that gives one party the sole power to select the arbitrator is substantively unconscionable.',\n",
       "  'An arbitration agreement that gives one party the sole power to select the arbitrator is substantively unconscionable.',\n",
       "  1.0,\n",
       "  2),\n",
       " ('A defendant who obtains a dismissal can be considered the prevailing party.\\xa0',\n",
       "  'A defendant who obtains a dismissal can be considered the prevailing party.',\n",
       "  1.0,\n",
       "  19),\n",
       " ('Pre-judgment interest is available in Title VII cases as part of the back pay remedy.',\n",
       "  'Pre-judgment interest is available in Title VII cases as part of the back pay remedy.',\n",
       "  1.0,\n",
       "  35),\n",
       " ('When taking an oral deposition, a party can choose whether to adjourn the examination before moving for an order, or move for such an order after the completion of the deposition.',\n",
       "  'When taking an oral deposition, a party can choose whether to adjourn the examination before moving for an order, or move for such an order after the completion of the deposition.',\n",
       "  1.0,\n",
       "  48),\n",
       " ('The existence of a common policy or practice that was allegedly unlawful is not dispositive of whether common questions predominate.',\n",
       "  'The existence of a common policy or practice that was allegedly unlawful is not dispositive of whether common questions predominate.',\n",
       "  1.0,\n",
       "  86),\n",
       " ('A court may grant a preliminary injunction based on a complaint which may be subject to general or special demurrer.',\n",
       "  'A court may grant a preliminary injunction based on a complaint which may be subject to general or special demurrer.',\n",
       "  1.0,\n",
       "  96),\n",
       " (\"Code of Civil Procedure § 527.6 is intended to protect the individual's right to pursue safety, happiness and privacy as guaranteed by the California Constitution.\",\n",
       "  \"Code of Civil Procedure  527.6 is intended to protect the individual's right to pursue safety, happiness, and privacy as guaranteed by the California Constitution.\",\n",
       "  1.0,\n",
       "  100),\n",
       " (\"In general, actions taken by the FDA after the plaintiff's injury are not relevant because the manufacturer of the drug or medical device only has a duty to warn of information that was known or scientifically knowable at the time that the product was used.\",\n",
       "  \"In general, actions taken by the FDA after the plaintiff's injury are not relevant because the manufacturer of the drug or medical device only has a duty to warn of information that was known or scientifically knowable at the time that the product was used.\",\n",
       "  1.0,\n",
       "  102),\n",
       " ('Speculation about the existence of class members is insufficient to satisfy the numerosity requirement.',\n",
       "  'Speculation about the existence of class members is insufficient to satisfy the numerosity requirement.',\n",
       "  1.0,\n",
       "  109),\n",
       " ('If an attorney brings an action to recover fees owed by the client in a prior action, attorney fees may be awarded as an element of damages.\\xa0',\n",
       "  'If an attorney brings an action to recover fees owed by the client in a prior action, attorney fees may be awarded as an element of damages.',\n",
       "  1.0,\n",
       "  118),\n",
       " ('When an obligation or liability arises on a recurring basis, a cause of action accrues each time a wrongful act occurs, triggering a new limitations period.',\n",
       "  'When an obligation or liability arises on a recurring basis, a cause of action accrues each time a wrongful act occurs, triggering a new limitations period.',\n",
       "  1.0,\n",
       "  119),\n",
       " ('Once an objection to the relevance of the information sought is raised, the burden shifts to the party seeking the information to demonstrate that the requests are relevant to the subject matter involved in the pending action.',\n",
       "  'Once an objection to the relevance of the information sought is raised, the burden shifts to the party seeking the information to demonstrate that the requests are relevant to the subject matter involved in the pending action.',\n",
       "  1.0,\n",
       "  124),\n",
       " ('The Product Liability Act consolidated the negligence, breach of implied warranty, and strict liability theories into a single product liability action, which is the sole avenue of relief in New Jersey for claims that a product caused harm, except for express warranties and environmental torts. ',\n",
       "  'The Product Liability Act consolidated the negligence, breach of implied warranty, and strict liability theories into a single product liability action, which is the sole avenue of relief in New Jersey for claims that a product caused harm, except for express warranties and environmental torts.',\n",
       "  1.0,\n",
       "  132),\n",
       " ('A court must determine whether it has subject-matter jurisdiction before it can decide a motion to transfer.',\n",
       "  'A court must determine whether it has subject-matter jurisdiction before it can decide a motion to transfer.',\n",
       "  1.0,\n",
       "  136),\n",
       " ('The attorney-client privilege only protects disclosure of communications; it does not protect disclosure of the underlying facts by those who communicated with the attorney.',\n",
       "  'The attorney-client privilege only protects disclosure of communications; it does not protect disclosure of the underlying facts by those who communicated with the attorney.',\n",
       "  1.0,\n",
       "  142),\n",
       " ('Commercial speech is \"inextricably intertwined\" with noncommercial speech if there is a legal or practical requirement to combine the two types of speech.',\n",
       "  'Commercial speech is \"inextricably intertwined\" with noncommercial speech if there is a legal or practical requirement to combine the two types of speech.',\n",
       "  1.0,\n",
       "  153),\n",
       " ('A defective pleading cannot be stricken out by reason of its defects, upon the ground of surplusage.',\n",
       "  'A defective pleading cannot be stricken out by reason of its defects, upon the ground of surplusage.',\n",
       "  1.0,\n",
       "  154),\n",
       " ('If a facially neutral practice has an adverse impact on an applicant or employee who is 40 years old or older, there is a presumption of discrimination unless the practice is job-related and consistent with business necessity.',\n",
       "  'If a facially neutral practice has an adverse impact on an applicant or employee who is 40 years old or older, there is a presumption of discrimination, unless the practice is job-related and consistent with business necessity.',\n",
       "  1.0,\n",
       "  159),\n",
       " ('The plaintiff must show that there is an administratively feasible way to identify class members.',\n",
       "  'The plaintiff must show that there is an administratively feasible way to identify class members.',\n",
       "  1.0,\n",
       "  172),\n",
       " ('The trial court has a wide range of discretion regarding the admissibility of proffered rebuttal evidence.',\n",
       "  'The trial court has a wide range of discretion regarding the admissibility of proffered rebuttal evidence.',\n",
       "  1.0,\n",
       "  176)]"
      ]
     },
     "execution_count": 24,
     "metadata": {},
     "output_type": "execute_result"
    }
   ],
   "source": [
    "[el for el in rouge_matches if el[2] == 1.0][:20]"
   ]
  },
  {
   "cell_type": "code",
   "execution_count": null,
   "id": "78a725f5-1417-499a-b4a9-ef38a1f903ff",
   "metadata": {},
   "outputs": [],
   "source": []
  },
  {
   "cell_type": "code",
   "execution_count": null,
   "id": "920976d8-2fbd-444b-8b12-b071bf58f9b1",
   "metadata": {},
   "outputs": [],
   "source": []
  },
  {
   "cell_type": "markdown",
   "id": "07f7edc5-2c72-45f6-81b7-b97c716fc69b",
   "metadata": {},
   "source": [
    "#### "
   ]
  },
  {
   "cell_type": "markdown",
   "id": "3127b2d5-c7df-41cd-8b59-2a28498cbcb6",
   "metadata": {
    "tags": []
   },
   "source": [
    "### Obtain example generated vs ground truth outputs"
   ]
  },
  {
   "cell_type": "code",
   "execution_count": 47,
   "id": "764c5d4b-2536-4871-9f90-baeaf5668f73",
   "metadata": {},
   "outputs": [
    {
     "name": "stdout",
     "output_type": "stream",
     "text": [
      "training example: 7\n",
      "tensor([[   0, 4407,    1]], device='cuda:0')\n",
      "model generated output:\n",
      "2002\n",
      "\n",
      "ground truth:\n",
      "['2002']\n",
      "extracting negative log probability ...\n",
      "True\n",
      "tensor(0.6189, device='cuda:0')\n"
     ]
    }
   ],
   "source": [
    "# only one context vector\n",
    "for i, batch in enumerate(dataloader):\n",
    "    \n",
    "    if i == 7:\n",
    "        print(f\"training example: {i}\")\n",
    "        (idx, _, _, context_ids, context_mask) = batch\n",
    "        sequences = model.generate(\n",
    "                    input_ids=context_ids.cuda(),\n",
    "                    attention_mask=context_mask.cuda(),\n",
    "                    max_length=10,\n",
    "                    return_dict_in_generate=True,\n",
    "                    output_scores=True\n",
    "                ).sequences\n",
    "\n",
    "        print(sequences)\n",
    "        for k, o in enumerate(sequences):\n",
    "            ans = tokenizer.decode(o, skip_special_tokens=True)\n",
    "            gold = eval_dataset.get_example(idx[k])['answers']\n",
    "            score = ems(ans, gold)\n",
    "            #print(score)\n",
    "            # total += 1\n",
    "            # exactmatch.append(score)\n",
    "            print(\"model generated output:\")\n",
    "            print(ans)\n",
    "\n",
    "            print(\"\")\n",
    "            print(\"ground truth:\")\n",
    "            print(gold) \n",
    "        \n",
    "        print(\"extracting negative log probability ...\")\n",
    "        log_probability = model.obtain_log_generated_probability(\n",
    "            input_ids=context_ids.cuda(),\n",
    "            attention_mask=context_mask.cuda(),\n",
    "            max_length=10\n",
    "            \n",
    "        )\n",
    "        \n",
    "        print(score)\n",
    "        \n",
    "        print(log_probability)\n",
    "        \n",
    "        break\n"
   ]
  },
  {
   "cell_type": "code",
   "execution_count": 92,
   "id": "d4fc799d-b658-43a9-97de-e529d4250ba5",
   "metadata": {},
   "outputs": [
    {
     "name": "stdout",
     "output_type": "stream",
     "text": [
      "tensor(-0.9990, device='cuda:0')\n",
      "tensor(-0.0031, device='cuda:0')\n",
      "tensor(-2.1935e-05, device='cuda:0')\n",
      "tensor(-7.8800e-05, device='cuda:0')\n",
      "tensor(-0.0035, device='cuda:0')\n"
     ]
    },
    {
     "data": {
      "text/plain": [
       "tensor(1.0057, device='cuda:0')"
      ]
     },
     "execution_count": 92,
     "metadata": {},
     "output_type": "execute_result"
    }
   ],
   "source": [
    "softmax = torch.nn.Softmax(dim=1)\n",
    "total_log_prob = 0\n",
    "for i in range(len(outputs.scores)):\n",
    "    print(torch.log(torch.max(softmax(outputs.scores[i]))))\n",
    "    total_log_prob -= torch.log(torch.max(softmax(outputs.scores[i])))\n",
    "\n",
    "total_log_prob"
   ]
  },
  {
   "cell_type": "code",
   "execution_count": null,
   "id": "b4f52b13-94a2-4043-b07d-1195e05255dc",
   "metadata": {},
   "outputs": [],
   "source": []
  },
  {
   "cell_type": "markdown",
   "id": "0f66611c-d8a9-42d5-83e6-298ec5f025bf",
   "metadata": {},
   "source": [
    "## Comparing tokenizers"
   ]
  },
  {
   "cell_type": "code",
   "execution_count": 31,
   "id": "7f3bea34-717f-4adc-8713-5fc46c51c760",
   "metadata": {},
   "outputs": [],
   "source": [
    "bert_tokenizer = transformers.AutoTokenizer.from_pretrained('bert-base-uncased')\n",
    "t5_tokenizer = transformers.T5Tokenizer.from_pretrained('t5-base')"
   ]
  },
  {
   "cell_type": "code",
   "execution_count": 32,
   "id": "86de111e-f083-4537-bba7-cefb87414e41",
   "metadata": {},
   "outputs": [],
   "source": [
    "input_sequence = \"Welcome to the HuggingFace Library\""
   ]
  },
  {
   "cell_type": "code",
   "execution_count": 35,
   "id": "f25ba5fc-1856-4ee2-a02c-1b4cb2a32e92",
   "metadata": {},
   "outputs": [
    {
     "name": "stdout",
     "output_type": "stream",
     "text": [
      "tensor([[  101,  6160,  2000,  1996, 17662, 12172,  3075,   102]])\n",
      "===\n",
      "tensor([[ 5242,    12,     8, 11560,  3896,   371,  3302,  5355,     1]])\n"
     ]
    }
   ],
   "source": [
    "bert_tokenized = bert_tokenizer(input_sequence, return_tensors='pt')\n",
    "t5_tokenized = t5_tokenizer(input_sequence, return_tensors='pt')\n",
    "\n",
    "print(bert_tokenized.input_ids)\n",
    "print(\"===\")\n",
    "print(t5_tokenized.input_ids)"
   ]
  },
  {
   "cell_type": "code",
   "execution_count": 40,
   "id": "9ada9e88-a19c-46e9-a479-950b78a2bfd9",
   "metadata": {},
   "outputs": [
    {
     "name": "stdout",
     "output_type": "stream",
     "text": [
      "[CLS] welcome to the huggingface library [SEP]\n",
      "===\n",
      "Welcome to the HuggingFace Library</s>\n"
     ]
    }
   ],
   "source": [
    "print(bert_tokenizer.decode(bert_tokenized.input_ids[0]))\n",
    "print(\"===\")\n",
    "print(t5_tokenizer.decode(t5_tokenized.input_ids[0]))"
   ]
  },
  {
   "cell_type": "code",
   "execution_count": 46,
   "id": "4b59e9e3-c830-431d-a41b-bb4dc8568b71",
   "metadata": {},
   "outputs": [
    {
     "data": {
      "text/plain": [
       "['[CLS]', 'welcome', 'to', 'the', 'hugging', '##face', 'library', '[SEP]']"
      ]
     },
     "execution_count": 46,
     "metadata": {},
     "output_type": "execute_result"
    }
   ],
   "source": [
    "bert_tokenizer.convert_ids_to_tokens(bert_tokenized.input_ids[0])"
   ]
  },
  {
   "cell_type": "code",
   "execution_count": 45,
   "id": "e35906e4-9b0f-453e-be19-04572a2196a4",
   "metadata": {},
   "outputs": [
    {
     "data": {
      "text/plain": [
       "['▁Welcome', '▁to', '▁the', '▁Hug', 'ging', 'F', 'ace', '▁Library', '</s>']"
      ]
     },
     "execution_count": 45,
     "metadata": {},
     "output_type": "execute_result"
    }
   ],
   "source": [
    "t5_tokenizer.convert_ids_to_tokens(t5_tokenized.input_ids[0])"
   ]
  },
  {
   "cell_type": "code",
   "execution_count": 52,
   "id": "d841dcf5-03f4-45b3-833c-f08068432109",
   "metadata": {},
   "outputs": [],
   "source": [
    "z = torch.randn((2, 4))"
   ]
  },
  {
   "cell_type": "code",
   "execution_count": 54,
   "id": "75b9d800-96a1-4530-a0aa-a5fafa60720f",
   "metadata": {},
   "outputs": [],
   "source": [
    "msk = torch.tensor([[True, False, True], [False, True, False]])\n",
    "msk2 = torch.tensor([[True, False, True, True]])"
   ]
  },
  {
   "cell_type": "code",
   "execution_count": 43,
   "id": "dbfd9dc2-991a-434f-a0bf-cfa7c5e3513d",
   "metadata": {},
   "outputs": [
    {
     "data": {
      "text/plain": [
       "tensor([[-1.1771,  0.8998, -0.6725],\n",
       "        [-1.0138,  1.7796, -0.3884]])"
      ]
     },
     "execution_count": 43,
     "metadata": {},
     "output_type": "execute_result"
    }
   ],
   "source": [
    "z"
   ]
  },
  {
   "cell_type": "code",
   "execution_count": 55,
   "id": "94242788-d831-4b1a-9af2-2765cddcfc49",
   "metadata": {},
   "outputs": [
    {
     "data": {
      "text/plain": [
       "tensor([[ 1.3247,  0.0000, -0.0618, -0.7110],\n",
       "        [-0.9271,  0.0000,  0.5299,  0.6540]])"
      ]
     },
     "execution_count": 55,
     "metadata": {},
     "output_type": "execute_result"
    }
   ],
   "source": [
    "z.masked_fill(msk2 == 0, 0.0)"
   ]
  },
  {
   "cell_type": "code",
   "execution_count": 10,
   "id": "6f450d1b-f2b9-49e1-b9c3-f14d8afe1216",
   "metadata": {
    "tags": []
   },
   "outputs": [],
   "source": [
    "from transformers import T5Tokenizer, T5ForConditionalGeneration\n",
    "tokenizer = T5Tokenizer.from_pretrained('t5-small')\n",
    "import torch"
   ]
  },
  {
   "cell_type": "code",
   "execution_count": 2,
   "id": "061ace48-4a47-4b81-a1e5-d981cea097c8",
   "metadata": {},
   "outputs": [],
   "source": [
    "model = T5ForConditionalGeneration.from_pretrained('t5-small')"
   ]
  },
  {
   "cell_type": "code",
   "execution_count": 3,
   "id": "04227314-f4aa-42ad-b782-1ee2659743c6",
   "metadata": {},
   "outputs": [],
   "source": [
    "input_ids = tokenizer.encode(\"summarise: I am originally from siberia, where the sky is green\", return_tensors=\"pt\")  # Batch size 1\n"
   ]
  },
  {
   "cell_type": "code",
   "execution_count": 30,
   "id": "bd8f6f04-729c-49b7-b10f-89bd1c1d9577",
   "metadata": {},
   "outputs": [
    {
     "data": {
      "text/plain": [
       "tensor([[    0,  2432,  2160,     7,    15,    10,  1674, 26212,   403,   108,\n",
       "          8781,  1779, 22655,     6,  2275,    67, 23537,     7, 22387,     3]])"
      ]
     },
     "execution_count": 30,
     "metadata": {},
     "output_type": "execute_result"
    }
   ],
   "source": [
    "outputs = model.generate(input_ids, \n",
    "                          return_dict_in_generate=True, \n",
    "                          output_scores=True, \n",
    "                          num_beams=1,\n",
    "                          do_sample=True,\n",
    "                          top_k=3,\n",
    "                          temperature=1.0\n",
    "                          )\n",
    "\n",
    "\n",
    "outputs.sequences"
   ]
  },
  {
   "cell_type": "code",
   "execution_count": 31,
   "id": "b3cef76a-d40a-4ea9-b6cc-b8035bcabd43",
   "metadata": {},
   "outputs": [],
   "source": [
    "scores = outputs.scores"
   ]
  },
  {
   "cell_type": "code",
   "execution_count": 36,
   "id": "ab7b8f71-a4fe-4f36-a761-b121555bbf35",
   "metadata": {},
   "outputs": [
    {
     "data": {
      "text/plain": [
       "tensor([   7, 2248, 5202])"
      ]
     },
     "execution_count": 36,
     "metadata": {},
     "output_type": "execute_result"
    }
   ],
   "source": [
    "torch.topk(scores[2][0], k=3).indices"
   ]
  },
  {
   "cell_type": "code",
   "execution_count": 21,
   "id": "36df9872-3d05-43d1-a5a9-07ec73c84db1",
   "metadata": {},
   "outputs": [
    {
     "data": {
      "text/plain": [
       "12"
      ]
     },
     "execution_count": 21,
     "metadata": {},
     "output_type": "execute_result"
    }
   ],
   "source": [
    "len(scores)"
   ]
  },
  {
   "cell_type": "code",
   "execution_count": 22,
   "id": "1ba22c04-7255-498a-b559-f34889a1ddd2",
   "metadata": {},
   "outputs": [
    {
     "data": {
      "text/plain": [
       "tensor([[8.6265e-07, 1.0719e-02, 7.2606e-06,  ..., 6.3396e-19, 6.0439e-19,\n",
       "         6.1077e-19]])"
      ]
     },
     "execution_count": 22,
     "metadata": {},
     "output_type": "execute_result"
    }
   ],
   "source": [
    "softmax = torch.nn.Softmax(dim=1)\n",
    "softmax(scores[0])"
   ]
  },
  {
   "cell_type": "code",
   "execution_count": 145,
   "id": "eb5575ef-ca7a-4992-b176-776642064456",
   "metadata": {},
   "outputs": [
    {
     "data": {
      "text/plain": [
       "tensor([-25.0806, -11.4120, -15.4883,  ..., -47.4939, -47.5193, -47.6304])"
      ]
     },
     "execution_count": 145,
     "metadata": {},
     "output_type": "execute_result"
    }
   ],
   "source": [
    "scores[4][0]"
   ]
  },
  {
   "cell_type": "code",
   "execution_count": 147,
   "id": "0b588c5e-4194-47c3-971b-6710975106e8",
   "metadata": {},
   "outputs": [
    {
     "data": {
      "text/plain": [
       "tensor(-3.8385)"
      ]
     },
     "execution_count": 147,
     "metadata": {},
     "output_type": "execute_result"
    }
   ],
   "source": [
    "scores[4][0][sequence[0][5]]"
   ]
  },
  {
   "cell_type": "code",
   "execution_count": 155,
   "id": "fae743d0-70bf-4333-a75d-42cb2bb20ffc",
   "metadata": {},
   "outputs": [
    {
     "data": {
      "text/plain": [
       "tensor(1)"
      ]
     },
     "execution_count": 155,
     "metadata": {},
     "output_type": "execute_result"
    }
   ],
   "source": [
    "torch.argmax(scores[11])"
   ]
  },
  {
   "cell_type": "code",
   "execution_count": 26,
   "id": "14990a15-097f-4181-81aa-8c1875a3615d",
   "metadata": {},
   "outputs": [],
   "source": [
    "ans = []\n",
    "for i in range(len(scores)):\n",
    "    sfx = softmax(scores[i])\n",
    "    ans.append(sfx[0][sequence[0][i + 1]])"
   ]
  },
  {
   "cell_type": "code",
   "execution_count": 384,
   "id": "2a342be2-5679-40d8-8088-cc9c666854b7",
   "metadata": {},
   "outputs": [],
   "source": [
    "y_true = np.array([0, 0, 1, 1, 1])\n",
    "y_scores = np.array([0.1, 0.4, 0.35, 0.8, 0.9])\n",
    "\n",
    "precisions, recalls, thresholds = precision_recall_curve(y_true, y_scores)\n"
   ]
  },
  {
   "cell_type": "code",
   "execution_count": 391,
   "id": "fb91721e-2bd4-4656-9218-09bee9cce740",
   "metadata": {},
   "outputs": [
    {
     "name": "stdout",
     "output_type": "stream",
     "text": [
      "0.75\n",
      "1.0\n"
     ]
    }
   ],
   "source": [
    "threshold = 0.35\n",
    "\n",
    "label_scores = list(zip(y_true, y_scores))\n",
    "\n",
    "predicted_positive = [el for el in label_scores if el[1] >= threshold]\n",
    "predicted_negative = [el for el in label_scores if el[1] < threshold]\n",
    "\n",
    "true_positive = len([el for el in predicted_positive if el[0] == 1])\n",
    "false_positive = len([el for el in predicted_positive if el[0] == 0])\n",
    "\n",
    "true_negative = len([el for el in predicted_negative if el[0] == 0])\n",
    "false_negative = len([el for el in predicted_negative if el[0] == 1])\n",
    "\n",
    "precision = true_positive / (true_positive + false_positive)\n",
    "recall = true_positive / (true_positive + false_negative)\n",
    "\n",
    "print(precision)\n",
    "print(recall)\n"
   ]
  },
  {
   "cell_type": "code",
   "execution_count": 381,
   "id": "dc7bea12-48c2-46f7-b0c7-3c1030b4fe81",
   "metadata": {},
   "outputs": [
    {
     "data": {
      "text/plain": [
       "array([0.1 , 0.35, 0.4 , 0.8 , 0.9 ])"
      ]
     },
     "execution_count": 381,
     "metadata": {},
     "output_type": "execute_result"
    }
   ],
   "source": [
    "thresholds"
   ]
  },
  {
   "cell_type": "code",
   "execution_count": 386,
   "id": "dae284ea-dd71-47fd-86f2-fb20e9278528",
   "metadata": {},
   "outputs": [
    {
     "data": {
      "text/plain": [
       "array([0.6       , 0.75      , 0.66666667, 1.        , 1.        ,\n",
       "       1.        ])"
      ]
     },
     "execution_count": 386,
     "metadata": {},
     "output_type": "execute_result"
    }
   ],
   "source": [
    "precisions"
   ]
  },
  {
   "cell_type": "code",
   "execution_count": 387,
   "id": "9f6adafa-5ea4-4f84-9f4a-36e77be9dfd5",
   "metadata": {},
   "outputs": [
    {
     "data": {
      "text/plain": [
       "array([1.        , 1.        , 0.66666667, 0.66666667, 0.33333333,\n",
       "       0.        ])"
      ]
     },
     "execution_count": 387,
     "metadata": {},
     "output_type": "execute_result"
    }
   ],
   "source": [
    "recalls"
   ]
  },
  {
   "cell_type": "code",
   "execution_count": null,
   "id": "5fa9316a-c101-408f-9be3-2449dc815016",
   "metadata": {},
   "outputs": [],
   "source": []
  }
 ],
 "metadata": {
  "kernelspec": {
   "display_name": "Python 3 (ipykernel)",
   "language": "python",
   "name": "python3"
  },
  "language_info": {
   "codemirror_mode": {
    "name": "ipython",
    "version": 3
   },
   "file_extension": ".py",
   "mimetype": "text/x-python",
   "name": "python",
   "nbconvert_exporter": "python",
   "pygments_lexer": "ipython3",
   "version": "3.9.12"
  }
 },
 "nbformat": 4,
 "nbformat_minor": 5
}
