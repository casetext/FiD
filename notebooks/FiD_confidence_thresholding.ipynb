{
 "cells": [
  {
   "cell_type": "markdown",
   "id": "50bf900d-2f90-4bd3-9002-e5bff7e5c4bc",
   "metadata": {
    "tags": []
   },
   "source": [
    "## Initialization"
   ]
  },
  {
   "cell_type": "code",
   "execution_count": 72,
   "id": "051e6be8-705f-4144-8de5-b875a61fcd9b",
   "metadata": {},
   "outputs": [],
   "source": [
    "import os, sys\n",
    "import torch\n",
    "import transformers\n",
    "from torch.utils.data import DataLoader, SequentialSampler\n",
    "import argparse\n",
    "import numpy as np \n",
    "import matplotlib.pyplot as plt\n",
    "from tqdm import tqdm\n",
    "import pickle\n",
    "from rouge_score import rouge_scorer"
   ]
  },
  {
   "cell_type": "code",
   "execution_count": 2,
   "id": "47371a17-4b5d-4d76-b8d9-84be8931b5a7",
   "metadata": {},
   "outputs": [],
   "source": [
    "import sys\n",
    "sys.path.append(\"/home/divy/FiD\")"
   ]
  },
  {
   "cell_type": "code",
   "execution_count": 3,
   "id": "5550822f-9127-4a09-a2b7-459f7a261be1",
   "metadata": {},
   "outputs": [],
   "source": [
    "import src\n",
    "from src.data import load_data\n",
    "from src.evaluation import ems\n",
    "import src.model"
   ]
  },
  {
   "cell_type": "code",
   "execution_count": null,
   "id": "fcdeecc9-5bda-49e8-a7cd-357f75582f7a",
   "metadata": {},
   "outputs": [],
   "source": []
  },
  {
   "cell_type": "markdown",
   "id": "3a2dcfff-9a85-42a2-9bc7-630e8380468e",
   "metadata": {
    "tags": []
   },
   "source": [
    "## Load data"
   ]
  },
  {
   "cell_type": "markdown",
   "id": "de5643fc-1da6-4463-b210-f202c713aa7a",
   "metadata": {},
   "source": [
    "Try out NQ with NQ pretrained checkpoint"
   ]
  },
  {
   "cell_type": "code",
   "execution_count": 4,
   "id": "e47f4595-c41c-47d0-b3c0-34b9a9cba9fa",
   "metadata": {},
   "outputs": [],
   "source": [
    "nq_path =  \"/mnt/disks/external_mounted_disk/datasets/NQ/NQ/dev.json\"\n",
    "compose_path = \"/mnt/disks/external_mounted_disk/datasets/compose_FiD/compose_fid_qa/dev.json\"\n"
   ]
  },
  {
   "cell_type": "code",
   "execution_count": 5,
   "id": "03358bdf-f635-4c32-97af-64598b352a34",
   "metadata": {},
   "outputs": [],
   "source": [
    "eval_examples = load_data(\n",
    "                            compose_path,\n",
    "                            global_rank=0,\n",
    "                            world_size=1,\n",
    "                            )"
   ]
  },
  {
   "cell_type": "code",
   "execution_count": 6,
   "id": "f16c95ae-0fa7-4b31-bf78-6c06357ab8fa",
   "metadata": {},
   "outputs": [
    {
     "name": "stderr",
     "output_type": "stream",
     "text": [
      "/opt/conda/envs/myenv/lib/python3.9/site-packages/transformers/models/t5/tokenization_t5.py:163: FutureWarning: This tokenizer was incorrectly instantiated with a model max length of 512 which will be corrected in Transformers v5.\n",
      "For now, this behavior is kept to avoid breaking backwards compatibility when padding/encoding with `truncation is True`.\n",
      "- Be aware that you SHOULD NOT rely on t5-base automatically truncating your input to 512 when padding/encoding.\n",
      "- If you want to encode/pad to sequences longer than 512 you can either instantiate this tokenizer with `model_max_length` or pass `max_length` when encoding/padding.\n",
      "- To avoid this warning, please instantiate this tokenizer with `model_max_length` set to your preferred value.\n",
      "  warnings.warn(\n"
     ]
    },
    {
     "data": {
      "text/plain": [
       "386"
      ]
     },
     "execution_count": 6,
     "metadata": {},
     "output_type": "execute_result"
    }
   ],
   "source": [
    "n_passages = 20\n",
    "eval_dataset = src.data.Dataset(eval_examples, n_passages)\n",
    "\n",
    "sampler = SequentialSampler(eval_dataset)\n",
    "tokenizer = transformers.T5Tokenizer.from_pretrained('t5-base')\n",
    "collator = src.data.Collator(200, tokenizer, answer_maxlength=-1)\n",
    "\n",
    "len(eval_dataset)"
   ]
  },
  {
   "cell_type": "code",
   "execution_count": 7,
   "id": "8ea37eb3-8337-4a5d-9dd0-1de9e8ef5992",
   "metadata": {},
   "outputs": [
    {
     "name": "stderr",
     "output_type": "stream",
     "text": [
      "/opt/conda/envs/myenv/lib/python3.9/site-packages/torch/utils/data/dataloader.py:487: UserWarning: This DataLoader will create 10 worker processes in total. Our suggested max number of worker in current system is 8, which is smaller than what this DataLoader is going to create. Please be aware that excessive worker creation might get DataLoader running slow or even freeze, lower the worker number to avoid potential slowness/freeze if necessary.\n",
      "  warnings.warn(_create_warning_msg(\n"
     ]
    }
   ],
   "source": [
    "dataloader = DataLoader(eval_dataset,\n",
    "        sampler=sampler,\n",
    "        batch_size=1,\n",
    "        drop_last=False,\n",
    "        num_workers=10,\n",
    "        collate_fn=collator\n",
    "    )"
   ]
  },
  {
   "cell_type": "code",
   "execution_count": 8,
   "id": "4ce06b4c-6138-427b-a9df-60e7ec89b8fd",
   "metadata": {
    "collapsed": true,
    "jupyter": {
     "outputs_hidden": true
    },
    "tags": []
   },
   "outputs": [
    {
     "name": "stdout",
     "output_type": "stream",
     "text": [
      "(tensor([0]), tensor([[  156,     3,     9, 16877,  2704,     3,     9,  6168,  1032,    11,\n",
      "          1291,    13,  9192,   257,     6,     8,  9158,   297,    13,     8,\n",
      "         18692,    13, 10005,  1059,   164,    36, 16124,   552,     8,   336,\n",
      "          9192,  6546,  1810,    16,   856,   663,    13,     8,  7558,  1032,\n",
      "            42,  1291,     5,     1]]), tensor([[True, True, True, True, True, True, True, True, True, True, True, True,\n",
      "         True, True, True, True, True, True, True, True, True, True, True, True,\n",
      "         True, True, True, True, True, True, True, True, True, True, True, True,\n",
      "         True, True, True, True, True, True, True, True]]), tensor([[[ 822,   10,  366,  ...,    0,    0,    0],\n",
      "         [ 822,   10,  366,  ...,    0,    0,    0],\n",
      "         [ 822,   10,  366,  ...,    0,    0,    0],\n",
      "         ...,\n",
      "         [ 822,   10,  366,  ...,    0,    0,    0],\n",
      "         [ 822,   10,  366,  ..., 1988,   11,    1],\n",
      "         [ 822,   10,  366,  ...,    0,    0,    0]]]), tensor([[[ True,  True,  True,  ..., False, False, False],\n",
      "         [ True,  True,  True,  ..., False, False, False],\n",
      "         [ True,  True,  True,  ..., False, False, False],\n",
      "         ...,\n",
      "         [ True,  True,  True,  ..., False, False, False],\n",
      "         [ True,  True,  True,  ...,  True,  True,  True],\n",
      "         [ True,  True,  True,  ..., False, False, False]]]))\n"
     ]
    }
   ],
   "source": [
    "for i, b in enumerate(dataloader):\n",
    "    print(b)\n",
    "    if i >= 0:\n",
    "        break\n",
    "    "
   ]
  },
  {
   "cell_type": "code",
   "execution_count": null,
   "id": "5ac1095f-8d4f-4efd-9724-e1f42a5e2a9e",
   "metadata": {},
   "outputs": [],
   "source": []
  },
  {
   "cell_type": "markdown",
   "id": "212013b8-a939-48f8-b484-f6c55b8cb7ce",
   "metadata": {
    "tags": []
   },
   "source": [
    "## Load model"
   ]
  },
  {
   "cell_type": "code",
   "execution_count": 10,
   "id": "96036544-f6de-40a2-b36e-4bdd00951c61",
   "metadata": {},
   "outputs": [],
   "source": [
    "model_name = 't5-base'\n",
    "model_class = src.model.FiDT5"
   ]
  },
  {
   "cell_type": "code",
   "execution_count": 11,
   "id": "d1f0b666-335b-4461-bb9c-820e2e0d30cd",
   "metadata": {},
   "outputs": [],
   "source": [
    "load_path = \"/home/divy/FiD/model_ckpts/fid_t5_largq_tqa_compose\"\n",
    "model = model_class.from_pretrained(load_path)"
   ]
  },
  {
   "cell_type": "code",
   "execution_count": 12,
   "id": "65cbcb66-00ea-447d-b253-0405630114fd",
   "metadata": {
    "tags": []
   },
   "outputs": [],
   "source": [
    "model = model.to('cuda')"
   ]
  },
  {
   "cell_type": "code",
   "execution_count": null,
   "id": "bda692ca-5547-4f5f-aceb-dedc4f8281eb",
   "metadata": {},
   "outputs": [],
   "source": []
  },
  {
   "cell_type": "markdown",
   "id": "68f6978d-6e27-4c24-a2e3-5e974ead8b29",
   "metadata": {
    "tags": []
   },
   "source": [
    "### load an example input, generated output and ground truth output"
   ]
  },
  {
   "cell_type": "code",
   "execution_count": 14,
   "id": "a7d8747d-e766-428a-a76f-71058148f089",
   "metadata": {
    "collapsed": true,
    "jupyter": {
     "outputs_hidden": true
    },
    "tags": []
   },
   "outputs": [
    {
     "name": "stdout",
     "output_type": "stream",
     "text": [
      "tensor([76])\n",
      "torch.Size([1, 16, 197])\n",
      "====\n",
      "0\n",
      "question: What does the need to determine whether some plaintiffs’ alleged overtime is de minimis not require? title: context: While some plaintiffs' overtime work may ultimately not exceed de minimis or offset compensation thresholds, this issue should not be unduly difficult to determine if necessary after we determine whether the City maintains a policy that violates the FLSA.</s> <pad> <pad> <pad> <pad> <pad> <pad> <pad> <pad> <pad> <pad> <pad> <pad> <pad> <pad> <pad> <pad> <pad> <pad> <pad> <pad> <pad> <pad> <pad> <pad> <pad> <pad> <pad> <pad> <pad> <pad> <pad> <pad> <pad> <pad> <pad> <pad> <pad> <pad> <pad> <pad> <pad> <pad> <pad> <pad> <pad> <pad> <pad> <pad> <pad> <pad> <pad> <pad> <pad> <pad> <pad> <pad> <pad> <pad> <pad> <pad> <pad> <pad> <pad> <pad> <pad> <pad> <pad> <pad> <pad> <pad> <pad> <pad> <pad> <pad> <pad> <pad> <pad> <pad> <pad> <pad> <pad> <pad> <pad> <pad> <pad> <pad> <pad> <pad> <pad> <pad> <pad> <pad> <pad> <pad> <pad> <pad> <pad> <pad> <pad> <pad> <pad> <pad> <pad> <pad> <pad> <pad> <pad> <pad> <pad> <pad> <pad> <pad> <pad> <pad> <pad> <pad> <pad>\n",
      "====\n",
      "1\n",
      "question: What does the need to determine whether some plaintiffs’ alleged overtime is de minimis not require? title: context: There is no precise amount of time that may be denied overtime compensation as de minimis; common sense must be applied to the facts of each case.</s> <pad> <pad> <pad> <pad> <pad> <pad> <pad> <pad> <pad> <pad> <pad> <pad> <pad> <pad> <pad> <pad> <pad> <pad> <pad> <pad> <pad> <pad> <pad> <pad> <pad> <pad> <pad> <pad> <pad> <pad> <pad> <pad> <pad> <pad> <pad> <pad> <pad> <pad> <pad> <pad> <pad> <pad> <pad> <pad> <pad> <pad> <pad> <pad> <pad> <pad> <pad> <pad> <pad> <pad> <pad> <pad> <pad> <pad> <pad> <pad> <pad> <pad> <pad> <pad> <pad> <pad> <pad> <pad> <pad> <pad> <pad> <pad> <pad> <pad> <pad> <pad> <pad> <pad> <pad> <pad> <pad> <pad> <pad> <pad> <pad> <pad> <pad> <pad> <pad> <pad> <pad> <pad> <pad> <pad> <pad> <pad> <pad> <pad> <pad> <pad> <pad> <pad> <pad> <pad> <pad> <pad> <pad> <pad> <pad> <pad> <pad> <pad> <pad> <pad> <pad> <pad> <pad> <pad> <pad> <pad> <pad> <pad> <pad> <pad> <pad> <pad> <pad> <pad> <pad> <pad> <pad> <pad> <pad> <pad> <pad> <pad> <pad> <pad> <pad>\n",
      "====\n",
      "2\n",
      "question: What does the need to determine whether some plaintiffs’ alleged overtime is de minimis not require? title: context: The defenses raised require individualized inquiries regarding, at the least, whether particular Opt-In Plaintiffs crossed state lines or even worked more than a de minimis amount of overtime.</s> <pad> <pad> <pad> <pad> <pad> <pad> <pad> <pad> <pad> <pad> <pad> <pad> <pad> <pad> <pad> <pad> <pad> <pad> <pad> <pad> <pad> <pad> <pad> <pad> <pad> <pad> <pad> <pad> <pad> <pad> <pad> <pad> <pad> <pad> <pad> <pad> <pad> <pad> <pad> <pad> <pad> <pad> <pad> <pad> <pad> <pad> <pad> <pad> <pad> <pad> <pad> <pad> <pad> <pad> <pad> <pad> <pad> <pad> <pad> <pad> <pad> <pad> <pad> <pad> <pad> <pad> <pad> <pad> <pad> <pad> <pad> <pad> <pad> <pad> <pad> <pad> <pad> <pad> <pad> <pad> <pad> <pad> <pad> <pad> <pad> <pad> <pad> <pad> <pad> <pad> <pad> <pad> <pad> <pad> <pad> <pad> <pad> <pad> <pad> <pad> <pad> <pad> <pad> <pad> <pad> <pad> <pad> <pad> <pad> <pad> <pad> <pad> <pad> <pad> <pad> <pad> <pad> <pad> <pad> <pad> <pad> <pad> <pad> <pad> <pad> <pad> <pad> <pad> <pad> <pad>\n",
      "====\n",
      "3\n",
      "question: What does the need to determine whether some plaintiffs’ alleged overtime is de minimis not require? title: context: First of all, their claims rest upon an amount of unpaid overtime that is de minimis as a matter of law.</s> <pad> <pad> <pad> <pad> <pad> <pad> <pad> <pad> <pad> <pad> <pad> <pad> <pad> <pad> <pad> <pad> <pad> <pad> <pad> <pad> <pad> <pad> <pad> <pad> <pad> <pad> <pad> <pad> <pad> <pad> <pad> <pad> <pad> <pad> <pad> <pad> <pad> <pad> <pad> <pad> <pad> <pad> <pad> <pad> <pad> <pad> <pad> <pad> <pad> <pad> <pad> <pad> <pad> <pad> <pad> <pad> <pad> <pad> <pad> <pad> <pad> <pad> <pad> <pad> <pad> <pad> <pad> <pad> <pad> <pad> <pad> <pad> <pad> <pad> <pad> <pad> <pad> <pad> <pad> <pad> <pad> <pad> <pad> <pad> <pad> <pad> <pad> <pad> <pad> <pad> <pad> <pad> <pad> <pad> <pad> <pad> <pad> <pad> <pad> <pad> <pad> <pad> <pad> <pad> <pad> <pad> <pad> <pad> <pad> <pad> <pad> <pad> <pad> <pad> <pad> <pad> <pad> <pad> <pad> <pad> <pad> <pad> <pad> <pad> <pad> <pad> <pad> <pad> <pad> <pad> <pad> <pad> <pad> <pad> <pad> <pad> <pad> <pad> <pad> <pad> <pad> <pad> <pad>\n",
      "====\n",
      "4\n",
      "question: What does the need to determine whether some plaintiffs’ alleged overtime is de minimis not require? title: context: The need to determine whether overtime was de minimis does not itself preclude class or collective certification.</s> <pad> <pad> <pad> <pad> <pad> <pad> <pad> <pad> <pad> <pad> <pad> <pad> <pad> <pad> <pad> <pad> <pad> <pad> <pad> <pad> <pad> <pad> <pad> <pad> <pad> <pad> <pad> <pad> <pad> <pad> <pad> <pad> <pad> <pad> <pad> <pad> <pad> <pad> <pad> <pad> <pad> <pad> <pad> <pad> <pad> <pad> <pad> <pad> <pad> <pad> <pad> <pad> <pad> <pad> <pad> <pad> <pad> <pad> <pad> <pad> <pad> <pad> <pad> <pad> <pad> <pad> <pad> <pad> <pad> <pad> <pad> <pad> <pad> <pad> <pad> <pad> <pad> <pad> <pad> <pad> <pad> <pad> <pad> <pad> <pad> <pad> <pad> <pad> <pad> <pad> <pad> <pad> <pad> <pad> <pad> <pad> <pad> <pad> <pad> <pad> <pad> <pad> <pad> <pad> <pad> <pad> <pad> <pad> <pad> <pad> <pad> <pad> <pad> <pad> <pad> <pad> <pad> <pad> <pad> <pad> <pad> <pad> <pad> <pad> <pad> <pad> <pad> <pad> <pad> <pad> <pad> <pad> <pad> <pad> <pad> <pad> <pad> <pad> <pad> <pad> <pad> <pad> <pad> <pad> <pad> <pad> <pad> <pad> <pad>\n",
      "====\n",
      "5\n",
      "question: What does the need to determine whether some plaintiffs’ alleged overtime is de minimis not require? title: context: The frequency and duration of such overtime, as well as whether that overtime is de minimis, are distinct issues from the question of whether submission of a request for payment is a prerequisite to compensation.</s> <pad> <pad> <pad> <pad> <pad> <pad> <pad> <pad> <pad> <pad> <pad> <pad> <pad> <pad> <pad> <pad> <pad> <pad> <pad> <pad> <pad> <pad> <pad> <pad> <pad> <pad> <pad> <pad> <pad> <pad> <pad> <pad> <pad> <pad> <pad> <pad> <pad> <pad> <pad> <pad> <pad> <pad> <pad> <pad> <pad> <pad> <pad> <pad> <pad> <pad> <pad> <pad> <pad> <pad> <pad> <pad> <pad> <pad> <pad> <pad> <pad> <pad> <pad> <pad> <pad> <pad> <pad> <pad> <pad> <pad> <pad> <pad> <pad> <pad> <pad> <pad> <pad> <pad> <pad> <pad> <pad> <pad> <pad> <pad> <pad> <pad> <pad> <pad> <pad> <pad> <pad> <pad> <pad> <pad> <pad> <pad> <pad> <pad> <pad> <pad> <pad> <pad> <pad> <pad> <pad> <pad> <pad> <pad> <pad> <pad> <pad> <pad> <pad> <pad> <pad> <pad> <pad> <pad> <pad> <pad> <pad> <pad> <pad> <pad> <pad> <pad> <pad> <pad>\n",
      "====\n",
      "6\n",
      "question: What does the need to determine whether some plaintiffs’ alleged overtime is de minimis not require? title: context: In order to recover damages for uncompensated overtime, Plaintiffs bear the burden of proving that the amount of time worked was not de minimus.</s> <pad> <pad> <pad> <pad> <pad> <pad> <pad> <pad> <pad> <pad> <pad> <pad> <pad> <pad> <pad> <pad> <pad> <pad> <pad> <pad> <pad> <pad> <pad> <pad> <pad> <pad> <pad> <pad> <pad> <pad> <pad> <pad> <pad> <pad> <pad> <pad> <pad> <pad> <pad> <pad> <pad> <pad> <pad> <pad> <pad> <pad> <pad> <pad> <pad> <pad> <pad> <pad> <pad> <pad> <pad> <pad> <pad> <pad> <pad> <pad> <pad> <pad> <pad> <pad> <pad> <pad> <pad> <pad> <pad> <pad> <pad> <pad> <pad> <pad> <pad> <pad> <pad> <pad> <pad> <pad> <pad> <pad> <pad> <pad> <pad> <pad> <pad> <pad> <pad> <pad> <pad> <pad> <pad> <pad> <pad> <pad> <pad> <pad> <pad> <pad> <pad> <pad> <pad> <pad> <pad> <pad> <pad> <pad> <pad> <pad> <pad> <pad> <pad> <pad> <pad> <pad> <pad> <pad> <pad> <pad> <pad> <pad> <pad> <pad> <pad> <pad> <pad> <pad> <pad> <pad> <pad> <pad> <pad> <pad> <pad> <pad> <pad>\n",
      "====\n",
      "7\n",
      "question: What does the need to determine whether some plaintiffs’ alleged overtime is de minimis not require? title: context: Defendants' third argument about individual inquiries is that compensation is not owed for de minimis overtime, and that whether time was de minimis must be calculated on a fact specific basis.</s> <pad> <pad> <pad> <pad> <pad> <pad> <pad> <pad> <pad> <pad> <pad> <pad> <pad> <pad> <pad> <pad> <pad> <pad> <pad> <pad> <pad> <pad> <pad> <pad> <pad> <pad> <pad> <pad> <pad> <pad> <pad> <pad> <pad> <pad> <pad> <pad> <pad> <pad> <pad> <pad> <pad> <pad> <pad> <pad> <pad> <pad> <pad> <pad> <pad> <pad> <pad> <pad> <pad> <pad> <pad> <pad> <pad> <pad> <pad> <pad> <pad> <pad> <pad> <pad> <pad> <pad> <pad> <pad> <pad> <pad> <pad> <pad> <pad> <pad> <pad> <pad> <pad> <pad> <pad> <pad> <pad> <pad> <pad> <pad> <pad> <pad> <pad> <pad> <pad> <pad> <pad> <pad> <pad> <pad> <pad> <pad> <pad> <pad> <pad> <pad> <pad> <pad> <pad> <pad> <pad> <pad> <pad> <pad> <pad> <pad> <pad> <pad> <pad> <pad> <pad> <pad> <pad> <pad> <pad> <pad> <pad> <pad> <pad> <pad> <pad> <pad> <pad> <pad>\n",
      "====\n",
      "8\n",
      "question: What does the need to determine whether some plaintiffs’ alleged overtime is de minimis not require? title: context: For these same reasons, the Court cannot determine, at this stage, whether any of this alleged overtime work is de minimis.</s> <pad> <pad> <pad> <pad> <pad> <pad> <pad> <pad> <pad> <pad> <pad> <pad> <pad> <pad> <pad> <pad> <pad> <pad> <pad> <pad> <pad> <pad> <pad> <pad> <pad> <pad> <pad> <pad> <pad> <pad> <pad> <pad> <pad> <pad> <pad> <pad> <pad> <pad> <pad> <pad> <pad> <pad> <pad> <pad> <pad> <pad> <pad> <pad> <pad> <pad> <pad> <pad> <pad> <pad> <pad> <pad> <pad> <pad> <pad> <pad> <pad> <pad> <pad> <pad> <pad> <pad> <pad> <pad> <pad> <pad> <pad> <pad> <pad> <pad> <pad> <pad> <pad> <pad> <pad> <pad> <pad> <pad> <pad> <pad> <pad> <pad> <pad> <pad> <pad> <pad> <pad> <pad> <pad> <pad> <pad> <pad> <pad> <pad> <pad> <pad> <pad> <pad> <pad> <pad> <pad> <pad> <pad> <pad> <pad> <pad> <pad> <pad> <pad> <pad> <pad> <pad> <pad> <pad> <pad> <pad> <pad> <pad> <pad> <pad> <pad> <pad> <pad> <pad> <pad> <pad> <pad> <pad> <pad> <pad> <pad> <pad> <pad> <pad> <pad> <pad> <pad> <pad>\n",
      "====\n",
      "9\n",
      "question: What does the need to determine whether some plaintiffs’ alleged overtime is de minimis not require? title: context: The court determines that plaintiffs' claims involve more than a de minimis amount of overtime work.</s> <pad> <pad> <pad> <pad> <pad> <pad> <pad> <pad> <pad> <pad> <pad> <pad> <pad> <pad> <pad> <pad> <pad> <pad> <pad> <pad> <pad> <pad> <pad> <pad> <pad> <pad> <pad> <pad> <pad> <pad> <pad> <pad> <pad> <pad> <pad> <pad> <pad> <pad> <pad> <pad> <pad> <pad> <pad> <pad> <pad> <pad> <pad> <pad> <pad> <pad> <pad> <pad> <pad> <pad> <pad> <pad> <pad> <pad> <pad> <pad> <pad> <pad> <pad> <pad> <pad> <pad> <pad> <pad> <pad> <pad> <pad> <pad> <pad> <pad> <pad> <pad> <pad> <pad> <pad> <pad> <pad> <pad> <pad> <pad> <pad> <pad> <pad> <pad> <pad> <pad> <pad> <pad> <pad> <pad> <pad> <pad> <pad> <pad> <pad> <pad> <pad> <pad> <pad> <pad> <pad> <pad> <pad> <pad> <pad> <pad> <pad> <pad> <pad> <pad> <pad> <pad> <pad> <pad> <pad> <pad> <pad> <pad> <pad> <pad> <pad> <pad> <pad> <pad> <pad> <pad> <pad> <pad> <pad> <pad> <pad> <pad> <pad> <pad> <pad> <pad> <pad> <pad> <pad> <pad> <pad> <pad> <pad>\n",
      "====\n",
      "10\n",
      "question: What does the need to determine whether some plaintiffs’ alleged overtime is de minimis not require? title: context: Defendant foreshadows a de minimis defense, arguing that Plaintiffs cannot recover for otherwise compensable work time that is insubstantial...But such a defense does not apply to the commissions claim. For the bank deposit claim, the de minimis defense can be manageably adjudicated at trial or in a bifurcated damages proceeding.</s> <pad> <pad> <pad> <pad> <pad> <pad> <pad> <pad> <pad> <pad> <pad> <pad> <pad> <pad> <pad> <pad> <pad> <pad> <pad> <pad> <pad> <pad> <pad> <pad> <pad> <pad> <pad> <pad> <pad> <pad> <pad> <pad> <pad> <pad> <pad> <pad> <pad> <pad> <pad> <pad> <pad> <pad> <pad> <pad> <pad> <pad> <pad> <pad> <pad> <pad> <pad> <pad> <pad> <pad> <pad> <pad> <pad> <pad> <pad> <pad> <pad> <pad> <pad> <pad> <pad> <pad> <pad> <pad> <pad> <pad> <pad> <pad> <pad> <pad> <pad> <pad> <pad> <pad> <pad> <pad> <pad> <pad> <pad> <pad>\n",
      "====\n",
      "11\n",
      "question: What does the need to determine whether some plaintiffs’ alleged overtime is de minimis not require? title: context: The Court is not convinced that Defendants’ defenses are so individualized that collective adjudication of this claim is unworkable. Defendants claim that individual ‘mini-trials’ will be needed to determine whether plaintiffs' off-the-clock activities were compensable work, whether Defendants had actual or constructive knowledge of any off-the-clock work performed by Plaintiffs, whether some of the off-the-clock work is de minimis, and whether some of the work performed at charitable events was compensable or instead was voluntary as defined by 29 C.F.R. <unk> 785.44. The Court agrees with Plaintiffs, however, that based on the current record, these defenses can be adequately raised at a trial involving representative testimony.</s>\n",
      "====\n",
      "12\n",
      "question: What does the need to determine whether some plaintiffs’ alleged overtime is de minimis not require? title: context: Going forward, this case will be divided into two stages: liability and damages. The liability phase will focus on whether: (1) the collective performed overtime hours without compensation; (2) those worked hours were compensable under the FLSA or, rather, were de minimis or preliminary or postliminary to a principal activity; (3) if compensable, Defendants knew or should have known that the collective worked overtime but failed to compensate them for it; and (4) any other defenses raised by Defendants. If liability is found as to one or more of the eligible tasks, the case will proceed to phase two: damages.</s> <pad> <pad> <pad> <pad> <pad> <pad> <pad> <pad> <pad> <pad> <pad> <pad> <pad> <pad> <pad> <pad> <pad> <pad> <pad> <pad> <pad> <pad> <pad> <pad> <pad> <pad> <pad> <pad> <pad> <pad> <pad> <pad> <pad> <pad> <pad> <pad> <pad> <pad>\n",
      "====\n",
      "13\n",
      "question: What does the need to determine whether some plaintiffs’ alleged overtime is de minimis not require? title: context: Defendant argues it must present individualized evidence to assert a de minimis defense, no notice defense, good faith defense and no willfulness defense. Defendant maintains that its defenses require it to undermine each plaintiff’s individual claim as to whether his or her missed compensation was significant, he or she reported non-payment for overtime work, or the off-the-clock work was performed as a result of personal choice. Defendant has not shown that these defenses require ‘substantial individualized determinations' that would not lead to efficient adjudication.’</s> <pad> <pad> <pad> <pad> <pad> <pad> <pad> <pad> <pad> <pad> <pad> <pad> <pad> <pad> <pad> <pad> <pad> <pad> <pad> <pad> <pad> <pad> <pad> <pad> <pad> <pad> <pad> <pad> <pad> <pad> <pad> <pad> <pad> <pad> <pad> <pad> <pad> <pad> <pad> <pad> <pad> <pad>\n",
      "====\n",
      "14\n",
      "question: What does the need to determine whether some plaintiffs’ alleged overtime is de minimis not require? title: context: Chipotle contends that because Plaintiffs presented ‘speculative testimony’ regarding the amount of alleged off-the-clock work performed, Chipotle can assert a de minimis defense against some Plaintiffs, but not others. (Def.’s Mem. Supp. Mot. to Decertify at 28.) As this Court observed in Cruz, however, ‘although there may be discrepancies in the amount of time each Plaintiff worked off the clock on a given day, or when, those discrepancies are inconsequential.’ 2015 WL 6671334, at *16. The Court will not decertify on this basis.</s> <pad> <pad> <pad> <pad> <pad> <pad> <pad> <pad> <pad> <pad> <pad> <pad> <pad> <pad> <pad> <pad> <pad> <pad> <pad> <pad> <pad> <pad> <pad> <pad> <pad> <pad>\n",
      "====\n",
      "15\n",
      "question: What does the need to determine whether some plaintiffs’ alleged overtime is de minimis not require? title: context: Defendant suggests that several Plaintiffs have ‘serious credibility issues.’ See Doc. No. 146, at 29–31. With certain Plaintiffs, Defendant takes issue with some estimations of how many hours of overtime worked per week; with others, Defendant alleges that they were terminated or resigned for reasons that would reflect on credibility. These are issues that can be addressed to the relevant Plaintiffs on cross examination. They do not broadly impact whether Defendant might be liable to the class of inside sales representatives on a collective basis. The court finds the same with respect to Defendant’s defenses of offset (if even possible under the FLSA) and de minimis time.</s> <pad> <pad> <pad> <pad> <pad> <pad> <pad> <pad> <pad> <pad> <pad>\n",
      "\n",
      "\n",
      "generated answer:\n",
      "<pad> The need to determine whether some plaintiffs’ alleged overtime is de minimis does not require individualized testimony.</s>\n",
      "\n",
      "\n",
      "ground truth answer:\n",
      "The need to determine whether some plaintiffs’ alleged overtime is de minimis does not require decertification.</s>\n"
     ]
    }
   ],
   "source": [
    "for i, batch in enumerate(dataloader):\n",
    "    (idx, labels, _, context_ids, context_mask) = batch\n",
    "    \n",
    "    if i == 76:\n",
    "        print(idx)\n",
    "        print(context_ids.shape)\n",
    "        #print(context_ids[0][0])\n",
    "        for j in range(context_ids.shape[1]):\n",
    "\n",
    "            print(\"====\")\n",
    "            print(j)\n",
    "            context = tokenizer.decode(context_ids[0][j])\n",
    "            print(context)\n",
    "        \n",
    "        print(\"\")\n",
    "        print(\"\")\n",
    "        print(\"generated answer:\")\n",
    "        generated_output = model.generate(\n",
    "                input_ids=context_ids.cuda(),\n",
    "                attention_mask=context_mask.cuda(),\n",
    "                max_length=50\n",
    "            ).cpu()\n",
    "\n",
    "        human_readable_generated_output = tokenizer.decode(generated_output[0])\n",
    "        print(human_readable_generated_output)\n",
    "        \n",
    "        print(\"\")\n",
    "        print(\"\")\n",
    "        print(\"ground truth answer:\")\n",
    "\n",
    "        print(tokenizer.decode(labels[0]))\n",
    "\n",
    "        forward = model(\n",
    "                input_ids=context_ids.cuda(),\n",
    "                attention_mask=context_mask.cuda(),\n",
    "                decoder_input_ids=labels.cuda(),\n",
    "                output_attentions=True,\n",
    "                output_unnormalized_attentions=False\n",
    "            )           \n",
    "    \n",
    "        break"
   ]
  },
  {
   "cell_type": "code",
   "execution_count": null,
   "id": "1b8d4b93-c57e-4ed8-8d75-1296995228a2",
   "metadata": {
    "tags": []
   },
   "outputs": [],
   "source": []
  },
  {
   "cell_type": "markdown",
   "id": "19a0192f-2449-42ad-916c-ea61699edaf7",
   "metadata": {
    "jp-MarkdownHeadingCollapsed": true,
    "tags": []
   },
   "source": [
    "## Extract cross attention matrices"
   ]
  },
  {
   "cell_type": "code",
   "execution_count": 97,
   "id": "105c5b39-17a1-4a8a-bdd4-1d02461e26f0",
   "metadata": {},
   "outputs": [
    {
     "data": {
      "text/plain": [
       "12"
      ]
     },
     "execution_count": 97,
     "metadata": {},
     "output_type": "execute_result"
    }
   ],
   "source": [
    "len(forward.cross_attentions)"
   ]
  },
  {
   "cell_type": "code",
   "execution_count": 98,
   "id": "a45db957-6a87-40b0-b560-efeef5c760dc",
   "metadata": {},
   "outputs": [
    {
     "data": {
      "text/plain": [
       "torch.Size([12, 12, 3, 880])"
      ]
     },
     "execution_count": 98,
     "metadata": {},
     "output_type": "execute_result"
    }
   ],
   "source": [
    "stacked_forward_attentions = torch.cat(forward.cross_attentions, dim=0)\n",
    "stacked_forward_attentions.shape"
   ]
  },
  {
   "cell_type": "code",
   "execution_count": 99,
   "id": "c4e273d8-276c-45a8-9868-41d1c40a30ab",
   "metadata": {},
   "outputs": [
    {
     "data": {
      "text/plain": [
       "tensor(-80681824., device='cuda:0', grad_fn=<MeanBackward0>)"
      ]
     },
     "execution_count": 99,
     "metadata": {},
     "output_type": "execute_result"
    }
   ],
   "source": [
    "torch.mean(stacked_forward_attentions[:, :, 0, :])"
   ]
  },
  {
   "cell_type": "code",
   "execution_count": 34,
   "id": "5e089fd6-621e-44d8-bb16-a2a9057dbc5f",
   "metadata": {},
   "outputs": [
    {
     "data": {
      "text/plain": [
       "torch.Size([1, 12, 3, 322])"
      ]
     },
     "execution_count": 34,
     "metadata": {},
     "output_type": "execute_result"
    }
   ],
   "source": [
    "forward.cross_attentions[0].shape"
   ]
  },
  {
   "cell_type": "code",
   "execution_count": 35,
   "id": "26e96656-2048-41eb-8dab-7b4a9dd7ca17",
   "metadata": {},
   "outputs": [
    {
     "data": {
      "text/plain": [
       "tensor(-27950314., device='cuda:0', grad_fn=<MeanBackward0>)"
      ]
     },
     "execution_count": 35,
     "metadata": {},
     "output_type": "execute_result"
    }
   ],
   "source": [
    "torch.mean(forward.cross_attentions[0][:, :, 0, :])"
   ]
  },
  {
   "cell_type": "code",
   "execution_count": 36,
   "id": "074aca81-f1bd-49be-acdd-c24472bca22f",
   "metadata": {},
   "outputs": [
    {
     "data": {
      "text/plain": [
       "torch.Size([1, 12, 3, 322])"
      ]
     },
     "execution_count": 36,
     "metadata": {},
     "output_type": "execute_result"
    }
   ],
   "source": [
    "forward.cross_attentions[0].shape"
   ]
  },
  {
   "cell_type": "code",
   "execution_count": 37,
   "id": "dcbf0b37-bcc0-45f6-a6cc-c4df37e5b143",
   "metadata": {},
   "outputs": [
    {
     "data": {
      "text/plain": [
       "torch.Size([1, 12, 3])"
      ]
     },
     "execution_count": 37,
     "metadata": {},
     "output_type": "execute_result"
    }
   ],
   "source": [
    "torch.sum(forward.cross_attentions[3], dim=-1).shape"
   ]
  },
  {
   "cell_type": "code",
   "execution_count": 38,
   "id": "ce7b6408-4303-4525-948a-d0c67d47b002",
   "metadata": {},
   "outputs": [
    {
     "data": {
      "text/plain": [
       "tensor([[[-9.0000e+09, -9.0000e+09, -9.0000e+09],\n",
       "         [-9.0000e+09, -9.0000e+09, -9.0000e+09],\n",
       "         [-9.0000e+09, -9.0000e+09, -9.0000e+09],\n",
       "         [-9.0000e+09, -9.0000e+09, -9.0000e+09],\n",
       "         [-9.0000e+09, -9.0000e+09, -9.0000e+09],\n",
       "         [-9.0000e+09, -9.0000e+09, -9.0000e+09],\n",
       "         [-9.0000e+09, -9.0000e+09, -9.0000e+09],\n",
       "         [-9.0000e+09, -9.0000e+09, -9.0000e+09],\n",
       "         [-9.0000e+09, -9.0000e+09, -9.0000e+09],\n",
       "         [-9.0000e+09, -9.0000e+09, -9.0000e+09],\n",
       "         [-9.0000e+09, -9.0000e+09, -9.0000e+09],\n",
       "         [-9.0000e+09, -9.0000e+09, -9.0000e+09]]], device='cuda:0',\n",
       "       grad_fn=<SumBackward1>)"
      ]
     },
     "execution_count": 38,
     "metadata": {},
     "output_type": "execute_result"
    }
   ],
   "source": [
    "torch.sum(forward.cross_attentions[0], dim=-1)"
   ]
  },
  {
   "cell_type": "code",
   "execution_count": 30,
   "id": "7ae0b9ab-e880-4d51-86fc-f25981a4c944",
   "metadata": {},
   "outputs": [
    {
     "data": {
      "text/plain": [
       "tensor([ 1.9729e+00,  1.3851e+00, -2.1832e+00, -1.1376e+00, -1.2776e+00,\n",
       "        -3.4125e+00, -5.3054e+00, -4.8791e+00, -3.2870e+00, -4.4425e+00,\n",
       "        -1.8687e+00, -2.5599e+00, -2.6223e+00, -4.1923e+00, -1.3342e+00,\n",
       "        -5.2764e-01,  5.1298e-01, -4.1823e+00, -4.5534e+00, -3.5556e+00,\n",
       "        -4.6796e+00, -8.2563e-01,  9.5785e-01, -3.3178e+00, -3.6698e+00,\n",
       "        -3.0187e+00, -4.7601e+00, -4.2497e+00, -2.8946e+00, -5.3650e+00,\n",
       "        -3.4801e+00, -4.4688e+00, -3.2278e+00, -4.8753e+00, -3.7288e+00,\n",
       "        -1.9606e+00,  1.3321e+00, -3.6053e+00, -1.8468e+00, -4.1075e+00,\n",
       "        -2.9598e+00, -2.5535e+00, -2.2707e+00, -3.5604e+00, -3.8036e+00,\n",
       "        -2.4402e+00, -4.0344e+00, -2.8101e+00, -5.1451e+00, -1.9998e+00,\n",
       "        -1.9949e+00,  1.3623e+00, -9.9303e-01,  8.5180e-01, -2.4537e-01,\n",
       "        -1.4495e+00, -1.2180e+00,  5.8565e-01,  6.4136e-01,  1.1378e+00,\n",
       "        -8.3264e-01, -1.4387e+00, -1.5302e+00, -1.3770e+00, -8.3234e-01,\n",
       "        -5.2860e-01,  2.6433e+00,  3.8919e-01, -9.3304e-01, -2.2436e+00,\n",
       "        -4.4312e+00, -3.5490e+00, -4.6887e+00, -2.9122e+00, -4.8157e+00,\n",
       "        -4.0654e+00, -4.5377e+00, -4.3426e+00, -1.8697e+00, -4.4618e+00,\n",
       "        -2.1643e+00, -2.6291e+00, -5.6696e+00, -5.3164e+00, -4.3781e+00,\n",
       "        -5.9670e+00, -5.2321e+00, -4.2080e+00, -3.1265e+00, -4.2005e+00,\n",
       "        -2.8771e+00, -3.2956e+00, -1.1805e+00, -2.8303e+00, -4.4768e+00,\n",
       "        -5.4440e+00, -6.1873e+00, -1.0963e+00, -1.8426e+00, -5.2303e+00,\n",
       "        -6.4775e+00, -5.9651e+00, -3.0967e+00, -4.5600e+00,  1.3282e+00,\n",
       "        -5.9412e+00, -2.8950e+00, -6.2434e+00, -1.8653e-01, -5.2957e+00,\n",
       "        -4.1540e+00, -5.3873e+00, -4.4140e+00, -5.1191e+00, -3.9336e+00,\n",
       "        -4.8321e+00, -3.9711e+00, -4.4869e+00, -2.6614e+00, -4.1897e+00,\n",
       "        -4.4527e+00, -1.5985e+00, -3.6627e+00, -3.5549e+00, -4.6487e+00,\n",
       "        -3.2182e+00, -3.3348e+00, -4.3084e+00, -5.2264e+00, -6.0960e+00,\n",
       "         1.3176e+00, -5.0884e+00, -4.8702e+00, -6.5156e+00, -4.8602e+00,\n",
       "         1.2623e+00, -2.1398e+00, -4.7851e+00, -5.9398e+00, -4.7313e+00,\n",
       "        -4.0941e+00, -3.6307e+00, -5.4165e+00,  1.3143e+00, -5.5277e+00,\n",
       "        -5.8773e+00,  1.3321e+00, -7.3642e+00, -3.1572e+00, -7.0340e+00,\n",
       "        -5.5194e+00, -6.1182e+00,  1.2496e+00, -4.2643e+00, -2.5299e+00,\n",
       "        -2.6888e+00, -3.7361e+00, -2.4774e+00, -3.2266e+00, -2.0169e+00,\n",
       "         1.2179e+00,  1.9280e+00,  1.3883e+00, -2.2823e+00, -8.9481e-01,\n",
       "        -1.3417e+00, -2.5561e+00, -4.1483e+00, -3.2045e+00, -2.3281e+00,\n",
       "        -3.7932e+00, -2.6662e+00, -3.6371e+00, -4.3229e+00, -4.6901e+00,\n",
       "        -2.7355e+00,  3.5384e-01,  1.5543e+00,  2.6047e+00, -2.9533e-01,\n",
       "         1.3160e+00,  1.8552e+00,  2.4846e+00, -1.4129e+00,  2.7614e+00,\n",
       "        -1.2821e+00, -7.3053e-01, -5.7694e-01, -4.0411e+00, -4.8368e+00,\n",
       "        -3.8859e+00, -4.3150e+00, -4.2504e+00, -3.5745e-01, -3.5462e-01,\n",
       "        -7.3754e-01, -1.9055e+00, -3.0862e-01, -2.6462e-01, -8.4304e-01,\n",
       "        -3.4324e-01, -5.9995e+00, -6.0510e+00,  1.4091e+00, -5.7798e+00,\n",
       "        -4.3337e+00, -6.5568e+00,  1.4036e+00, -5.8580e+00, -3.3419e+00,\n",
       "        -2.4596e+00, -4.8135e+00,  8.3057e-01, -6.2245e+00, -5.9418e+00,\n",
       "        -4.8557e+00, -2.4293e+00, -2.9622e+00, -4.5057e+00, -6.1893e+00,\n",
       "        -5.0973e+00, -3.5218e+00, -5.3923e+00, -4.5799e+00, -3.9574e+00,\n",
       "        -4.4635e+00, -4.5057e+00, -1.5150e+00, -2.8114e+00, -4.3329e+00,\n",
       "        -3.5980e+00, -3.8420e+00, -1.8371e+00, -1.9484e-01, -5.4847e+00,\n",
       "        -1.4760e+00, -3.6981e+00, -4.9489e+00, -4.2241e+00, -2.5071e-01,\n",
       "        -4.3569e+00, -4.0960e+00, -6.1977e+00, -5.1910e+00, -3.2393e+00,\n",
       "        -4.4211e+00, -5.0790e+00, -3.4128e+00, -5.0038e+00, -4.9638e+00,\n",
       "        -5.1276e+00, -4.3316e+00, -4.1899e+00, -3.3087e+00, -3.0998e+00,\n",
       "        -1.7585e+00, -8.6455e-01, -4.9921e+00, -2.4460e+00, -4.3285e+00,\n",
       "        -5.2264e+00, -4.2715e+00, -2.9195e+00, -3.7304e+00, -2.3466e+00,\n",
       "        -3.2093e+00, -1.2309e+00, -2.9737e+00, -2.6926e+00,  3.8574e-01,\n",
       "        -1.8895e+00,  1.1804e+00, -1.4196e+00, -3.3326e+00, -1.6068e+00,\n",
       "        -4.0972e-01, -5.0661e-01, -1.4656e+00, -7.8192e-01, -3.3248e+00,\n",
       "        -4.1226e+00, -1.3924e+00, -1.6840e+00, -2.9675e+00, -4.3076e+00,\n",
       "        -4.3947e+00, -4.6235e+00, -4.1214e+00, -4.3019e+00, -3.6414e+00,\n",
       "        -2.2205e+00, -8.0839e-01, -3.1549e+00, -4.5909e+00,  3.8164e-01,\n",
       "         1.3151e-01,  4.4845e-01,  1.4407e+00, -3.2950e+00, -9.5082e-02,\n",
       "        -1.9994e+00, -2.3387e+00, -3.9092e-01, -5.1621e-01, -1.2550e+00,\n",
       "        -8.8810e-01,  1.1211e-01, -2.4601e+00, -5.3425e+00, -2.0550e+00,\n",
       "        -3.2892e+00, -4.2305e+00,  1.2666e+00, -1.0000e+09, -1.0000e+09,\n",
       "        -1.0000e+09, -1.0000e+09, -1.0000e+09, -1.0000e+09, -1.0000e+09,\n",
       "        -1.0000e+09, -1.0000e+09], device='cuda:0', grad_fn=<SelectBackward0>)"
      ]
     },
     "execution_count": 30,
     "metadata": {},
     "output_type": "execute_result"
    }
   ],
   "source": [
    "forward.cross_attentions[0][0][0][1]"
   ]
  },
  {
   "cell_type": "code",
   "execution_count": 248,
   "id": "4dd3613a-0810-473a-921e-6d0b19e79c78",
   "metadata": {},
   "outputs": [
    {
     "data": {
      "text/plain": [
       "tensor([[[-2.4000e+10, -2.4000e+10, -2.4000e+10, -2.4000e+10, -2.4000e+10,\n",
       "          -2.4000e+10, -2.4000e+10],\n",
       "         [-2.4000e+10, -2.4000e+10, -2.4000e+10, -2.4000e+10, -2.4000e+10,\n",
       "          -2.4000e+10, -2.4000e+10],\n",
       "         [-2.4000e+10, -2.4000e+10, -2.4000e+10, -2.4000e+10, -2.4000e+10,\n",
       "          -2.4000e+10, -2.4000e+10],\n",
       "         [-2.4000e+10, -2.4000e+10, -2.4000e+10, -2.4000e+10, -2.4000e+10,\n",
       "          -2.4000e+10, -2.4000e+10],\n",
       "         [-2.4000e+10, -2.4000e+10, -2.4000e+10, -2.4000e+10, -2.4000e+10,\n",
       "          -2.4000e+10, -2.4000e+10],\n",
       "         [-2.4000e+10, -2.4000e+10, -2.4000e+10, -2.4000e+10, -2.4000e+10,\n",
       "          -2.4000e+10, -2.4000e+10],\n",
       "         [-2.4000e+10, -2.4000e+10, -2.4000e+10, -2.4000e+10, -2.4000e+10,\n",
       "          -2.4000e+10, -2.4000e+10],\n",
       "         [-2.4000e+10, -2.4000e+10, -2.4000e+10, -2.4000e+10, -2.4000e+10,\n",
       "          -2.4000e+10, -2.4000e+10],\n",
       "         [-2.4000e+10, -2.4000e+10, -2.4000e+10, -2.4000e+10, -2.4000e+10,\n",
       "          -2.4000e+10, -2.4000e+10],\n",
       "         [-2.4000e+10, -2.4000e+10, -2.4000e+10, -2.4000e+10, -2.4000e+10,\n",
       "          -2.4000e+10, -2.4000e+10],\n",
       "         [-2.4000e+10, -2.4000e+10, -2.4000e+10, -2.4000e+10, -2.4000e+10,\n",
       "          -2.4000e+10, -2.4000e+10],\n",
       "         [-2.4000e+10, -2.4000e+10, -2.4000e+10, -2.4000e+10, -2.4000e+10,\n",
       "          -2.4000e+10, -2.4000e+10]]], device='cuda:0', grad_fn=<SumBackward1>)"
      ]
     },
     "execution_count": 248,
     "metadata": {},
     "output_type": "execute_result"
    }
   ],
   "source": [
    "torch.sum(forward.cross_attentions[0], dim=-1)"
   ]
  },
  {
   "cell_type": "code",
   "execution_count": null,
   "id": "ab05c654-5b06-48bf-a17e-d8958efcf1fc",
   "metadata": {},
   "outputs": [],
   "source": []
  },
  {
   "cell_type": "markdown",
   "id": "664f7ee5-85d2-4281-9061-349867efbb45",
   "metadata": {
    "jp-MarkdownHeadingCollapsed": true,
    "tags": []
   },
   "source": [
    "## compute g_{q,p}"
   ]
  },
  {
   "cell_type": "code",
   "execution_count": 182,
   "id": "acfa0045-24b1-47d8-af71-fbd007047713",
   "metadata": {},
   "outputs": [],
   "source": [
    "stacked_forward_attentions = torch.cat(forward.cross_attentions, dim=0)"
   ]
  },
  {
   "cell_type": "code",
   "execution_count": 183,
   "id": "30359bc1-96d6-42da-9ffc-c29d8e5a36c8",
   "metadata": {},
   "outputs": [
    {
     "data": {
      "text/plain": [
       "torch.Size([12, 12, 3, 1960])"
      ]
     },
     "execution_count": 183,
     "metadata": {},
     "output_type": "execute_result"
    }
   ],
   "source": [
    "stacked_forward_attentions.shape"
   ]
  },
  {
   "cell_type": "code",
   "execution_count": 184,
   "id": "03b01390-ef52-4d16-a86f-c102473d23c5",
   "metadata": {
    "tags": []
   },
   "outputs": [
    {
     "data": {
      "text/plain": [
       "torch.Size([1, 10, 196])"
      ]
     },
     "execution_count": 184,
     "metadata": {},
     "output_type": "execute_result"
    }
   ],
   "source": [
    "context_mask.shape"
   ]
  },
  {
   "cell_type": "code",
   "execution_count": 185,
   "id": "ca18e367-24b1-4afe-966d-0afe39ef5a2e",
   "metadata": {},
   "outputs": [
    {
     "data": {
      "text/plain": [
       "torch.Size([1, 1960])"
      ]
     },
     "execution_count": 185,
     "metadata": {},
     "output_type": "execute_result"
    }
   ],
   "source": [
    "msk = torch.reshape(context_mask, (1, context_mask.shape[1]*context_mask.shape[2])).cuda()\n",
    "msk.shape"
   ]
  },
  {
   "cell_type": "code",
   "execution_count": 186,
   "id": "b795e842-0b16-4fe6-a39e-335b179dbaf8",
   "metadata": {},
   "outputs": [],
   "source": [
    "masked_stacked_forward_attentions = stacked_forward_attentions.masked_fill(msk == False, 0.0)"
   ]
  },
  {
   "cell_type": "code",
   "execution_count": 187,
   "id": "6454fc41-d968-4de2-91c5-b6b65fd24879",
   "metadata": {},
   "outputs": [
    {
     "data": {
      "text/plain": [
       "torch.Size([12, 12, 3, 1960])"
      ]
     },
     "execution_count": 187,
     "metadata": {},
     "output_type": "execute_result"
    }
   ],
   "source": [
    "masked_stacked_forward_attentions.shape"
   ]
  },
  {
   "cell_type": "code",
   "execution_count": 188,
   "id": "e7f83c82-3b7e-4772-bc49-0ad4ade21800",
   "metadata": {
    "tags": []
   },
   "outputs": [
    {
     "name": "stdout",
     "output_type": "stream",
     "text": [
      "0\n",
      "torch.Size([12, 12, 3, 196])\n",
      "tensor(0.0006, device='cuda:0', grad_fn=<MeanBackward0>)\n",
      "============\n",
      "1\n",
      "torch.Size([12, 12, 3, 196])\n",
      "tensor(0.0006, device='cuda:0', grad_fn=<MeanBackward0>)\n",
      "============\n",
      "2\n",
      "torch.Size([12, 12, 3, 196])\n",
      "tensor(0.0005, device='cuda:0', grad_fn=<MeanBackward0>)\n",
      "============\n",
      "3\n",
      "torch.Size([12, 12, 3, 196])\n",
      "tensor(0.0005, device='cuda:0', grad_fn=<MeanBackward0>)\n",
      "============\n",
      "4\n",
      "torch.Size([12, 12, 3, 196])\n",
      "tensor(0.0007, device='cuda:0', grad_fn=<MeanBackward0>)\n",
      "============\n",
      "5\n",
      "torch.Size([12, 12, 3, 196])\n",
      "tensor(0.0004, device='cuda:0', grad_fn=<MeanBackward0>)\n",
      "============\n",
      "6\n",
      "torch.Size([12, 12, 3, 196])\n",
      "tensor(0.0005, device='cuda:0', grad_fn=<MeanBackward0>)\n",
      "============\n",
      "7\n",
      "torch.Size([12, 12, 3, 196])\n",
      "tensor(0.0004, device='cuda:0', grad_fn=<MeanBackward0>)\n",
      "============\n",
      "8\n",
      "torch.Size([12, 12, 3, 196])\n",
      "tensor(0.0004, device='cuda:0', grad_fn=<MeanBackward0>)\n",
      "============\n",
      "9\n",
      "torch.Size([12, 12, 3, 196])\n",
      "tensor(0.0006, device='cuda:0', grad_fn=<MeanBackward0>)\n",
      "============\n"
     ]
    }
   ],
   "source": [
    "for i in range(context_mask.shape[1]):\n",
    "    print(i)\n",
    "    sliced_masked_stacked_forward_attentions = masked_stacked_forward_attentions[:, :, :, (i*context_mask.shape[2]):((i + 1)*context_mask.shape[2])]\n",
    "    print(sliced_masked_stacked_forward_attentions.shape)\n",
    "    g_qp = torch.mean(sliced_masked_stacked_forward_attentions[:, :, 0, :])\n",
    "    print(g_qp)\n",
    "    print(\"============\")\n",
    "    "
   ]
  },
  {
   "cell_type": "code",
   "execution_count": 189,
   "id": "d1145e82-be68-4168-a3ee-a8723c5e23c6",
   "metadata": {},
   "outputs": [
    {
     "data": {
      "text/plain": [
       "[tensor(0.0006),\n",
       " tensor(0.0006),\n",
       " tensor(0.0005),\n",
       " tensor(0.0005),\n",
       " tensor(0.0007),\n",
       " tensor(0.0004),\n",
       " tensor(0.0005),\n",
       " tensor(0.0004),\n",
       " tensor(0.0004),\n",
       " tensor(0.0006)]"
      ]
     },
     "execution_count": 189,
     "metadata": {},
     "output_type": "execute_result"
    }
   ],
   "source": [
    "g_qp = model.obtain_gqp(\n",
    "    input_ids=context_ids.cuda(),\n",
    "    attention_mask=context_mask.cuda(),\n",
    "    decoder_input_ids=labels.cuda(),\n",
    "    output_attentions=True,\n",
    "    output_unnormalized_attentions=False\n",
    ")\n",
    "\n",
    "g_qp = [el.detach() for el in g_qp]\n",
    "\n",
    "g_qp"
   ]
  },
  {
   "cell_type": "code",
   "execution_count": 161,
   "id": "e147e00b-f1d7-480b-939d-114cc03ea773",
   "metadata": {},
   "outputs": [],
   "source": [
    "averaged_attention_matrix = torch.mean(masked_stacked_forward_attentions, dim = (0, 1)).detach().cpu().numpy()\n"
   ]
  },
  {
   "cell_type": "markdown",
   "id": "e6670f54-d07d-4aea-96d6-9fc5acc5d351",
   "metadata": {
    "jp-MarkdownHeadingCollapsed": true,
    "tags": []
   },
   "source": [
    "### Visualise layer-head averaged cross-attention matrix"
   ]
  },
  {
   "cell_type": "code",
   "execution_count": 162,
   "id": "7c133057-ae3b-4b9c-9af8-7421d0c827ff",
   "metadata": {},
   "outputs": [
    {
     "data": {
      "text/plain": [
       "<matplotlib.image.AxesImage at 0x7ff49bf50460>"
      ]
     },
     "execution_count": 162,
     "metadata": {},
     "output_type": "execute_result"
    },
    {
     "data": {
      "image/png": "[encoded data removed]",
      "text/plain": [
       "<Figure size 1440x720 with 1 Axes>"
      ]
     },
     "metadata": {},
     "output_type": "display_data"
    }
   ],
   "source": [
    "fig = plt.figure(figsize=(20, 10), facecolor=\"white\")\n",
    "ax = fig.add_subplot()\n",
    "#ax.imshow(averaged_attention_matrix[:, :], cmap='hot', interpolation='nearest')\n",
    "ax.matshow(averaged_attention_matrix[:2, :], aspect='auto', vmin=0)"
   ]
  },
  {
   "cell_type": "code",
   "execution_count": 86,
   "id": "34e1fb19-e021-402a-a208-209deeae29e5",
   "metadata": {},
   "outputs": [
    {
     "data": {
      "text/plain": [
       "(2, 1980)"
      ]
     },
     "execution_count": 86,
     "metadata": {},
     "output_type": "execute_result"
    }
   ],
   "source": [
    "averaged_attention_matrix.shape"
   ]
  },
  {
   "cell_type": "code",
   "execution_count": null,
   "id": "6ee404de-5893-41a3-a113-75927b1cafb9",
   "metadata": {},
   "outputs": [],
   "source": []
  },
  {
   "cell_type": "markdown",
   "id": "fe4549cd-3213-4a2c-931b-5f986b1b5ad9",
   "metadata": {
    "tags": []
   },
   "source": [
    "## Obtaining the generative output score"
   ]
  },
  {
   "cell_type": "code",
   "execution_count": 17,
   "id": "fcdbd42d-d37f-4ab4-a6c7-846448bb788f",
   "metadata": {},
   "outputs": [
    {
     "data": {
      "text/plain": [
       "386"
      ]
     },
     "execution_count": 17,
     "metadata": {},
     "output_type": "execute_result"
    }
   ],
   "source": [
    "len(dataloader)"
   ]
  },
  {
   "cell_type": "code",
   "execution_count": null,
   "id": "a11aed56-410e-40d8-b59f-033b9968f49f",
   "metadata": {},
   "outputs": [],
   "source": []
  },
  {
   "cell_type": "markdown",
   "id": "b037e084-19a1-48f3-ae96-5c91a268cc7c",
   "metadata": {},
   "source": [
    "### Figure out prevalence of very confident, correct vs incorrect answers"
   ]
  },
  {
   "cell_type": "code",
   "execution_count": 18,
   "id": "0e47d33e-78e6-4944-b98b-ba8c74aaebdf",
   "metadata": {
    "tags": []
   },
   "outputs": [
    {
     "name": "stderr",
     "output_type": "stream",
     "text": [
      "386it [17:32,  2.73s/it]\n"
     ]
    }
   ],
   "source": [
    "# only one context vector\n",
    "\n",
    "exact_match_log_probabilities = []\n",
    "incorrect_log_probabilities = []\n",
    "exact_match_answers = []\n",
    "\n",
    "\n",
    "for i, batch in tqdm(enumerate(dataloader)):\n",
    "    \n",
    "    (idx, _, _, context_ids, context_mask) = batch\n",
    "    sequences = model.generate(\n",
    "                input_ids=context_ids.cuda(),\n",
    "                attention_mask=context_mask.cuda(),\n",
    "                max_length=100,\n",
    "                return_dict_in_generate=True,\n",
    "                output_scores=True\n",
    "            ).sequences\n",
    "\n",
    "    \n",
    "    for k, o in enumerate(sequences):\n",
    "        ans = tokenizer.decode(o, skip_special_tokens=True)\n",
    "        gold = eval_dataset.get_example(idx[k])['answers']\n",
    "        score = ems(ans, gold)\n",
    "        #print(score)\n",
    "        # total += 1\n",
    "        # exactmatch.append(score)\n",
    "#         print(\"model generated output:\")\n",
    "#         print(ans)\n",
    "\n",
    "#         print(\"\")\n",
    "#         print(\"ground truth:\")\n",
    "#         print(gold) \n",
    "\n",
    "    # print(\"extracting negative log probability ...\")\n",
    "    log_probability = model.obtain_log_generated_probability(\n",
    "        input_ids=context_ids.cuda(),\n",
    "        attention_mask=context_mask.cuda(),\n",
    "        max_length=100\n",
    "\n",
    "    )\n",
    "    \n",
    "    if score == True:\n",
    "        exact_match_log_probabilities.append(log_probability.cpu().numpy())\n",
    "        exact_match_answers.append(ans)\n",
    "#         if len(exact_match_log_probabilities) >= 5:\n",
    "#             print(\"exceeded five exact matches\")\n",
    "        \n",
    "#         if len(exact_match_log_probabilities) >= 10:\n",
    "#             print(\"exceeded ten exact matches\")\n",
    "    \n",
    "    else:\n",
    "        incorrect_log_probabilities.append(log_probability.cpu().numpy())\n"
   ]
  },
  {
   "cell_type": "code",
   "execution_count": 135,
   "id": "7d1deddd-3169-4188-9b5b-a8a94124935f",
   "metadata": {},
   "outputs": [],
   "source": [
    "# load from local\n",
    "exact_match_log_probabilities = np.load(\"../numpy_drops/exact_matches.npy\")\n",
    "incorrect_log_probabilities = np.load(\"../numpy_drops/incorrects.npy\")\n",
    "rouge_match_log_probabilities = np.load(\"../numpy_drops/rouge_matches.npy\")"
   ]
  },
  {
   "cell_type": "code",
   "execution_count": 150,
   "id": "4c77fd37-fccb-4104-9821-28cf9dcb8cc0",
   "metadata": {},
   "outputs": [
    {
     "data": {
      "text/plain": [
       "234"
      ]
     },
     "execution_count": 150,
     "metadata": {},
     "output_type": "execute_result"
    }
   ],
   "source": [
    "with open(\"../numpy_drops/rouge_similarity_answers\", \"rb\") as f:\n",
    "    rouge_matches = pickle.load(f)\n",
    "\n",
    "len(rouge_matches)"
   ]
  },
  {
   "cell_type": "code",
   "execution_count": 162,
   "id": "3cea20b9-3cb7-4b68-9160-0fa62f038669",
   "metadata": {},
   "outputs": [],
   "source": [
    "zipped_rouge = list(zip(rouge_matches, rouge_match_log_probabilities))"
   ]
  },
  {
   "cell_type": "code",
   "execution_count": 215,
   "id": "e5ef7025-da1c-4296-9725-f59c260ca4e3",
   "metadata": {},
   "outputs": [
    {
     "name": "stdout",
     "output_type": "stream",
     "text": [
      "116\n"
     ]
    },
    {
     "data": {
      "text/plain": [
       "[4.364418, 0.13233413, 1.9912542, 1.9657593, 1.3918426]"
      ]
     },
     "execution_count": 215,
     "metadata": {},
     "output_type": "execute_result"
    }
   ],
   "source": [
    "filter_thresh = 0.8\n",
    "\n",
    "filtered_matches = [el for el in zipped_rouge if (el[0][2] >= filter_thresh)]\n",
    "print(len(filtered_matches))\n",
    "\n",
    "filtered_match_log_probabilities = list(list(zip(*filtered_matches))[1])\n",
    "\n",
    "filtered_match_log_probabilities[:5]"
   ]
  },
  {
   "cell_type": "code",
   "execution_count": 235,
   "id": "a4c9fa59-11ab-44ec-98ad-30c01e4818ef",
   "metadata": {},
   "outputs": [
    {
     "data": {
      "text/plain": [
       "[(('The responding party may choose to produce documents in lieu of written answers to the interrogatories only if answers to the interrogatories can actually be derived from the responding party’s production of business records.',\n",
       "   'Answers to interrogatories can be derived from the responding party’s production of business records.',\n",
       "   0.6),\n",
       "  1.9916787),\n",
       " (('Exhaustion requirements are generally not considered jurisdictional unless a specific statutory exception exists.',\n",
       "   'Exhaustion requirements are generally not jurisdictional.',\n",
       "   0.631578947368421),\n",
       "  1.4291513),\n",
       " (('The \"experienced trial judge is the best judge of the value of professional services rendered in his court, and while his judgment is of course subject to review, it will not be disturbed unless the appellate court is convinced that it is clearly wrong.\"',\n",
       "   \"The appellate court will not disturb the trial judge's judgment of the value of professional services rendered in his court unless the appellate court is convinced that it is clearly wrong.\",\n",
       "   0.631578947368421),\n",
       "  0.43920776),\n",
       " ((\"An individual's discovery of a basis for an actionable claim involves both knowledge of the existence of an injury, and also knowledge of facts that would alert a reasonable person exercising ordinary diligence that another's fault may have caused or contributed to the cause of the injury.\",\n",
       "   \"An individual's discovery of a basis for an actionable claim involves the discovery of facts that would alert a reasonable person exercising ordinary diligence that a third party's conduct may have caused or contributed to the cause of the injury and that the conduct itself might possibly have been unreasonable or lacking in due care.\",\n",
       "   0.6981132075471698),\n",
       "  6.041801),\n",
       " (('If there is an actual conflict between the law of the states at issue, the court applies the law of the state which, because of its relationship or contact with the occurrence or the parties, has the greatest interest in the litigation.',\n",
       "   'When there is an actual conflict between the law of the states at issue, the court applies the law of the state with the greatest concern for the specific issue at issue.',\n",
       "   0.6756756756756757),\n",
       "  6.409322),\n",
       " (('An employer is not required to reimburse the employee for additional uniform costs if the employer provides or reimburses the costs of enough uniforms for an average workweek and the employee chooses to buy additional uniforms.',\n",
       "   'If an employer provides or reimburses the costs of enough uniforms for an average workweek, and an employee chooses to purchase additional uniforms in excess of the number needed, the employer is not required to reimburse the employee for additional uniform costs.',\n",
       "   0.5128205128205129),\n",
       "  2.0344422),\n",
       " (('In determining whether something is a \"good\" or \"service\" under the CLRA, courts must adhere to the definitions of those terms in the statute and not rely on other sources such as dictionary definitions.',\n",
       "   'Courts should determine whether something is a \"good\" or \"service\" under the CLRA by analyzing the CLRA\\'s definition of the term.',\n",
       "   0.5357142857142857),\n",
       "  10.863152),\n",
       " (('Federal courts have recognized that employment records contain sensitive information, and the unwarranted disclosure of information from employment records constitutes an invasion of personal privacy.',\n",
       "   'Federal courts have recognized that employment records contain sensitive information.',\n",
       "   0.5714285714285715),\n",
       "  1.6323172),\n",
       " ((\"While patients' privacy rights and the physician-patient privilege prohibit a hospital from disclosing the names of its patients, privacy protections are not absolute and may be overcome in certain circumstances.\",\n",
       "   'Although the Hospital Patients Bill of Rights Act and the Physician-Patient privilege prohibit a hospital from disclosing the names of its patients, the privacy protections are not absolute and a hospital may disclose the names of its patients despite privacy protections if there is reason to believe that the patients possess information relevant to the lawsuit.',\n",
       "   0.5454545454545454),\n",
       "  10.156024),\n",
       " (('To have standing under the False Advertising Law, a plaintiff must have: (1) \"suffered an injury in fact\"; and (2) \"lost money or property as a result of\" the prohibited conduct.',\n",
       "   'To have standing under the False Advertising Law, a plaintiff must have standing under both the Lanham Act and the False Advertising Law.',\n",
       "   0.5185185185185185),\n",
       "  6.4060025),\n",
       " (('The provisions of Rule 4:23-1(c) apply to the award of expenses incurred in relation to motions under Rule 4:18-1, such as a motion to compel a response to a request for production of documents.',\n",
       "   'The provisions of Rule 4:23-1(c) apply to the award of expenses incurred in relation to motions made pursuant to this rule.',\n",
       "   0.6349206349206349),\n",
       "  1.790618),\n",
       " (('An employee who works ten hours per day must be provided a second meal period of at least thirty minutes.',\n",
       "   'If an employee works ten hours per day, their second meal period must be of the same length.',\n",
       "   0.5789473684210527),\n",
       "  5.1881943),\n",
       " (('In patent infringement actions, the preferred district is at the \"locus of operative facts.\"',\n",
       "   'In patent infringement actions, the preferred district is the district where the allegedly infringing product was designed, developed, and produced.',\n",
       "   0.5294117647058824),\n",
       "  2.578445),\n",
       " ((\"In assessing a party's degree of fault, courts consider the extent of the offending party's duty or responsibility to preserve the relevant evidence, and the presence or absence of bad faith.\",\n",
       "   \"In assessing a party's degree of fault, courts look to the nature of the parties' conduct and the extent of the relation between that conduct and the damages suffered.\",\n",
       "   0.507936507936508),\n",
       "  5.9303756),\n",
       " (('Information regarding the manufacturing process, including the operation of the plant that manufactured the product and any product testing, is relevant to a manufacturing defect claim.',\n",
       "   'Information regarding the manufacturing process is relevant to a manufacturing defect claim.',\n",
       "   0.631578947368421),\n",
       "  0.61664265),\n",
       " (('A claim or defense in many cases rise or falls based upon expert testimony. Therefore, there is some reluctance on the part of courts to deprive litigants of their day in court based on the exclusion of expert testimony.',\n",
       "   'Courts are reluctant to deprive litigants of their day in court based on the exclusion of expert testimony.',\n",
       "   0.5614035087719298),\n",
       "  1.3942397),\n",
       " ((\"There is no entitlement to attorneys fees where the successful defendant is a lawyer or law firm represented by the firm's attorneys.\",\n",
       "   \"Where the successful defendant is a lawyer or law firm represented by the firm's attorneys, there is no entitlement to attorneys fees.\",\n",
       "   0.6956521739130435),\n",
       "  1.4767324),\n",
       " ((\"When the defendant's allegedly extreme and outrageous conduct was directed towards someone other than the plaintiff, the plaintiff must also establish that they are a member of the victim's immediate family and that they were present at the time of the tortious conduct.\\xa0\",\n",
       "   \"When the defendant's allegedly extreme and outrageous conduct was directed towards someone other than the plaintiff, the plaintiff must establish that the defendant's conduct was extreme and outrageous.\",\n",
       "   0.6666666666666667),\n",
       "  3.1429837),\n",
       " (('When a party seeks certification of a Rule 23(b)(3) class, the court evaluates predominance after the certification of any issue classes.',\n",
       "   'When a party seeks certification of a Rule 23(b)(3) class, the court evaluates the commonality of the issues and whether the class satisfies the requirements of Rule 23(b)(3).',\n",
       "   0.6909090909090908),\n",
       "  13.585294),\n",
       " (('Even in light of the permissive qualifications standard, an expert witness must possess “specific knowledge” to support “specific opinions.”',\n",
       "   'An expert witness must possess sufficient facts or data to support specific opinions.',\n",
       "   0.5625),\n",
       "  4.681576),\n",
       " (('An employee may be exempt from the FLSA’s overtime requirements if he or she works in the processing of maple sap into sugar or syrup.',\n",
       "   'An employee may be exempt from the FLSA’s overtime requirements under certain conditions.',\n",
       "   0.55),\n",
       "  2.0763168),\n",
       " (('When employees are paid with goods or benefits, such as lodging, the fair market value of the noncash benefit must be calculated and added to the cash wages before determining the regular rate.',\n",
       "   'When employees are paid with goods or benefits, such as lodging, the fair market value of the noncash benefit is calculated as the fair cost of the goods or benefits furnished by the employer.',\n",
       "   0.6567164179104478),\n",
       "  11.138077),\n",
       " (('Discovery is liberally allowed under the Pennsylvania Rules of Civil Procedure about any matter, not privileged, which is relevant to the case.',\n",
       "   'Discovery is allowed under the Pennsylvania Rules of Civil Procedure liberally.',\n",
       "   0.6060606060606061),\n",
       "  2.957554),\n",
       " (('A physical examination must not include any diagnostic test or procedure that is painful, protracted, or intrusive.',\n",
       "   'Diagnostic tests or procedures that are painful, protracted, or intrusive are not allowed in a physical examination.',\n",
       "   0.5294117647058824),\n",
       "  1.0532743),\n",
       " (('A defendant can preserve its right to arbitration by asserting arbitrability as an affirmative defense in its answer.',\n",
       "   'A defendant can preserve its right to arbitration by seeking enforcement of the arbitration agreement.',\n",
       "   0.606060606060606),\n",
       "  1.8383311),\n",
       " (('The statute of limitations may be tolled from the date an employee files a complaint with the Commissioner or the Commissioner commences an investigation, whichever is earlier, until an order to comply issued by the Commissioner becomes final or the Commissioner notifies the complainant that the investigation has concluded.',\n",
       "   'The statute of limitations begins to run when an employee files a complaint with the Commissioner or the Commissioner commences an investigation, whichever is earlier.',\n",
       "   0.5675675675675675),\n",
       "  3.7133055),\n",
       " (('The court may grant any relief that, in the judgment of the court, will effectuate the purpose of FEHA, including a requirement that the employer conduct FEHA training for all employees, supervisors, and management. ',\n",
       "   'The court may grant any relief that will effectuate the purpose of FEHA, including injunctive relief.',\n",
       "   0.56),\n",
       "  4.546208),\n",
       " (('A party alleging that the claimed attorney fees are excessive based on the number of hours allegedly worked bears the burden of showing the specific items challenged with specific arguments and evidence.\\xa0',\n",
       "   'The party challenging summary judgment bears the burden of showing the specific items challenged with specific arguments and evidence.',\n",
       "   0.5882352941176471),\n",
       "  1.5533605),\n",
       " (('The New Jersey Supreme Court has held that if a plaintiff alleges a breach of warranty claim based on the allegation that defendants deviated from the labeling and instructions for use through voluntary statements to third parties in the course of its marketing efforts, the claim is not preempted.\\xa0',\n",
       "   'If a plaintiff alleges a breach of warranty claim based on the allegation that defendants deviated from the labeling and instructions for use through voluntary statements to third parties in the course of its marketing efforts, the New Jersey Supreme Court has held that a breach of warranty claim may be preempted if the defendant complied with the requirements of the MDA in disseminating information about the off-label uses of the product.',\n",
       "   0.6393442622950819),\n",
       "  10.66018),\n",
       " (('The Product Liability Act consolidated the negligence, breach of implied warranty, and strict liability theories into a single product liability action, which is the sole avenue of relief in New Jersey for claims that a product caused harm, except for express warranties and environmental torts. ',\n",
       "   'The Product Liability Act is the sole avenue of relief in New Jersey for claims that a product caused harm.',\n",
       "   0.6153846153846153),\n",
       "  1.7443885),\n",
       " ((\"Agriculture does not include work performed on a farm that is not incidental to or in conjunction with a farmer's farming operation “Agriculture” includes farming in all its branches and among other things includes the cultivation and tillage of the soil, dairying, the production, cultivation, growing, and harvesting of any agricultural or horticultural commodities performed by a farmer or on a farm as an incident to or in conjunction with such farming operations, including preparation for market, delivery to storage or to market or to carriers for transportation to market.\",\n",
       "   'Agriculture includes farming in all its branches and includes the cultivation and tillage of the soil, dairying, the production, cultivation, growing, and harvesting of any agricultural or horticultural commodities, including commodities defined as agricultural commodities in section 1141j(g) of title 12; the raising of livestock, bees, fur-bearing animals, or poultry, and any practices performed by a farmer or on a farm as an incident to or in conjunction',\n",
       "   0.546583850931677),\n",
       "  7.3065925),\n",
       " (('A court must determine whether it has subject-matter jurisdiction before it can decide a motion to transfer.',\n",
       "   'Before a court can decide a motion to transfer, it must determine whether it has subject-matter jurisdiction.',\n",
       "   0.5555555555555556),\n",
       "  1.1663052),\n",
       " (('Employees engaged in law enforcement activities are defined for Section 207(k) purposes as (1) uniformed or plain-clothed members of a body of officers and subordinates empowered to enforce laws designed to maintain public peace and order and to protect both life and property from accidental or willful injury, and to prevent and detect crimes, (2) with the power to arrest, and (3) who are presently undergoing or has undergone or will undergo on-the-job training or a course of instruction and study which typically includes physical training, self-defense, firearm proficiency, criminal and civil law principles, investigative and law enforcement techniques, community relations, medical aid and ethics.',\n",
       "   'For Section 207(k) purposes, employees engaged in law enforcement activities are defined as: (1) uniformed or plainclothed members of a body of officers and subordinates who are empowered by State statute or local ordinance to enforce laws designed to maintain public peace and order and to protect both life and property from accidental or willful injury, and to prevent and detect crimes; (2) who has the power to arrest; and (3) who is presently undergoing or has undergone',\n",
       "   0.6560846560846559),\n",
       "  5.0302677),\n",
       " ((\"To qualify as commercial speech, speech that is directed at consumers must consist of factual representations made for the purpose of promoting sales of, or other commercial transactions in, the speaker's products or services.\",\n",
       "   \"To qualify as commercial speech, speech must consist of factual representations about the business operations, products, or services of the speaker or the individual or company on whose behalf the speaker is speaking, made for the purpose of promoting sales of, or other commercial transactions in, the speaker's products or services.\",\n",
       "   0.689655172413793),\n",
       "  2.5783033),\n",
       " (('Under either a negligence or a strict liability theory of product liability, a plaintiff must prove that a defect caused injury.',\n",
       "   'To win a product liability case, a plaintiff must prove that a defect caused injury.',\n",
       "   0.6666666666666666),\n",
       "  2.698813),\n",
       " (('If an opposing party’s expert affidavit is its sole source of opposing evidence, the affidavit must contain sufficient allegations to demonstrate that the conclusions it contains are more than mere speculation and would, if offered alone at trial, support a verdict in the proponent’s favor.',\n",
       "   'If an opposing party’s expert affidavit is the sole source of opposing evidence, it must contain sufficient evidence to support the expert’s opinion.',\n",
       "   0.5555555555555557),\n",
       "  7.758786),\n",
       " (('An isolated remark about an employee\\'s age does not establish age discrimination if it is not made by the person who is making the personnel decision. It is, at most, a \"stray\" ageist remark that is entitled to virtually no weight when considering whether the adverse employment action was pretextual or whether the decision-maker harbored discriminatory animus.',\n",
       "   \"An isolated remark about an employee's age is entitled to virtually no weight when considering whether the adverse employment action was pretextual or whether the decision-maker harbored discriminatory animus.\",\n",
       "   0.688888888888889),\n",
       "  0.4629061),\n",
       " (('A motion for summary judgment must be denied if the moving party fails to offer sufficient evidence to make out a prima facie case of entitlement to judgment as a matter of law, regardless of whether the opposing papers are sufficient.',\n",
       "   'A motion for summary judgment must be denied even if the moving party fails to offer any evidence if the movant fails to meet its strict burden of proof.',\n",
       "   0.5142857142857142),\n",
       "  4.6578317),\n",
       " ((\"In an action to foreclose on a mechanic's lien secured by real property, the main relief is foreclosure of a lien and the action is local, despite an additional prayer to recover the amount of debt secured by the lien.\",\n",
       "   \"In an action to foreclose on a mechanic's lien secured by real property, the main relief is foreclosure of the lien.\",\n",
       "   0.6984126984126985),\n",
       "  4.5207267),\n",
       " (('Whether an individual is considered an independent contractor, rather than an employee, depends upon the degree of control exercised by the purported employer over the results produced or the means used to achieve the results.',\n",
       "   'The degree of control exercised by the employer over the results produced or the means used to achieve the results affects whether an individual is considered an independent contractor.',\n",
       "   0.625),\n",
       "  1.0469453),\n",
       " ((\"In order to establish a claim for failure to warn, whether in strict liability or in negligence, a plaintiff must prove that the defendant's warnings were inadequate, and that the inadequate warnings were a substantial factor in causing the plaintiff's harm.\\xa0\",\n",
       "   'To establish a claim for failure to warn, a plaintiff must prove that the defendant had a duty to warn.',\n",
       "   0.5079365079365079),\n",
       "  1.5991701),\n",
       " (('Internal complaints, such as oral complaints reporting violations of law to an employer, may be sufficient to establish retaliation.',\n",
       "   'Generalized complaints of discrimination may be sufficient to establish retaliation.',\n",
       "   0.5517241379310345),\n",
       "  4.4340205),\n",
       " (('When the constitutional right of privacy is involved, the party seeking discovery may need to demonstrate a \"compelling need\" for the discovery.',\n",
       "   'When the constitutional right of privacy is involved, the party seeking discovery must demonstrate a compelling need for discovery, and that compelling need must be so strong as to outweigh the privacy right when these two competing interests are carefully balanced.',\n",
       "   0.5714285714285715),\n",
       "  0.87600917),\n",
       " (('Under the balancing test, courts examine the impact of the practice or act on its victim against the reasons, justifications, and motives of the alleged wrongdoer.',\n",
       "   'Under the balancing test, the court examines the impact of the practice on its alleged victim.',\n",
       "   0.6666666666666667),\n",
       "  4.6612377),\n",
       " (('To effectuate removal, the defendant must: (a) file a notice of removal in federal court; (b) file a copy of the notice in the state court; and (c) give prompt written notice to all adverse parties.',\n",
       "   'To effectuate removal, the defendant must file a notice of removal and give written notice to all adverse parties.',\n",
       "   0.6909090909090909),\n",
       "  3.2355711),\n",
       " (('\"Section 425.16, subdivision (e) describes four categories of conduct that constitute an \\'act in furtherance of a person\\'s right of petition or free speech under the United States or California Constitution in connection with a public issue\\' within the meaning of subdivision (b)(1): \\'(1) any written or oral statement or writing made before a legislative, executive, or judicial proceeding, or any other official proceeding authorized by law; (2) any written or oral statement or writing made in connection with an issue under consideration or review by a legislative, executive, or judicial body, or any other official proceeding authorized by law; (3) any written or oral statement or writing made in a place open to the public or a public forum in connection with an issue of public interest; (4) or any other conduct in furtherance of the exercise of the constitutional right of petition or the constitutional right of free speech in connection with a public issue or an issue of public interest.\\'\"',\n",
       "   'Section 425.16, subdivision (e), describes four categories of conduct that constitute an \"act in furtherance of a person\\'s right of petition or free speech under the United States or California Constitution in connection with a public issue\" within the meaning of subdivision (b)(1): (1) any written or oral statement or writing made before a legislative, executive, or judicial proceeding, or any other official proceeding authorized by law; (2) any written or oral statement or writing made in connection',\n",
       "   0.6558704453441295),\n",
       "  3.3491216),\n",
       " (('If a case involves complex questions about product design that are beyond the understanding of lay jurors, expert testimony is required to establish an alleged design defect.',\n",
       "   'Expert testimony is required to establish an alleged design defect.',\n",
       "   0.5405405405405406),\n",
       "  0.45905846),\n",
       " (('Arbitration agreements\\xa0can\\xa0validly waive the right to bring a collective action under the FLSA because Congress did\\xa0not\\xa0intend to confer a nonwaivable right to a FLSA collective action.',\n",
       "   'Congress did not intend to confer a nonwaivable right to a FLSA collective action.',\n",
       "   0.6363636363636364),\n",
       "  0.1467037),\n",
       " (('For a non-diverse defendant to be considered sham or fraudulently joined, the party seeking removal bears a heavy burden.',\n",
       "   'A non-diverse defendant who wants to remove must bear a heavy burden to establish fraudulent joinder.',\n",
       "   0.5405405405405405),\n",
       "  3.6870584),\n",
       " ((\"A plaintiff must prove that the prescription drug or medical device maker's failure to warn was the proximate cause of the plaintiff's injuries.\",\n",
       "   \"To hold a prescription drug or medical device maker liable for failure to warn, a plaintiff must prove that the warning was inadequate and that the inadequate warning was the proximate cause of the plaintiff's injuries.\",\n",
       "   0.6129032258064517),\n",
       "  6.8981853),\n",
       " (('A defendant who has a principal-agent relationship with someone who makes untrue or misleading statements that violate Section 17500 can be held liable under the False Advertising Law based on normal theories of agency.',\n",
       "   'A defendant can be held liable under the False Advertising Law based on normal theories of agency.',\n",
       "   0.6538461538461539),\n",
       "  1.2230543),\n",
       " (('A manufacturer has a duty to place only reasonably safe products into the stream of commerce, and a product will be considered defective if it is not reasonably fit, suitable, or safe for its intended purposes absent an adequate warning.',\n",
       "   'A manufacturer has a duty to place only reasonably fit, suitable, and safe products into the stream of commerce.',\n",
       "   0.5423728813559322),\n",
       "  4.328064),\n",
       " (('The evidentiary reliability of expert testimony relating to statistical matters depends on whether the underlying statistical study conforms to generally and widely accepted statistical methodologies.',\n",
       "   'The evidentiary reliability of expert testimony relating to statistical matters depends on the reliability of the methodology used.',\n",
       "   0.6511627906976745),\n",
       "  1.863001),\n",
       " (('A restraint on trade imposed by a joint venture may be lawful under the rule of reason if it is reasonably necessary to accomplish a legitimate purpose and narrowly tailored to do so.',\n",
       "   'A restraint on trade imposed by a joint venture is lawful under the rule of reason if it is reasonable and not a violation of the Sherman Act.',\n",
       "   0.6557377049180327),\n",
       "  9.547366),\n",
       " ((\"Post-approval design defect claims are preempted by federal law because the FDA regulations prohibit any unilateral change to the drug product's design.\",\n",
       "   'Post-approval design defect claims are preempted by federal law.',\n",
       "   0.5882352941176471),\n",
       "  0.27365658),\n",
       " (('An employee subjected to a hostile work environment may be considered a victim of sexual harassment even if there were no offensive remarks or physical touchings directed to or perpetrated on the employee. However, sexual conduct involving or aimed at someone besides the plaintiff is considered less offensive and less severe than conduct that is directed at the plaintiff directly.',\n",
       "   'Sexual conduct that involves or is aimed at persons other than the plaintiff is considered less offensive and less severe than conduct that is directed at the plaintiff directly.',\n",
       "   0.5393258426966292),\n",
       "  0.17926976),\n",
       " (('Fees for prelitigation time and optional administrative proceedings that are \"useful and necessary\" to the litigation may be compensable hours when calculating the amount of attorney fees.',\n",
       "   'When calculating the amount of attorney fees, fees for prelitigation time and optional administrative proceedings that are \"useful and necessary\" to the litigation are compensable hours.',\n",
       "   0.6792452830188679),\n",
       "  1.7792916),\n",
       " ((\"The general rule that a court should not impose sanctions for an attorney's conduct that adversely affects a party does not apply if there is evidence that the party was complicit in their attorney's offending conduct.\",\n",
       "   \"The general rule that a court should not impose sanctions for an attorney's conduct does not apply when the conduct does not involve an attempt to place the other side at an unfair disadvantage.\",\n",
       "   0.547945205479452),\n",
       "  4.614963),\n",
       " (('Where a plaintiff has direct evidence of discrimination (e.g., the employer has expressly dismissed or refused to hire the plaintiff on a prohibited basis), the plaintiff need not also satisfy the McDonnell Douglas framework',\n",
       "   'If a plaintiff has direct evidence of discrimination, they need not also satisfy the McDonnell Douglas framework.',\n",
       "   0.5769230769230769),\n",
       "  1.5923011),\n",
       " (('The FAA does not preempt CCP § 1281.2(b), which permits arbitration contracts to be rescinded on the same grounds as other contracts.',\n",
       "   'An arbitration contract can be rescinded on the same grounds as other contracts or contract terms.',\n",
       "   0.5641025641025642),\n",
       "  1.3789502),\n",
       " (('If a party fails to demur to an answer, the grounds for objection in\\xa0CCP §430.20 are waived.',\n",
       "   'A party who fails to demur to an answer is deemed to have waived the objection.',\n",
       "   0.5714285714285714),\n",
       "  4.640894),\n",
       " (('Substantive unconscionability concerns whether key terms are “unreasonably favorable” to one party.',\n",
       "   'The test for substantive unconscionability considers whether the terms of the contract were unreasonably favorable to one party.',\n",
       "   0.6),\n",
       "  4.733259),\n",
       " (('Section 218.5 of the Labor Code covers, among other things, claims for the nonpayment of wages, except those claims subject to Section 1194.',\n",
       "   'Section 218.5 of the Labor Code covers claims for the nonpayment of wages, fringe benefits, health and welfare or pension fund contributions.',\n",
       "   0.5957446808510638),\n",
       "  5.2436066),\n",
       " (('New York Labor Law exempts individuals working as staff counselors in a children’s camp from its minimum wage and overtime requirements.',\n",
       "   \"Certain employees are exempt from New York Labor Law's minimum wage and overtime requirements.\",\n",
       "   0.5405405405405405),\n",
       "  2.4903147),\n",
       " (('If an arbitration agreement is silent on the availability of collective-basis arbitration, such arbitration may not be ordered; a court may order only individual arbitration.',\n",
       "   'If an arbitration agreement is silent on the availability of collective-basis arbitration, the court has no power to compel arbitration.',\n",
       "   0.6382978723404256),\n",
       "  5.496038),\n",
       " (('While the nature of the federal claim must be identified in the complaint, so long as federal jurisdiction exists, the failure to expressly and correctly identify a specific statute does not automatically defeat jurisdiction. ',\n",
       "   'The nature of the federal claim must be identified in the complaint.',\n",
       "   0.5217391304347826),\n",
       "  1.1180875),\n",
       " (('For ordinary garnishments not for support, bankruptcy, or any state or federal tax, the weekly amount may not exceed the lesser of two figures: 25% of the employee’s disposable earnings, or the amount by which an employee’s disposable earnings are greater than 30 times the federal minimum wage.',\n",
       "   \"Ordinary garnishments may not exceed 25% of the employee's weekly disposable earnings or the amount by which the employee's disposable earnings exceed 30 times the federal minimum wage, whichever is less.\",\n",
       "   0.6506024096385542),\n",
       "  12.5101385),\n",
       " (('For diversity jurisdiction to exist, the amount in controversy must exceed $75,000, exclusive of interest and costs. ',\n",
       "   'The amount in controversy that is required for diversity jurisdiction to exist is $75,000, exclusive of interest and costs.',\n",
       "   0.631578947368421),\n",
       "  3.1774557),\n",
       " (('In a failure-to-warn case, the plaintiff must prove that the absence of a sufficient warning was a proximate cause of his or her injuries.',\n",
       "   'In a failure-to-warn case, the plaintiff must prove that the defendant had a duty to warn.',\n",
       "   0.6363636363636364),\n",
       "  1.8715624),\n",
       " (('A waiver or release will not be deemed \"knowing and voluntary\" unless the individual is permitted a certain amount of time to consider the agreement. If the termination is of a single individual, the individual must be given a period of at least 21 days to consider the agreement. If the waiver is requested in connection with an exit incentive or other employment termination program offered to a group or class of employees, the individual must be given at least 45 days to consider the agreement.',\n",
       "   'If a waiver is requested in connection with an exit incentive or other employment termination program offered to a group or class of employees, the individual is given a period of at least 45 days within which to consider the agreement.',\n",
       "   0.5511811023622047),\n",
       "  0.55707735),\n",
       " (('Unless a permissible defense applies, an employer may not engage in a recruitment activity that: (1)\\xa0restricts, excludes, or classifies individuals on a basis protected by FEHA; (2)\\xa0expresses a preference for individuals on a basis protected by FEHA; or (3)\\xa0communicates or advertises to communicate the availability of employment benefits in a discriminatory manner under FEHA.',\n",
       "   'An employer may not engage in any recruitment activity that restricts, excludes, or classifies individuals on a basis enumerated in the Act, expresses a preference for individuals on a basis enumerated in the Act, or communicates or uses advertising methods to communicate the availability of employment benefits in a manner intended to discriminate on a basis enumerated in the Act.',\n",
       "   0.6666666666666667),\n",
       "  4.1678195),\n",
       " (('A motion to compel discovery will generally be denied if the information sought is privileged or protected.',\n",
       "   'A motion to compel discovery will generally be denied if the information requested falls outside the scope of discovery.',\n",
       "   0.6666666666666667),\n",
       "  1.8379992),\n",
       " (('An employee may not purposely avoid payment or refuse payment tendered and then seek a waiting time penalty.',\n",
       "   'An employee may be discharged if the employee purposely avoids payment or refuses payment tendered.',\n",
       "   0.606060606060606),\n",
       "  4.217726),\n",
       " ((\"A person may not disclose or use a trade secret without the owner's express or implied consent, if the person knew or had reason to know the knowledge was acquired under circumstances giving rise to a duty to maintain its secrecy or limit its use. \",\n",
       "   \"A person may not disclose or use a trade secret without the owner's express or implied consent.\",\n",
       "   0.5625),\n",
       "  1.0074193),\n",
       " (('A court will not order the disclosure of trial preparation materials when the requesting party could have obtained the information at issue through other means.',\n",
       "   'A court will not order the disclosure of trial preparation materials unless the information sought is material to the defense or reasonably available.',\n",
       "   0.5416666666666667),\n",
       "  10.303074),\n",
       " (('Rule 23 does not set forth a mere pleading standard, and the party seeking class certification must affirmatively demonstrate that the requirements for certification are in fact satisfied.',\n",
       "   'Rule 23 does not set forth a mere pleading standard.',\n",
       "   0.5263157894736842),\n",
       "  2.3195753),\n",
       " (('Attorney fees may not be awarded if the entire contract is void for illegality and unenforceable.\\xa0',\n",
       "   'Attorney fees may not be awarded if the action is erroneously commenced in the wrong county.',\n",
       "   0.5625),\n",
       "  3.6227264),\n",
       " (('The attorney-client privilege does not cover communications relating solely to nonlegal matters.',\n",
       "   'The attorney-client privilege does not cover all communications between an attorney and her client.',\n",
       "   0.5714285714285715),\n",
       "  2.4065013),\n",
       " (('The court must deny a motion for summary judgment if there are any triable issues as to any material facts.',\n",
       "   'If there are any triable issues as to any material facts, the court must deny the motion.',\n",
       "   0.5945945945945946),\n",
       "  2.579333),\n",
       " (('The court can utilize various factors to determine what sanctions to impose when a party fails to comply with discovery requests, including the exclusion of expert witnesses and the nature of their testimony.',\n",
       "   'The court has broad discretion to determine what sanctions to impose when a party fails to comply with discovery requests.',\n",
       "   0.6415094339622641),\n",
       "  3.1863294),\n",
       " (('A court will grant a preliminary injunction when necessary to protect civil rights.',\n",
       "   'A court will grant a preliminary injunction when it finds that the injunction will protect property rights and prevent any wrong.',\n",
       "   0.588235294117647),\n",
       "  8.680684),\n",
       " ((\"While an expert's proposed testimony should not be excluded on the basis that it fails to account for some particular condition or fact which the adversary considers relevant, the opposing party may, on cross-examination, supply the omitted conditions or facts and ask the expert whether the opinion would be changed by the conditions or facts.\",\n",
       "   \"An expert's proposed testimony should not be excluded simply because it fails to account for some particular condition or fact which the adversary considers relevant.\",\n",
       "   0.5783132530120482),\n",
       "  0.7061976)]"
      ]
     },
     "execution_count": 235,
     "metadata": {},
     "output_type": "execute_result"
    }
   ],
   "source": [
    "[el for el in zipped_rouge if el[0][2] < 0.7]"
   ]
  },
  {
   "cell_type": "code",
   "execution_count": null,
   "id": "2c338fa5-e87b-4884-88b2-16b602863f44",
   "metadata": {},
   "outputs": [],
   "source": []
  },
  {
   "cell_type": "code",
   "execution_count": 152,
   "id": "c3fc44e1-b259-4e0c-a8bd-195de57a5613",
   "metadata": {},
   "outputs": [
    {
     "name": "stdout",
     "output_type": "stream",
     "text": [
      "rouge match distribution\n",
      "234\n",
      "2.6493368\n",
      "2.4848845\n"
     ]
    }
   ],
   "source": [
    "print(\"rouge match distribution\")\n",
    "print(len(rouge_match_log_probabilities))\n",
    "print(np.mean(rouge_match_log_probabilities))\n",
    "print(np.std(rouge_match_log_probabilities))"
   ]
  },
  {
   "cell_type": "code",
   "execution_count": 140,
   "id": "1208a3a3-d29b-40bd-9a04-ae03d4796166",
   "metadata": {},
   "outputs": [
    {
     "name": "stdout",
     "output_type": "stream",
     "text": [
      "exact match distribution\n",
      "55\n",
      "0.9141243\n",
      "0.7594838\n"
     ]
    }
   ],
   "source": [
    "print(\"exact match distribution\")\n",
    "print(len(exact_match_log_probabilities))\n",
    "print(np.mean(exact_match_log_probabilities))\n",
    "print(np.std(exact_match_log_probabilities))"
   ]
  },
  {
   "cell_type": "code",
   "execution_count": 141,
   "id": "8495c9bf-8ef1-471a-8d46-f2e6ad59210e",
   "metadata": {},
   "outputs": [
    {
     "name": "stdout",
     "output_type": "stream",
     "text": [
      "incorrect match distribution\n",
      "152\n",
      "4.8074517\n",
      "3.8476646\n"
     ]
    }
   ],
   "source": [
    "print(\"incorrect match distribution\")\n",
    "print(len(incorrect_log_probabilities))\n",
    "print(np.mean(incorrect_log_probabilities))\n",
    "print(np.std(incorrect_log_probabilities))"
   ]
  },
  {
   "cell_type": "code",
   "execution_count": 147,
   "id": "b406a5ce-8754-48a3-87a4-e0b11d1846d9",
   "metadata": {},
   "outputs": [
    {
     "data": {
      "text/plain": [
       "Text(0, 0.5, 'log_sum_prob')"
      ]
     },
     "execution_count": 147,
     "metadata": {},
     "output_type": "execute_result"
    },
    {
     "data": {
      "image/png": "[encoded data removed]",
      "text/plain": [
       "<Figure size 576x576 with 1 Axes>"
      ]
     },
     "metadata": {},
     "output_type": "display_data"
    }
   ],
   "source": [
    "fig = plt.figure(figsize=(8,8), facecolor=\"white\")\n",
    "ax = fig.add_subplot(111)\n",
    "ax.scatter(list(range(len(exact_match_log_probabilities))), exact_match_log_probabilities)\n",
    "ax.set_ylabel(\"log_sum_prob\")"
   ]
  },
  {
   "cell_type": "code",
   "execution_count": 189,
   "id": "87139496-6e89-450d-94c9-8d0f2c2e9193",
   "metadata": {},
   "outputs": [
    {
     "name": "stderr",
     "output_type": "stream",
     "text": [
      "No artists with labels found to put in legend.  Note that artists whose label start with an underscore are ignored when legend() is called with no argument.\n"
     ]
    },
    {
     "data": {
      "text/plain": [
       "<matplotlib.legend.Legend at 0x7ff25f33fe80>"
      ]
     },
     "execution_count": 189,
     "metadata": {},
     "output_type": "execute_result"
    },
    {
     "data": {
      "image/png": "[encoded data removed]",
      "text/plain": [
       "<Figure size 576x576 with 1 Axes>"
      ]
     },
     "metadata": {},
     "output_type": "display_data"
    }
   ],
   "source": [
    "fig = plt.figure(figsize=(8,8), facecolor=\"white\")\n",
    "ax = fig.add_subplot(111)\n",
    "ax.scatter(list(range(len(filtered_match_log_probabilities))), filtered_match_log_probabilities)\n",
    "# ax.scatter(list(range(len(exact_match_log_probabilities))), exact_match_log_probabilities, color=\"orange\", label=\"dev/test\")\n",
    "ax.set_ylabel(\"log_sum_prob\")\n",
    "ax.legend()"
   ]
  },
  {
   "cell_type": "code",
   "execution_count": 257,
   "id": "60f6e614-4843-4e9a-91c3-f68aeb993e79",
   "metadata": {},
   "outputs": [
    {
     "data": {
      "text/plain": [
       "0.8468468468468469"
      ]
     },
     "execution_count": 257,
     "metadata": {},
     "output_type": "execute_result"
    }
   ],
   "source": [
    "confidence_threshold = 1.5\n",
    "\n",
    "true_positive = len([el for el in rouge_match_log_probabilities if el < confidence_threshold])\n",
    "false_positive = len([el for el in incorrect_log_probabilities if el < confidence_threshold])\n",
    "\n",
    "precision = true_positive / (true_positive + false_positive)\n",
    "precision"
   ]
  },
  {
   "cell_type": "code",
   "execution_count": 258,
   "id": "8f4447f8-ea8a-4fde-89f5-149ce932abf4",
   "metadata": {},
   "outputs": [
    {
     "data": {
      "text/plain": [
       "94"
      ]
     },
     "execution_count": 258,
     "metadata": {},
     "output_type": "execute_result"
    }
   ],
   "source": [
    "true_positive"
   ]
  },
  {
   "cell_type": "code",
   "execution_count": 259,
   "id": "188d4088-f33a-4138-a56b-cdf52cc3fa03",
   "metadata": {},
   "outputs": [
    {
     "data": {
      "text/plain": [
       "17"
      ]
     },
     "execution_count": 259,
     "metadata": {},
     "output_type": "execute_result"
    }
   ],
   "source": [
    "false_positive"
   ]
  },
  {
   "cell_type": "code",
   "execution_count": 260,
   "id": "913b28ec-f99e-4475-81c0-4b7e9d2423a9",
   "metadata": {},
   "outputs": [
    {
     "data": {
      "text/plain": [
       "111"
      ]
     },
     "execution_count": 260,
     "metadata": {},
     "output_type": "execute_result"
    }
   ],
   "source": [
    "true_positive + false_positive"
   ]
  },
  {
   "cell_type": "code",
   "execution_count": 261,
   "id": "6f5f672f-681e-4e70-85a6-27afb7506faa",
   "metadata": {},
   "outputs": [
    {
     "name": "stdout",
     "output_type": "stream",
     "text": [
      "386\n"
     ]
    },
    {
     "data": {
      "text/plain": [
       "0.28756476683937826"
      ]
     },
     "execution_count": 261,
     "metadata": {},
     "output_type": "execute_result"
    }
   ],
   "source": [
    "total_examples = len(rouge_match_log_probabilities) + len(incorrect_log_probabilities)\n",
    "\n",
    "print(total_examples)\n",
    "\n",
    "allowed_through = true_positive + false_positive\n",
    "\n",
    "ratio_allowed_through = allowed_through / total_examples\n",
    "ratio_allowed_through"
   ]
  },
  {
   "cell_type": "code",
   "execution_count": null,
   "id": "d30ed7d0-ff9e-4b20-a653-a089912f1f8f",
   "metadata": {},
   "outputs": [],
   "source": []
  },
  {
   "cell_type": "code",
   "execution_count": 132,
   "id": "488dbce8-0a10-464b-9915-204f81540df4",
   "metadata": {},
   "outputs": [
    {
     "data": {
      "text/plain": [
       "{'rougeL': Score(precision=1.0, recall=0.8, fmeasure=0.888888888888889)}"
      ]
     },
     "execution_count": 132,
     "metadata": {},
     "output_type": "execute_result"
    }
   ],
   "source": [
    "scorer = rouge_scorer.RougeScorer(['rougeL'], use_stemmer=True)\n",
    "scores = scorer.score('The quick brown fox jumps over the lazy dog',\n",
    "                      'The brown fox leaps over the lazy dog.')\n",
    "\n",
    "scores2 = scorer.score('The fox dog really jumps',\n",
    "                    'The fox dog jumps')\n",
    "\n",
    "scores2"
   ]
  },
  {
   "cell_type": "code",
   "execution_count": 98,
   "id": "0cfe53f3-44bc-412a-840f-7b6801573ffa",
   "metadata": {},
   "outputs": [
    {
     "data": {
      "text/plain": [
       "0.875"
      ]
     },
     "execution_count": 98,
     "metadata": {},
     "output_type": "execute_result"
    }
   ],
   "source": [
    "scores['rougeL'].precision"
   ]
  },
  {
   "cell_type": "code",
   "execution_count": null,
   "id": "920976d8-2fbd-444b-8b12-b071bf58f9b1",
   "metadata": {},
   "outputs": [],
   "source": []
  },
  {
   "cell_type": "markdown",
   "id": "07f7edc5-2c72-45f6-81b7-b97c716fc69b",
   "metadata": {},
   "source": [
    "#### "
   ]
  },
  {
   "cell_type": "markdown",
   "id": "3127b2d5-c7df-41cd-8b59-2a28498cbcb6",
   "metadata": {},
   "source": [
    "### Obtain example generated vs ground truth outputs"
   ]
  },
  {
   "cell_type": "code",
   "execution_count": 47,
   "id": "764c5d4b-2536-4871-9f90-baeaf5668f73",
   "metadata": {},
   "outputs": [
    {
     "name": "stdout",
     "output_type": "stream",
     "text": [
      "training example: 7\n",
      "tensor([[   0, 4407,    1]], device='cuda:0')\n",
      "model generated output:\n",
      "2002\n",
      "\n",
      "ground truth:\n",
      "['2002']\n",
      "extracting negative log probability ...\n",
      "True\n",
      "tensor(0.6189, device='cuda:0')\n"
     ]
    }
   ],
   "source": [
    "# only one context vector\n",
    "for i, batch in enumerate(dataloader):\n",
    "    \n",
    "    if i == 7:\n",
    "        print(f\"training example: {i}\")\n",
    "        (idx, _, _, context_ids, context_mask) = batch\n",
    "        sequences = model.generate(\n",
    "                    input_ids=context_ids.cuda(),\n",
    "                    attention_mask=context_mask.cuda(),\n",
    "                    max_length=10,\n",
    "                    return_dict_in_generate=True,\n",
    "                    output_scores=True\n",
    "                ).sequences\n",
    "\n",
    "        print(sequences)\n",
    "        for k, o in enumerate(sequences):\n",
    "            ans = tokenizer.decode(o, skip_special_tokens=True)\n",
    "            gold = eval_dataset.get_example(idx[k])['answers']\n",
    "            score = ems(ans, gold)\n",
    "            #print(score)\n",
    "            # total += 1\n",
    "            # exactmatch.append(score)\n",
    "            print(\"model generated output:\")\n",
    "            print(ans)\n",
    "\n",
    "            print(\"\")\n",
    "            print(\"ground truth:\")\n",
    "            print(gold) \n",
    "        \n",
    "        print(\"extracting negative log probability ...\")\n",
    "        log_probability = model.obtain_log_generated_probability(\n",
    "            input_ids=context_ids.cuda(),\n",
    "            attention_mask=context_mask.cuda(),\n",
    "            max_length=10\n",
    "            \n",
    "        )\n",
    "        \n",
    "        print(score)\n",
    "        \n",
    "        print(log_probability)\n",
    "        \n",
    "        break\n"
   ]
  },
  {
   "cell_type": "code",
   "execution_count": 92,
   "id": "d4fc799d-b658-43a9-97de-e529d4250ba5",
   "metadata": {},
   "outputs": [
    {
     "name": "stdout",
     "output_type": "stream",
     "text": [
      "tensor(-0.9990, device='cuda:0')\n",
      "tensor(-0.0031, device='cuda:0')\n",
      "tensor(-2.1935e-05, device='cuda:0')\n",
      "tensor(-7.8800e-05, device='cuda:0')\n",
      "tensor(-0.0035, device='cuda:0')\n"
     ]
    },
    {
     "data": {
      "text/plain": [
       "tensor(1.0057, device='cuda:0')"
      ]
     },
     "execution_count": 92,
     "metadata": {},
     "output_type": "execute_result"
    }
   ],
   "source": [
    "softmax = torch.nn.Softmax(dim=1)\n",
    "total_log_prob = 0\n",
    "for i in range(len(outputs.scores)):\n",
    "    print(torch.log(torch.max(softmax(outputs.scores[i]))))\n",
    "    total_log_prob -= torch.log(torch.max(softmax(outputs.scores[i])))\n",
    "\n",
    "total_log_prob"
   ]
  },
  {
   "cell_type": "code",
   "execution_count": null,
   "id": "b4f52b13-94a2-4043-b07d-1195e05255dc",
   "metadata": {},
   "outputs": [],
   "source": []
  },
  {
   "cell_type": "markdown",
   "id": "0f66611c-d8a9-42d5-83e6-298ec5f025bf",
   "metadata": {},
   "source": [
    "## Comparing tokenizers"
   ]
  },
  {
   "cell_type": "code",
   "execution_count": 31,
   "id": "7f3bea34-717f-4adc-8713-5fc46c51c760",
   "metadata": {},
   "outputs": [],
   "source": [
    "bert_tokenizer = transformers.AutoTokenizer.from_pretrained('bert-base-uncased')\n",
    "t5_tokenizer = transformers.T5Tokenizer.from_pretrained('t5-base')"
   ]
  },
  {
   "cell_type": "code",
   "execution_count": 32,
   "id": "86de111e-f083-4537-bba7-cefb87414e41",
   "metadata": {},
   "outputs": [],
   "source": [
    "input_sequence = \"Welcome to the HuggingFace Library\""
   ]
  },
  {
   "cell_type": "code",
   "execution_count": 35,
   "id": "f25ba5fc-1856-4ee2-a02c-1b4cb2a32e92",
   "metadata": {},
   "outputs": [
    {
     "name": "stdout",
     "output_type": "stream",
     "text": [
      "tensor([[  101,  6160,  2000,  1996, 17662, 12172,  3075,   102]])\n",
      "===\n",
      "tensor([[ 5242,    12,     8, 11560,  3896,   371,  3302,  5355,     1]])\n"
     ]
    }
   ],
   "source": [
    "bert_tokenized = bert_tokenizer(input_sequence, return_tensors='pt')\n",
    "t5_tokenized = t5_tokenizer(input_sequence, return_tensors='pt')\n",
    "\n",
    "print(bert_tokenized.input_ids)\n",
    "print(\"===\")\n",
    "print(t5_tokenized.input_ids)"
   ]
  },
  {
   "cell_type": "code",
   "execution_count": 40,
   "id": "9ada9e88-a19c-46e9-a479-950b78a2bfd9",
   "metadata": {},
   "outputs": [
    {
     "name": "stdout",
     "output_type": "stream",
     "text": [
      "[CLS] welcome to the huggingface library [SEP]\n",
      "===\n",
      "Welcome to the HuggingFace Library</s>\n"
     ]
    }
   ],
   "source": [
    "print(bert_tokenizer.decode(bert_tokenized.input_ids[0]))\n",
    "print(\"===\")\n",
    "print(t5_tokenizer.decode(t5_tokenized.input_ids[0]))"
   ]
  },
  {
   "cell_type": "code",
   "execution_count": 46,
   "id": "4b59e9e3-c830-431d-a41b-bb4dc8568b71",
   "metadata": {},
   "outputs": [
    {
     "data": {
      "text/plain": [
       "['[CLS]', 'welcome', 'to', 'the', 'hugging', '##face', 'library', '[SEP]']"
      ]
     },
     "execution_count": 46,
     "metadata": {},
     "output_type": "execute_result"
    }
   ],
   "source": [
    "bert_tokenizer.convert_ids_to_tokens(bert_tokenized.input_ids[0])"
   ]
  },
  {
   "cell_type": "code",
   "execution_count": 45,
   "id": "e35906e4-9b0f-453e-be19-04572a2196a4",
   "metadata": {},
   "outputs": [
    {
     "data": {
      "text/plain": [
       "['▁Welcome', '▁to', '▁the', '▁Hug', 'ging', 'F', 'ace', '▁Library', '</s>']"
      ]
     },
     "execution_count": 45,
     "metadata": {},
     "output_type": "execute_result"
    }
   ],
   "source": [
    "t5_tokenizer.convert_ids_to_tokens(t5_tokenized.input_ids[0])"
   ]
  },
  {
   "cell_type": "code",
   "execution_count": 52,
   "id": "d841dcf5-03f4-45b3-833c-f08068432109",
   "metadata": {},
   "outputs": [],
   "source": [
    "z = torch.randn((2, 4))"
   ]
  },
  {
   "cell_type": "code",
   "execution_count": 54,
   "id": "75b9d800-96a1-4530-a0aa-a5fafa60720f",
   "metadata": {},
   "outputs": [],
   "source": [
    "msk = torch.tensor([[True, False, True], [False, True, False]])\n",
    "msk2 = torch.tensor([[True, False, True, True]])"
   ]
  },
  {
   "cell_type": "code",
   "execution_count": 43,
   "id": "dbfd9dc2-991a-434f-a0bf-cfa7c5e3513d",
   "metadata": {},
   "outputs": [
    {
     "data": {
      "text/plain": [
       "tensor([[-1.1771,  0.8998, -0.6725],\n",
       "        [-1.0138,  1.7796, -0.3884]])"
      ]
     },
     "execution_count": 43,
     "metadata": {},
     "output_type": "execute_result"
    }
   ],
   "source": [
    "z"
   ]
  },
  {
   "cell_type": "code",
   "execution_count": 55,
   "id": "94242788-d831-4b1a-9af2-2765cddcfc49",
   "metadata": {},
   "outputs": [
    {
     "data": {
      "text/plain": [
       "tensor([[ 1.3247,  0.0000, -0.0618, -0.7110],\n",
       "        [-0.9271,  0.0000,  0.5299,  0.6540]])"
      ]
     },
     "execution_count": 55,
     "metadata": {},
     "output_type": "execute_result"
    }
   ],
   "source": [
    "z.masked_fill(msk2 == 0, 0.0)"
   ]
  },
  {
   "cell_type": "code",
   "execution_count": 242,
   "id": "6f450d1b-f2b9-49e1-b9c3-f14d8afe1216",
   "metadata": {},
   "outputs": [
    {
     "name": "stderr",
     "output_type": "stream",
     "text": [
      "/opt/conda/envs/myenv/lib/python3.9/site-packages/transformers/models/t5/tokenization_t5.py:163: FutureWarning: This tokenizer was incorrectly instantiated with a model max length of 512 which will be corrected in Transformers v5.\n",
      "For now, this behavior is kept to avoid breaking backwards compatibility when padding/encoding with `truncation is True`.\n",
      "- Be aware that you SHOULD NOT rely on t5-small automatically truncating your input to 512 when padding/encoding.\n",
      "- If you want to encode/pad to sequences longer than 512 you can either instantiate this tokenizer with `model_max_length` or pass `max_length` when encoding/padding.\n",
      "- To avoid this warning, please instantiate this tokenizer with `model_max_length` set to your preferred value.\n",
      "  warnings.warn(\n"
     ]
    }
   ],
   "source": [
    "from transformers import T5Tokenizer, T5ForConditionalGeneration\n",
    "tokenizer = T5Tokenizer.from_pretrained('t5-small')\n"
   ]
  },
  {
   "cell_type": "code",
   "execution_count": 243,
   "id": "061ace48-4a47-4b81-a1e5-d981cea097c8",
   "metadata": {},
   "outputs": [],
   "source": [
    "model = T5ForConditionalGeneration.from_pretrained('t5-small')"
   ]
  },
  {
   "cell_type": "code",
   "execution_count": 244,
   "id": "04227314-f4aa-42ad-b782-1ee2659743c6",
   "metadata": {},
   "outputs": [],
   "source": [
    "input_ids = tokenizer.encode(\"summarize: Hello, my dog is cute\", return_tensors=\"pt\")  # Batch size 1"
   ]
  },
  {
   "cell_type": "code",
   "execution_count": 252,
   "id": "bd8f6f04-729c-49b7-b10f-89bd1c1d9577",
   "metadata": {},
   "outputs": [],
   "source": [
    "sequence = model.generate(input_ids, return_dict_in_generate=True, output_scores=True).sequences"
   ]
  },
  {
   "cell_type": "code",
   "execution_count": 259,
   "id": "5f823567-73c8-4a55-abc3-adc6487965b7",
   "metadata": {},
   "outputs": [
    {
     "data": {
      "text/plain": [
       "tensor([[   0,   82, 1782,   19, 5295,   11, 5295,    5,    1]])"
      ]
     },
     "execution_count": 259,
     "metadata": {},
     "output_type": "execute_result"
    }
   ],
   "source": [
    "sequence"
   ]
  },
  {
   "cell_type": "code",
   "execution_count": 255,
   "id": "b3cef76a-d40a-4ea9-b6cc-b8035bcabd43",
   "metadata": {},
   "outputs": [],
   "source": [
    "scores = model.generate(input_ids, return_dict_in_generate=True, output_scores=True).scores"
   ]
  },
  {
   "cell_type": "code",
   "execution_count": 262,
   "id": "c3e3e2b4-e733-47d3-af40-11982e6f4051",
   "metadata": {},
   "outputs": [
    {
     "data": {
      "text/plain": [
       "tensor(1782)"
      ]
     },
     "execution_count": 262,
     "metadata": {},
     "output_type": "execute_result"
    }
   ],
   "source": [
    "torch.argmax(scores[1])"
   ]
  },
  {
   "cell_type": "code",
   "execution_count": 263,
   "id": "fae743d0-70bf-4333-a75d-42cb2bb20ffc",
   "metadata": {},
   "outputs": [
    {
     "data": {
      "text/plain": [
       "tensor(-2.6708)"
      ]
     },
     "execution_count": 263,
     "metadata": {},
     "output_type": "execute_result"
    }
   ],
   "source": [
    "torch.max(scores[1])"
   ]
  },
  {
   "cell_type": "code",
   "execution_count": null,
   "id": "5fa9316a-c101-408f-9be3-2449dc815016",
   "metadata": {},
   "outputs": [],
   "source": []
  }
 ],
 "metadata": {
  "kernelspec": {
   "display_name": "Python 3 (ipykernel)",
   "language": "python",
   "name": "python3"
  },
  "language_info": {
   "codemirror_mode": {
    "name": "ipython",
    "version": 3
   },
   "file_extension": ".py",
   "mimetype": "text/x-python",
   "name": "python",
   "nbconvert_exporter": "python",
   "pygments_lexer": "ipython3",
   "version": "3.9.12"
  }
 },
 "nbformat": 4,
 "nbformat_minor": 5
}
